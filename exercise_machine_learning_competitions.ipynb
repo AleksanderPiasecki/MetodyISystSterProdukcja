{
  "nbformat": 4,
  "nbformat_minor": 0,
  "metadata": {
    "kernelspec": {
      "display_name": "Python 3",
      "language": "python",
      "name": "python3"
    },
    "language_info": {
      "codemirror_mode": {
        "name": "ipython",
        "version": 3
      },
      "file_extension": ".py",
      "mimetype": "text/x-python",
      "name": "python",
      "nbconvert_exporter": "python",
      "pygments_lexer": "ipython3",
      "version": "3.7.6"
    },
    "papermill": {
      "duration": 8.735861,
      "end_time": "2020-12-08T09:17:15.975954",
      "environment_variables": {},
      "exception": null,
      "input_path": "__notebook__.ipynb",
      "output_path": "__notebook__.ipynb",
      "parameters": {},
      "start_time": "2020-12-08T09:17:07.240093",
      "version": "2.1.0"
    },
    "colab": {
      "name": "exercise-machine-learning-competitions.ipynb",
      "provenance": [],
      "collapsed_sections": []
    }
  },
  "cells": [
    {
      "cell_type": "markdown",
      "metadata": {
        "papermill": {
          "duration": 0.010592,
          "end_time": "2020-12-08T09:17:12.508239",
          "exception": false,
          "start_time": "2020-12-08T09:17:12.497647",
          "status": "completed"
        },
        "tags": [],
        "id": "0XaTBU7gqzUt"
      },
      "source": [
        "**This notebook is an exercise in the [Introduction to Machine Learning](https://www.kaggle.com/learn/intro-to-machine-learning) course.  You can reference the tutorial at [this link](https://www.kaggle.com/dansbecker/machine-learning-competitions).**\n",
        "\n",
        "---\n"
      ]
    },
    {
      "cell_type": "markdown",
      "metadata": {
        "papermill": {
          "duration": 0.008808,
          "end_time": "2020-12-08T09:17:12.526866",
          "exception": false,
          "start_time": "2020-12-08T09:17:12.518058",
          "status": "completed"
        },
        "tags": [],
        "id": "F4f8BE-FqzUt"
      },
      "source": [
        "# Introduction\n",
        "\n",
        "In this exercise, you will create and submit predictions for a Kaggle competition. You can then improve your model (e.g. by adding features) to improve and see how you stack up to others taking this course.\n",
        "\n",
        "The steps in this notebook are:\n",
        "1. Build a Random Forest model with all of your data (**X** and **y**).\n",
        "2. Read in the \"test\" data, which doesn't include values for the target.  Predict home values in the test data with your Random Forest model.\n",
        "3. Submit those predictions to the competition and see your score.\n",
        "4. Optionally, come back to see if you can improve your model by adding features or changing your model. Then you can resubmit to see how that stacks up on the competition leaderboard."
      ]
    },
    {
      "cell_type": "markdown",
      "metadata": {
        "papermill": {
          "duration": 0.008634,
          "end_time": "2020-12-08T09:17:12.546418",
          "exception": false,
          "start_time": "2020-12-08T09:17:12.537784",
          "status": "completed"
        },
        "tags": [],
        "id": "dgK4cjkxqzUt"
      },
      "source": [
        "## Recap\n",
        "Here's the code you've written so far. Start by running it again."
      ]
    },
    {
      "cell_type": "code",
      "metadata": {
        "execution": {
          "iopub.execute_input": "2020-12-08T09:17:12.585074Z",
          "iopub.status.busy": "2020-12-08T09:17:12.584209Z",
          "iopub.status.idle": "2020-12-08T09:17:14.435287Z",
          "shell.execute_reply": "2020-12-08T09:17:14.436088Z"
        },
        "papermill": {
          "duration": 1.880821,
          "end_time": "2020-12-08T09:17:14.436317",
          "exception": false,
          "start_time": "2020-12-08T09:17:12.555496",
          "status": "completed"
        },
        "tags": [],
        "id": "hIwuQle8qzUu",
        "outputId": "ee7f016b-c055-4a0e-b517-bfca374dcccd"
      },
      "source": [
        "# Code you have previously used to load data\n",
        "import pandas as pd\n",
        "from sklearn.ensemble import RandomForestRegressor\n",
        "from sklearn.metrics import mean_absolute_error\n",
        "from sklearn.model_selection import train_test_split\n",
        "from sklearn.tree import DecisionTreeRegressor\n",
        "\n",
        "# Set up code checking\n",
        "import os\n",
        "if not os.path.exists(\"../input/train.csv\"):\n",
        "    os.symlink(\"../input/home-data-for-ml-course/train.csv\", \"../input/train.csv\")  \n",
        "    os.symlink(\"../input/home-data-for-ml-course/test.csv\", \"../input/test.csv\") \n",
        "from learntools.core import binder\n",
        "binder.bind(globals())\n",
        "from learntools.machine_learning.ex7 import *\n",
        "\n",
        "# Path of the file to read. We changed the directory structure to simplify submitting to a competition\n",
        "iowa_file_path = '../input/train.csv'\n",
        "\n",
        "home_data = pd.read_csv(iowa_file_path)\n",
        "# Create target object and call it y\n",
        "y = home_data.SalePrice\n",
        "# Create X\n",
        "features = ['LotArea', 'YearBuilt', '1stFlrSF', '2ndFlrSF', 'FullBath', 'BedroomAbvGr', 'TotRmsAbvGrd']\n",
        "X = home_data[features]\n",
        "\n",
        "# Split into validation and training data\n",
        "train_X, val_X, train_y, val_y = train_test_split(X, y, random_state=1)\n",
        "\n",
        "# Specify Model\n",
        "iowa_model = DecisionTreeRegressor(random_state=1)\n",
        "# Fit Model\n",
        "iowa_model.fit(train_X, train_y)\n",
        "\n",
        "# Make validation predictions and calculate mean absolute error\n",
        "val_predictions = iowa_model.predict(val_X)\n",
        "val_mae = mean_absolute_error(val_predictions, val_y)\n",
        "print(\"Validation MAE when not specifying max_leaf_nodes: {:,.0f}\".format(val_mae))\n",
        "\n",
        "# Using best value for max_leaf_nodes\n",
        "iowa_model = DecisionTreeRegressor(max_leaf_nodes=100, random_state=1)\n",
        "iowa_model.fit(train_X, train_y)\n",
        "val_predictions = iowa_model.predict(val_X)\n",
        "val_mae = mean_absolute_error(val_predictions, val_y)\n",
        "print(\"Validation MAE for best value of max_leaf_nodes: {:,.0f}\".format(val_mae))\n",
        "\n",
        "# Define the model. Set random_state to 1\n",
        "rf_model = RandomForestRegressor(random_state=1)\n",
        "rf_model.fit(train_X, train_y)\n",
        "rf_val_predictions = rf_model.predict(val_X)\n",
        "rf_val_mae = mean_absolute_error(rf_val_predictions, val_y)\n",
        "\n",
        "print(\"Validation MAE for Random Forest Model: {:,.0f}\".format(rf_val_mae))"
      ],
      "execution_count": null,
      "outputs": [
        {
          "output_type": "stream",
          "text": [
            "Validation MAE when not specifying max_leaf_nodes: 29,653\n",
            "Validation MAE for best value of max_leaf_nodes: 27,283\n",
            "Validation MAE for Random Forest Model: 21,857\n"
          ],
          "name": "stdout"
        }
      ]
    },
    {
      "cell_type": "markdown",
      "metadata": {
        "papermill": {
          "duration": 0.009777,
          "end_time": "2020-12-08T09:17:14.456942",
          "exception": false,
          "start_time": "2020-12-08T09:17:14.447165",
          "status": "completed"
        },
        "tags": [],
        "id": "e5Ef7QFmqzUw"
      },
      "source": [
        "# Creating a Model For the Competition\n",
        "\n",
        "Build a Random Forest model and train it on all of **X** and **y**."
      ]
    },
    {
      "cell_type": "code",
      "metadata": {
        "execution": {
          "iopub.execute_input": "2020-12-08T09:17:14.526947Z",
          "iopub.status.busy": "2020-12-08T09:17:14.511293Z",
          "iopub.status.idle": "2020-12-08T09:17:15.183326Z",
          "shell.execute_reply": "2020-12-08T09:17:15.183922Z"
        },
        "papermill": {
          "duration": 0.716987,
          "end_time": "2020-12-08T09:17:15.184095",
          "exception": false,
          "start_time": "2020-12-08T09:17:14.467108",
          "status": "completed"
        },
        "tags": [],
        "id": "fRflM_xSqzUw",
        "outputId": "06d2020e-a76c-4d9f-c0c9-ad768d9f80ae"
      },
      "source": [
        "# To improve accuracy, create a new Random Forest model which you will train on all training data\n",
        "rf_model_on_full_data = RandomForestRegressor(random_state=1)\n",
        "\n",
        "# fit rf_model_on_full_data on all data from the training data\n",
        "rf_model_on_full_data.fit(X, y)"
      ],
      "execution_count": null,
      "outputs": [
        {
          "output_type": "execute_result",
          "data": {
            "text/plain": [
              "RandomForestRegressor(random_state=1)"
            ]
          },
          "metadata": {
            "tags": []
          },
          "execution_count": 2
        }
      ]
    },
    {
      "cell_type": "markdown",
      "metadata": {
        "papermill": {
          "duration": 0.010462,
          "end_time": "2020-12-08T09:17:15.205669",
          "exception": false,
          "start_time": "2020-12-08T09:17:15.195207",
          "status": "completed"
        },
        "tags": [],
        "id": "243PmBJIqzUw"
      },
      "source": [
        "# Make Predictions\n",
        "Read the file of \"test\" data. And apply your model to make predictions"
      ]
    },
    {
      "cell_type": "code",
      "metadata": {
        "execution": {
          "iopub.execute_input": "2020-12-08T09:17:15.238284Z",
          "iopub.status.busy": "2020-12-08T09:17:15.237412Z",
          "iopub.status.idle": "2020-12-08T09:17:15.740156Z",
          "shell.execute_reply": "2020-12-08T09:17:15.738866Z"
        },
        "papermill": {
          "duration": 0.523955,
          "end_time": "2020-12-08T09:17:15.740370",
          "exception": false,
          "start_time": "2020-12-08T09:17:15.216415",
          "status": "completed"
        },
        "tags": [],
        "id": "ukyiRidyqzUw"
      },
      "source": [
        "# path to file you will use for predictions\n",
        "test_data_path = '../input/test.csv'\n",
        "\n",
        "# read test data file using pandas\n",
        "test_data = pd.read_csv(test_data_path)\n",
        "\n",
        "# create test_X which comes from test_data but includes only the columns you used for prediction.\n",
        "# The list of columns is stored in a variable called features\n",
        "test_X = test_data[features]\n",
        "\n",
        "# make predictions which we will submit. \n",
        "test_preds = rf_model_on_full_data.predict(test_X)\n",
        "\n",
        "# The lines below shows how to save predictions in format used for competition scoring\n",
        "# Just uncomment them.\n",
        "\n",
        "output = pd.DataFrame({'Id': test_data.Id,\n",
        "                       'SalePrice': test_preds})\n",
        "output.to_csv('submission.csv', index=False)"
      ],
      "execution_count": null,
      "outputs": []
    },
    {
      "cell_type": "markdown",
      "metadata": {
        "papermill": {
          "duration": 0.011211,
          "end_time": "2020-12-08T09:17:15.768523",
          "exception": false,
          "start_time": "2020-12-08T09:17:15.757312",
          "status": "completed"
        },
        "tags": [],
        "id": "6aSV_oXNqzUx"
      },
      "source": [
        "Before submitting, run a check to make sure your `test_preds` have the right format."
      ]
    },
    {
      "cell_type": "code",
      "metadata": {
        "execution": {
          "iopub.execute_input": "2020-12-08T09:17:15.798078Z",
          "iopub.status.busy": "2020-12-08T09:17:15.796968Z",
          "iopub.status.idle": "2020-12-08T09:17:15.804742Z",
          "shell.execute_reply": "2020-12-08T09:17:15.803917Z"
        },
        "papermill": {
          "duration": 0.024982,
          "end_time": "2020-12-08T09:17:15.804876",
          "exception": false,
          "start_time": "2020-12-08T09:17:15.779894",
          "status": "completed"
        },
        "tags": [],
        "id": "gf1NwdNXqzUx",
        "outputId": "ce6b0346-d4ad-44d3-8e7f-e35c857199b6"
      },
      "source": [
        "# Check your answer\n",
        "step_1.check()\n",
        "# step_1.solution()"
      ],
      "execution_count": null,
      "outputs": [
        {
          "output_type": "display_data",
          "data": {
            "application/javascript": [
              "parent.postMessage({\"jupyterEvent\": \"custom.exercise_interaction\", \"data\": {\"outcomeType\": 1, \"valueTowardsCompletion\": 1.0, \"interactionType\": 1, \"questionType\": 2, \"questionId\": \"1_CheckSubmittablePreds\", \"learnToolsVersion\": \"0.3.4\", \"failureMessage\": \"\", \"exceptionClass\": \"\", \"trace\": \"\"}}, \"*\")"
            ],
            "text/plain": [
              "<IPython.core.display.Javascript object>"
            ]
          },
          "metadata": {
            "tags": []
          }
        },
        {
          "output_type": "display_data",
          "data": {
            "text/markdown": "<span style=\"color:#33cc33\">Correct</span>",
            "text/plain": [
              "Correct"
            ]
          },
          "metadata": {
            "tags": []
          }
        }
      ]
    },
    {
      "cell_type": "markdown",
      "metadata": {
        "papermill": {
          "duration": 0.012042,
          "end_time": "2020-12-08T09:17:15.829551",
          "exception": false,
          "start_time": "2020-12-08T09:17:15.817509",
          "status": "completed"
        },
        "tags": [],
        "id": "OMaXlAcKqzUx"
      },
      "source": [
        "# Test Your Work\n",
        "\n",
        "To test your results, you'll need to join the competition (if you haven't already).  So open a new window by clicking on [this link](https://www.kaggle.com/c/home-data-for-ml-course).  Then click on the **Join Competition** button.\n",
        "\n",
        "![join competition image](https://i.imgur.com/axBzctl.png)\n",
        "\n",
        "Next, follow the instructions below:\n",
        "1. Begin by clicking on the blue **Save Version** button in the top right corner of the window.  This will generate a pop-up window.  \n",
        "2. Ensure that the **Save and Run All** option is selected, and then click on the blue **Save** button.\n",
        "3. This generates a window in the bottom left corner of the notebook.  After it has finished running, click on the number to the right of the **Save Version** button.  This pulls up a list of versions on the right of the screen.  Click on the ellipsis **(...)** to the right of the most recent version, and select **Open in Viewer**.  This brings you into view mode of the same page. You will need to scroll down to get back to these instructions.\n",
        "4. Click on the **Output** tab on the right of the screen.  Then, click on the blue **Submit** button to submit your results to the leaderboard.\n",
        "\n",
        "You have now successfully submitted to the competition!\n",
        "![Kaggle competition train.png](data:image/png;base64,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)\n",
        "\n",
        "If you want to keep working to improve your performance, select the blue **Edit** button in the top right of the screen. Then you can change your code and repeat the process. There's a lot of room to improve, and you will climb up the leaderboard as you work.\n",
        "\n",
        "\n",
        "# Continuing Your Progress\n",
        "There are many ways to improve your model, and **experimenting is a great way to learn at this point.**\n",
        "\n",
        "The best way to improve your model is to add features.  Look at the list of columns and think about what might affect home prices.  Some features will cause errors because of issues like missing values or non-numeric data types. \n",
        "\n",
        "The **[Intermediate Machine Learning](https://www.kaggle.com/learn/intermediate-machine-learning)** course will teach you how to handle these types of features. You will also learn to use **xgboost**, a technique giving even better accuracy than Random Forest.\n",
        "\n",
        "\n",
        "# Other Courses\n",
        "The **[Pandas](https://kaggle.com/Learn/Pandas)** course will give you the data manipulation skills to quickly go from conceptual idea to implementation in your data science projects. \n",
        "\n",
        "You are also ready for the **[Deep Learning](https://kaggle.com/Learn/Deep-Learning)** course, where you will build models with better-than-human level performance at computer vision tasks."
      ]
    },
    {
      "cell_type": "markdown",
      "metadata": {
        "papermill": {
          "duration": 0.01216,
          "end_time": "2020-12-08T09:17:15.854278",
          "exception": false,
          "start_time": "2020-12-08T09:17:15.842118",
          "status": "completed"
        },
        "tags": [],
        "id": "BxDKy81dqzUx"
      },
      "source": [
        "---\n",
        "\n",
        "\n",
        "\n",
        "\n",
        "*Have questions or comments? Visit the [Learn Discussion forum](https://www.kaggle.com/learn-forum/161285) to chat with other Learners.*"
      ]
    }
  ]
}