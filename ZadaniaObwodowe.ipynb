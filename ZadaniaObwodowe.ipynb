{
  "nbformat": 4,
  "nbformat_minor": 0,
  "metadata": {
    "colab": {
      "name": "ZadaniaObwodowe.ipynb",
      "provenance": [],
      "collapsed_sections": [],
      "authorship_tag": "ABX9TyNB1XXjcREGPSp5irlDlpen"
    },
    "kernelspec": {
      "name": "python3",
      "display_name": "Python 3"
    }
  },
  "cells": [
    {
      "cell_type": "markdown",
      "metadata": {
        "id": "GARgGovHHBZL"
      },
      "source": [
        "#Maksymalizacja prądu płynącego przez układ rezystorowy\n",
        "[Zadanie YT](https://www.youtube.com/watch?v=buPWuzar384)<br>\n",
        "5 rezystorów połączonych jest zgodnie z przedstawionym poniżej schematem:\n",
        "![image.png](data:image/png;base64,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)<br>\n",
        "Wartości rezystancji:<br>\n",
        "\n",
        "| R1 | R2 | R3 | R4 | R5 |\n",
        "|----|----|----|----|----|\n",
        "| 8&Omega; | 6&Omega; | 4&Omega; | 10&Omega; | 8&Omega; |\n",
        "\n",
        "Każdy z rezystorów ma określony limit płynącego prądu:<br>\n",
        "\n",
        "| R1 | R2 | R3 | R4 | R5 |\n",
        "|----|----|----|----|----|\n",
        "| 2A | 3A | 4A | 2A | 2A |\n",
        "\n",
        "Należy obliczyć maksymalny prąd, który nie spowoduje zniszczenia układu."
      ]
    },
    {
      "cell_type": "code",
      "metadata": {
        "id": "SrQK0lIVG8ps"
      },
      "source": [
        "!pip install pulp\n",
        "!sudo apt-get install coinor-cbc glpk-utils coinor-clp"
      ],
      "execution_count": null,
      "outputs": []
    },
    {
      "cell_type": "code",
      "metadata": {
        "id": "0WTLUDfpMXVX"
      },
      "source": [
        "from pulp import *"
      ],
      "execution_count": 8,
      "outputs": []
    },
    {
      "cell_type": "code",
      "metadata": {
        "id": "FL4sz5RPIt1v",
        "colab": {
          "base_uri": "https://localhost:8080/"
        },
        "outputId": "afdf81c5-6ef2-4834-98e3-29f5ee3c1e3a"
      },
      "source": [
        "# dane\n",
        "PradUkladu = LpProblem(\"Prad_ukladu_rezystorow\", LpMaximize)\n",
        "NazwyGalezi = [\"R1\", \"R2\", \"R3\", \"R4\", \"R5\"]\n",
        "Rezystancje = { \"R1\": 8, \"R2\" : 6, \"R3\" : 4, \"R4\" : 10, \"R5\" : 8 }\n",
        "LimitPradow = { \"R1\": 2, \"R2\" : 3, \"R3\" : 4, \"R4\" : 2,  \"R5\" : 2 }\n",
        "\n",
        "PlynacePrady = LpVariable.dicts(\"Prad\", NazwyGalezi, 0)\n",
        "PradUkladu += PlynacePrady[\"R3\"], \"Prad_calego_ukladu\"\n",
        "# limity prądów poszczególnych gałęzi\n",
        "for iRx in PlynacePrady:\n",
        "    PradUkladu += PlynacePrady[iRx] <= LimitPradow[iRx]\n",
        "# prądowe prawo Kirchhoffa\n",
        "PradUkladu += PlynacePrady[\"R1\"] + PlynacePrady[\"R2\"] == PlynacePrady[\"R3\"]\n",
        "PradUkladu += PlynacePrady[\"R4\"] + PlynacePrady[\"R5\"] == PlynacePrady[\"R3\"]\n",
        "# ograniczenie prądów w gałęziach równoległych wynikające z dzielnika rezystancyjnego\n",
        "PradUkladu += PlynacePrady[\"R2\"] == PlynacePrady[\"R1\"] * Rezystancje[\"R1\"] / Rezystancje[\"R2\"]\n",
        "PradUkladu += PlynacePrady[\"R4\"] == PlynacePrady[\"R5\"] * Rezystancje[\"R5\"] / Rezystancje[\"R4\"]\n",
        "# zbędne (redundantne) ograniczenia w gałęziach przeciwległych\n",
        "#PradUkladu += PlynacePrady[\"R1\"] == PlynacePrady[\"R2\"] * Rezystancje[\"R2\"] / Rezystancje[\"R1\"]\n",
        "#PradUkladu += PlynacePrady[\"R5\"] == PlynacePrady[\"R4\"] * Rezystancje[\"R4\"] / Rezystancje[\"R5\"]\n",
        "# rozwiązanie\n",
        "PradUkladu.solve()\n",
        "print(\"Status rozwiazania: \", LpStatus[PradUkladu.status])\n",
        "print(\"Układ można obciążyć prądem max. {:.2f} A\".format(PradUkladu.objective.value()))\n",
        "for var in PradUkladu.variables():\n",
        "    print(\"{}: {:.2f} A\".format(var.name, var.value()))"
      ],
      "execution_count": 9,
      "outputs": [
        {
          "output_type": "stream",
          "text": [
            "Status rozwiazania:  Optimal\n",
            "Układ można obciążyć prądem max. 3.60 A\n",
            "Prad_R1: 1.54 A\n",
            "Prad_R2: 2.06 A\n",
            "Prad_R3: 3.60 A\n",
            "Prad_R4: 1.60 A\n",
            "Prad_R5: 2.00 A\n"
          ],
          "name": "stdout"
        }
      ]
    },
    {
      "cell_type": "markdown",
      "metadata": {
        "id": "vCPyRSyaXhaX"
      },
      "source": [
        "# Minimalizacja utraconej mocy\n",
        "[Zadanie YT](https://www.youtube.com/watch?v=yZuVfekIXJ0)<br>\n",
        "W przedstawionym poniżej mostku należy dobrać wartości rezystancji tak, aby zminimalizować straty mocy.<br>\n",
        "![image.png](data:image/png;base64,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)<br>\n",
        "W danej gałęzi <i>i</i> przy znanym napięciu <i>u<sub>i</sub></i> ma popłynąć zadany prąd <i>i<sub>i</sub></i> z określoną dokładnością:\n",
        "<i>&Delta;i<sub>i</sub> + i<sub>i</sub> &ge; I<sub>i</sub> &ge; &Delta;i<sub>i</sub> + i<sub>i</sub></i><br>\n",
        "\n",
        "| i | 1 | 2 | 3 | 4 | 5 |\n",
        "|---|---|---|---|---|---|\n",
        "| <i>u<sub>i</sub></i> | 6V | 10V | 4V | 7V | 3V |\n",
        "| <i>i<sub>i</sub></i> | 4mA | 2mA | 2mA | 2mA | 4mA |\n",
        "| <i>&Delta;i<sub>i</sub> | 1mA | 1mA | 1mA | 1mA | 1mA |\n"
      ]
    },
    {
      "cell_type": "code",
      "metadata": {
        "id": "Fx-2RA-Ka5sS",
        "colab": {
          "base_uri": "https://localhost:8080/"
        },
        "outputId": "19597dc8-5c31-4d61-f6f2-2c33ce4305ae"
      },
      "source": [
        "# dane\n",
        "galezie = [ \"R1\", \"R2\", \"R3\", \"R4\", \"R5\" ]\n",
        "# [V]\n",
        "napiecie =  { \"R1\" : 6, \"R2\" : 10, \"R3\" : 4, \"R4\" : 7, \"R5\" : 3 }\n",
        "# [mA]\n",
        "prad =      { \"R1\" : 4, \"R2\" : 2,  \"R3\" : 2, \"R4\" : 2, \"R5\" : 4 }\n",
        "# [mA]\n",
        "bladPradu = { \"R1\" : 1, \"R2\" : 1,  \"R3\" : 1, \"R4\" : 1, \"R5\" : 1 }\n",
        "\n",
        "# minimalizacja mocy poprzez maksymalizację jej odwrotności (dzielenie niedozwolone)\n",
        "# [mW]\n",
        "problemMocy = LpProblem(\"Minimalizacja_mocy_rozproszenia\", LpMinimize)\n",
        "# konduktywność została wybrana zamiast rezystancji ze względu na konieczność eliminacji dzielenia\n",
        "# [mS]\n",
        "konduktancja = LpVariable.dicts(\"Konduktancja\", galezie, 0, None, \"Continous\")\n",
        "# moc rozproszenia ze wzoru U^2 / R przy stałym napięciu, czyli U^2 * Y w wersji liniowej\n",
        "problemMocy += lpSum(napiecie[galaz] * napiecie[galaz] * konduktancja[galaz] for galaz in galezie), \"Moc_rozproszenia\"\n",
        "# ograniczenie pradów z zadaną dokładnością\n",
        "for galaz in galezie:\n",
        "    problemMocy += napiecie[galaz] * konduktancja[galaz] >= prad[galaz] - bladPradu[galaz]\n",
        "    problemMocy += napiecie[galaz] * konduktancja[galaz] <= prad[galaz] + bladPradu[galaz]\n",
        "# prądowe prawo Kirchhoffa z mnożeniem\n",
        "problemMocy += napiecie[\"R1\"] * konduktancja[\"R1\"] == napiecie[\"R3\"] * konduktancja[\"R3\"] + napiecie[\"R4\"] * konduktancja[\"R4\"]\n",
        "problemMocy += napiecie[\"R5\"] * konduktancja[\"R5\"] == napiecie[\"R3\"] * konduktancja[\"R3\"] + napiecie[\"R2\"] * konduktancja[\"R2\"]\n",
        "# napięciowe prawo Kirchhoffa spełnione z złożeń\n",
        "# rozwiązanie\n",
        "problemMocy.solve()\n",
        "print(\"Status rozwiązania: {}\".format(LpStatus[problemMocy.status]))\n",
        "print(\"Moc strat wynosi {:.1f} mW.\".format(problemMocy.objective.value()))\n",
        "print(\"Wybrane rezystory: \")\n",
        "for v in problemMocy.variables():\n",
        "    print(\"Rezystor {} = {:.3} kOhm\".format(v.name[v.name.index(\"_\") + 1:], 1.0 / v.value()))\n",
        "\n"
      ],
      "execution_count": 10,
      "outputs": [
        {
          "output_type": "stream",
          "text": [
            "Status rozwiązania: Optimal\n",
            "Moc strat wynosi 52.0 mW.\n",
            "Wybrane rezystory: \n",
            "Rezystor R1 = 2.0 kOhm\n",
            "Rezystor R2 = 10.0 kOhm\n",
            "Rezystor R3 = 2.0 kOhm\n",
            "Rezystor R4 = 7.0 kOhm\n",
            "Rezystor R5 = 1.0 kOhm\n"
          ],
          "name": "stdout"
        }
      ]
    },
    {
      "cell_type": "markdown",
      "metadata": {
        "id": "v-HiwUfh_B7h"
      },
      "source": [
        "#Podsumowanie\r\n",
        "W zadaniach liniowych zmienne decyzyjne nie mogą występować w dzieleniach. Należy więc przyjąć odpowiednie zmienne. Jadnym z rozwiązań jest wykonywanie obliczeń na ich odwrotnościach. W podanym przykładzie zastosowane zostało właśnie to podejście - rezystancja została zastąpiona swoją odwrotnością, czyli konduktancją.<br>\r\n",
        "Alternatywnie jako zmienne mogłyby zostać przyjęte prądy w gałęziach, a wynik (rezystancja) obliczany byłby zewnętrznie (jako iloraz napięcia i prądu w gałęzi).<br>\r\n",
        "Poza dzieleniem przez zmienną niedozwolone jest również wymnażanie dwóch zmiennych, więc dodanie ograniczenia w postaci: <br>\r\n",
        "\r\n",
        "```\r\n",
        "zmiennaProsta * zmiennaOdwrócona == 1\r\n",
        "```\r\n",
        " skutkuje błędem (wówczas równanie stałoby się kwadratowe). Należy zatem zastosować jedno ze wspomnianych wcześniej rozwiązań. "
      ]
    }
  ]
}