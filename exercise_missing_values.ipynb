{
  "nbformat": 4,
  "nbformat_minor": 0,
  "metadata": {
    "kernelspec": {
      "display_name": "Python 3",
      "language": "python",
      "name": "python3"
    },
    "language_info": {
      "codemirror_mode": {
        "name": "ipython",
        "version": 3
      },
      "file_extension": ".py",
      "mimetype": "text/x-python",
      "name": "python",
      "nbconvert_exporter": "python",
      "pygments_lexer": "ipython3",
      "version": "3.7.6"
    },
    "papermill": {
      "duration": 13.802142,
      "end_time": "2020-12-08T15:07:24.790343",
      "environment_variables": {},
      "exception": null,
      "input_path": "__notebook__.ipynb",
      "output_path": "__notebook__.ipynb",
      "parameters": {},
      "start_time": "2020-12-08T15:07:10.988201",
      "version": "2.1.0"
    },
    "colab": {
      "name": "exercise-missing-values.ipynb",
      "provenance": [],
      "collapsed_sections": []
    }
  },
  "cells": [
    {
      "cell_type": "markdown",
      "metadata": {
        "papermill": {
          "duration": 0.024318,
          "end_time": "2020-12-08T15:07:15.345066",
          "exception": false,
          "start_time": "2020-12-08T15:07:15.320748",
          "status": "completed"
        },
        "tags": [],
        "id": "X-VfHbhO58l3"
      },
      "source": [
        "**This notebook is an exercise in the [Intermediate Machine Learning](https://www.kaggle.com/learn/intermediate-machine-learning) course.  You can reference the tutorial at [this link](https://www.kaggle.com/alexisbcook/missing-values).**\n",
        "\n",
        "---\n"
      ]
    },
    {
      "cell_type": "markdown",
      "metadata": {
        "papermill": {
          "duration": 0.023655,
          "end_time": "2020-12-08T15:07:15.392370",
          "exception": false,
          "start_time": "2020-12-08T15:07:15.368715",
          "status": "completed"
        },
        "tags": [],
        "id": "Rr252gin58l4"
      },
      "source": [
        "Now it's your turn to test your new knowledge of **missing values** handling. You'll probably find it makes a big difference.\n",
        "\n",
        "# Setup\n",
        "\n",
        "The questions will give you feedback on your work. Run the following cell to set up the feedback system."
      ]
    },
    {
      "cell_type": "code",
      "metadata": {
        "execution": {
          "iopub.execute_input": "2020-12-08T15:07:15.445569Z",
          "iopub.status.busy": "2020-12-08T15:07:15.444904Z",
          "iopub.status.idle": "2020-12-08T15:07:15.490306Z",
          "shell.execute_reply": "2020-12-08T15:07:15.489743Z"
        },
        "papermill": {
          "duration": 0.074695,
          "end_time": "2020-12-08T15:07:15.490418",
          "exception": false,
          "start_time": "2020-12-08T15:07:15.415723",
          "status": "completed"
        },
        "tags": [],
        "id": "9rbSM34c58l5",
        "outputId": "990013f3-8c2b-413d-d632-0a2194872700"
      },
      "source": [
        "# Set up code checking\n",
        "import os\n",
        "if not os.path.exists(\"../input/train.csv\"):\n",
        "    os.symlink(\"../input/home-data-for-ml-course/train.csv\", \"../input/train.csv\")  \n",
        "    os.symlink(\"../input/home-data-for-ml-course/test.csv\", \"../input/test.csv\") \n",
        "from learntools.core import binder\n",
        "binder.bind(globals())\n",
        "from learntools.ml_intermediate.ex2 import *\n",
        "print(\"Setup Complete\")"
      ],
      "execution_count": null,
      "outputs": [
        {
          "output_type": "stream",
          "text": [
            "Setup Complete\n"
          ],
          "name": "stdout"
        }
      ]
    },
    {
      "cell_type": "markdown",
      "metadata": {
        "papermill": {
          "duration": 0.023807,
          "end_time": "2020-12-08T15:07:15.538838",
          "exception": false,
          "start_time": "2020-12-08T15:07:15.515031",
          "status": "completed"
        },
        "tags": [],
        "id": "Dg2ZIeEy58l8"
      },
      "source": [
        "In this exercise, you will work with data from the [Housing Prices Competition for Kaggle Learn Users](https://www.kaggle.com/c/home-data-for-ml-course). \n",
        "\n",
        "![Ames Housing dataset image](https://i.imgur.com/lTJVG4e.png)\n",
        "\n",
        "Run the next code cell without changes to load the training and validation sets in `X_train`, `X_valid`, `y_train`, and `y_valid`.  The test set is loaded in `X_test`."
      ]
    },
    {
      "cell_type": "code",
      "metadata": {
        "execution": {
          "iopub.execute_input": "2020-12-08T15:07:15.589639Z",
          "iopub.status.busy": "2020-12-08T15:07:15.588840Z",
          "iopub.status.idle": "2020-12-08T15:07:16.605361Z",
          "shell.execute_reply": "2020-12-08T15:07:16.605912Z"
        },
        "papermill": {
          "duration": 1.04325,
          "end_time": "2020-12-08T15:07:16.606058",
          "exception": false,
          "start_time": "2020-12-08T15:07:15.562808",
          "status": "completed"
        },
        "tags": [],
        "id": "VpRfhz2N58l8"
      },
      "source": [
        "import pandas as pd\n",
        "from sklearn.model_selection import train_test_split\n",
        "\n",
        "# Read the data\n",
        "X_full = pd.read_csv('../input/train.csv', index_col='Id')\n",
        "X_test_full = pd.read_csv('../input/test.csv', index_col='Id')\n",
        "\n",
        "# Remove rows with missing target, separate target from predictors\n",
        "X_full.dropna(axis=0, subset=['SalePrice'], inplace=True)\n",
        "y = X_full.SalePrice\n",
        "X_full.drop(['SalePrice'], axis=1, inplace=True)\n",
        "\n",
        "# To keep things simple, we'll use only numerical predictors\n",
        "X = X_full.select_dtypes(exclude=['object'])\n",
        "X_test = X_test_full.select_dtypes(exclude=['object'])\n",
        "\n",
        "# Break off validation set from training data\n",
        "X_train, X_valid, y_train, y_valid = train_test_split(X, y, train_size=0.8, test_size=0.2,\n",
        "                                                      random_state=0)"
      ],
      "execution_count": null,
      "outputs": []
    },
    {
      "cell_type": "markdown",
      "metadata": {
        "papermill": {
          "duration": 0.023652,
          "end_time": "2020-12-08T15:07:16.654044",
          "exception": false,
          "start_time": "2020-12-08T15:07:16.630392",
          "status": "completed"
        },
        "tags": [],
        "id": "XYRbv8W058l8"
      },
      "source": [
        "Use the next code cell to print the first five rows of the data."
      ]
    },
    {
      "cell_type": "code",
      "metadata": {
        "execution": {
          "iopub.execute_input": "2020-12-08T15:07:16.705235Z",
          "iopub.status.busy": "2020-12-08T15:07:16.704644Z",
          "iopub.status.idle": "2020-12-08T15:07:16.730443Z",
          "shell.execute_reply": "2020-12-08T15:07:16.731006Z"
        },
        "papermill": {
          "duration": 0.053053,
          "end_time": "2020-12-08T15:07:16.731139",
          "exception": false,
          "start_time": "2020-12-08T15:07:16.678086",
          "status": "completed"
        },
        "tags": [],
        "id": "Au7ZjFvZ58l8",
        "outputId": "48fd6260-1ae7-490c-ca24-c88c9fa3b2d0"
      },
      "source": [
        "X_train.head()"
      ],
      "execution_count": null,
      "outputs": [
        {
          "output_type": "execute_result",
          "data": {
            "text/html": [
              "<div>\n",
              "<style scoped>\n",
              "    .dataframe tbody tr th:only-of-type {\n",
              "        vertical-align: middle;\n",
              "    }\n",
              "\n",
              "    .dataframe tbody tr th {\n",
              "        vertical-align: top;\n",
              "    }\n",
              "\n",
              "    .dataframe thead th {\n",
              "        text-align: right;\n",
              "    }\n",
              "</style>\n",
              "<table border=\"1\" class=\"dataframe\">\n",
              "  <thead>\n",
              "    <tr style=\"text-align: right;\">\n",
              "      <th></th>\n",
              "      <th>MSSubClass</th>\n",
              "      <th>LotFrontage</th>\n",
              "      <th>LotArea</th>\n",
              "      <th>OverallQual</th>\n",
              "      <th>OverallCond</th>\n",
              "      <th>YearBuilt</th>\n",
              "      <th>YearRemodAdd</th>\n",
              "      <th>MasVnrArea</th>\n",
              "      <th>BsmtFinSF1</th>\n",
              "      <th>BsmtFinSF2</th>\n",
              "      <th>...</th>\n",
              "      <th>GarageArea</th>\n",
              "      <th>WoodDeckSF</th>\n",
              "      <th>OpenPorchSF</th>\n",
              "      <th>EnclosedPorch</th>\n",
              "      <th>3SsnPorch</th>\n",
              "      <th>ScreenPorch</th>\n",
              "      <th>PoolArea</th>\n",
              "      <th>MiscVal</th>\n",
              "      <th>MoSold</th>\n",
              "      <th>YrSold</th>\n",
              "    </tr>\n",
              "    <tr>\n",
              "      <th>Id</th>\n",
              "      <th></th>\n",
              "      <th></th>\n",
              "      <th></th>\n",
              "      <th></th>\n",
              "      <th></th>\n",
              "      <th></th>\n",
              "      <th></th>\n",
              "      <th></th>\n",
              "      <th></th>\n",
              "      <th></th>\n",
              "      <th></th>\n",
              "      <th></th>\n",
              "      <th></th>\n",
              "      <th></th>\n",
              "      <th></th>\n",
              "      <th></th>\n",
              "      <th></th>\n",
              "      <th></th>\n",
              "      <th></th>\n",
              "      <th></th>\n",
              "      <th></th>\n",
              "    </tr>\n",
              "  </thead>\n",
              "  <tbody>\n",
              "    <tr>\n",
              "      <th>619</th>\n",
              "      <td>20</td>\n",
              "      <td>90.0</td>\n",
              "      <td>11694</td>\n",
              "      <td>9</td>\n",
              "      <td>5</td>\n",
              "      <td>2007</td>\n",
              "      <td>2007</td>\n",
              "      <td>452.0</td>\n",
              "      <td>48</td>\n",
              "      <td>0</td>\n",
              "      <td>...</td>\n",
              "      <td>774</td>\n",
              "      <td>0</td>\n",
              "      <td>108</td>\n",
              "      <td>0</td>\n",
              "      <td>0</td>\n",
              "      <td>260</td>\n",
              "      <td>0</td>\n",
              "      <td>0</td>\n",
              "      <td>7</td>\n",
              "      <td>2007</td>\n",
              "    </tr>\n",
              "    <tr>\n",
              "      <th>871</th>\n",
              "      <td>20</td>\n",
              "      <td>60.0</td>\n",
              "      <td>6600</td>\n",
              "      <td>5</td>\n",
              "      <td>5</td>\n",
              "      <td>1962</td>\n",
              "      <td>1962</td>\n",
              "      <td>0.0</td>\n",
              "      <td>0</td>\n",
              "      <td>0</td>\n",
              "      <td>...</td>\n",
              "      <td>308</td>\n",
              "      <td>0</td>\n",
              "      <td>0</td>\n",
              "      <td>0</td>\n",
              "      <td>0</td>\n",
              "      <td>0</td>\n",
              "      <td>0</td>\n",
              "      <td>0</td>\n",
              "      <td>8</td>\n",
              "      <td>2009</td>\n",
              "    </tr>\n",
              "    <tr>\n",
              "      <th>93</th>\n",
              "      <td>30</td>\n",
              "      <td>80.0</td>\n",
              "      <td>13360</td>\n",
              "      <td>5</td>\n",
              "      <td>7</td>\n",
              "      <td>1921</td>\n",
              "      <td>2006</td>\n",
              "      <td>0.0</td>\n",
              "      <td>713</td>\n",
              "      <td>0</td>\n",
              "      <td>...</td>\n",
              "      <td>432</td>\n",
              "      <td>0</td>\n",
              "      <td>0</td>\n",
              "      <td>44</td>\n",
              "      <td>0</td>\n",
              "      <td>0</td>\n",
              "      <td>0</td>\n",
              "      <td>0</td>\n",
              "      <td>8</td>\n",
              "      <td>2009</td>\n",
              "    </tr>\n",
              "    <tr>\n",
              "      <th>818</th>\n",
              "      <td>20</td>\n",
              "      <td>NaN</td>\n",
              "      <td>13265</td>\n",
              "      <td>8</td>\n",
              "      <td>5</td>\n",
              "      <td>2002</td>\n",
              "      <td>2002</td>\n",
              "      <td>148.0</td>\n",
              "      <td>1218</td>\n",
              "      <td>0</td>\n",
              "      <td>...</td>\n",
              "      <td>857</td>\n",
              "      <td>150</td>\n",
              "      <td>59</td>\n",
              "      <td>0</td>\n",
              "      <td>0</td>\n",
              "      <td>0</td>\n",
              "      <td>0</td>\n",
              "      <td>0</td>\n",
              "      <td>7</td>\n",
              "      <td>2008</td>\n",
              "    </tr>\n",
              "    <tr>\n",
              "      <th>303</th>\n",
              "      <td>20</td>\n",
              "      <td>118.0</td>\n",
              "      <td>13704</td>\n",
              "      <td>7</td>\n",
              "      <td>5</td>\n",
              "      <td>2001</td>\n",
              "      <td>2002</td>\n",
              "      <td>150.0</td>\n",
              "      <td>0</td>\n",
              "      <td>0</td>\n",
              "      <td>...</td>\n",
              "      <td>843</td>\n",
              "      <td>468</td>\n",
              "      <td>81</td>\n",
              "      <td>0</td>\n",
              "      <td>0</td>\n",
              "      <td>0</td>\n",
              "      <td>0</td>\n",
              "      <td>0</td>\n",
              "      <td>1</td>\n",
              "      <td>2006</td>\n",
              "    </tr>\n",
              "  </tbody>\n",
              "</table>\n",
              "<p>5 rows × 36 columns</p>\n",
              "</div>"
            ],
            "text/plain": [
              "     MSSubClass  LotFrontage  LotArea  OverallQual  OverallCond  YearBuilt  \\\n",
              "Id                                                                           \n",
              "619          20         90.0    11694            9            5       2007   \n",
              "871          20         60.0     6600            5            5       1962   \n",
              "93           30         80.0    13360            5            7       1921   \n",
              "818          20          NaN    13265            8            5       2002   \n",
              "303          20        118.0    13704            7            5       2001   \n",
              "\n",
              "     YearRemodAdd  MasVnrArea  BsmtFinSF1  BsmtFinSF2  ...  GarageArea  \\\n",
              "Id                                                     ...               \n",
              "619          2007       452.0          48           0  ...         774   \n",
              "871          1962         0.0           0           0  ...         308   \n",
              "93           2006         0.0         713           0  ...         432   \n",
              "818          2002       148.0        1218           0  ...         857   \n",
              "303          2002       150.0           0           0  ...         843   \n",
              "\n",
              "     WoodDeckSF  OpenPorchSF  EnclosedPorch  3SsnPorch  ScreenPorch  PoolArea  \\\n",
              "Id                                                                              \n",
              "619           0          108              0          0          260         0   \n",
              "871           0            0              0          0            0         0   \n",
              "93            0            0             44          0            0         0   \n",
              "818         150           59              0          0            0         0   \n",
              "303         468           81              0          0            0         0   \n",
              "\n",
              "     MiscVal  MoSold  YrSold  \n",
              "Id                            \n",
              "619        0       7    2007  \n",
              "871        0       8    2009  \n",
              "93         0       8    2009  \n",
              "818        0       7    2008  \n",
              "303        0       1    2006  \n",
              "\n",
              "[5 rows x 36 columns]"
            ]
          },
          "metadata": {
            "tags": []
          },
          "execution_count": 3
        }
      ]
    },
    {
      "cell_type": "markdown",
      "metadata": {
        "papermill": {
          "duration": 0.024419,
          "end_time": "2020-12-08T15:07:16.780362",
          "exception": false,
          "start_time": "2020-12-08T15:07:16.755943",
          "status": "completed"
        },
        "tags": [],
        "id": "fFrp8sIc58l8"
      },
      "source": [
        "You can already see a few missing values in the first several rows.  In the next step, you'll obtain a more comprehensive understanding of the missing values in the dataset.\n",
        "\n",
        "# Step 1: Preliminary investigation\n",
        "\n",
        "Run the code cell below without changes."
      ]
    },
    {
      "cell_type": "code",
      "metadata": {
        "execution": {
          "iopub.execute_input": "2020-12-08T15:07:16.833346Z",
          "iopub.status.busy": "2020-12-08T15:07:16.832741Z",
          "iopub.status.idle": "2020-12-08T15:07:16.841954Z",
          "shell.execute_reply": "2020-12-08T15:07:16.841330Z"
        },
        "papermill": {
          "duration": 0.036798,
          "end_time": "2020-12-08T15:07:16.842057",
          "exception": false,
          "start_time": "2020-12-08T15:07:16.805259",
          "status": "completed"
        },
        "tags": [],
        "id": "ZrzeRC2M58l9",
        "outputId": "1f7dd230-82fc-42b9-a5b8-c2ae331d47c5"
      },
      "source": [
        "# Shape of training data (num_rows, num_columns)\n",
        "print(X_train.shape)\n",
        "\n",
        "# Number of missing values in each column of training data\n",
        "missing_val_count_by_column = (X_train.isnull().sum())\n",
        "print(missing_val_count_by_column[missing_val_count_by_column > 0])"
      ],
      "execution_count": null,
      "outputs": [
        {
          "output_type": "stream",
          "text": [
            "(1168, 36)\n",
            "LotFrontage    212\n",
            "MasVnrArea       6\n",
            "GarageYrBlt     58\n",
            "dtype: int64\n"
          ],
          "name": "stdout"
        }
      ]
    },
    {
      "cell_type": "markdown",
      "metadata": {
        "papermill": {
          "duration": 0.025114,
          "end_time": "2020-12-08T15:07:16.892759",
          "exception": false,
          "start_time": "2020-12-08T15:07:16.867645",
          "status": "completed"
        },
        "tags": [],
        "id": "EdjVtpt958l9"
      },
      "source": [
        "### Part A\n",
        "\n",
        "Use the above output to answer the questions below."
      ]
    },
    {
      "cell_type": "code",
      "metadata": {
        "execution": {
          "iopub.execute_input": "2020-12-08T15:07:16.977403Z",
          "iopub.status.busy": "2020-12-08T15:07:16.976512Z",
          "iopub.status.idle": "2020-12-08T15:07:16.989952Z",
          "shell.execute_reply": "2020-12-08T15:07:16.988988Z"
        },
        "papermill": {
          "duration": 0.071343,
          "end_time": "2020-12-08T15:07:16.990057",
          "exception": false,
          "start_time": "2020-12-08T15:07:16.918714",
          "status": "completed"
        },
        "tags": [],
        "id": "Y0vo8G6o58l9",
        "outputId": "b20cd8d2-4fca-4f68-a99a-c8836744a0c1"
      },
      "source": [
        "# Fill in the line below: How many rows are in the training data?\n",
        "num_rows = X_train.shape[0]\n",
        "\n",
        "# Fill in the line below: How many columns in the training data\n",
        "# have missing values?\n",
        "num_cols_with_missing = len([col for col in X_train.columns\n",
        "                              if X_train[col].isnull().any()])\n",
        "# Fill in the line below: How many missing entries are contained in \n",
        "# all of the training data?\n",
        "tot_missing = sum([X_train[col].isnull().sum() for col in X_train.columns])\n",
        "\n",
        "print(\"Rows: {}\".format(num_rows))\n",
        "print(\"Incomplet columns: {}\".format(num_cols_with_missing))\n",
        "print(\"Total missing values: {}\".format(tot_missing))\n",
        "\n",
        "# Check your answers\n",
        "step_1.a.check()"
      ],
      "execution_count": null,
      "outputs": [
        {
          "output_type": "stream",
          "text": [
            "Rows: 1168\n",
            "Incomplet columns: 3\n",
            "Total missing values: 276\n"
          ],
          "name": "stdout"
        },
        {
          "output_type": "display_data",
          "data": {
            "application/javascript": [
              "parent.postMessage({\"jupyterEvent\": \"custom.exercise_interaction\", \"data\": {\"outcomeType\": 1, \"valueTowardsCompletion\": 1.0, \"interactionType\": 1, \"questionType\": 1, \"questionId\": \"1.1_InvestigateEquality\", \"learnToolsVersion\": \"0.3.4\", \"failureMessage\": \"\", \"exceptionClass\": \"\", \"trace\": \"\"}}, \"*\")"
            ],
            "text/plain": [
              "<IPython.core.display.Javascript object>"
            ]
          },
          "metadata": {
            "tags": []
          }
        },
        {
          "output_type": "display_data",
          "data": {
            "text/markdown": "<span style=\"color:#33cc33\">Correct</span>",
            "text/plain": [
              "Correct"
            ]
          },
          "metadata": {
            "tags": []
          }
        }
      ]
    },
    {
      "cell_type": "code",
      "metadata": {
        "execution": {
          "iopub.execute_input": "2020-12-08T15:07:17.060253Z",
          "iopub.status.busy": "2020-12-08T15:07:17.059414Z",
          "iopub.status.idle": "2020-12-08T15:07:17.062824Z",
          "shell.execute_reply": "2020-12-08T15:07:17.062014Z"
        },
        "papermill": {
          "duration": 0.045642,
          "end_time": "2020-12-08T15:07:17.062939",
          "exception": false,
          "start_time": "2020-12-08T15:07:17.017297",
          "status": "completed"
        },
        "tags": [],
        "id": "N4bcQzZL58l9"
      },
      "source": [
        "# Lines below will give you a hint or solution code\n",
        "#step_1.a.hint()\n",
        "#step_1.a.solution()"
      ],
      "execution_count": null,
      "outputs": []
    },
    {
      "cell_type": "markdown",
      "metadata": {
        "papermill": {
          "duration": 0.040767,
          "end_time": "2020-12-08T15:07:17.144707",
          "exception": false,
          "start_time": "2020-12-08T15:07:17.103940",
          "status": "completed"
        },
        "tags": [],
        "id": "7oovQWUZ58l9"
      },
      "source": [
        "### Part B\n",
        "Considering your answers above, what do you think is likely the best approach to dealing with the missing values?"
      ]
    },
    {
      "cell_type": "code",
      "metadata": {
        "execution": {
          "iopub.execute_input": "2020-12-08T15:07:17.229742Z",
          "iopub.status.busy": "2020-12-08T15:07:17.228777Z",
          "iopub.status.idle": "2020-12-08T15:07:17.237987Z",
          "shell.execute_reply": "2020-12-08T15:07:17.237361Z"
        },
        "papermill": {
          "duration": 0.052858,
          "end_time": "2020-12-08T15:07:17.238094",
          "exception": false,
          "start_time": "2020-12-08T15:07:17.185236",
          "status": "completed"
        },
        "tags": [],
        "id": "dhSgQE3758l9",
        "outputId": "10daca09-d3b0-4f66-b75b-68d934a3d24e"
      },
      "source": [
        "# Check your answer (Run this code cell to receive credit!)\n",
        "step_1.b.check()"
      ],
      "execution_count": null,
      "outputs": [
        {
          "output_type": "display_data",
          "data": {
            "application/javascript": [
              "parent.postMessage({\"jupyterEvent\": \"custom.exercise_interaction\", \"data\": {\"outcomeType\": 1, \"valueTowardsCompletion\": 1.0, \"interactionType\": 1, \"questionType\": 4, \"questionId\": \"1.2_InvestigateThought\", \"learnToolsVersion\": \"0.3.4\", \"failureMessage\": \"\", \"exceptionClass\": \"\", \"trace\": \"\"}}, \"*\")"
            ],
            "text/plain": [
              "<IPython.core.display.Javascript object>"
            ]
          },
          "metadata": {
            "tags": []
          }
        },
        {
          "output_type": "display_data",
          "data": {
            "text/markdown": "<span style=\"color:#33cc33\">Correct:</span> \n\nSince there are relatively few missing entries in the data (the column with the greatest percentage of missing values is missing less than 20% of its entries), we can expect that dropping columns is unlikely to yield good results.  This is because we'd be throwing away a lot of valuable data, and so imputation will likely perform better.",
            "text/plain": [
              "Correct: \n",
              "\n",
              "Since there are relatively few missing entries in the data (the column with the greatest percentage of missing values is missing less than 20% of its entries), we can expect that dropping columns is unlikely to yield good results.  This is because we'd be throwing away a lot of valuable data, and so imputation will likely perform better."
            ]
          },
          "metadata": {
            "tags": []
          }
        }
      ]
    },
    {
      "cell_type": "code",
      "metadata": {
        "execution": {
          "iopub.execute_input": "2020-12-08T15:07:17.300878Z",
          "iopub.status.busy": "2020-12-08T15:07:17.300135Z",
          "iopub.status.idle": "2020-12-08T15:07:17.303928Z",
          "shell.execute_reply": "2020-12-08T15:07:17.303308Z"
        },
        "papermill": {
          "duration": 0.037007,
          "end_time": "2020-12-08T15:07:17.304029",
          "exception": false,
          "start_time": "2020-12-08T15:07:17.267022",
          "status": "completed"
        },
        "tags": [],
        "id": "Dk2lRoFn58l-"
      },
      "source": [
        "#step_1.b.hint()"
      ],
      "execution_count": null,
      "outputs": []
    },
    {
      "cell_type": "markdown",
      "metadata": {
        "papermill": {
          "duration": 0.029266,
          "end_time": "2020-12-08T15:07:17.362718",
          "exception": false,
          "start_time": "2020-12-08T15:07:17.333452",
          "status": "completed"
        },
        "tags": [],
        "id": "d7T7kJ6k58l-"
      },
      "source": [
        "To compare different approaches to dealing with missing values, you'll use the same `score_dataset()` function from the tutorial.  This function reports the [mean absolute error](https://en.wikipedia.org/wiki/Mean_absolute_error) (MAE) from a random forest model."
      ]
    },
    {
      "cell_type": "code",
      "metadata": {
        "execution": {
          "iopub.execute_input": "2020-12-08T15:07:17.427919Z",
          "iopub.status.busy": "2020-12-08T15:07:17.427256Z",
          "iopub.status.idle": "2020-12-08T15:07:17.603974Z",
          "shell.execute_reply": "2020-12-08T15:07:17.604497Z"
        },
        "papermill": {
          "duration": 0.213297,
          "end_time": "2020-12-08T15:07:17.604682",
          "exception": false,
          "start_time": "2020-12-08T15:07:17.391385",
          "status": "completed"
        },
        "tags": [],
        "id": "Hkx5TwFt58l-"
      },
      "source": [
        "from sklearn.ensemble import RandomForestRegressor\n",
        "from sklearn.metrics import mean_absolute_error\n",
        "\n",
        "# Function for comparing different approaches\n",
        "def score_dataset(X_train, X_valid, y_train, y_valid):\n",
        "    model = RandomForestRegressor(n_estimators=100, random_state=0)\n",
        "    model.fit(X_train, y_train)\n",
        "    preds = model.predict(X_valid)\n",
        "    return mean_absolute_error(y_valid, preds)"
      ],
      "execution_count": null,
      "outputs": []
    },
    {
      "cell_type": "markdown",
      "metadata": {
        "papermill": {
          "duration": 0.028771,
          "end_time": "2020-12-08T15:07:17.662811",
          "exception": false,
          "start_time": "2020-12-08T15:07:17.634040",
          "status": "completed"
        },
        "tags": [],
        "id": "J-AkppHp58l-"
      },
      "source": [
        "# Step 2: Drop columns with missing values\n",
        "\n",
        "In this step, you'll preprocess the data in `X_train` and `X_valid` to remove columns with missing values.  Set the preprocessed DataFrames to `reduced_X_train` and `reduced_X_valid`, respectively.  "
      ]
    },
    {
      "cell_type": "code",
      "metadata": {
        "execution": {
          "iopub.execute_input": "2020-12-08T15:07:17.761278Z",
          "iopub.status.busy": "2020-12-08T15:07:17.760425Z",
          "iopub.status.idle": "2020-12-08T15:07:17.767315Z",
          "shell.execute_reply": "2020-12-08T15:07:17.766501Z"
        },
        "papermill": {
          "duration": 0.075213,
          "end_time": "2020-12-08T15:07:17.767437",
          "exception": false,
          "start_time": "2020-12-08T15:07:17.692224",
          "status": "completed"
        },
        "tags": [],
        "id": "UukFu5eS58l-",
        "outputId": "e518e5a0-912a-411b-80f8-88834264261e"
      },
      "source": [
        "# Fill in the line below: get names of columns with missing values\n",
        "missing_cols = [col for col in X\n",
        "                     if X[col].isnull().any()]\n",
        "# Your code here\n",
        "\n",
        "# Fill in the lines below: drop columns in training and validation data\n",
        "reduced_X_train = X_train.drop(missing_cols, axis=1)\n",
        "reduced_X_valid = X_valid.drop(missing_cols, axis=1)\n",
        "\n",
        "# Check your answers\n",
        "step_2.check()"
      ],
      "execution_count": null,
      "outputs": [
        {
          "output_type": "display_data",
          "data": {
            "application/javascript": [
              "parent.postMessage({\"jupyterEvent\": \"custom.exercise_interaction\", \"data\": {\"outcomeType\": 1, \"valueTowardsCompletion\": 1.0, \"interactionType\": 1, \"questionType\": 2, \"questionId\": \"2_DropMissing\", \"learnToolsVersion\": \"0.3.4\", \"failureMessage\": \"\", \"exceptionClass\": \"\", \"trace\": \"\"}}, \"*\")"
            ],
            "text/plain": [
              "<IPython.core.display.Javascript object>"
            ]
          },
          "metadata": {
            "tags": []
          }
        },
        {
          "output_type": "display_data",
          "data": {
            "text/markdown": "<span style=\"color:#33cc33\">Correct</span>",
            "text/plain": [
              "Correct"
            ]
          },
          "metadata": {
            "tags": []
          }
        }
      ]
    },
    {
      "cell_type": "code",
      "metadata": {
        "execution": {
          "iopub.execute_input": "2020-12-08T15:07:17.863412Z",
          "iopub.status.busy": "2020-12-08T15:07:17.862573Z",
          "iopub.status.idle": "2020-12-08T15:07:17.864222Z",
          "shell.execute_reply": "2020-12-08T15:07:17.865028Z"
        },
        "papermill": {
          "duration": 0.052159,
          "end_time": "2020-12-08T15:07:17.865207",
          "exception": false,
          "start_time": "2020-12-08T15:07:17.813048",
          "status": "completed"
        },
        "tags": [],
        "id": "oTqpew4e58l-"
      },
      "source": [
        "# Lines below will give you a hint or solution code\n",
        "#step_2.hint()\n",
        "#step_2.solution()"
      ],
      "execution_count": null,
      "outputs": []
    },
    {
      "cell_type": "markdown",
      "metadata": {
        "papermill": {
          "duration": 0.045009,
          "end_time": "2020-12-08T15:07:17.956231",
          "exception": false,
          "start_time": "2020-12-08T15:07:17.911222",
          "status": "completed"
        },
        "tags": [],
        "id": "0xPlRld858l-"
      },
      "source": [
        "Run the next code cell without changes to obtain the MAE for this approach."
      ]
    },
    {
      "cell_type": "code",
      "metadata": {
        "execution": {
          "iopub.execute_input": "2020-12-08T15:07:18.050945Z",
          "iopub.status.busy": "2020-12-08T15:07:18.050114Z",
          "iopub.status.idle": "2020-12-08T15:07:19.403692Z",
          "shell.execute_reply": "2020-12-08T15:07:19.403052Z"
        },
        "papermill": {
          "duration": 1.401571,
          "end_time": "2020-12-08T15:07:19.403794",
          "exception": false,
          "start_time": "2020-12-08T15:07:18.002223",
          "status": "completed"
        },
        "tags": [],
        "id": "7MvdbGi658l-",
        "outputId": "9ea26134-05c7-4144-cb1e-945cd5b3198c"
      },
      "source": [
        "print(\"MAE (Drop columns with missing values):\")\n",
        "print(score_dataset(reduced_X_train, reduced_X_valid, y_train, y_valid))"
      ],
      "execution_count": null,
      "outputs": [
        {
          "output_type": "stream",
          "text": [
            "MAE (Drop columns with missing values):\n",
            "17837.82570776256\n"
          ],
          "name": "stdout"
        }
      ]
    },
    {
      "cell_type": "markdown",
      "metadata": {
        "papermill": {
          "duration": 0.030723,
          "end_time": "2020-12-08T15:07:19.465201",
          "exception": false,
          "start_time": "2020-12-08T15:07:19.434478",
          "status": "completed"
        },
        "tags": [],
        "id": "baDFJ16C58l-"
      },
      "source": [
        "# Step 3: Imputation\n",
        "\n",
        "### Part A\n",
        "\n",
        "Use the next code cell to impute missing values with the mean value along each column.  Set the preprocessed DataFrames to `imputed_X_train` and `imputed_X_valid`.  Make sure that the column names match those in `X_train` and `X_valid`."
      ]
    },
    {
      "cell_type": "code",
      "metadata": {
        "execution": {
          "iopub.execute_input": "2020-12-08T15:07:19.532788Z",
          "iopub.status.busy": "2020-12-08T15:07:19.532149Z",
          "iopub.status.idle": "2020-12-08T15:07:19.566464Z",
          "shell.execute_reply": "2020-12-08T15:07:19.565838Z"
        },
        "papermill": {
          "duration": 0.07056,
          "end_time": "2020-12-08T15:07:19.566583",
          "exception": false,
          "start_time": "2020-12-08T15:07:19.496023",
          "status": "completed"
        },
        "tags": [],
        "id": "zmDkpnBJ58l-",
        "outputId": "a1bd6fd3-71e2-4084-d23f-10ac80725b88"
      },
      "source": [
        "from sklearn.impute import SimpleImputer\n",
        "\n",
        "# Fill in the lines below: imputation\n",
        "simple_imp = SimpleImputer() # Your code here\n",
        "imputed_X_train = pd.DataFrame(simple_imp.fit_transform(X_train))\n",
        "imputed_X_valid = pd.DataFrame(simple_imp.transform(X_valid))\n",
        "\n",
        "# Fill in the lines below: imputation removed column names; put them back\n",
        "imputed_X_train.columns = X_train.columns\n",
        "imputed_X_valid.columns = X_valid.columns\n",
        "\n",
        "# Check your answers\n",
        "step_3.a.check()"
      ],
      "execution_count": null,
      "outputs": [
        {
          "output_type": "display_data",
          "data": {
            "application/javascript": [
              "parent.postMessage({\"jupyterEvent\": \"custom.exercise_interaction\", \"data\": {\"outcomeType\": 1, \"valueTowardsCompletion\": 1.0, \"interactionType\": 1, \"questionType\": 2, \"questionId\": \"3.1_ImputeCode\", \"learnToolsVersion\": \"0.3.4\", \"failureMessage\": \"\", \"exceptionClass\": \"\", \"trace\": \"\"}}, \"*\")"
            ],
            "text/plain": [
              "<IPython.core.display.Javascript object>"
            ]
          },
          "metadata": {
            "tags": []
          }
        },
        {
          "output_type": "display_data",
          "data": {
            "text/markdown": "<span style=\"color:#33cc33\">Correct</span>",
            "text/plain": [
              "Correct"
            ]
          },
          "metadata": {
            "tags": []
          }
        }
      ]
    },
    {
      "cell_type": "code",
      "metadata": {
        "execution": {
          "iopub.execute_input": "2020-12-08T15:07:19.634225Z",
          "iopub.status.busy": "2020-12-08T15:07:19.633434Z",
          "iopub.status.idle": "2020-12-08T15:07:19.637736Z",
          "shell.execute_reply": "2020-12-08T15:07:19.636927Z"
        },
        "papermill": {
          "duration": 0.039161,
          "end_time": "2020-12-08T15:07:19.637851",
          "exception": false,
          "start_time": "2020-12-08T15:07:19.598690",
          "status": "completed"
        },
        "tags": [],
        "id": "aIVzc0_B58l_"
      },
      "source": [
        "# Lines below will give you a hint or solution code\n",
        "#step_3.a.hint()\n",
        "#step_3.a.solution()"
      ],
      "execution_count": null,
      "outputs": []
    },
    {
      "cell_type": "markdown",
      "metadata": {
        "papermill": {
          "duration": 0.047651,
          "end_time": "2020-12-08T15:07:19.733103",
          "exception": false,
          "start_time": "2020-12-08T15:07:19.685452",
          "status": "completed"
        },
        "tags": [],
        "id": "Ctt8Ies858l_"
      },
      "source": [
        "Run the next code cell without changes to obtain the MAE for this approach."
      ]
    },
    {
      "cell_type": "code",
      "metadata": {
        "execution": {
          "iopub.execute_input": "2020-12-08T15:07:19.842045Z",
          "iopub.status.busy": "2020-12-08T15:07:19.836415Z",
          "iopub.status.idle": "2020-12-08T15:07:21.233788Z",
          "shell.execute_reply": "2020-12-08T15:07:21.233074Z"
        },
        "papermill": {
          "duration": 1.452947,
          "end_time": "2020-12-08T15:07:21.233920",
          "exception": false,
          "start_time": "2020-12-08T15:07:19.780973",
          "status": "completed"
        },
        "tags": [],
        "id": "2TVBUk0M58l_",
        "outputId": "6a8dcc4b-dadd-485c-d17e-fe7221a3a613"
      },
      "source": [
        "print(\"MAE (Imputation):\")\n",
        "print(score_dataset(imputed_X_train, imputed_X_valid, y_train, y_valid))"
      ],
      "execution_count": null,
      "outputs": [
        {
          "output_type": "stream",
          "text": [
            "MAE (Imputation):\n",
            "18062.894611872147\n"
          ],
          "name": "stdout"
        }
      ]
    },
    {
      "cell_type": "markdown",
      "metadata": {
        "papermill": {
          "duration": 0.031204,
          "end_time": "2020-12-08T15:07:21.315065",
          "exception": false,
          "start_time": "2020-12-08T15:07:21.283861",
          "status": "completed"
        },
        "tags": [],
        "id": "r0H1IzqF58l_"
      },
      "source": [
        "### Part B\n",
        "\n",
        "Compare the MAE from each approach.  Does anything surprise you about the results?  Why do you think one approach performed better than the other?"
      ]
    },
    {
      "cell_type": "code",
      "metadata": {
        "execution": {
          "iopub.execute_input": "2020-12-08T15:07:21.366912Z",
          "iopub.status.busy": "2020-12-08T15:07:21.366380Z",
          "iopub.status.idle": "2020-12-08T15:07:21.373132Z",
          "shell.execute_reply": "2020-12-08T15:07:21.372619Z"
        },
        "papermill": {
          "duration": 0.034722,
          "end_time": "2020-12-08T15:07:21.373258",
          "exception": false,
          "start_time": "2020-12-08T15:07:21.338536",
          "status": "completed"
        },
        "tags": [],
        "id": "-88V5tZX58l_",
        "outputId": "0d92d9cc-c4fe-44e1-bfe0-753851cee0f3"
      },
      "source": [
        "# Check your answer (Run this code cell to receive credit!)\n",
        "step_3.b.check()"
      ],
      "execution_count": null,
      "outputs": [
        {
          "output_type": "display_data",
          "data": {
            "application/javascript": [
              "parent.postMessage({\"jupyterEvent\": \"custom.exercise_interaction\", \"data\": {\"outcomeType\": 1, \"valueTowardsCompletion\": 1.0, \"interactionType\": 1, \"questionType\": 4, \"questionId\": \"3.2_ImputeThought\", \"learnToolsVersion\": \"0.3.4\", \"failureMessage\": \"\", \"exceptionClass\": \"\", \"trace\": \"\"}}, \"*\")"
            ],
            "text/plain": [
              "<IPython.core.display.Javascript object>"
            ]
          },
          "metadata": {
            "tags": []
          }
        },
        {
          "output_type": "display_data",
          "data": {
            "text/markdown": "<span style=\"color:#33cc33\">Correct:</span> \n\nGiven that thre are so few missing values in the dataset, we'd expect imputation to perform better than dropping columns entirely.  However, we see that dropping columns performs slightly better!  While this can probably partially be attributed to noise in the dataset, another potential explanation is that the imputation method is not a great match to this dataset.  That is, maybe instead of filling in the mean value, it makes more sense to set every missing value to a value of 0, to fill in the most frequently encountered value, or to use some other method.  For instance, consider the `GarageYrBlt` column (which indicates the year that the garage was built).  It's likely that in some cases, a missing value could indicate a house that does not have a garage.  Does it make more sense to fill in the median value along each column in this case?  Or could we get better results by filling in the minimum value along each column?  It's not quite clear what's best in this case, but perhaps we can rule out some options immediately - for instance, setting missing values in this column to 0 is likely to yield horrible results!",
            "text/plain": [
              "Correct: \n",
              "\n",
              "Given that thre are so few missing values in the dataset, we'd expect imputation to perform better than dropping columns entirely.  However, we see that dropping columns performs slightly better!  While this can probably partially be attributed to noise in the dataset, another potential explanation is that the imputation method is not a great match to this dataset.  That is, maybe instead of filling in the mean value, it makes more sense to set every missing value to a value of 0, to fill in the most frequently encountered value, or to use some other method.  For instance, consider the `GarageYrBlt` column (which indicates the year that the garage was built).  It's likely that in some cases, a missing value could indicate a house that does not have a garage.  Does it make more sense to fill in the median value along each column in this case?  Or could we get better results by filling in the minimum value along each column?  It's not quite clear what's best in this case, but perhaps we can rule out some options immediately - for instance, setting missing values in this column to 0 is likely to yield horrible results!"
            ]
          },
          "metadata": {
            "tags": []
          }
        }
      ]
    },
    {
      "cell_type": "code",
      "metadata": {
        "execution": {
          "iopub.execute_input": "2020-12-08T15:07:21.447789Z",
          "iopub.status.busy": "2020-12-08T15:07:21.447130Z",
          "iopub.status.idle": "2020-12-08T15:07:21.450667Z",
          "shell.execute_reply": "2020-12-08T15:07:21.450033Z"
        },
        "papermill": {
          "duration": 0.04243,
          "end_time": "2020-12-08T15:07:21.450781",
          "exception": false,
          "start_time": "2020-12-08T15:07:21.408351",
          "status": "completed"
        },
        "tags": [],
        "id": "JcEpnIGv58l_"
      },
      "source": [
        "#step_3.b.hint()"
      ],
      "execution_count": null,
      "outputs": []
    },
    {
      "cell_type": "markdown",
      "metadata": {
        "papermill": {
          "duration": 0.034412,
          "end_time": "2020-12-08T15:07:21.520063",
          "exception": false,
          "start_time": "2020-12-08T15:07:21.485651",
          "status": "completed"
        },
        "tags": [],
        "id": "chSJ7M-b58l_"
      },
      "source": [
        "# Step 4: Generate test predictions\n",
        "\n",
        "In this final step, you'll use any approach of your choosing to deal with missing values.  Once you've preprocessed the training and validation features, you'll train and evaluate a random forest model.  Then, you'll preprocess the test data before generating predictions that can be submitted to the competition!\n",
        "\n",
        "### Part A\n",
        "\n",
        "Use the next code cell to preprocess the training and validation data.  Set the preprocessed DataFrames to `final_X_train` and `final_X_valid`.  **You can use any approach of your choosing here!**  in order for this step to be marked as correct, you need only ensure:\n",
        "- the preprocessed DataFrames have the same number of columns,\n",
        "- the preprocessed DataFrames have no missing values, \n",
        "- `final_X_train` and `y_train` have the same number of rows, and\n",
        "- `final_X_valid` and `y_valid` have the same number of rows."
      ]
    },
    {
      "cell_type": "code",
      "metadata": {
        "execution": {
          "iopub.execute_input": "2020-12-08T15:07:21.598046Z",
          "iopub.status.busy": "2020-12-08T15:07:21.597326Z",
          "iopub.status.idle": "2020-12-08T15:07:21.627274Z",
          "shell.execute_reply": "2020-12-08T15:07:21.626739Z"
        },
        "papermill": {
          "duration": 0.072598,
          "end_time": "2020-12-08T15:07:21.627381",
          "exception": false,
          "start_time": "2020-12-08T15:07:21.554783",
          "status": "completed"
        },
        "tags": [],
        "id": "Co7xPajB58l_",
        "outputId": "897e2dbe-83c1-4be7-d1a1-b2040fda4869"
      },
      "source": [
        "# Preprocessed training and validation features\n",
        "imputer_median = SimpleImputer(strategy=\"median\")\n",
        "\n",
        "final_X_train = pd.DataFrame(imputer_median.fit_transform(X_train))\n",
        "final_X_valid = pd.DataFrame(imputer_median.transform(X_valid))\n",
        "final_X_train.columns = X_train.columns\n",
        "final_X_valid.columns = X_valid.columns\n",
        "# Check your answers\n",
        "step_4.a.check()"
      ],
      "execution_count": null,
      "outputs": [
        {
          "output_type": "display_data",
          "data": {
            "application/javascript": [
              "parent.postMessage({\"jupyterEvent\": \"custom.exercise_interaction\", \"data\": {\"outcomeType\": 1, \"valueTowardsCompletion\": 1.0, \"interactionType\": 1, \"questionType\": 2, \"questionId\": \"4.1_PredsCodeA\", \"learnToolsVersion\": \"0.3.4\", \"failureMessage\": \"\", \"exceptionClass\": \"\", \"trace\": \"\"}}, \"*\")"
            ],
            "text/plain": [
              "<IPython.core.display.Javascript object>"
            ]
          },
          "metadata": {
            "tags": []
          }
        },
        {
          "output_type": "display_data",
          "data": {
            "text/markdown": "<span style=\"color:#33cc33\">Correct</span>",
            "text/plain": [
              "Correct"
            ]
          },
          "metadata": {
            "tags": []
          }
        }
      ]
    },
    {
      "cell_type": "code",
      "metadata": {
        "execution": {
          "iopub.execute_input": "2020-12-08T15:07:21.704380Z",
          "iopub.status.busy": "2020-12-08T15:07:21.703241Z",
          "iopub.status.idle": "2020-12-08T15:07:21.707260Z",
          "shell.execute_reply": "2020-12-08T15:07:21.706429Z"
        },
        "papermill": {
          "duration": 0.044254,
          "end_time": "2020-12-08T15:07:21.707386",
          "exception": false,
          "start_time": "2020-12-08T15:07:21.663132",
          "status": "completed"
        },
        "tags": [],
        "id": "1F0Lynie58l_"
      },
      "source": [
        "# Lines below will give you a hint or solution code\n",
        "#step_4.a.hint()\n",
        "#step_4.a.solution()"
      ],
      "execution_count": null,
      "outputs": []
    },
    {
      "cell_type": "markdown",
      "metadata": {
        "papermill": {
          "duration": 0.0533,
          "end_time": "2020-12-08T15:07:21.814835",
          "exception": false,
          "start_time": "2020-12-08T15:07:21.761535",
          "status": "completed"
        },
        "tags": [],
        "id": "yC8R6Lt-58l_"
      },
      "source": [
        "Run the next code cell to train and evaluate a random forest model.  (*Note that we don't use the `score_dataset()` function above, because we will soon use the trained model to generate test predictions!*)"
      ]
    },
    {
      "cell_type": "code",
      "metadata": {
        "execution": {
          "iopub.execute_input": "2020-12-08T15:07:21.930657Z",
          "iopub.status.busy": "2020-12-08T15:07:21.929837Z",
          "iopub.status.idle": "2020-12-08T15:07:23.432207Z",
          "shell.execute_reply": "2020-12-08T15:07:23.431218Z"
        },
        "papermill": {
          "duration": 1.563244,
          "end_time": "2020-12-08T15:07:23.432358",
          "exception": false,
          "start_time": "2020-12-08T15:07:21.869114",
          "status": "completed"
        },
        "tags": [],
        "id": "UWV5JHFj58l_",
        "outputId": "5037c6fe-389d-4822-be8d-0106e1a06839"
      },
      "source": [
        "# Define and fit model\n",
        "model = RandomForestRegressor(n_estimators=100, random_state=0)\n",
        "model.fit(final_X_train, y_train)\n",
        "\n",
        "# Get validation predictions and MAE\n",
        "preds_valid = model.predict(final_X_valid)\n",
        "\n",
        "print(\"MAE (Your approach):\")\n",
        "print(mean_absolute_error(y_valid, preds_valid))"
      ],
      "execution_count": null,
      "outputs": [
        {
          "output_type": "stream",
          "text": [
            "MAE (Your approach):\n",
            "17791.59899543379\n"
          ],
          "name": "stdout"
        }
      ]
    },
    {
      "cell_type": "markdown",
      "metadata": {
        "papermill": {
          "duration": 0.054437,
          "end_time": "2020-12-08T15:07:23.542047",
          "exception": false,
          "start_time": "2020-12-08T15:07:23.487610",
          "status": "completed"
        },
        "tags": [],
        "id": "iJJQkC0658mA"
      },
      "source": [
        "### Part B\n",
        "\n",
        "Use the next code cell to preprocess your test data.  Make sure that you use a method that agrees with how you preprocessed the training and validation data, and set the preprocessed test features to `final_X_test`.\n",
        "\n",
        "Then, use the preprocessed test features and the trained model to generate test predictions in `preds_test`.\n",
        "\n",
        "In order for this step to be marked correct, you need only ensure:\n",
        "- the preprocessed test DataFrame has no missing values, and\n",
        "- `final_X_test` has the same number of rows as `X_test`."
      ]
    },
    {
      "cell_type": "code",
      "metadata": {
        "execution": {
          "iopub.execute_input": "2020-12-08T15:07:23.657595Z",
          "iopub.status.busy": "2020-12-08T15:07:23.656814Z",
          "iopub.status.idle": "2020-12-08T15:07:23.705577Z",
          "shell.execute_reply": "2020-12-08T15:07:23.704791Z"
        },
        "papermill": {
          "duration": 0.109643,
          "end_time": "2020-12-08T15:07:23.705692",
          "exception": false,
          "start_time": "2020-12-08T15:07:23.596049",
          "status": "completed"
        },
        "tags": [],
        "id": "ApIo69Ot58mA",
        "outputId": "ea907654-2dd7-4c16-9279-7eb8730e8df9"
      },
      "source": [
        "# Fill in the line below: preprocess test data\n",
        "final_X_test = pd.DataFrame(imputer_median.transform(X_test))\n",
        "\n",
        "# Fill in the line below: get test predictions\n",
        "preds_test = model.predict(final_X_test)\n",
        "\n",
        "# Check your answers\n",
        "step_4.b.check()"
      ],
      "execution_count": null,
      "outputs": [
        {
          "output_type": "display_data",
          "data": {
            "application/javascript": [
              "parent.postMessage({\"jupyterEvent\": \"custom.exercise_interaction\", \"data\": {\"outcomeType\": 1, \"valueTowardsCompletion\": 1.0, \"interactionType\": 1, \"questionType\": 2, \"questionId\": \"4.2_PredsCodeB\", \"learnToolsVersion\": \"0.3.4\", \"failureMessage\": \"\", \"exceptionClass\": \"\", \"trace\": \"\"}}, \"*\")"
            ],
            "text/plain": [
              "<IPython.core.display.Javascript object>"
            ]
          },
          "metadata": {
            "tags": []
          }
        },
        {
          "output_type": "display_data",
          "data": {
            "text/markdown": "<span style=\"color:#33cc33\">Correct</span>",
            "text/plain": [
              "Correct"
            ]
          },
          "metadata": {
            "tags": []
          }
        }
      ]
    },
    {
      "cell_type": "code",
      "metadata": {
        "execution": {
          "iopub.execute_input": "2020-12-08T15:07:23.821363Z",
          "iopub.status.busy": "2020-12-08T15:07:23.820595Z",
          "iopub.status.idle": "2020-12-08T15:07:23.824295Z",
          "shell.execute_reply": "2020-12-08T15:07:23.823589Z"
        },
        "papermill": {
          "duration": 0.063089,
          "end_time": "2020-12-08T15:07:23.824406",
          "exception": false,
          "start_time": "2020-12-08T15:07:23.761317",
          "status": "completed"
        },
        "tags": [],
        "id": "Ti0xvsT058mA"
      },
      "source": [
        "# Lines below will give you a hint or solution code\n",
        "#step_4.b.hint()\n",
        "#step_4.b.solution()"
      ],
      "execution_count": null,
      "outputs": []
    },
    {
      "cell_type": "markdown",
      "metadata": {
        "papermill": {
          "duration": 0.055723,
          "end_time": "2020-12-08T15:07:23.936967",
          "exception": false,
          "start_time": "2020-12-08T15:07:23.881244",
          "status": "completed"
        },
        "tags": [],
        "id": "fzISb-d258mA"
      },
      "source": [
        "Run the next code cell without changes to save your results to a CSV file that can be submitted directly to the competition."
      ]
    },
    {
      "cell_type": "code",
      "metadata": {
        "execution": {
          "iopub.execute_input": "2020-12-08T15:07:24.055678Z",
          "iopub.status.busy": "2020-12-08T15:07:24.054692Z",
          "iopub.status.idle": "2020-12-08T15:07:24.393453Z",
          "shell.execute_reply": "2020-12-08T15:07:24.392582Z"
        },
        "papermill": {
          "duration": 0.400652,
          "end_time": "2020-12-08T15:07:24.393623",
          "exception": false,
          "start_time": "2020-12-08T15:07:23.992971",
          "status": "completed"
        },
        "tags": [],
        "id": "2QGRAfbk58mA"
      },
      "source": [
        "# Save test predictions to file\n",
        "output = pd.DataFrame({'Id': X_test.index,\n",
        "                       'SalePrice': preds_test})\n",
        "output.to_csv('submission.csv', index=False)"
      ],
      "execution_count": null,
      "outputs": []
    },
    {
      "cell_type": "markdown",
      "metadata": {
        "papermill": {
          "duration": 0.057262,
          "end_time": "2020-12-08T15:07:24.508953",
          "exception": false,
          "start_time": "2020-12-08T15:07:24.451691",
          "status": "completed"
        },
        "tags": [],
        "id": "YIgiou6958mA"
      },
      "source": [
        "# Submit your results\n",
        "\n",
        "Once you have successfully completed Step 4, you're ready to submit your results to the leaderboard!  (_You also learned how to do this in the previous exercise.  If you need a reminder of how to do this, please use the instructions below._)  \n",
        "\n",
        "First, you'll need to join the competition if you haven't already.  So open a new window by clicking on [this link](https://www.kaggle.com/c/home-data-for-ml-course).  Then click on the **Join Competition** button.\n",
        "\n",
        "![join competition image](https://i.imgur.com/wLmFtH3.png)\n",
        "\n",
        "Next, follow the instructions below:\n",
        "1. Begin by clicking on the blue **Save Version** button in the top right corner of the window.  This will generate a pop-up window.  \n",
        "2. Ensure that the **Save and Run All** option is selected, and then click on the blue **Save** button.\n",
        "3. This generates a window in the bottom left corner of the notebook.  After it has finished running, click on the number to the right of the **Save Version** button.  This pulls up a list of versions on the right of the screen.  Click on the ellipsis **(...)** to the right of the most recent version, and select **Open in Viewer**.  This brings you into view mode of the same page. You will need to scroll down to get back to these instructions.\n",
        "4. Click on the **Output** tab on the right of the screen.  Then, click on the file you would like to submit, and click on the blue **Submit** button to submit your results to the leaderboard.\n",
        "\n",
        "You have now successfully submitted to the competition!\n",
        "![Kaggle competition missing values.png](data:image/png;base64,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)\n",
        "\n",
        "If you want to keep working to improve your performance, select the blue **Edit** button in the top right of the screen. Then you can change your code and repeat the process. There's a lot of room to improve, and you will climb up the leaderboard as you work.\n",
        "\n",
        "\n",
        "# Keep going\n",
        "\n",
        "Move on to learn what **[categorical variables](https://www.kaggle.com/alexisbcook/categorical-variables)** are, along with how to incorporate them into your machine learning models.  Categorical variables are very common in real-world data, but you'll get an error if you try to plug them into your models without processing them first!"
      ]
    },
    {
      "cell_type": "markdown",
      "metadata": {
        "papermill": {
          "duration": 0.057292,
          "end_time": "2020-12-08T15:07:24.623240",
          "exception": false,
          "start_time": "2020-12-08T15:07:24.565948",
          "status": "completed"
        },
        "tags": [],
        "id": "lLIrzVBO58mA"
      },
      "source": [
        "---\n",
        "\n",
        "\n",
        "\n",
        "\n",
        "*Have questions or comments? Visit the [Learn Discussion forum](https://www.kaggle.com/learn-forum/161289) to chat with other Learners.*"
      ]
    }
  ]
}