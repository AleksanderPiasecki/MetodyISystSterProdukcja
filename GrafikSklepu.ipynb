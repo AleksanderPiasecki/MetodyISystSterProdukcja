{
  "nbformat": 4,
  "nbformat_minor": 0,
  "metadata": {
    "colab": {
      "name": "GrafikSklepu.ipynb",
      "provenance": [],
      "collapsed_sections": [],
      "mount_file_id": "1HQLZLZygCay10mhr2NJ0EFAgL1rSeBdG",
      "authorship_tag": "ABX9TyMGylm446N1UUgK+qDdY2Fy"
    },
    "kernelspec": {
      "name": "python3",
      "display_name": "Python 3"
    }
  },
  "cells": [
    {
      "cell_type": "markdown",
      "metadata": {
        "id": "7vIQiA9lKeIV"
      },
      "source": [
        "#Opis zadania - Grafik dla sklepu\n",
        "<b>Cel</b>: Minimalizacja wydatków.<br>\n",
        "<b>Zmienne decyzyjne</b>: Jakiego dnia dana osoba ma przyjść.<br>\n",
        "<b>Wymagania obsługi</b>:<br>\n",
        "\n",
        "| Pon | Wto | Śro | Czw | Pią |\n",
        "|-----|-----|-----|-----|-----|\n",
        "|  2  |  1  |  1  |  1  |  3  |\n",
        "\n",
        "<b>Dostępność pracowników</b>:<br>\n",
        "Każda osoba może przepracować max. 3 dni.<br>\n",
        "\n",
        "| Osoba    | Dostępność | Stawka [zł/d] |\n",
        "|----------|------------|---------------|\n",
        "| Ania     | Codziennie | 100 |\n",
        "| Stefan   | Pon        | 50  |\n",
        "| Hektor   | Pon - Śro  | 60  |\n",
        "| Olaf     | Codziennie | 40  |\n",
        "| Lidia    | Czw - Pią  | 110 |\n",
        "| Piotr    | Pon - Śro  | 70  |"
      ]
    },
    {
      "cell_type": "markdown",
      "metadata": {
        "id": "9PjovjJlnwgQ"
      },
      "source": [
        "#Brudnopis"
      ]
    },
    {
      "cell_type": "code",
      "metadata": {
        "id": "LAFrH5XinzCj"
      },
      "source": [
        "#plikxls = xlwt.Workbook(encoding=\"utf-8\")\n",
        "#arkuszZad = plikxls.add_sheet(\"WymogiObslugi\")\n",
        "#arkuszPrac = plikxls.add_sheet(\"Pracownicy\")\n",
        "#for n, dn in enumerate(DniTygodnia):\n",
        "#    arkuszZad.write(0, n, dn)\n",
        "#    arkuszZad.write(1, n, MinIlPrac[dn])\n",
        "#\n",
        "#arkuszPrac.write(0, 0, 'Pracownik')\n",
        "#arkuszPrac.write(0, 1, 'Stawka')\n",
        "#for nd, d in enumerate(DniTygodnia):\n",
        "#    arkuszPrac.write(0, 2 + nd, 'Dostęp_' + d)\n",
        "#for np, p in enumerate(Pracownicy):\n",
        "#    arkuszPrac.write(np + 1, 0, p)\n",
        "#    arkuszPrac.write(np + 1, 1, StawkaPrac[p])\n",
        "#    for nd, d, in enumerate(DniTygodnia):\n",
        "#        arkuszPrac.write(np + 1, nd + 2, DostepPrac[p][d])\n",
        "#plikxls.save(\"SklepGrafik.xls\")"
      ],
      "execution_count": 1,
      "outputs": []
    },
    {
      "cell_type": "markdown",
      "metadata": {
        "id": "3-S5Kis4n3Bz"
      },
      "source": [
        "#Instalacja bibliotek"
      ]
    },
    {
      "cell_type": "code",
      "metadata": {
        "id": "pcAHO-48KZ8L",
        "colab": {
          "base_uri": "https://localhost:8080/"
        },
        "outputId": "308296ca-1a04-47b1-e75b-3e25b9d62739"
      },
      "source": [
        "!pip install pulp\n",
        "!sudo apt-get install coinor-cbc glpk-utils coinor-clp\n",
        "from pulp import *"
      ],
      "execution_count": 2,
      "outputs": [
        {
          "output_type": "stream",
          "text": [
            "Requirement already satisfied: pulp in /usr/local/lib/python3.6/dist-packages (2.4)\n",
            "Requirement already satisfied: amply>=0.1.2 in /usr/local/lib/python3.6/dist-packages (from pulp) (0.1.4)\n",
            "Requirement already satisfied: docutils>=0.3 in /usr/local/lib/python3.6/dist-packages (from amply>=0.1.2->pulp) (0.16)\n",
            "Requirement already satisfied: pyparsing in /usr/local/lib/python3.6/dist-packages (from amply>=0.1.2->pulp) (2.4.7)\n",
            "Reading package lists... Done\n",
            "Building dependency tree       \n",
            "Reading state information... Done\n",
            "coinor-cbc is already the newest version (2.9.9+repack1-1).\n",
            "coinor-clp is already the newest version (1.16.11+repack1-1).\n",
            "glpk-utils is already the newest version (4.65-1).\n",
            "0 upgraded, 0 newly installed, 0 to remove and 15 not upgraded.\n"
          ],
          "name": "stdout"
        }
      ]
    },
    {
      "cell_type": "code",
      "metadata": {
        "id": "x9aBcfnQUhac"
      },
      "source": [
        "import xlwt\n",
        "import pandas as pd\n",
        "import pulp"
      ],
      "execution_count": 3,
      "outputs": []
    },
    {
      "cell_type": "markdown",
      "metadata": {
        "id": "aeL1Bienok9H"
      },
      "source": [
        "#Dane z zadania"
      ]
    },
    {
      "cell_type": "code",
      "metadata": {
        "id": "JyXWDpCIl0cD"
      },
      "source": [
        "# Dane z zadania\n",
        "DniTygodnia = [ 'pn', 'wt', 'śr', 'cz', 'pt']\n",
        "MinIlPrac = { 'pn': 2, 'wt': 1, 'śr': 1, 'cz': 1, 'pt': 3 }\n",
        "#MinIlPrac = { 'pn': 5, 'wt': 3, 'śr': 3, 'cz': 2, 'pt': 3 }\n",
        "Pracownicy = ['Ania', 'Stefan', 'Hektor', 'Olaf', 'Lidia', 'Piotr']\n",
        "DostepPrac = { 'Ania': { 'pn': 1, 'wt': 1, 'śr': 1, 'cz': 1, 'pt': 1},\n",
        "              'Stefan': { 'pn': 1, 'wt': 0, 'śr': 0, 'cz': 0, 'pt': 0},\n",
        "              'Hektor': { 'pn': 1, 'wt': 1, 'śr': 1, 'cz': 0, 'pt': 0},\n",
        "              'Olaf': { 'pn': 1, 'wt': 1, 'śr': 1, 'cz': 1, 'pt': 1},\n",
        "              'Lidia': { 'pn': 0, 'wt': 0, 'śr': 0, 'cz': 1, 'pt': 1},\n",
        "              'Piotr': { 'pn': 1, 'wt': 1, 'śr': 1, 'cz': 0, 'pt': 0}}\n",
        "StawkaPrac = { 'Ania': 100,\n",
        "              'Stefan': 50,\n",
        "              'Hektor': 60,\n",
        "              'Olaf': 40,\n",
        "              'Lidia': 110,\n",
        "              'Piotr': 70 }\n",
        "MaxCzasPracy = { 'Ania': 3,\n",
        "              'Stefan': 3,\n",
        "              'Hektor': 3,\n",
        "              'Olaf': 3,\n",
        "              'Lidia': 3,\n",
        "              'Piotr': 3}"
      ],
      "execution_count": 4,
      "outputs": []
    },
    {
      "cell_type": "markdown",
      "metadata": {
        "id": "EnKH993Vonvh"
      },
      "source": [
        "#Tworzenie arkusza kalkulacyjnego"
      ]
    },
    {
      "cell_type": "code",
      "metadata": {
        "id": "qKkoiPBPVe4a"
      },
      "source": [
        "with pd.ExcelWriter('SklepGrafikDane.xlsx', mode='w') as plikArkusza:\n",
        "  pd.DataFrame(DostepPrac).transpose().to_excel(plikArkusza, sheet_name='DostepPracownikow')\n",
        "  pd.DataFrame(MinIlPrac, index=range(1)).transpose().to_excel(plikArkusza, sheet_name='WymogiObslugi')\n",
        "  pd.DataFrame(StawkaPrac, index=range(1)).transpose().to_excel(plikArkusza, sheet_name='StawkiPracownikow')\n",
        "  pd.DataFrame(MaxCzasPracy, index=range(1)).transpose().to_excel(plikArkusza, sheet_name='LimitCzasuPracy')"
      ],
      "execution_count": 5,
      "outputs": []
    },
    {
      "cell_type": "markdown",
      "metadata": {
        "id": "OytcDGm1oF8t"
      },
      "source": [
        "# Rozwiązanie skomplikowane\n",
        "Z wykorzystaniem kombinacji"
      ]
    },
    {
      "cell_type": "code",
      "metadata": {
        "id": "ocGDEnBbh-YD",
        "colab": {
          "base_uri": "https://localhost:8080/"
        },
        "outputId": "826a6e22-970d-41b7-f5d8-2853bbcc49bd"
      },
      "source": [
        "# Zlicza pensję dla danej listy pracowników na podstawie ich stawek\n",
        "def sumaPensji(pracownicy, stawki):\n",
        "    return sum(stawki[p] for p in pracownicy)\n",
        "\n",
        "# Pobranie arkuszy\n",
        "ArkWymogi = pd.read_excel(\"SklepGrafikDane.xlsx\", \"WymogiObslugi\", index_col=0)\n",
        "ArkPlace = pd.read_excel(\"SklepGrafikDane.xlsx\", \"StawkiPracownikow\", index_col=0)\n",
        "ArkDostep = pd.read_excel(\"SklepGrafikDane.xlsx\", \"DostepPracownikow\", index_col=0)\n",
        "ArkCzasPracy = pd.read_excel(\"SklepGrafikDane.xlsx\", \"LimitCzasuPracy\", index_col=0)\n",
        "# Odczyt danych z arkuszy\n",
        "Pracownicy = ArkDostep.index\n",
        "DniTygodnia = ArkWymogi.index\n",
        "WymogiObslugi = {d: ArkWymogi[0][d] for d in DniTygodnia}\n",
        "LimitCzasuPracy = {p: ArkCzasPracy[0][p] for p in Pracownicy}\n",
        "Place = {p: ArkPlace[0][p] for p in Pracownicy}\n",
        "Dostepnosc = {p: {d: ArkDostep[d][p] for d in DniTygodnia} for p in Pracownicy}\n",
        "# Kombinacje wszystkich grafików dzienych w liście dla całego tygodnia\n",
        "MozliweGrafiki = [[c for c in pulp.allcombinations(Pracownicy, WymogiObslugi[d])\n",
        "                      if len(c) >= WymogiObslugi[d]] for d in DniTygodnia]\n",
        "# Wirtualna kartka do zaznaczania krzyżykiem wybranych grafików (każdy dzień na osobnej liście)\n",
        "ListaWyboru = [pulp.LpVariable.dicts('grafik_' + d, MozliweGrafiki[nd],\n",
        "                                     lowBound = 0, upBound = 1,\n",
        "                                     cat = pulp.LpInteger)\n",
        "                for nd, d in enumerate(DniTygodnia)]\n",
        "# Definicja problemu\n",
        "ProblemGrafiku = LpProblem(\"Grafik_sklepowy\", LpMinimize)\n",
        "# Definicja funkcji celu - wypłacanej pensji\n",
        "ProblemGrafiku += lpSum([lpSum([ListaWyboru[nd][g] * sumaPensji(g, Place) for g in MozliweGrafiki[nd]]) for nd, d in enumerate(DniTygodnia)])\n",
        "# Ograniczenie czasu pracy każdego pracownika\n",
        "for p in Pracownicy:\n",
        "    # Łączny czas pracy w tygodniu\n",
        "    ProblemGrafiku += lpSum([\n",
        "         [ListaWyboru[nd][g] * g.count(p) for g in MozliweGrafiki[nd]]\n",
        "          for nd, d in enumerate(DniTygodnia)]) <= LimitCzasuPracy[p]\n",
        "    # Dostępność w konkretne dni\n",
        "    for nd, d in enumerate(DniTygodnia):\n",
        "      for g in MozliweGrafiki[nd]:\n",
        "        if p in g:\n",
        "          ProblemGrafiku += ListaWyboru[nd][g] <= Dostepnosc[p][d]\n",
        "# Możliwość wyboru tylko (i dokładnie) jednego grafiku dla danego dnia\n",
        "for nd, d in enumerate(DniTygodnia):\n",
        "    ProblemGrafiku += lpSum(ListaWyboru[nd]) == 1\n",
        "# Rozwiązanie problemu liniowego\n",
        "ProblemGrafiku.solve()\n",
        "# Przygotowanie tabeli z grafikiem (spełnienie jednorodnego wymiaru)\n",
        "Grafik = [[None] * max([WymogiObslugi[dni] for dni in DniTygodnia]) for d in DniTygodnia]\n",
        "# Uzupełnienie tabeli wybranymi grafikami\n",
        "for nd, d in enumerate(DniTygodnia):\n",
        "    for g in MozliweGrafiki[nd]:\n",
        "        if ListaWyboru[nd][g].value() == 1:\n",
        "            Grafik[nd] = g\n",
        "# Stworzenie ramki przygotowanej do pokazania\n",
        "RamkaGrafiku = pd.DataFrame(Grafik,\n",
        "                            index=DniTygodnia,\n",
        "                            columns=range(1, max(WymogiObslugi.values()) + 1)\n",
        "                            ).transpose()\n",
        "# Dodanie arkusza 'Grafik' z wyznaczonym grafikiem do istniejącego pliku Excela\n",
        "with pd.ExcelWriter('SklepGrafikDane.xlsx', mode='a') as plikArkusza:\n",
        "    RamkaGrafiku.to_excel(plikArkusza, sheet_name='Grafik')\n",
        "# Pokazanie wyniku na stronie\n",
        "print(RamkaGrafiku)\n"
      ],
      "execution_count": 6,
      "outputs": [
        {
          "output_type": "stream",
          "text": [
            "       pn    wt      śr    cz     pt\n",
            "1  Stefan  Olaf  Hektor  Olaf   Ania\n",
            "2  Hektor  None    None  None   Olaf\n",
            "3    None  None    None  None  Lidia\n"
          ],
          "name": "stdout"
        }
      ]
    },
    {
      "cell_type": "markdown",
      "metadata": {
        "id": "RQpKukQwIlrc"
      },
      "source": [
        "# Rozwiązanie prostsze\n",
        "Z wykorzystaniem tabeli"
      ]
    },
    {
      "cell_type": "code",
      "metadata": {
        "colab": {
          "base_uri": "https://localhost:8080/"
        },
        "id": "u8pT9J3iIvuz",
        "outputId": "78879155-837b-41b8-bb95-12908e730307"
      },
      "source": [
        "# Pobranie arkuszy\n",
        "ArkWymogi = pd.read_excel(\"SklepGrafikDane.xlsx\", \"WymogiObslugi\", index_col=0)\n",
        "ArkPlace = pd.read_excel(\"SklepGrafikDane.xlsx\", \"StawkiPracownikow\", index_col=0)\n",
        "ArkDostep = pd.read_excel(\"SklepGrafikDane.xlsx\", \"DostepPracownikow\", index_col=0)\n",
        "ArkCzasPracy = pd.read_excel(\"SklepGrafikDane.xlsx\", \"LimitCzasuPracy\", index_col=0)\n",
        "# Odczyt danych z arkuszy\n",
        "Pracownicy = ArkDostep.index\n",
        "DniTygodnia = ArkWymogi.index\n",
        "WymogiObslugi = {d: ArkWymogi[0][d] for d in DniTygodnia}\n",
        "LimitCzasuPracy = {p: ArkCzasPracy[0][p] for p in Pracownicy}\n",
        "Place = {p: ArkPlace[0][p] for p in Pracownicy}\n",
        "Dostepnosc = {p: {d: ArkDostep[d][p] for d in DniTygodnia} for p in Pracownicy}\n",
        "\n",
        "# Krotki dzień tygodnia - pracownik\n",
        "NaglowekGrafiku = [(d, p) for d in DniTygodnia for p in Pracownicy]\n",
        "# Tabelka z zaznaczonymi krzyżykami\n",
        "TabelaGrafiku = LpVariable.dicts(\"Obecnosc\", [ng for ng in NaglowekGrafiku], cat=LpBinary)\n",
        "\n",
        "# Definicja problemu\n",
        "ProblemGrafiku = LpProblem(\"Grafik_sklepowy\", LpMinimize)\n",
        "# Definicja funkcji celu - wypłacanej pensji\n",
        "ProblemGrafiku += lpSum([TabelaGrafiku[d, p] * Place[p] for d, p in NaglowekGrafiku])\n",
        "# Spełnienie wymogu liczebności obsługi\n",
        "for d in DniTygodnia:\n",
        "    ProblemGrafiku += lpSum([TabelaGrafiku[d, p] for p in Pracownicy]) >= WymogiObslugi[d]\n",
        "# Ograniczenie łącznego czasu pracy\n",
        "for p in Pracownicy:\n",
        "    ProblemGrafiku += lpSum([TabelaGrafiku[d, p] for d in DniTygodnia]) <= LimitCzasuPracy[p]\n",
        "# Uwzględnienie niedostępności pracowników\n",
        "for d, p in NaglowekGrafiku:\n",
        "    ProblemGrafiku += TabelaGrafiku[d, p] <= Dostepnosc[p][d]\n",
        "# Rozwiązanie problemu\n",
        "ProblemGrafiku.solve()\n",
        "# Pokazanie statusu rozwiązania\n",
        "print(LpStatus[ProblemGrafiku.status])\n",
        "# Stworzenie tabeli z zaznaczonym grafikiem\n",
        "RamkaGrafiku = pd.DataFrame([\n",
        "                             [TabelaGrafiku[d, p].value() for d in DniTygodnia]\n",
        "                             for p in Pracownicy],\n",
        "                            index=Pracownicy, columns=DniTygodnia)\n",
        "# Pokazanie grafiku\n",
        "print(RamkaGrafiku)\n",
        "# Zapis grafiku do pliku lokalnego (dopisanie do już istniejącego)\n",
        "with pd.ExcelWriter('SklepGrafikGotowy.xlsx', mode='r') as PlikArkusza:\n",
        "    RamkaGrafiku.to_excel(PlikArkusza, 'Grafik')\n"
      ],
      "execution_count": 7,
      "outputs": [
        {
          "output_type": "stream",
          "text": [
            "Optimal\n",
            "         pn   wt   śr   cz   pt\n",
            "Ania    0.0  0.0  0.0  0.0  1.0\n",
            "Stefan  1.0  0.0  0.0  0.0  0.0\n",
            "Hektor  1.0  1.0  0.0  0.0  0.0\n",
            "Olaf    0.0  0.0  1.0  1.0  1.0\n",
            "Lidia   0.0  0.0  0.0  0.0  1.0\n",
            "Piotr   0.0  0.0  0.0  0.0  0.0\n"
          ],
          "name": "stdout"
        }
      ]
    },
    {
      "cell_type": "markdown",
      "metadata": {
        "id": "r4zaOoQavVC1"
      },
      "source": [
        "#Podsumowanie efektów\n",
        "Zmieniając dane w arkuszu można układać grafik dla dowolnych dni (zamiast pn mogłyby być daty).<br>\n",
        "Wystarczy dodać wiersze z nowymi pracownikami (we wszystkich zakładkach).<br>\n",
        "Wszystkie parametry można zmienić w arkuszu (liczba wymaganych pracowników, ich limity czasu pracy).<br>\n",
        "Wynik generowany jest do arkusza jako nowa zakładka (rozwiązanie skomplikowane) lub do nowego pliku (rozwiązanie proste).<br>\n",
        "<center>Aleksander Piasecki 215321<br>\n",
        "17-19, 24 listopada 2020</center>"
      ]
    }
  ]
}