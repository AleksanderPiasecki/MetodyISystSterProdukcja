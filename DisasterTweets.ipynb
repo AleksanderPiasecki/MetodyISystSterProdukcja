{
  "nbformat": 4,
  "nbformat_minor": 0,
  "metadata": {
    "colab": {
      "name": "DisasterTweets.ipynb",
      "provenance": [],
      "collapsed_sections": [],
      "toc_visible": true,
      "mount_file_id": "1OWVAC4uECj4frCjT_G97EFR1Nm34TPdN",
      "authorship_tag": "ABX9TyM1fwKM+fICSf25GZQHj0la"
    },
    "kernelspec": {
      "display_name": "Python 3",
      "name": "python3"
    }
  },
  "cells": [
    {
      "cell_type": "markdown",
      "metadata": {
        "id": "o0FjYSLcDY4m"
      },
      "source": [
        "#Wykrywanie tweetów o katastrofach\r\n",
        "Projekt ma na celu zakwalifikowanie treści zapisanych w języku naturalnym (po angielsku) wskazujących na katastrofy.<br>\r\n",
        "W treści tweetów pojawiają się często linki, występują błędy (np. interpunkcyjne - przecinek połączony z kolejnym wyrazem, podwójne kropki), wielokrotne znaki (np. \"???\").<br>\r\n",
        "Podana jest również lokalizacja, przy czym często pole to jest puste (około 1/3), a wartości są bardzo unikalne. Występują również nazwy abstrakcyjny: \"Mój dom\", \"Daj mi swoje pieniądze\", \"Gdzieś w USA\", \"Jowisz\", itp.<br>\r\n",
        "Zdarzenia są pogrupowane według pewnych kategorii. W ich nazwach zdarzają się spacje zastąpione \"%20\", a sam podział może się okazać nieprecyzyjny.<br>"
      ]
    },
    {
      "cell_type": "markdown",
      "metadata": {
        "id": "9ClzyjdstdSa"
      },
      "source": [
        "##Opracowanie danych\r\n",
        "[Dane treningowe](https://drive.google.com/file/d/1WN4OOPzSvqRer_iFaiW0mzYD_p7RLk5y/view?usp=sharing)<br>\r\n",
        "[Dane konkursowe (bez odpowiedzi)](https://drive.google.com/file/d/1mQWvcmv-i5Byh742q-gQjlV4ncbIHT4V/view?usp=sharing)<br>\r\n",
        "[Przewidziane odpowiedzi](https://drive.google.com/file/d/1P6urkrkrxQSB2ob6Pka0kQGjmrbMUwXA/view?usp=sharing)"
      ]
    },
    {
      "cell_type": "markdown",
      "metadata": {
        "id": "uIYmHx8x3VNa"
      },
      "source": [
        "###Import danych i funkcji"
      ]
    },
    {
      "cell_type": "code",
      "metadata": {
        "colab": {
          "base_uri": "https://localhost:8080/",
          "height": 196
        },
        "id": "StOaZI7bAiVB",
        "outputId": "b8a6eb5b-824f-4f90-d4cf-5fdd804a8608"
      },
      "source": [
        "import pandas as pd\r\n",
        "\r\n",
        "xAll = pd.read_csv('/content/drive/MyDrive/Colab Notebooks/dataFiles/train_twitterDisaster.csv')\r\n",
        "yAll = xAll['target']\r\n",
        "xAll.index = list(xAll['id'])\r\n",
        "xAll.drop(['target', 'id'], axis=1, inplace=True)\r\n",
        "xAll.head()"
      ],
      "execution_count": 1,
      "outputs": [
        {
          "output_type": "execute_result",
          "data": {
            "text/html": [
              "<div>\n",
              "<style scoped>\n",
              "    .dataframe tbody tr th:only-of-type {\n",
              "        vertical-align: middle;\n",
              "    }\n",
              "\n",
              "    .dataframe tbody tr th {\n",
              "        vertical-align: top;\n",
              "    }\n",
              "\n",
              "    .dataframe thead th {\n",
              "        text-align: right;\n",
              "    }\n",
              "</style>\n",
              "<table border=\"1\" class=\"dataframe\">\n",
              "  <thead>\n",
              "    <tr style=\"text-align: right;\">\n",
              "      <th></th>\n",
              "      <th>keyword</th>\n",
              "      <th>location</th>\n",
              "      <th>text</th>\n",
              "    </tr>\n",
              "  </thead>\n",
              "  <tbody>\n",
              "    <tr>\n",
              "      <th>1</th>\n",
              "      <td>NaN</td>\n",
              "      <td>NaN</td>\n",
              "      <td>Our Deeds are the Reason of this #earthquake M...</td>\n",
              "    </tr>\n",
              "    <tr>\n",
              "      <th>4</th>\n",
              "      <td>NaN</td>\n",
              "      <td>NaN</td>\n",
              "      <td>Forest fire near La Ronge Sask. Canada</td>\n",
              "    </tr>\n",
              "    <tr>\n",
              "      <th>5</th>\n",
              "      <td>NaN</td>\n",
              "      <td>NaN</td>\n",
              "      <td>All residents asked to 'shelter in place' are ...</td>\n",
              "    </tr>\n",
              "    <tr>\n",
              "      <th>6</th>\n",
              "      <td>NaN</td>\n",
              "      <td>NaN</td>\n",
              "      <td>13,000 people receive #wildfires evacuation or...</td>\n",
              "    </tr>\n",
              "    <tr>\n",
              "      <th>7</th>\n",
              "      <td>NaN</td>\n",
              "      <td>NaN</td>\n",
              "      <td>Just got sent this photo from Ruby #Alaska as ...</td>\n",
              "    </tr>\n",
              "  </tbody>\n",
              "</table>\n",
              "</div>"
            ],
            "text/plain": [
              "  keyword location                                               text\n",
              "1     NaN      NaN  Our Deeds are the Reason of this #earthquake M...\n",
              "4     NaN      NaN             Forest fire near La Ronge Sask. Canada\n",
              "5     NaN      NaN  All residents asked to 'shelter in place' are ...\n",
              "6     NaN      NaN  13,000 people receive #wildfires evacuation or...\n",
              "7     NaN      NaN  Just got sent this photo from Ruby #Alaska as ..."
            ]
          },
          "metadata": {
            "tags": []
          },
          "execution_count": 1
        }
      ]
    },
    {
      "cell_type": "code",
      "metadata": {
        "id": "joKnSvPwCmqz"
      },
      "source": [
        "from sklearn.metrics import mean_absolute_error\r\n",
        "from sklearn.model_selection import train_test_split\r\n",
        "from sklearn.tree import DecisionTreeRegressor\r\n",
        "from sklearn.ensemble import RandomForestRegressor\r\n",
        "from sklearn.model_selection import RandomizedSearchCV\r\n",
        "\r\n",
        "import numpy as np\r\n",
        "import matplotlib.pyplot as plt\r\n",
        "%matplotlib inline\r\n",
        "\r\n",
        "# Split into validation and training data\r\n",
        "xTrain, xValid, yTrain, yValid = train_test_split(xAll, yAll, random_state=1, train_size=0.8, test_size=0.2)\r\n",
        "\r\n",
        "def GetAccuracy(yPredict, yValid):\r\n",
        "  correct = [yv for yp, yv in zip(yPredict, yValid) if yp == yv]\r\n",
        "  accuracy = len(correct) / len(yValid)\r\n",
        "  return accuracy * 100"
      ],
      "execution_count": 2,
      "outputs": []
    },
    {
      "cell_type": "markdown",
      "metadata": {
        "id": "7LJoQMR03fGJ"
      },
      "source": [
        "###Kategoryzacja tekstu"
      ]
    },
    {
      "cell_type": "code",
      "metadata": {
        "id": "waEAEi4NPGvk"
      },
      "source": [
        "import string\r\n",
        "SpecialWordTranslator = { 'http://': 'is-link',\r\n",
        "                         'https://': 'is-link',\r\n",
        "                         'www.': 'is-link',\r\n",
        "                         '.com': 'is-link',\r\n",
        "                         '?': 'is-question',\r\n",
        "                         '!': 'is-emotional',\r\n",
        "                         '...': 'is-too_long',\r\n",
        "                         '@': 'is-mention',\r\n",
        "                         '#': 'is-hashtag',\r\n",
        "                         ':': 'is-many_args'\r\n",
        "                         }\r\n",
        "\r\n",
        "# DESCRIPTION:\r\n",
        "#   Find all names of categories in given translator.\r\n",
        "# PARAM @catTranslator:\r\n",
        "#   Dictionary translating constructions in words to categories.\r\n",
        "#   Defines names of the categories in its values.\r\n",
        "# RETURNS:\r\n",
        "#   List of categories names (unique).\r\n",
        "def GetCategoriesNames(catTranslator):\r\n",
        "  return list(set(catTranslator.values()))\r\n",
        "\r\n",
        "# DESCRIPTION:\r\n",
        "#   Gives counter dictionary prepared to assining words into given categories.\r\n",
        "# PARAM @catTranslator:\r\n",
        "#   Dictionary translating constructions in words to categories.\r\n",
        "#   Defines names of the categories in its values.\r\n",
        "# RETURNS:\r\n",
        "#   Dictionary with zeros assigned to categories names.\r\n",
        "def InitCategoriesCounter(catTranslator):\r\n",
        "  keys = GetCategoriesNames(catTranslator)\r\n",
        "  catCounter = {}\r\n",
        "  for k in keys:\r\n",
        "    catCounter[k] = 0\r\n",
        "  return catCounter\r\n",
        "\r\n",
        "# DESCRIPTION:\r\n",
        "#   Checks whether given word is in categories.\r\n",
        "# PARAM @word:\r\n",
        "#   Word to be checked.\r\n",
        "# PARAM @catTranslator:\r\n",
        "#   Translator specifying categories filters.\r\n",
        "# RETURNS:\r\n",
        "#   Set of detected categories (names)\r\n",
        "def CheckCategories(word, catTranslator):\r\n",
        "  specialCheck = set()\r\n",
        "  for specialWordId in catTranslator.keys():\r\n",
        "    if specialWordId in word:\r\n",
        "      specialCheck.add(catTranslator[specialWordId])\r\n",
        "  if 'is-link' in specialCheck:\r\n",
        "    specialCheck = { 'is-link' }\r\n",
        "  return specialCheck\r\n",
        "\r\n",
        "# DESCRIPTION:\r\n",
        "#   Counts given words. Value assigned to each word form @words in @dictionary\r\n",
        "#   is incremented or if undefined, new item is created (word, 1).\r\n",
        "#   Aggregate-type keys (@catTranslator values) are ONLY incremented\r\n",
        "#   (aren't created, must already exist in dictionary).\r\n",
        "#   After aggregation, puntuation characters are removed. Link-types\r\n",
        "#   are totally ommitted in words and other categories counters.\r\n",
        "# PARAM @words:\r\n",
        "#   List of strings, that would be counted in @dictionary.\r\n",
        "# PARAM @dictionary:\r\n",
        "#   Counter dictionary, must have at least keys from @specialWord.\r\n",
        "# PARAM @catTranslator:\r\n",
        "#   Dictionary translating assigning constructions in words to categories.\r\n",
        "#   Defines names of the categories in its values.\r\n",
        "# RETURNS:\r\n",
        "#   None - @dictionary is changed.\r\n",
        "def StatAddWordsToDict(words, dictionary, catTranslator):\r\n",
        "  for word in words:\r\n",
        "    word = word.lower()\r\n",
        "    specialCheck = set()\r\n",
        "    for specialWordId in catTranslator.keys():\r\n",
        "      if specialWordId in word:\r\n",
        "        specialCheck.add(catTranslator[specialWordId])\r\n",
        "    if 'is-link' in specialCheck:\r\n",
        "      dictionary['is-link'] += 1\r\n",
        "    else:\r\n",
        "      for sp in specialCheck:\r\n",
        "        dictionary[sp] += 1\r\n",
        "      for p in string.punctuation:\r\n",
        "        word = word.replace(p, '')\r\n",
        "      if word in dictionary.keys():\r\n",
        "        dictionary[word] += 1\r\n",
        "      elif not word == '':\r\n",
        "        dictionary[word] = 1\r\n",
        "\r\n",
        "# DESCRIPTION:\r\n",
        "#   Subtracts occurances in given dictionaries. Missing elements\r\n",
        "#   in other dictionary are replaced with 0.\r\n",
        "# PARAM @dictionary1:\r\n",
        "#   Dictionary from which values will be substracted.\r\n",
        "#   Remains unchanged by this function.\r\n",
        "# PARAM @dictionary2:\r\n",
        "#   Dictionary which values will be subtracted from @dictionary1.\r\n",
        "#   Remains unchanged by this function.\r\n",
        "# RETURNS:\r\n",
        "#   Dictionary of subtracted values from @dictionary1 and @dictionary2 by keys.\r\n",
        "def GetDifferenceOfDicts(dictionary1, dictionary2):\r\n",
        "  set1 = set(dictionary1)\r\n",
        "  set2 = set(dictionary2)\r\n",
        "  allWords = set1 | set2\r\n",
        "  commonWords =  set1 & set2\r\n",
        "  result = {}\r\n",
        "  for word in allWords:\r\n",
        "    if word in commonWords:\r\n",
        "      result[word] = dictionary1[word] - dictionary2[word]\r\n",
        "    elif word in set2:\r\n",
        "      result[word] = -dictionary2[word]\r\n",
        "    else:\r\n",
        "      result[word] = dictionary1[word]\r\n",
        "  return result\r\n",
        "\r\n",
        "# DESCRIPTION:\r\n",
        "#   Counts occurances of each word in both dictionaries.\r\n",
        "# PARAM @dictionary1:\r\n",
        "#   Dictionary with values.\r\n",
        "#   Remains unchanged by this function.\r\n",
        "# PARAM @dictionary2:\r\n",
        "#   Dictionary with values.\r\n",
        "#   Remains unchanged by this function.\r\n",
        "# RETURNS:\r\n",
        "#   Dictionary of sum of values by keys.\r\n",
        "def GetSumOfDicts(dictionary1, dictionary2):\r\n",
        "  set1 = set(dictionary1)\r\n",
        "  set2 = set(dictionary2)\r\n",
        "  allWords = set1 | set2\r\n",
        "  commonWords = set1 & set2\r\n",
        "  result = {}\r\n",
        "  for word in allWords:\r\n",
        "    if word in commonWords:\r\n",
        "      result[word] = dictionary1[word] + dictionary2[word]\r\n",
        "    elif word in set2:\r\n",
        "      result[word] = dictionary2[word]\r\n",
        "    else:\r\n",
        "      result[word] = dictionary1[word]\r\n",
        "  return result\r\n",
        "\r\n",
        "# DESCRIPTION:\r\n",
        "#   Returns possibility of being part of given dictionary for all words.\r\n",
        "#   Possibility is counted as difference between occurances divided by\r\n",
        "#   frequency referenced to most common word in chosen dictionary.\r\n",
        "# PARAM @dictionary1:\r\n",
        "#   Dictionary from which values will be substracted.\r\n",
        "#   Remains unchanged by this function.\r\n",
        "# PARAM @dictionary2:\r\n",
        "#   Dictionary which values will be subtracted from @dictionary1.\r\n",
        "#   Remains unchanged by this function.\r\n",
        "# RETURNS:\r\n",
        "#   Floating point number, positive when assignment to @dictionary1 and\r\n",
        "#   negative when assignment to @dictionary2.\r\n",
        "def GetPossibilityOfDicts(dictionary1, dictionary2):\r\n",
        "  diff = GetDifferenceOfDicts(dictionary1, dictionary2)\r\n",
        "  sum = GetSumOfDicts(dictionary1, dictionary2)\r\n",
        "  maxFreqD1 = max(diff.values())\r\n",
        "  maxFreqD2 = abs(min(diff.values()))\r\n",
        "  result = {}\r\n",
        "  for k in diff.keys():\r\n",
        "    if (diff[k] > 0):\r\n",
        "      result[k] = diff[k] / maxFreqD1\r\n",
        "    else:\r\n",
        "      result[k] = diff[k] / maxFreqD2  \r\n",
        "  return result\r\n",
        "\r\n",
        "# DESCRIPTION:\r\n",
        "#   Returns relative possibility of being part of given dictionary for all words.\r\n",
        "#   Possibility is counted as difference between occurances divided by\r\n",
        "#   frequency referenced to its occurances.\r\n",
        "# PARAM @dictionary1:\r\n",
        "#   Dictionary from which values will be substracted.\r\n",
        "#   Remains unchanged by this function.\r\n",
        "# PARAM @dictionary2:\r\n",
        "#   Dictionary which values will be subtracted from @dictionary1.\r\n",
        "#   Remains unchanged by this function.\r\n",
        "# RETURNS:\r\n",
        "#   Floating point number, positive when assignment to @dictionary1 and\r\n",
        "#   negative when assignment to @dictionary2.\r\n",
        "def GetRelativePossibilityOfDicts(dictionary1, dictionary2):\r\n",
        "  diff = GetDifferenceOfDicts(dictionary1, dictionary2)\r\n",
        "  sum = GetSumOfDicts(dictionary1, dictionary2)\r\n",
        "  result = {}\r\n",
        "  for k in diff.keys():\r\n",
        "    if (sum[k] == 0):\r\n",
        "      result[k] = 0\r\n",
        "    else:\r\n",
        "      result[k] = diff[k] / sum[k]\r\n",
        "  return result\r\n",
        "\r\n",
        "# DESCRIPTION:\r\n",
        "#   Splits dictionary to categories (aggregate of features)\r\n",
        "#   and words (rest of dictionary).\r\n",
        "# PARAM @dictionary:\r\n",
        "#   Dictionary with mixed categories and words.\r\n",
        "#   Remains unchanged by this function.\r\n",
        "# PARAM @catTranslator:\r\n",
        "#   Dictionary translating constructions in words to categories.\r\n",
        "#   Defines names of the categories in its values.\r\n",
        "# RETURNS #1:\r\n",
        "#   Categories dictionary.\r\n",
        "# RETURNS #2:\r\n",
        "#   Only-words dictionary.\r\n",
        "def SplitDictToCategoriesAndWords(dictionary, catTranslator):\r\n",
        "  categories = {}\r\n",
        "  words = dictionary.copy()\r\n",
        "  for c in GetCategoriesNames(catTranslator):\r\n",
        "    categories[c] = dictionary[c]\r\n",
        "    del words[c]\r\n",
        "  return categories, words"
      ],
      "execution_count": 3,
      "outputs": []
    },
    {
      "cell_type": "markdown",
      "metadata": {
        "id": "wDM8FD5F56sy"
      },
      "source": [
        "W przypadku funkcji prawdopodobieństwa należenia do słownika dzielenie przez sumę wystąpień danego słowa prowadziła do najlepszych wyników słów występujących jednorazowo. W rzeczywistości nie są to najlepsze dopasowania, tylko rzadko występujące w tym kontekście słowa. W celu eliminacji tego błędu dzielenie następuje przez liczbę wystąpień najczęstszego słowa (odniesienie wszystkich wyników do jednej wartości arbitralnej).<br>"
      ]
    },
    {
      "cell_type": "code",
      "metadata": {
        "colab": {
          "base_uri": "https://localhost:8080/"
        },
        "id": "X7n5r4NUqwxZ",
        "outputId": "96196aea-9d7f-4e84-cec5-28c00c892b2c"
      },
      "source": [
        "disasterWords = InitCategoriesCounter(SpecialWordTranslator)\r\n",
        "fakeWords = InitCategoriesCounter(SpecialWordTranslator)\r\n",
        "\r\n",
        "for tweet, isDisaster in zip(xAll['text'], yAll):\r\n",
        "    if isDisaster == 0:\r\n",
        "      StatAddWordsToDict(tweet.split(), fakeWords, SpecialWordTranslator)\r\n",
        "    else:\r\n",
        "      StatAddWordsToDict(tweet.split(), disasterWords, SpecialWordTranslator)\r\n",
        "\r\n",
        "disasterCats, disasterWords = SplitDictToCategoriesAndWords(disasterWords,\r\n",
        "                                                            SpecialWordTranslator)\r\n",
        "fakeCats, fakeWords = SplitDictToCategoriesAndWords(fakeWords,\r\n",
        "                                                    SpecialWordTranslator)\r\n",
        "\r\n",
        "print('Najczęstsze fałszywe alarmy: ')\r\n",
        "dataShow = sorted(fakeWords.items(), key=lambda k: k[1], reverse=True)[:15]\r\n",
        "for d in dataShow:\r\n",
        "  print('\"{}\": {} razy.'.format(d[0], d[1]))\r\n",
        "\r\n",
        "print('')\r\n",
        "print('Najczęstsze prawdziwe katastrofy: ')\r\n",
        "dataShow = sorted(disasterWords.items(), key=lambda k: k[1], reverse=True)[:15]\r\n",
        "for d in dataShow:\r\n",
        "  print('\"{}\": {} razy.'.format(d[0], d[1]))\r\n",
        "\r\n",
        "print('')\r\n",
        "print('Różnica wskazań fałszywych i prawdziwych: ')\r\n",
        "dataShow = sorted(GetDifferenceOfDicts(disasterWords, fakeWords).items(),\r\n",
        "                  key=lambda k: k[1], reverse=True)[:15]\r\n",
        "for d in dataShow:\r\n",
        "  print('\"{}\": {} razy.'.format(d[0], d[1]))\r\n",
        "\r\n",
        "print('')\r\n",
        "print('Prawdopodobieństwa katastrofy: ')\r\n",
        "dataShow = sorted(GetPossibilityOfDicts(disasterWords, fakeWords).items(),\r\n",
        "                  key=lambda k: k[1], reverse=True)[:15]\r\n",
        "for d in dataShow:\r\n",
        "  print('\"{}\": {:.2f}%.'.format(d[0], d[1] * 100))\r\n",
        "\r\n",
        "dataShow = sorted(GetPossibilityOfDicts(disasterWords, fakeWords).items(),\r\n",
        "                  key=lambda k: k[1], reverse=False)[:15]\r\n",
        "for d in dataShow:\r\n",
        "  print('\"{}\": {:.2f}%.'.format(d[0], d[1] * 100))\r\n",
        "\r\n",
        "print('')\r\n",
        "print('Prawdopodobieństwo katastrofy w kategoriach: ')\r\n",
        "dataShow = sorted(GetRelativePossibilityOfDicts(disasterCats, fakeCats).items(),\r\n",
        "                  key=lambda k: k[1], reverse=True)\r\n",
        "for d in dataShow:\r\n",
        "  print('\"{}\": {:.2f}%.'.format(d[0], d[1] * 100))"
      ],
      "execution_count": 4,
      "outputs": [
        {
          "output_type": "stream",
          "text": [
            "Najczęstsze fałszywe alarmy: \n",
            "\"the\": 1905 razy.\n",
            "\"a\": 1252 razy.\n",
            "\"to\": 1188 razy.\n",
            "\"i\": 1076 razy.\n",
            "\"and\": 917 razy.\n",
            "\"of\": 901 razy.\n",
            "\"in\": 818 razy.\n",
            "\"you\": 664 razy.\n",
            "\"is\": 595 razy.\n",
            "\"my\": 544 razy.\n",
            "\"for\": 491 razy.\n",
            "\"on\": 436 razy.\n",
            "\"it\": 391 razy.\n",
            "\"with\": 380 razy.\n",
            "\"that\": 376 razy.\n",
            "\n",
            "Najczęstsze prawdziwe katastrofy: \n",
            "\"the\": 1357 razy.\n",
            "\"in\": 1159 razy.\n",
            "\"a\": 924 razy.\n",
            "\"of\": 922 razy.\n",
            "\"to\": 757 razy.\n",
            "\"and\": 501 razy.\n",
            "\"on\": 417 razy.\n",
            "\"for\": 399 razy.\n",
            "\"is\": 349 razy.\n",
            "\"at\": 305 razy.\n",
            "\"i\": 294 razy.\n",
            "\"by\": 275 razy.\n",
            "\"from\": 244 razy.\n",
            "\"with\": 192 razy.\n",
            "\"that\": 185 razy.\n",
            "\n",
            "Różnica wskazań fałszywych i prawdziwych: \n",
            "\"in\": 341 razy.\n",
            "\"fire\": 106 razy.\n",
            "\"california\": 105 razy.\n",
            "\"suicide\": 104 razy.\n",
            "\"after\": 104 razy.\n",
            "\"killed\": 90 razy.\n",
            "\"hiroshima\": 85 razy.\n",
            "\"disaster\": 82 razy.\n",
            "\"news\": 79 razy.\n",
            "\"families\": 74 razy.\n",
            "\"police\": 74 razy.\n",
            "\"were\": 72 razy.\n",
            "\"mh370\": 71 razy.\n",
            "\"at\": 71 razy.\n",
            "\"fires\": 68 razy.\n",
            "\n",
            "Prawdopodobieństwa katastrofy: \n",
            "\"in\": 100.00%.\n",
            "\"fire\": 31.09%.\n",
            "\"california\": 30.79%.\n",
            "\"suicide\": 30.50%.\n",
            "\"after\": 30.50%.\n",
            "\"killed\": 26.39%.\n",
            "\"hiroshima\": 24.93%.\n",
            "\"disaster\": 24.05%.\n",
            "\"news\": 23.17%.\n",
            "\"families\": 21.70%.\n",
            "\"police\": 21.70%.\n",
            "\"were\": 21.11%.\n",
            "\"mh370\": 20.82%.\n",
            "\"at\": 20.82%.\n",
            "\"fires\": 19.94%.\n",
            "\"i\": -100.00%.\n",
            "\"the\": -70.08%.\n",
            "\"you\": -68.41%.\n",
            "\"to\": -55.12%.\n",
            "\"and\": -53.20%.\n",
            "\"my\": -52.81%.\n",
            "\"a\": -41.94%.\n",
            "\"is\": -31.46%.\n",
            "\"it\": -27.49%.\n",
            "\"me\": -25.06%.\n",
            "\"that\": -24.42%.\n",
            "\"with\": -24.04%.\n",
            "\"im\": -23.91%.\n",
            "\"be\": -22.12%.\n",
            "\"your\": -21.61%.\n",
            "\n",
            "Prawdopodobieństwo katastrofy w kategoriach: \n",
            "\"is-too_long\": 20.58%.\n",
            "\"is-many_args\": 19.10%.\n",
            "\"is-link\": 6.69%.\n",
            "\"is-hashtag\": 0.12%.\n",
            "\"is-mention\": -34.47%.\n",
            "\"is-question\": -43.41%.\n",
            "\"is-emotional\": -43.95%.\n"
          ],
          "name": "stdout"
        }
      ]
    },
    {
      "cell_type": "markdown",
      "metadata": {
        "id": "mo6uDt_Lr0cA"
      },
      "source": [
        "W obserwowanych wynikach widoczne jest częste występowanie przyimków, jednak często w obu grupach z podobną częstotliwością. Wyjątkiem okazał się wyraz 'in'.<br>\r\n",
        "Zauważalne jest również, że podmiot mówiący o sobie (\"I\", \"I'm\", \"me\") lub o (do) innych (\"You\", \"Your\", \"It\", \"That\") wskazuje na brak katastrofy dużo częściej (1076) niż na jej istnienie (np. \"I\" 1076 nie, 294 tak).<br>\r\n",
        "Po obliczeniu różnicy częstotliwości występowania, najwyższe wartości mają słowa takie, jak samobójstwo, policja, rodziny [ofiar - przyp.], ogień lub pożar, nazwy miejsc (hiroshima), odniesienie do przeszłości (\"were\"). Pojawiło się również tajemnicze słowo MH370, które oznacza [po sprawdzeniu w internecie] numer lotu Malysia Airlines, który zaginął.<br>\r\n",
        "Z punktu widzenia kategorii okazuje się, że używanie znaków zapytania lub wspominanie o kimś zdecydowanie częściej wiąże się z brakiem katastrofy."
      ]
    },
    {
      "cell_type": "code",
      "metadata": {
        "colab": {
          "base_uri": "https://localhost:8080/"
        },
        "id": "7kYpDDpNwz1s",
        "outputId": "02ac65bd-10b2-4400-f411-75cef823078e"
      },
      "source": [
        "# DESCRIPTION:\r\n",
        "#   Creates translator keywords->numbers. Only strings can be translated -\r\n",
        "#   other types are rejected. Keywords are splitted if possible.\r\n",
        "# PARAM @keywords:\r\n",
        "#   Keywords list assigned to @y.\r\n",
        "# PARAM @y:\r\n",
        "#   Is-or-not disaster list.\r\n",
        "# RETURNS:\r\n",
        "#   Dictionary of keywords sorted to most possible disaster keyword.\r\n",
        "def GetKeywordTranslator(keywords, y):\r\n",
        "  uniqueKeywords = set(keywords)\r\n",
        "  tmpUKWSet = uniqueKeywords.copy()\r\n",
        "  # remove non-string keywords\r\n",
        "  for ukw in tmpUKWSet:\r\n",
        "    if (not type(ukw) == str):\r\n",
        "      uniqueKeywords.remove(ukw)\r\n",
        "  # list of only disaster keywords\r\n",
        "  disasterKeywords = [kw for kw, chck in zip(keywords, y) if chck == 1]\r\n",
        "  # list of all keywords\r\n",
        "  keywordsList = list(keywords)\r\n",
        "  # list of structures for every word splitted from keyword\r\n",
        "  keywordsFreq = []\r\n",
        "  for ukw in uniqueKeywords:\r\n",
        "    for w in ukw.split('%20'):\r\n",
        "      # splitted word structure\r\n",
        "      keywordsFreq.append({ 'word': w,\r\n",
        "                           'disFreq': disasterKeywords.count(ukw),\r\n",
        "                           'allFreq': keywordsList.count(ukw),\r\n",
        "                           'del': False})\r\n",
        "  # list of all words with frequency summed with all occurences in other keywords\r\n",
        "  keywordsFreqAggregate = []\r\n",
        "  for wleft in keywordsFreq:\r\n",
        "    aggregate = wleft.copy()\r\n",
        "    for wright in keywordsFreq:\r\n",
        "      # second part prevents from removing all occurances of repeating word\r\n",
        "      # (only first instance can kill others)\r\n",
        "      if (not wleft == wright and\r\n",
        "         not (wleft['del'] == 1 and wleft['word'] == wright['word'])):\r\n",
        "        if wleft['word'] in wright['word']:\r\n",
        "          # aggregate is incremented to prevent changing value of original\r\n",
        "          # arguments during counting\r\n",
        "          aggregate['disFreq'] += wright['disFreq']\r\n",
        "          aggregate['allFreq'] += wright['allFreq']\r\n",
        "          # right word is bigger or same in size,\r\n",
        "          # so smaller one will inherit its value\r\n",
        "          wright['del'] = 1\r\n",
        "    keywordsFreqAggregate.append(aggregate)\r\n",
        "  # list of words that aren't parts of other words\r\n",
        "  keywordsFreqUnique = []\r\n",
        "  for kwfagg, kwf in zip(keywordsFreqAggregate, keywordsFreq):\r\n",
        "    if (kwf['del'] == 0):\r\n",
        "      keywordsFreqUnique.append((kwfagg['word'],\r\n",
        "                                kwfagg['disFreq'] / kwfagg['allFreq']))\r\n",
        "  # finding neutral value\r\n",
        "  defaultVal = sum([kwf[1] for kwf in keywordsFreqUnique]) / len(keywordsFreqUnique)\r\n",
        "  keywordsFreqUnique.append(('DEFAULT', defaultVal))\r\n",
        "  # list is sorted to be ready to enumerate words in order of possibility of disaster\r\n",
        "  evals = sorted(\r\n",
        "      keywordsFreqUnique,\r\n",
        "      key=lambda k: k[1],\r\n",
        "      reverse=False)\r\n",
        "  result = {ukwTuple[0]: i for i, ukwTuple in enumerate(evals)}\r\n",
        "  return result\r\n",
        "\r\n",
        "print('Kategorie mało związane z katastrofami:')\r\n",
        "print(list(GetKeywordTranslator(xTrain['keyword'], yTrain))[:5])\r\n",
        "print('Kategorie najbardziej związane z tragediami:')\r\n",
        "print(list(GetKeywordTranslator(xTrain['keyword'], yTrain))[-5:])"
      ],
      "execution_count": 5,
      "outputs": [
        {
          "output_type": "stream",
          "text": [
            "Kategorie mało związane z katastrofami:\n",
            "['aftershock', 'ruin', 'blazing', 'body', 'bag']\n",
            "Kategorie najbardziej związane z tragediami:\n",
            "['suicide', 'outbreak', 'oil', 'spill', 'debris']\n"
          ],
          "name": "stdout"
        }
      ]
    },
    {
      "cell_type": "markdown",
      "metadata": {
        "id": "nAhPOihho-HA"
      },
      "source": [
        "Przekształcenie słowa kluczowego na wartość bazuje na procencie katastrof w danej kategorii. Jako dane wejściowe pojawiają się nazwy kategorii (część wielowyrazowa, oddzielona zakodowaną jako \"%20\" spacją). Niektóre kategorie mają zbliżoną nazwę, dlatego analizowane są pojedyncze wyrazy<br>\r\n",
        "Algorytm działa następująco:\r\n",
        "1. Zliczenie wystąpień wszystkich haseł (nierozdzielonych).\r\n",
        "2. Rozbicie haseł na wyrazy i przypisanie im wartości od hasła, z którego pochodzą.\r\n",
        "3. Wszystkie słowa otrzymują wartość równą sumie wystąpień w innych wyrażeniach. Oznacza to, że owe wyrażenia są pochodną słowa i zostają oznaczone jako \"do usunięcia\" (pozostaną tylko słowa pierwotne).\r\n",
        "4. Filtrowane są słowa pierwotne (nieoznaczone jako \"do usunięcia\").\r\n",
        "5. Dla każdego słowa pierwotnego przydzielane jest prawdopodibieństwo katastrofy (suma wystąpień w katastrofach dzielona przez sumę wszystkich wystąpień).\r\n",
        "6. Posortowane pod względem prawdopodobieństwa hasła dostają przydzielone identyfikatory liczbowe (wyliczenie), gdzie 0 oznacza najmniejszą szansę.\r\n",
        "\r\n",
        "Przykład:<br>\r\n",
        "\r\n",
        "| Hasło | Wartość |\r\n",
        "|-------|---------|\r\n",
        "| \"**bomb**s\" | 0000 0001 |\r\n",
        "| \"**bomb** **explosion**\" | 0000 0010 |\r\n",
        "| \"**bomb**er\" | 0000 0100 |\r\n",
        "| \"**bomb**er **attack**\" | 0000 1000 |\r\n",
        "| \"**terror**ist **attack**\" | 0001 0000 |\r\n",
        "| \"**gas** **explosion**\" | 0010 0000 |\r\n",
        "| \"**terror**\"| 0100 0000 |\r\n",
        "\r\n",
        "Są grupowane do:\r\n",
        "\r\n",
        "| Słowo | Wartość |\r\n",
        "|-------|---------|\r\n",
        "| \"bomb\" | 0000 1111 |\r\n",
        "| \"explosion\" | 0010 0010 |\r\n",
        "| \"gas\" | 0010 0000 |\r\n",
        "| \"terror\" | 0101 0000 |\r\n",
        "| \"attack\" | 0001 1000 |\r\n",
        "\r\n",
        "Jest to wizualizacja. W obliczeniach każde hasło ma wartość wskazanych katastrof i sumę wystąpień. Działanie to eliminuje również regularną liczbę mnogą dzięki czemu np. \"bomb\" i \"bombs\" są łączone do \"bomb\". Problem mógłby wystąpić, gdyby kategorie zostały błędnie przypisane, np. słowo kluczowe \"a\" wchłonęłoby wiele innych słów kluczowych, podobnie z parą \"set\" \"reset\" o przeciwstanym znaczeniu."
      ]
    },
    {
      "cell_type": "markdown",
      "metadata": {
        "id": "409XZ-bh3_dy"
      },
      "source": [
        "###Ewaluacja"
      ]
    },
    {
      "cell_type": "code",
      "metadata": {
        "id": "F7PCFbXnEznw"
      },
      "source": [
        "# DESCRIPTION:\r\n",
        "#   Creates all dictionaries necessary to change text into numbers.\r\n",
        "# PARAM @x:\r\n",
        "#   Input data.\r\n",
        "# PARAM @y:\r\n",
        "#   Correct output result.\r\n",
        "# PARAM @catTranslator:\r\n",
        "#   Dictionary translating constructions in words to categories.\r\n",
        "#   Defines names of the categories in its values.\r\n",
        "# RETURNS #1:\r\n",
        "#   Dictionary of each word values.\r\n",
        "# RETURNS #2:\r\n",
        "#   Dictionary of categories number.\r\n",
        "# RETURNS #3:\r\n",
        "#   Dictionary of keywords.\r\n",
        "def GetEvaluators(x, y, catTranslator):\r\n",
        "  fakeWords = InitCategoriesCounter(catTranslator)\r\n",
        "  disasterWords = InitCategoriesCounter(catTranslator)\r\n",
        "  for tweet, isDisaster in zip(x['text'], y):\r\n",
        "    if isDisaster == 0:\r\n",
        "      StatAddWordsToDict(tweet.split(), fakeWords, catTranslator)\r\n",
        "    else:\r\n",
        "      StatAddWordsToDict(tweet.split(), disasterWords, catTranslator)\r\n",
        "  disasterCats, disasterWords = SplitDictToCategoriesAndWords(disasterWords,\r\n",
        "                                                              catTranslator)\r\n",
        "  fakeCats, fakeWords = SplitDictToCategoriesAndWords(fakeWords,\r\n",
        "                                                      catTranslator)\r\n",
        "  chanceOfWords = GetPossibilityOfDicts(disasterWords, fakeWords)\r\n",
        "  chanceOfCats = GetDifferenceOfDicts(disasterCats, fakeCats)\r\n",
        "  chanceOfCats = dict(sorted(chanceOfCats.items(), key=lambda k: k[1], reverse=True))\r\n",
        "  catCodes = {}\r\n",
        "  for n, cat in enumerate(chanceOfCats):\r\n",
        "    catCodes[cat] = n\r\n",
        "  keywordTranslator = GetKeywordTranslator(x['keyword'], y)\r\n",
        "  return chanceOfWords, catCodes, keywordTranslator\r\n",
        "\r\n",
        "# DESCRIPTION:\r\n",
        "#   Translates text to likeliness of being about disaster. \r\n",
        "# PARAM @tweet:\r\n",
        "#   Text of tweet.\r\n",
        "# PARAM @wordsEvaluator:\r\n",
        "#   Dictionary with values assigned to words.\r\n",
        "# PARAM @catTranslator:\r\n",
        "#   Dictionary translating constructions in words to categories.\r\n",
        "#   Defines names of the categories in its values.\r\n",
        "# RETURNS:\r\n",
        "#   Sum of words replaced due to given dictionary.\r\n",
        "def EvaluateTweetText(tweet, wordsEvaluator, catTranslator):\r\n",
        "  eval = InitCategoriesCounter(catTranslator)\r\n",
        "  StatAddWordsToDict(tweet.split(), eval, catTranslator)\r\n",
        "  _, eval = SplitDictToCategoriesAndWords(eval, catTranslator)\r\n",
        "  numEval = 0\r\n",
        "  for i in eval.items():\r\n",
        "    if i[0] in wordsEvaluator.keys():\r\n",
        "      numEval += wordsEvaluator[i[0]] * i[1]\r\n",
        "  return numEval\r\n",
        "\r\n",
        "# DESCRIPTION:\r\n",
        "#   Translates texts to list of likeliness of being about disaster. \r\n",
        "# PARAM @tweets:\r\n",
        "#   List of text of tweets.\r\n",
        "# PARAM @wordsEvaluator:\r\n",
        "#   Dictionary with values assigned to words.\r\n",
        "# PARAM @catTranslator:\r\n",
        "#   Dictionary translating constructions in words to categories.\r\n",
        "#   Defines names of the categories in its values.\r\n",
        "# RETURNS:\r\n",
        "#   List of sum of words replaced due to given dictionary in each text.\r\n",
        "def EvaluateTweetsText(tweets, wordsEvaluator, catTranslator):\r\n",
        "  return [EvaluateTweetText(t, wordsEvaluator, catTranslator) for t in tweets]\r\n",
        "\r\n",
        "# DESCRIPTION:\r\n",
        "#   Groups words by categories specified in @specialWordTranslator. \r\n",
        "# PARAM @tweet:\r\n",
        "#   Text of tweet.\r\n",
        "# PARAM @catTranslator:\r\n",
        "#   Dictionary translating constructions in words to categories.\r\n",
        "#   Defines names of the categories in its values.\r\n",
        "# RETURNS:\r\n",
        "#   List of counted special words in each category.\r\n",
        "def AssignCategoriesToTweet(tweet, catTranslator):\r\n",
        "  eval = InitCategoriesCounter(catTranslator)\r\n",
        "  StatAddWordsToDict(tweet.split(), eval, catTranslator)\r\n",
        "  return [eval[cat] for cat in GetCategoriesNames(catTranslator)]\r\n",
        "\r\n",
        "# DESCRIPTION:\r\n",
        "#   Groups words of each tweet by categories specified in @specialWordTranslator. \r\n",
        "# PARAM @tweets:\r\n",
        "#   List of text of tweets.\r\n",
        "# PARAM @catTranslator:\r\n",
        "#   Dictionary translating constructions in words to categories.\r\n",
        "#   Defines names of the categories in its values.\r\n",
        "# RETURNS:\r\n",
        "#   List of lists with counted special words in each category for each tweet.\r\n",
        "def AssignCategoriesToTweets(tweets, catTranslator):\r\n",
        "  return [AssignCategoriesToTweet(t, catTranslator) for t in tweets]\r\n",
        "\r\n",
        "def GetBestKeywordValue(keyword, evaluator):\r\n",
        "  results = []\r\n",
        "  #defaultResult = len(evaluator) / 2\r\n",
        "  defaultResult = evaluator['DEFAULT']\r\n",
        "  # only string-type keyword are allowed\r\n",
        "  if type(keyword) == str:\r\n",
        "    # known words\r\n",
        "    for kw in evaluator:\r\n",
        "      # chcecked words\r\n",
        "      for part in keyword.split('%20'):\r\n",
        "        # each word splitted from keyword (@part) in known words @kw or\r\n",
        "        # already splitted @kw in whole keyword\r\n",
        "        if (part in kw or kw in keyword):\r\n",
        "          results.append(evaluator[kw])\r\n",
        "  # empty list - default result (median of evaluator)\r\n",
        "  if (not results):\r\n",
        "    result = defaultResult\r\n",
        "  # list contains results - max of them\r\n",
        "  else:\r\n",
        "    result = max(results)\r\n",
        "  return result\r\n",
        "\r\n",
        "def EvaluateKeywords(keywords, evaluator):\r\n",
        "  return [GetBestKeywordValue(kw, evaluator) for kw in keywords]\r\n",
        "\r\n",
        "def EvaluateLocation(location, selectedCategoriesTranslator):\r\n",
        "  if type(location) == str and len(location) > 0:\r\n",
        "    result = len(CheckCategories(location, selectedCategoriesTranslator))\r\n",
        "  else:\r\n",
        "    result = 0\r\n",
        "  return result\r\n",
        "\r\n",
        "def EvaluateLocations(locations, catName, catTranslator):\r\n",
        "  selectedCategories = [i for i in catTranslator.items() if i[1] == catName]\r\n",
        "  translator = dict(selectedCategories)\r\n",
        "  result = [EvaluateLocation(loc, translator) if type(loc) == str else 0\r\n",
        "            for loc in locations]\r\n",
        "  return result\r\n",
        "\r\n",
        "def EvaluateLocationByCategories(location, catTranslator):\r\n",
        "  cats = GetCategoriesNames(catTranslator)\r\n",
        "  return [EvaluateLocation(location,\r\n",
        "                           { t[0]: t[1] for t in catTranslator.items() if t[1] == cat })\r\n",
        "          for cat in cats]\r\n",
        "\r\n",
        "def AssignLocationsTypes(locations, catTranslator):\r\n",
        "  return [EvaluateLocationByCategories(loc, catTranslator) for loc in locations]\r\n"
      ],
      "execution_count": 6,
      "outputs": []
    },
    {
      "cell_type": "markdown",
      "metadata": {
        "id": "I4xjP_nmFZwY"
      },
      "source": [
        "Wyrażenia zgrupowane (linki, odniesienia, hasła, itp.) mają oddzielne kolumny z ilością wystąpień.<br>\r\n",
        "Wartości za poszczególne wyrazy są sumowane i generowana jest jedna liczba prawdopodobieństwa za cały tekst.<br>\r\n",
        "W trakcie przyznawania identyfikatora słowa kluczowego analizowane są wszystkie możliwości zawarcia we fragmentach wyrazów - kategoria mogła nie wystąpić przy tworzeniu modelu, ale zawiera te same wyrazy lub słowo kluczowe jest dwuwyrazowe. Jako wynik wybierane jest najlepsze dopasowanie (największa szansa na katastrofę) lub jeżeli nie znaleziono dopasowania z żadnym znanym kluczem, przyznawana jest wartość mediany identyfikatorów, czyli połowa długości listy kluczy.<br>"
      ]
    },
    {
      "cell_type": "markdown",
      "metadata": {
        "id": "4UiDyJDTxT-d"
      },
      "source": [
        "###Przekształcanie danych"
      ]
    },
    {
      "cell_type": "code",
      "metadata": {
        "id": "xV7GjuOkl5_x"
      },
      "source": [
        "LocationTranslator = { 'http://': 'is-wrong_loc',\r\n",
        "                         'https://': 'is-wrong_loc',\r\n",
        "                         'www.': 'is-wrong_loc',\r\n",
        "                         '.com': 'is-wrong_loc',\r\n",
        "                         '?': 'is-wrong_loc',\r\n",
        "                         '!': 'is-wrong_loc',\r\n",
        "                         '...': 'is-wrong_loc',\r\n",
        "                         '@': 'is-wrong_loc',\r\n",
        "                         '#': 'is-wrong_loc',\r\n",
        "                         ':': 'is-wrong_loc',\r\n",
        "                         '': 'is-empty_loc'\r\n",
        "                         }\r\n",
        "\r\n",
        "def ReplaceTextWithNumbers(x, textWordEvaluator, keywordEvaluator, catTranslator):\r\n",
        "  cats = pd.DataFrame(AssignCategoriesToTweets(x['text'], catTranslator),\r\n",
        "                      index = x.index, columns=GetCategoriesNames(catTranslator))\r\n",
        "  evals = pd.DataFrame(EvaluateTweetsText(x['text'], textWordEvaluator, catTranslator),\r\n",
        "                       index=x.index, columns=['text_eval'])\r\n",
        "  keywordVals= pd.DataFrame(EvaluateKeywords(x['keyword'], keywordEvaluator),\r\n",
        "                            index = x.index, columns=['keyword_id'])\r\n",
        "  msgLen = pd.DataFrame([len(tweet) for tweet in x['text']],\r\n",
        "                        index=x.index, columns=['msg_len'])\r\n",
        "  locCats = pd.DataFrame(AssignLocationsTypes(x['location'], LocationTranslator),\r\n",
        "                         index=x.index, columns=GetCategoriesNames(LocationTranslator))\r\n",
        "  result = x.drop(columns=['text', 'location', 'keyword'], inplace=False)\r\n",
        "  return pd.concat([result, locCats, cats, evals, keywordVals, msgLen], axis=1)"
      ],
      "execution_count": 7,
      "outputs": []
    },
    {
      "cell_type": "markdown",
      "metadata": {
        "id": "61fKM0u1tVUU"
      },
      "source": [
        "##Dane treningowe\r\n",
        "Dla przedstawionych danych stworzone zostą modele przewidujące służące do oceny wybranych metod i wytypowania najlepszej z nich.<br>\r\n",
        "Dane zostały wykorzystane z wyjątkiem lokalizacji wysłania wiadomości (wiele unikalnych wartości, liczne braki i niewielki logiczny związek z katastrofą). Kategoria ta mogłaby posłużyć co najwyżej jako filtr \"spamu\" - adresy typu \"Gwiazda Śmierci\"."
      ]
    },
    {
      "cell_type": "code",
      "metadata": {
        "colab": {
          "base_uri": "https://localhost:8080/"
        },
        "id": "tnBWd-eiqVqY",
        "outputId": "98e5d781-3f5a-439c-85c2-f897d36e1717"
      },
      "source": [
        "# Evaluation of training data\r\n",
        "evalWordsTrain, evalCatsTrain, evalKeysTrain = GetEvaluators(xTrain, yTrain,\r\n",
        "                                                             SpecialWordTranslator)\r\n",
        "print(xTrain.head())\r\n",
        "xTrainRepl = ReplaceTextWithNumbers(xTrain, evalWordsTrain, evalKeysTrain,\r\n",
        "                                    SpecialWordTranslator)\r\n",
        "print(xTrainRepl.head())\r\n",
        "xValidRepl = ReplaceTextWithNumbers(xValid, evalWordsTrain, evalKeysTrain,\r\n",
        "                                    SpecialWordTranslator)"
      ],
      "execution_count": 8,
      "outputs": [
        {
          "output_type": "stream",
          "text": [
            "                keyword  ...                                               text\n",
            "1675  bridge%20collapse  ...  Sioux City Fire Officials Believe Bridge Colla...\n",
            "7118           military  ...  i strongly support our military &amp; their fa...\n",
            "9912            trouble  ...  @lucysforsale funny cause my dumb ass was the ...\n",
            "9611       thunderstorm  ...  #usNWSgov Special Weather Statement issued Aug...\n",
            "3933         devastated  ...  abcnews - Obama Declares Disaster for Typhoon-...\n",
            "\n",
            "[5 rows x 3 columns]\n",
            "      is-empty_loc  is-wrong_loc  is-too_long  ...  text_eval  keyword_id  msg_len\n",
            "1675             0             0            1  ...   0.342399         142      136\n",
            "7118             1             0            0  ...  -1.305528          50       98\n",
            "9912             1             0            0  ...  -2.917192          19       85\n",
            "9611             1             0            2  ...   0.689442         108      136\n",
            "3933             0             0            1  ...   0.992924         109      136\n",
            "\n",
            "[5 rows x 12 columns]\n"
          ],
          "name": "stdout"
        }
      ]
    },
    {
      "cell_type": "markdown",
      "metadata": {
        "id": "LdwA0IWdy-g8"
      },
      "source": [
        "W przykładowym wyniku widoczne jest, że wiadomość #9912 ma charakter zdecydowanie niezwiązany z katastrofą (wysoko-ujemna wartość za tekst) oraz znajduje się w kategorii słabo związanej z katastrofami (niski id).<br>\r\n",
        "Wiadomość pierwsza na liście wygląda z kolei poważnie, lecz jej treść została oceniona nisko (blisko zera), natomiast pomóc w klasyfikacji powinien wysoki priorytet słowa kluczowego. "
      ]
    },
    {
      "cell_type": "markdown",
      "metadata": {
        "id": "QL8gjkC42KXK"
      },
      "source": [
        "##Modele przewidywania"
      ]
    },
    {
      "cell_type": "markdown",
      "metadata": {
        "id": "nWYuyXt32RrZ"
      },
      "source": [
        "###Drzewo decyzyjne"
      ]
    },
    {
      "cell_type": "code",
      "metadata": {
        "colab": {
          "base_uri": "https://localhost:8080/"
        },
        "id": "rUH6XEMWoODQ",
        "outputId": "ae58783b-3b9b-4919-c285-7fd46473594d"
      },
      "source": [
        "# Model definition\r\n",
        "treeModel = DecisionTreeRegressor(random_state=1)\r\n",
        "\r\n",
        "# Model fitting\r\n",
        "treeModel.fit(xTrainRepl, yTrain)\r\n",
        "\r\n",
        "# Model prediction\r\n",
        "treePredictions = [round(p) for p in treeModel.predict(xValidRepl)]\r\n",
        "yTree = pd.Series(treePredictions, index = yValid.index)\r\n",
        "\r\n",
        "# Mean absolute error and accuracy indicators\r\n",
        "accuracyTree = GetAccuracy(yTree, yValid)\r\n",
        "print('Random tree')\r\n",
        "print('Error: {:.3}'.format(mean_absolute_error(yTree, yValid)))\r\n",
        "print('Accuracy: {:.1f}%'.format(accuracyTree))\r\n",
        "print('Prediction possible results:', yTree.unique())"
      ],
      "execution_count": 9,
      "outputs": [
        {
          "output_type": "stream",
          "text": [
            "Random tree\n",
            "Error: 0.29\n",
            "Accuracy: 71.0%\n",
            "Prediction possible results: [0 1]\n"
          ],
          "name": "stdout"
        }
      ]
    },
    {
      "cell_type": "code",
      "metadata": {
        "colab": {
          "base_uri": "https://localhost:8080/"
        },
        "id": "BwPdiW84LOX4",
        "outputId": "53d61a3f-be2a-4c1c-a4f4-e12202bf832a"
      },
      "source": [
        "# choose a random element from a list\r\n",
        "from random import seed\r\n",
        "from random import sample\r\n",
        "seed(1)\r\n",
        "\r\n",
        "print('Mistakes: ')\r\n",
        "\r\n",
        "wrongTrue = []\r\n",
        "wrongFalse = []\r\n",
        "# select wrong predictions\r\n",
        "for n, yp, yr in zip(xValid.index, yTree, yValid):\r\n",
        "  if yp > yr:\r\n",
        "    wrongTrue.append(xValid.loc[n, 'text'])\r\n",
        "  elif yp < yr:\r\n",
        "    wrongFalse.append(xValid.loc[n, 'text'])\r\n",
        "# print few examples of mistakes\r\n",
        "print('')\r\n",
        "print('Fake disasters ({}) | Examples:'.format(len(wrongTrue)))\r\n",
        "showData = sample(wrongTrue, 5)\r\n",
        "for sh in showData:\r\n",
        "  print(sh)\r\n",
        "\r\n",
        "print('')\r\n",
        "print('Missed disasters ({}) | Examples:'.format(len(wrongFalse)))\r\n",
        "showData = sample(wrongFalse, 5)\r\n",
        "for sh in showData:\r\n",
        "  print(sh)"
      ],
      "execution_count": 10,
      "outputs": [
        {
          "output_type": "stream",
          "text": [
            "Mistakes: \n",
            "\n",
            "Fake disasters (227) | Examples:\n",
            "'It's an eerie way of revealing both our history and our possible fate.' #CADrought #LakeIsabella by @jpanzar http://t.co/pvExbIiqSK\n",
            "Why are you feeling desolate? Take the quiz: http://t.co/E9yfe3p7P1 http://t.co/8gZbGMMaa1\n",
            "Aannnnd - 'Reddit Will Now Quarantine Offensive Content' https://t.co/P1JluRGWBu\n",
            "Beach Reads in August #Giveaway Hop &amp; @StuckInBooks is giving away any book in Mayhem series!  http://t.co/Jp3OY0OuXq\n",
            "@holymileyray @moonIighthunty Focus on Me is going to obliterate careers tea\n",
            "\n",
            "Missed disasters (215) | Examples:\n",
            "Exploration takes seismic shift in #Gabon to #Somalia http://t.co/kLtIt88AS3\n",
            "WIPP emergency activated because of slightly elevated levels of radiation. #sejorg\n",
            "I liked a @YouTube video http://t.co/z8Cp77lVza Boeing 737 takeoff in snowstorm. HD cockpit view + ATC audio - Episode 18\n",
            "#Biztip We recommend all businesses to get an alternative source of electricity. #Solar Wind and Batteries. Have an emergency plan! Now!\n",
            "Thousands attend a rally organized by Peace Now protesting the arson attack that took the life of an http://t.co/bvCKd9pdTi\n"
          ],
          "name": "stdout"
        }
      ]
    },
    {
      "cell_type": "markdown",
      "metadata": {
        "id": "py1TG0I62U95"
      },
      "source": [
        "###Losowy las"
      ]
    },
    {
      "cell_type": "code",
      "metadata": {
        "colab": {
          "base_uri": "https://localhost:8080/"
        },
        "id": "3NNXEP68l-7B",
        "outputId": "83e712ab-ceed-4b7b-9db0-d0b6f134499c"
      },
      "source": [
        "# Model definition\r\n",
        "forestModel = RandomForestRegressor(random_state=1)\r\n",
        "\r\n",
        "# Model fitting\r\n",
        "forestModel.fit(xTrainRepl, yTrain)\r\n",
        "\r\n",
        "# Model prediction\r\n",
        "forestPredictions = [round(p) for p in forestModel.predict(xValidRepl)]\r\n",
        "yForest = pd.Series(forestPredictions, index = yValid.index)\r\n",
        "\r\n",
        "# Mean absolute error and accuracy indicators\r\n",
        "accuracyForest = GetAccuracy(yForest, yValid)\r\n",
        "print('Random forest')\r\n",
        "print('Error: {:.3}'.format(mean_absolute_error(yForest, yValid)))\r\n",
        "print('Accuracy: {:.1f}%'.format(accuracyForest))\r\n",
        "print('Prediction possible results:', yForest.unique())\r\n",
        "# 72.6% increased to 76.8%"
      ],
      "execution_count": 11,
      "outputs": [
        {
          "output_type": "stream",
          "text": [
            "Random forest\n",
            "Error: 0.234\n",
            "Accuracy: 76.6%\n",
            "Prediction possible results: [1 0]\n"
          ],
          "name": "stdout"
        }
      ]
    },
    {
      "cell_type": "markdown",
      "metadata": {
        "id": "YbLkrgY26LAQ"
      },
      "source": [
        "###Losowe poszukiwanie parametrów lasu\r\n",
        "[Źródło](https://towardsdatascience.com/hyperparameter-tuning-the-random-forest-in-python-using-scikit-learn-28d2aa77dd74)"
      ]
    },
    {
      "cell_type": "code",
      "metadata": {
        "id": "TsaD_aEK6V1Q"
      },
      "source": [
        "# Number of trees in random forest\r\n",
        "n_estimators = [x for x in range(1000, 2001, 100)]\r\n",
        "# Number of features to consider at every split\r\n",
        "max_features = ['auto', 'sqrt']\r\n",
        "# Maximum number of levels in tree\r\n",
        "max_depth = [x for x in range(5, 46, 10)]\r\n",
        "max_depth.append(None)\r\n",
        "# Minimum number of samples required to split a node\r\n",
        "min_samples_split = [2, 5, 10]\r\n",
        "# Minimum number of samples required at each leaf node\r\n",
        "min_samples_leaf = [1, 2, 4]\r\n",
        "# Method of selecting samples for training each tree\r\n",
        "bootstrap = [True, False]\r\n",
        "# Create the random grid\r\n",
        "random_grid = {'n_estimators': n_estimators,\r\n",
        "               'max_features': max_features,\r\n",
        "               'max_depth': max_depth,\r\n",
        "               'min_samples_split': min_samples_split,\r\n",
        "               'min_samples_leaf': min_samples_leaf,\r\n",
        "               'bootstrap': bootstrap}"
      ],
      "execution_count": 12,
      "outputs": []
    },
    {
      "cell_type": "code",
      "metadata": {
        "colab": {
          "base_uri": "https://localhost:8080/"
        },
        "id": "4lgkBM-x7Zrw",
        "outputId": "53924bd2-057e-44f1-ecb0-53b4cb60448c"
      },
      "source": [
        "# Use the random grid to search for best hyperparameters\r\n",
        "# First create the base model to tune\r\n",
        "rf = RandomForestRegressor()\r\n",
        "# Random search of parameters, using 3 fold cross validation, \r\n",
        "# search across 100 different combinations, and use all available cores\r\n",
        "randForestModel = RandomizedSearchCV(estimator=rf, param_distributions=random_grid,\r\n",
        "                               n_iter=50, cv=3, verbose=2, random_state=1,\r\n",
        "                               n_jobs=-1)\r\n",
        "# Fit the random search model\r\n",
        "randForestModel.fit(xTrainRepl, yTrain)"
      ],
      "execution_count": 13,
      "outputs": [
        {
          "output_type": "stream",
          "text": [
            "Fitting 3 folds for each of 50 candidates, totalling 150 fits\n"
          ],
          "name": "stdout"
        },
        {
          "output_type": "stream",
          "text": [
            "[Parallel(n_jobs=-1)]: Using backend LokyBackend with 2 concurrent workers.\n",
            "[Parallel(n_jobs=-1)]: Done  37 tasks      | elapsed:  6.2min\n",
            "[Parallel(n_jobs=-1)]: Done 150 out of 150 | elapsed: 23.9min finished\n"
          ],
          "name": "stderr"
        },
        {
          "output_type": "execute_result",
          "data": {
            "text/plain": [
              "RandomizedSearchCV(cv=3, error_score=nan,\n",
              "                   estimator=RandomForestRegressor(bootstrap=True,\n",
              "                                                   ccp_alpha=0.0,\n",
              "                                                   criterion='mse',\n",
              "                                                   max_depth=None,\n",
              "                                                   max_features='auto',\n",
              "                                                   max_leaf_nodes=None,\n",
              "                                                   max_samples=None,\n",
              "                                                   min_impurity_decrease=0.0,\n",
              "                                                   min_impurity_split=None,\n",
              "                                                   min_samples_leaf=1,\n",
              "                                                   min_samples_split=2,\n",
              "                                                   min_weight_fraction_leaf=0.0,\n",
              "                                                   n_estimators=100,\n",
              "                                                   n_jobs=None, oob_score=Fals...\n",
              "                   iid='deprecated', n_iter=50, n_jobs=-1,\n",
              "                   param_distributions={'bootstrap': [True, False],\n",
              "                                        'max_depth': [5, 15, 25, 35, 45, None],\n",
              "                                        'max_features': ['auto', 'sqrt'],\n",
              "                                        'min_samples_leaf': [1, 2, 4],\n",
              "                                        'min_samples_split': [2, 5, 10],\n",
              "                                        'n_estimators': [1000, 1100, 1200, 1300,\n",
              "                                                         1400, 1500, 1600, 1700,\n",
              "                                                         1800, 1900, 2000]},\n",
              "                   pre_dispatch='2*n_jobs', random_state=1, refit=True,\n",
              "                   return_train_score=False, scoring=None, verbose=2)"
            ]
          },
          "metadata": {
            "tags": []
          },
          "execution_count": 13
        }
      ]
    },
    {
      "cell_type": "code",
      "metadata": {
        "colab": {
          "base_uri": "https://localhost:8080/"
        },
        "id": "8ct9BoiU7oy4",
        "outputId": "f8d8479f-3ce2-46c3-dbb9-214ddd1e7470"
      },
      "source": [
        "# Model prediction\r\n",
        "randForestPredictions = [round(p) for p in randForestModel.predict(xValidRepl)]\r\n",
        "yRandForest = pd.Series(randForestPredictions, index = yValid.index)\r\n",
        "\r\n",
        "# Mean absolute error and accuracy indicators\r\n",
        "accuracyRandForest = GetAccuracy(yRandForest, yValid)\r\n",
        "print('Random parametrised forest')\r\n",
        "print('Error: {:.3}'.format(mean_absolute_error(yRandForest, yValid)))\r\n",
        "print('Accuracy: {:.1f}%'.format(accuracyRandForest))\r\n",
        "print('Prediction possible results:', yRandForest.unique())\r\n",
        "# 74.6% increased to 76.9%"
      ],
      "execution_count": 14,
      "outputs": [
        {
          "output_type": "stream",
          "text": [
            "Random parametrised forest\n",
            "Error: 0.232\n",
            "Accuracy: 76.8%\n",
            "Prediction possible results: [1 0]\n"
          ],
          "name": "stdout"
        }
      ]
    },
    {
      "cell_type": "markdown",
      "metadata": {
        "id": "lqwMy3xMFgVN"
      },
      "source": [
        "Dobrane tą metodą parametry zapewniają zauważalną poprawę wyniku rzędu 1-2% w stosunku do lasu o parametrach domyślnych.<br>\r\n",
        "Wraz z coraz lepszymi osiągami modelu lasu domyślnego poprawa osiągana po doborze parametrów jest coraz mniejsza."
      ]
    },
    {
      "cell_type": "markdown",
      "metadata": {
        "id": "9EPQeU7PC45w"
      },
      "source": [
        "##Model konkursowy"
      ]
    },
    {
      "cell_type": "code",
      "metadata": {
        "colab": {
          "base_uri": "https://localhost:8080/"
        },
        "id": "9qy_gsK_bMAh",
        "outputId": "467f7d7f-6260-4082-d1e7-46c40c5264b4"
      },
      "source": [
        "# Data from competition\r\n",
        "xTest = pd.read_csv('/content/drive/MyDrive/Colab Notebooks/dataFiles/test_twitterDisaster.csv')\r\n",
        "xTest.index = list(xTest['id'])\r\n",
        "xTest.drop(['id'], axis=1, inplace=True)\r\n",
        "print(xTest.head())"
      ],
      "execution_count": 15,
      "outputs": [
        {
          "output_type": "stream",
          "text": [
            "   keyword location                                               text\n",
            "0      NaN      NaN                 Just happened a terrible car crash\n",
            "2      NaN      NaN  Heard about #earthquake is different cities, s...\n",
            "3      NaN      NaN  there is a forest fire at spot pond, geese are...\n",
            "9      NaN      NaN           Apocalypse lighting. #Spokane #wildfires\n",
            "11     NaN      NaN      Typhoon Soudelor kills 28 in China and Taiwan\n"
          ],
          "name": "stdout"
        }
      ]
    },
    {
      "cell_type": "code",
      "metadata": {
        "colab": {
          "base_uri": "https://localhost:8080/"
        },
        "id": "lPD4TJq7eLzS",
        "outputId": "b44fce63-c1bc-44a5-aaee-83b67655bf91"
      },
      "source": [
        "# Evaluation\r\n",
        "evalWordsBest, _, evalKeysBest = GetEvaluators(xAll, yAll, SpecialWordTranslator)\r\n",
        "xAllRepl = ReplaceTextWithNumbers(xAll, evalWordsBest, evalKeysBest,\r\n",
        "                                  SpecialWordTranslator)\r\n",
        "xTestRepl = ReplaceTextWithNumbers(xTest, evalWordsBest, evalKeysBest,\r\n",
        "                                   SpecialWordTranslator)\r\n",
        "print(xTestRepl.head())"
      ],
      "execution_count": 16,
      "outputs": [
        {
          "output_type": "stream",
          "text": [
            "    is-empty_loc  is-wrong_loc  is-too_long  ...  text_eval  keyword_id  msg_len\n",
            "0              0             0            0  ...  -0.389129          77       34\n",
            "2              0             0            0  ...  -0.332605          77       64\n",
            "3              0             0            0  ...  -2.104372          77       96\n",
            "9              0             0            0  ...   0.016384          77       40\n",
            "11             0             0            0  ...   0.775949          77       45\n",
            "\n",
            "[5 rows x 12 columns]\n"
          ],
          "name": "stdout"
        }
      ]
    },
    {
      "cell_type": "code",
      "metadata": {
        "colab": {
          "base_uri": "https://localhost:8080/"
        },
        "id": "je37TUBbEbDt",
        "outputId": "bdc111d1-8728-4406-c78f-2c77be2d37d7"
      },
      "source": [
        "bestParams = randForestModel.best_params_\r\n",
        "print(bestParams)\r\n",
        "#bestParams = {'n_estimators': 2200, 'min_samples_split': 2,\r\n",
        "#              'min_samples_leaf': 1, 'max_features': 'sqrt',\r\n",
        "#              'max_depth': 10, 'bootstrap': True}\r\n",
        "bestForestModel = RandomForestRegressor(n_estimators=bestParams['n_estimators'],\r\n",
        "                                        min_samples_leaf = bestParams['min_samples_leaf'],\r\n",
        "                                        min_samples_split = bestParams['min_samples_split'],\r\n",
        "                                        max_depth=bestParams['max_depth'],\r\n",
        "                                        max_features=bestParams['max_features'],\r\n",
        "                                        bootstrap=bestParams['bootstrap'],\r\n",
        "                                        random_state=1)\r\n",
        "bestForestModel.fit(xAllRepl, yAll)"
      ],
      "execution_count": 17,
      "outputs": [
        {
          "output_type": "stream",
          "text": [
            "{'n_estimators': 1300, 'min_samples_split': 2, 'min_samples_leaf': 4, 'max_features': 'sqrt', 'max_depth': 15, 'bootstrap': True}\n"
          ],
          "name": "stdout"
        },
        {
          "output_type": "execute_result",
          "data": {
            "text/plain": [
              "RandomForestRegressor(bootstrap=True, ccp_alpha=0.0, criterion='mse',\n",
              "                      max_depth=15, max_features='sqrt', max_leaf_nodes=None,\n",
              "                      max_samples=None, min_impurity_decrease=0.0,\n",
              "                      min_impurity_split=None, min_samples_leaf=4,\n",
              "                      min_samples_split=2, min_weight_fraction_leaf=0.0,\n",
              "                      n_estimators=1300, n_jobs=None, oob_score=False,\n",
              "                      random_state=1, verbose=0, warm_start=False)"
            ]
          },
          "metadata": {
            "tags": []
          },
          "execution_count": 17
        }
      ]
    },
    {
      "cell_type": "code",
      "metadata": {
        "id": "-cqKtRqEhRv3",
        "colab": {
          "base_uri": "https://localhost:8080/"
        },
        "outputId": "124af7de-ee7f-42ab-f0a6-b6eae5065bfc"
      },
      "source": [
        "yTestOri = bestForestModel.predict(xTestRepl)\r\n",
        "\r\n",
        "yTest = [round(y) for y in yTestOri]\r\n",
        "output = pd.DataFrame({'id': xTest.index,\r\n",
        "                       'target': yTest})\r\n",
        "output.to_csv('/content/drive/MyDrive/Colab Notebooks/dataFiles/twitterDisaster_submit.csv', index=False)\r\n",
        "print(output.head())\r\n",
        "print('Done.')"
      ],
      "execution_count": 18,
      "outputs": [
        {
          "output_type": "stream",
          "text": [
            "   id  target\n",
            "0   0       0\n",
            "1   2       0\n",
            "2   3       0\n",
            "3   9       0\n",
            "4  11       1\n",
            "Done.\n"
          ],
          "name": "stdout"
        }
      ]
    },
    {
      "cell_type": "markdown",
      "metadata": {
        "id": "qK0U6xDhmMhR"
      },
      "source": [
        "##Podsumowanie\r\n",
        "Plik wynikowy został wysłany w ramach konkursu Kaggle."
      ]
    },
    {
      "cell_type": "markdown",
      "metadata": {
        "id": "gKFD3Sp021KB"
      },
      "source": [
        "###Pierwsze podejście\r\n",
        "Słowa kluczowe pogrupowane i zamienione na identyfikatory rosnące wraz z szansą na katastrofę, tekst przeliczany jako suma wartości niezgrupowanych słów, 6 specjalnych kategorii słów, lokalizacja nieuzwględniona.<br>\r\n",
        "![image.png](data:image/png;base64,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)"
      ]
    },
    {
      "cell_type": "markdown",
      "metadata": {
        "id": "yy25t-1DlTfK"
      },
      "source": [
        "###Drugie podejście\r\n",
        "Nowe kryterium - długość tweeta. Nowe kategorie słów - liczbowe i z nawiasem. Kategorie zliczane są jednokrotnie dla każdego słowa (np. link spełniający dwie konstrukcje). Za słowa linki uznawane są również te zawierające \"www.\" oraz \".com\".<br>\r\n",
        "![image.png](data:image/png;base64,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)<br>"
      ]
    },
    {
      "cell_type": "markdown",
      "metadata": {
        "id": "4LHj2JREzkoa"
      },
      "source": [
        "###Trzecie podejście\r\n",
        "Kryteria liczb i nawiasu usunięte. Wynik pozostał na podobnym poziomie.\r\n",
        "![image.png](data:image/png;base64,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)"
      ]
    },
    {
      "cell_type": "markdown",
      "metadata": {
        "id": "Vo9Hs7s22OMg"
      },
      "source": [
        "###Czwarte podejście\r\n",
        "Lokalizacja została uwzględniona - oznaczanie błędnych nazw (z niewłaściwymi znakami) i miejsc pustych.<br>\r\n",
        "Waga słów przydzielana w pełnym zakresie (oddzielne referencje) dla katastrof i fałszywych alarmów.\r\n",
        "![image.png](data:image/png;base64,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)"
      ]
    },
    {
      "cell_type": "markdown",
      "metadata": {
        "id": "A0th9ZeO24LZ"
      },
      "source": [
        "###Skuteczność\r\n",
        "Pierwszy model osiągnął 74,2% trafności. Zostało to poprawione przy drugiej próbie (75,9%) oraz w kolejnych podejściach, uzyskując najlepszy wynik 76,5% dokładności."
      ]
    },
    {
      "cell_type": "markdown",
      "metadata": {
        "id": "MVUFGIUc28hR"
      },
      "source": [
        "###Wnioski\r\n",
        "Nawet dane o stosunkowo niewielkiej decyzyjności (np. obecność hashtagów) poprawiają w pewnym stopniu wynik końcowy.<br>\r\n",
        "Przydzielanie wag pogarsza dokładność, jednak znacznie zmniejsza rozmiar danych - słów kluczowych jest bardzo wiele nie stosując indeksowania konieczne byłoby utworzenie ponad 150 kolumn danych (dla każdego wiersza).<br>\r\n",
        "W ogólnym przypadku zazwyczaj lepiej zapewnić dostęp do danych modelowi, niż je przetwarzać \"samodzielnie\" (np. usuwając małe współczynniki lub dokonując zaokrągleń). Kategorie zbędnie dodane nie pogorszyły wyniku (pozostał na podobnym poziomie).<br>\r\n",
        "Przewidywania zapewne poprawiłoby pogrupowanie słów (podobnie, jak zostało zrealizowane z wyrażeniami kluczowymi). W tym przypadku zadanie to jest jendak trudniejsze:\r\n",
        "* Podział słów z liczby mnogiej i pojedynczej (oraz końcówki \"-ing\", \"-ed\", \"-es\"), np. \"risk\" i \"risks\" zmniejsza ich wagę, ponieważ ta odniesiona jest do arbitralnej wartości (czyli im więcej słów, tym większa waga, ponieważ wyraz częściej pojawia się w tematyce katastrof).\r\n",
        "* Proste oddzielenie końcówki poprowadziłoby do połączeń niepożądanych, np. \"I\" - \"is\", \"a\" - \"as\", \"hi\" - \"his\".\r\n",
        "* Można byłoby wprowadzić analizę przydzieleń i łączyć jedynie słowa o tym samym ukierunkowaniu (tj. wskazywaniu katastrofy lub nie).\r\n",
        "* Należałoby wówczas utworzyć listę zabronionych połączeń przy tłumaczeniu tekstu na liczbę lub łączyć słowa o największym dopasowaniu. Problem: \"I\" in \"is\" jest prawdą, jednak \"is\" in \"is\" daję większe podobieństwo.\r\n",
        "* Bez dodatkowych ograniczeń nowy wyraz, np. \"intermediate\" mógłby zostać połączony z np. \"media\" (największe dopasowanie), choć najczęściej problem dotyczyłby zawierania krótkich konstrukcji (lub nawet pojedynczych liter) typu \"I\", \"is\", \"at\", itp."
      ]
    }
  ]
}