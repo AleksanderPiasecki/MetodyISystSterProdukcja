{
  "nbformat": 4,
  "nbformat_minor": 0,
  "metadata": {
    "kernelspec": {
      "display_name": "Python 3",
      "language": "python",
      "name": "python3"
    },
    "language_info": {
      "codemirror_mode": {
        "name": "ipython",
        "version": 3
      },
      "file_extension": ".py",
      "mimetype": "text/x-python",
      "name": "python",
      "nbconvert_exporter": "python",
      "pygments_lexer": "ipython3",
      "version": "3.7.3"
    },
    "colab": {
      "name": "CDPodstawPythona.ipynb",
      "provenance": [],
      "collapsed_sections": []
    }
  },
  "cells": [
    {
      "cell_type": "markdown",
      "metadata": {
        "id": "tqz88DkYjm7N"
      },
      "source": [
        "# Kontynuacja wprowadzenia do języka Python\r\n",
        "Typy danych i klasy."
      ]
    },
    {
      "cell_type": "code",
      "metadata": {
        "id": "fbqdNsUHPwdi"
      },
      "source": [
        "# Określanie czasu wykonania\r\n",
        "import timeit\r\n",
        "# Zamienia Pythona w Matlaba\r\n",
        "import numpy as np"
      ],
      "execution_count": 1,
      "outputs": []
    },
    {
      "cell_type": "markdown",
      "metadata": {
        "id": "tjLp-ioORm6Z"
      },
      "source": [
        "##Listy i krotki"
      ]
    },
    {
      "cell_type": "code",
      "metadata": {
        "id": "ital3yhb1KyM"
      },
      "source": [
        "# Niedoskonała lista - mieszanka typów\n",
        "a_list= [1,2,3,4,5, [1,2,3], \"temat\"]\n",
        "# Tuple - krotka - utrudnione dodawanie nowych elementów\n",
        "k_krotka = (1,2,3,4,5, [1,2,3], \"temat\")\n",
        "# Lista jednego typu\n",
        "b_list = [1,2,3,4,5]\n",
        "# Wektor numpy\n",
        "n_array = np.array(b_list)"
      ],
      "execution_count": 2,
      "outputs": []
    },
    {
      "cell_type": "code",
      "metadata": {
        "id": "IV7THmOU1Kyl",
        "colab": {
          "base_uri": "https://localhost:8080/"
        },
        "outputId": "d013dd35-b1c2-4e89-8d44-c7a493b1b9a3"
      },
      "source": [
        "# Operator dodawania - łączenie list\n",
        "print(a_list + b_list)\n",
        "# Przeciążony operator dodawania wektorowego\n",
        "print(n_array + n_array)"
      ],
      "execution_count": 3,
      "outputs": [
        {
          "output_type": "stream",
          "text": [
            "[1, 2, 3, 4, 5, [1, 2, 3], 'temat', 1, 2, 3, 4, 5]\n",
            "[ 2  4  6  8 10]\n"
          ],
          "name": "stdout"
        }
      ]
    },
    {
      "cell_type": "code",
      "metadata": {
        "id": "V5L_QF4Y1Ky9",
        "colab": {
          "base_uri": "https://localhost:8080/"
        },
        "outputId": "df4ea367-00c8-4d4c-8347-88197d4e5af6"
      },
      "source": [
        "# Dostęp do elementów listy\r\n",
        "a_list[3]"
      ],
      "execution_count": 4,
      "outputs": [
        {
          "output_type": "execute_result",
          "data": {
            "text/plain": [
              "4"
            ]
          },
          "metadata": {
            "tags": []
          },
          "execution_count": 4
        }
      ]
    },
    {
      "cell_type": "code",
      "metadata": {
        "id": "yi67Qlpx1KzH",
        "colab": {
          "base_uri": "https://localhost:8080/"
        },
        "outputId": "8810075d-9c2a-44d6-fb59-677b90925907"
      },
      "source": [
        "# Dołącz na koniec listy element\n",
        "a_list.append(100)\n",
        "print(a_list)"
      ],
      "execution_count": 5,
      "outputs": [
        {
          "output_type": "stream",
          "text": [
            "[1, 2, 3, 4, 5, [1, 2, 3], 'temat', 100]\n"
          ],
          "name": "stdout"
        }
      ]
    },
    {
      "cell_type": "code",
      "metadata": {
        "id": "N9jKDgii1KzW",
        "colab": {
          "base_uri": "https://localhost:8080/"
        },
        "outputId": "6c6699e4-5140-47b2-86a1-c0d13bf8f25a"
      },
      "source": [
        "# Dostęp do elementów krotki\r\n",
        "k_krotka[4]"
      ],
      "execution_count": 6,
      "outputs": [
        {
          "output_type": "execute_result",
          "data": {
            "text/plain": [
              "5"
            ]
          },
          "metadata": {
            "tags": []
          },
          "execution_count": 6
        }
      ]
    },
    {
      "cell_type": "code",
      "metadata": {
        "id": "3bTJO8zj1Kzn"
      },
      "source": [
        "# Metoda dołączania niedostępna dla krotki\r\n",
        "# k_krotka.append(100)"
      ],
      "execution_count": 7,
      "outputs": []
    },
    {
      "cell_type": "code",
      "metadata": {
        "id": "E2Ymotp_4Abd",
        "colab": {
          "base_uri": "https://localhost:8080/"
        },
        "outputId": "108b6526-da6c-40ae-c455-a47f0af87ae2"
      },
      "source": [
        "# Dołączanie do składowej krotki\n",
        "k_krotka[5].append(10)\n",
        "print(k_krotka)"
      ],
      "execution_count": 8,
      "outputs": [
        {
          "output_type": "stream",
          "text": [
            "(1, 2, 3, 4, 5, [1, 2, 3, 10], 'temat')\n"
          ],
          "name": "stdout"
        }
      ]
    },
    {
      "cell_type": "code",
      "metadata": {
        "id": "3c8PxgE-1Kz4"
      },
      "source": [
        "# Sumowanie wektorowe\r\n",
        "suma = np.array(b_list) + np.array(b_list)"
      ],
      "execution_count": 9,
      "outputs": []
    },
    {
      "cell_type": "code",
      "metadata": {
        "id": "6Zw-EoMH4pnH",
        "colab": {
          "base_uri": "https://localhost:8080/"
        },
        "outputId": "b8346d13-6630-4457-fdeb-9b21603a82c0"
      },
      "source": [
        "# Typ danych wektora: int64 - optymalny do obliczeń\r\n",
        "suma.dtype"
      ],
      "execution_count": 10,
      "outputs": [
        {
          "output_type": "execute_result",
          "data": {
            "text/plain": [
              "dtype('int64')"
            ]
          },
          "metadata": {
            "tags": []
          },
          "execution_count": 10
        }
      ]
    },
    {
      "cell_type": "code",
      "metadata": {
        "id": "Dc5B-_6o1K0I",
        "colab": {
          "base_uri": "https://localhost:8080/"
        },
        "outputId": "7013ab62-8ea0-463e-aa3e-7ab33e85e95d"
      },
      "source": [
        "# Wektor numpy\r\n",
        "n_array = np.array(a_list)"
      ],
      "execution_count": 11,
      "outputs": [
        {
          "output_type": "stream",
          "text": [
            "/usr/local/lib/python3.6/dist-packages/ipykernel_launcher.py:2: VisibleDeprecationWarning: Creating an ndarray from ragged nested sequences (which is a list-or-tuple of lists-or-tuples-or ndarrays with different lengths or shapes) is deprecated. If you meant to do this, you must specify 'dtype=object' when creating the ndarray\n",
            "  \n"
          ],
          "name": "stderr"
        }
      ]
    },
    {
      "cell_type": "code",
      "metadata": {
        "id": "E-VrlxPp1K0c",
        "colab": {
          "base_uri": "https://localhost:8080/"
        },
        "outputId": "607eaeaf-6ffc-4795-d842-feb0179c724b"
      },
      "source": [
        "# Typ danych 'object' - pogorszona wydajność w porównaniu do 'float' 'double' 'int'\r\n",
        "n_array"
      ],
      "execution_count": 12,
      "outputs": [
        {
          "output_type": "execute_result",
          "data": {
            "text/plain": [
              "array([1, 2, 3, 4, 5, list([1, 2, 3]), 'temat', 100], dtype=object)"
            ]
          },
          "metadata": {
            "tags": []
          },
          "execution_count": 12
        }
      ]
    },
    {
      "cell_type": "markdown",
      "metadata": {
        "id": "4Q9SSMQbZLS5"
      },
      "source": [
        "## Słowniki (Mapy)\r\n"
      ]
    },
    {
      "cell_type": "code",
      "metadata": {
        "id": "AH4opeTV1K0j"
      },
      "source": [
        "# Przed dwukropkiem musi być identyfikator - jeden, niepowtarzalny element.\n",
        "# Po dwukropku może być dowolny typ.\n",
        "studenci_slownik = {123:123, \"Igor\":3, \"Frankek\":5, \"Zosia\":22, \"Julia\":[2, 21], (1,2):\"Krotka\"}"
      ],
      "execution_count": 13,
      "outputs": []
    },
    {
      "cell_type": "code",
      "metadata": {
        "id": "i9Kyrw3q1K0s",
        "colab": {
          "base_uri": "https://localhost:8080/"
        },
        "outputId": "18362b99-0d9b-4d4d-9308-c89164cef5fb"
      },
      "source": [
        "# Wygląd słownika\r\n",
        "print(studenci_slownik)"
      ],
      "execution_count": 14,
      "outputs": [
        {
          "output_type": "stream",
          "text": [
            "{123: 123, 'Igor': 3, 'Frankek': 5, 'Zosia': 22, 'Julia': [2, 21], (1, 2): 'Krotka'}\n"
          ],
          "name": "stdout"
        }
      ]
    },
    {
      "cell_type": "code",
      "metadata": {
        "id": "xjUIG45w1K00",
        "colab": {
          "base_uri": "https://localhost:8080/"
        },
        "outputId": "6e902504-2155-41ee-8a64-c384e0ebe51b"
      },
      "source": [
        "# Dostęp do elementów słownika\r\n",
        "studenci_slownik[\"Zosia\"]"
      ],
      "execution_count": 15,
      "outputs": [
        {
          "output_type": "execute_result",
          "data": {
            "text/plain": [
              "22"
            ]
          },
          "metadata": {
            "tags": []
          },
          "execution_count": 15
        }
      ]
    },
    {
      "cell_type": "code",
      "metadata": {
        "id": "23IxUJjl6118",
        "colab": {
          "base_uri": "https://localhost:8080/"
        },
        "outputId": "d2979c16-79f3-4fac-cb61-83c4c30c4a40"
      },
      "source": [
        "# Dodawanie elementów do słownika\n",
        "studenci_slownik['Nowy'] = 7\n",
        "print(studenci_slownik)"
      ],
      "execution_count": 16,
      "outputs": [
        {
          "output_type": "stream",
          "text": [
            "{123: 123, 'Igor': 3, 'Frankek': 5, 'Zosia': 22, 'Julia': [2, 21], (1, 2): 'Krotka', 'Nowy': 7}\n"
          ],
          "name": "stdout"
        }
      ]
    },
    {
      "cell_type": "code",
      "metadata": {
        "id": "mVvvfIEy1K0-",
        "colab": {
          "base_uri": "https://localhost:8080/"
        },
        "outputId": "832f1378-2684-4f14-de05-19b012b58040"
      },
      "source": [
        "# W nowym Pythonie zwracane są elementy w kolejności definicyjnej (bez sortowania)\n",
        "for elementy in studenci_slownik:\n",
        "    print(elementy)"
      ],
      "execution_count": 17,
      "outputs": [
        {
          "output_type": "stream",
          "text": [
            "123\n",
            "Igor\n",
            "Frankek\n",
            "Zosia\n",
            "Julia\n",
            "(1, 2)\n",
            "Nowy\n"
          ],
          "name": "stdout"
        }
      ]
    },
    {
      "cell_type": "code",
      "metadata": {
        "id": "JQw0q7dE1K1L",
        "colab": {
          "base_uri": "https://localhost:8080/"
        },
        "outputId": "beb7684b-31d3-4346-fbde-de82d750ba1b"
      },
      "source": [
        "# Klucze słownika - elementy indeksujące, przed dwukropkiem\n",
        "for elementy in studenci_slownik.keys():\n",
        "    print(elementy)"
      ],
      "execution_count": 18,
      "outputs": [
        {
          "output_type": "stream",
          "text": [
            "123\n",
            "Igor\n",
            "Frankek\n",
            "Zosia\n",
            "Julia\n",
            "(1, 2)\n",
            "Nowy\n"
          ],
          "name": "stdout"
        }
      ]
    },
    {
      "cell_type": "code",
      "metadata": {
        "id": "Vo-jhL821K1U",
        "colab": {
          "base_uri": "https://localhost:8080/"
        },
        "outputId": "f6930b31-7de1-4468-e6d3-2f39adeb0be0"
      },
      "source": [
        "# Wartości słownika - elementy zwracane w wywołaniach, po dwukropku\n",
        "for elementy in studenci_slownik.values():\n",
        "    print(elementy)"
      ],
      "execution_count": 19,
      "outputs": [
        {
          "output_type": "stream",
          "text": [
            "123\n",
            "3\n",
            "5\n",
            "22\n",
            "[2, 21]\n",
            "Krotka\n",
            "7\n"
          ],
          "name": "stdout"
        }
      ]
    },
    {
      "cell_type": "code",
      "metadata": {
        "colab": {
          "base_uri": "https://localhost:8080/"
        },
        "id": "ar9qfyz9dIpm",
        "outputId": "83347922-3536-4fb5-f2b7-6e4a7a305190"
      },
      "source": [
        "# Pary klucz-wartość\r\n",
        "for elementy in studenci_slownik.items():\r\n",
        "    print(elementy)"
      ],
      "execution_count": 20,
      "outputs": [
        {
          "output_type": "stream",
          "text": [
            "(123, 123)\n",
            "('Igor', 3)\n",
            "('Frankek', 5)\n",
            "('Zosia', 22)\n",
            "('Julia', [2, 21])\n",
            "((1, 2), 'Krotka')\n",
            "('Nowy', 7)\n"
          ],
          "name": "stdout"
        }
      ]
    },
    {
      "cell_type": "code",
      "metadata": {
        "id": "CA2u6tkw1K1d",
        "colab": {
          "base_uri": "https://localhost:8080/"
        },
        "outputId": "30be0d2c-7237-4606-fd1c-25be21ea2648"
      },
      "source": [
        "# Dodawanie elementów do słownika\r\n",
        "studenci_slownik[\"Cuthulu\"] = -1000000\r\n",
        "print(studenci_slownik)"
      ],
      "execution_count": 21,
      "outputs": [
        {
          "output_type": "stream",
          "text": [
            "{123: 123, 'Igor': 3, 'Frankek': 5, 'Zosia': 22, 'Julia': [2, 21], (1, 2): 'Krotka', 'Nowy': 7, 'Cuthulu': -1000000}\n"
          ],
          "name": "stdout"
        }
      ]
    },
    {
      "cell_type": "code",
      "metadata": {
        "id": "_kBF3Ooa8RBv",
        "colab": {
          "base_uri": "https://localhost:8080/"
        },
        "outputId": "d118ec9f-568f-433b-c752-54e57906aebc"
      },
      "source": [
        "# Wybór imion (zaczynających się wielkimi literami)\n",
        "lista_bazowa = ['Marta', 'drzewo', \"Kamil\", \"Ala\"]\n",
        "lista_zmieniona = [imie for imie in lista_bazowa if imie[0].isupper()]\n",
        "print(lista_bazowa)\n",
        "print(lista_zmieniona)"
      ],
      "execution_count": 22,
      "outputs": [
        {
          "output_type": "stream",
          "text": [
            "['Marta', 'drzewo', 'Kamil', 'Ala']\n",
            "['Marta', 'Kamil', 'Ala']\n"
          ],
          "name": "stdout"
        }
      ]
    },
    {
      "cell_type": "code",
      "metadata": {
        "id": "kwNQEO6j1K11",
        "colab": {
          "base_uri": "https://localhost:8080/"
        },
        "outputId": "3b1b848a-a55d-4161-f0e1-50854eef075f"
      },
      "source": [
        "# Listy tworzone konstrukcją pętli (opcjonalnie z wyrażeniem warunkowym), potęgowanie\n",
        "automatyczna_lista=[liczba**2 for liczba in range(100) if liczba % 4 == 0]\n",
        "print(automatyczna_lista)"
      ],
      "execution_count": 23,
      "outputs": [
        {
          "output_type": "stream",
          "text": [
            "[0, 16, 64, 144, 256, 400, 576, 784, 1024, 1296, 1600, 1936, 2304, 2704, 3136, 3600, 4096, 4624, 5184, 5776, 6400, 7056, 7744, 8464, 9216]\n"
          ],
          "name": "stdout"
        }
      ]
    },
    {
      "cell_type": "code",
      "metadata": {
        "id": "CshU8KqI1K2B",
        "colab": {
          "base_uri": "https://localhost:8080/"
        },
        "outputId": "d2eae37b-6114-4561-b8f6-317d0d4509d9"
      },
      "source": [
        "# Słownik tworzony z par klucz-wartość\n",
        "studenci = studenci_slownik.keys()\n",
        "automatyczny_slownik=dict(para for para in enumerate(studenci))\n",
        "print(automatyczny_slownik)"
      ],
      "execution_count": 24,
      "outputs": [
        {
          "output_type": "stream",
          "text": [
            "{0: 123, 1: 'Igor', 2: 'Frankek', 3: 'Zosia', 4: 'Julia', 5: (1, 2), 6: 'Nowy', 7: 'Cuthulu'}\n"
          ],
          "name": "stdout"
        }
      ]
    },
    {
      "cell_type": "code",
      "metadata": {
        "id": "_-aOnmQ1-XVi",
        "colab": {
          "base_uri": "https://localhost:8080/"
        },
        "outputId": "cf12f7f9-75a3-4128-f934-2aa41e17932d"
      },
      "source": [
        "# Operacje na zbiorach lub słownikach są przyspieszone w porównaniu do list\r\n",
        "print('Igor' in studenci_slownik) "
      ],
      "execution_count": 25,
      "outputs": [
        {
          "output_type": "stream",
          "text": [
            "True\n"
          ],
          "name": "stdout"
        }
      ]
    },
    {
      "cell_type": "markdown",
      "metadata": {
        "id": "sqLUAHS_e-Lx"
      },
      "source": [
        "##Zbiory"
      ]
    },
    {
      "cell_type": "code",
      "metadata": {
        "id": "HQRpevSY_Wpx",
        "colab": {
          "base_uri": "https://localhost:8080/"
        },
        "outputId": "7807d05d-e2a8-49aa-f47a-ae1bf08f5160"
      },
      "source": [
        "# Tworzenie zbioru z listy\n",
        "listaIgorow = [\"Igor\" for i in range(1000)]\n",
        "zbiorIgorow = set(listaIgorow)\n",
        "print(listaIgorow)\n",
        "print(zbiorIgorow)"
      ],
      "execution_count": 26,
      "outputs": [
        {
          "output_type": "stream",
          "text": [
            "['Igor', 'Igor', 'Igor', 'Igor', 'Igor', 'Igor', 'Igor', 'Igor', 'Igor', 'Igor', 'Igor', 'Igor', 'Igor', 'Igor', 'Igor', 'Igor', 'Igor', 'Igor', 'Igor', 'Igor', 'Igor', 'Igor', 'Igor', 'Igor', 'Igor', 'Igor', 'Igor', 'Igor', 'Igor', 'Igor', 'Igor', 'Igor', 'Igor', 'Igor', 'Igor', 'Igor', 'Igor', 'Igor', 'Igor', 'Igor', 'Igor', 'Igor', 'Igor', 'Igor', 'Igor', 'Igor', 'Igor', 'Igor', 'Igor', 'Igor', 'Igor', 'Igor', 'Igor', 'Igor', 'Igor', 'Igor', 'Igor', 'Igor', 'Igor', 'Igor', 'Igor', 'Igor', 'Igor', 'Igor', 'Igor', 'Igor', 'Igor', 'Igor', 'Igor', 'Igor', 'Igor', 'Igor', 'Igor', 'Igor', 'Igor', 'Igor', 'Igor', 'Igor', 'Igor', 'Igor', 'Igor', 'Igor', 'Igor', 'Igor', 'Igor', 'Igor', 'Igor', 'Igor', 'Igor', 'Igor', 'Igor', 'Igor', 'Igor', 'Igor', 'Igor', 'Igor', 'Igor', 'Igor', 'Igor', 'Igor', 'Igor', 'Igor', 'Igor', 'Igor', 'Igor', 'Igor', 'Igor', 'Igor', 'Igor', 'Igor', 'Igor', 'Igor', 'Igor', 'Igor', 'Igor', 'Igor', 'Igor', 'Igor', 'Igor', 'Igor', 'Igor', 'Igor', 'Igor', 'Igor', 'Igor', 'Igor', 'Igor', 'Igor', 'Igor', 'Igor', 'Igor', 'Igor', 'Igor', 'Igor', 'Igor', 'Igor', 'Igor', 'Igor', 'Igor', 'Igor', 'Igor', 'Igor', 'Igor', 'Igor', 'Igor', 'Igor', 'Igor', 'Igor', 'Igor', 'Igor', 'Igor', 'Igor', 'Igor', 'Igor', 'Igor', 'Igor', 'Igor', 'Igor', 'Igor', 'Igor', 'Igor', 'Igor', 'Igor', 'Igor', 'Igor', 'Igor', 'Igor', 'Igor', 'Igor', 'Igor', 'Igor', 'Igor', 'Igor', 'Igor', 'Igor', 'Igor', 'Igor', 'Igor', 'Igor', 'Igor', 'Igor', 'Igor', 'Igor', 'Igor', 'Igor', 'Igor', 'Igor', 'Igor', 'Igor', 'Igor', 'Igor', 'Igor', 'Igor', 'Igor', 'Igor', 'Igor', 'Igor', 'Igor', 'Igor', 'Igor', 'Igor', 'Igor', 'Igor', 'Igor', 'Igor', 'Igor', 'Igor', 'Igor', 'Igor', 'Igor', 'Igor', 'Igor', 'Igor', 'Igor', 'Igor', 'Igor', 'Igor', 'Igor', 'Igor', 'Igor', 'Igor', 'Igor', 'Igor', 'Igor', 'Igor', 'Igor', 'Igor', 'Igor', 'Igor', 'Igor', 'Igor', 'Igor', 'Igor', 'Igor', 'Igor', 'Igor', 'Igor', 'Igor', 'Igor', 'Igor', 'Igor', 'Igor', 'Igor', 'Igor', 'Igor', 'Igor', 'Igor', 'Igor', 'Igor', 'Igor', 'Igor', 'Igor', 'Igor', 'Igor', 'Igor', 'Igor', 'Igor', 'Igor', 'Igor', 'Igor', 'Igor', 'Igor', 'Igor', 'Igor', 'Igor', 'Igor', 'Igor', 'Igor', 'Igor', 'Igor', 'Igor', 'Igor', 'Igor', 'Igor', 'Igor', 'Igor', 'Igor', 'Igor', 'Igor', 'Igor', 'Igor', 'Igor', 'Igor', 'Igor', 'Igor', 'Igor', 'Igor', 'Igor', 'Igor', 'Igor', 'Igor', 'Igor', 'Igor', 'Igor', 'Igor', 'Igor', 'Igor', 'Igor', 'Igor', 'Igor', 'Igor', 'Igor', 'Igor', 'Igor', 'Igor', 'Igor', 'Igor', 'Igor', 'Igor', 'Igor', 'Igor', 'Igor', 'Igor', 'Igor', 'Igor', 'Igor', 'Igor', 'Igor', 'Igor', 'Igor', 'Igor', 'Igor', 'Igor', 'Igor', 'Igor', 'Igor', 'Igor', 'Igor', 'Igor', 'Igor', 'Igor', 'Igor', 'Igor', 'Igor', 'Igor', 'Igor', 'Igor', 'Igor', 'Igor', 'Igor', 'Igor', 'Igor', 'Igor', 'Igor', 'Igor', 'Igor', 'Igor', 'Igor', 'Igor', 'Igor', 'Igor', 'Igor', 'Igor', 'Igor', 'Igor', 'Igor', 'Igor', 'Igor', 'Igor', 'Igor', 'Igor', 'Igor', 'Igor', 'Igor', 'Igor', 'Igor', 'Igor', 'Igor', 'Igor', 'Igor', 'Igor', 'Igor', 'Igor', 'Igor', 'Igor', 'Igor', 'Igor', 'Igor', 'Igor', 'Igor', 'Igor', 'Igor', 'Igor', 'Igor', 'Igor', 'Igor', 'Igor', 'Igor', 'Igor', 'Igor', 'Igor', 'Igor', 'Igor', 'Igor', 'Igor', 'Igor', 'Igor', 'Igor', 'Igor', 'Igor', 'Igor', 'Igor', 'Igor', 'Igor', 'Igor', 'Igor', 'Igor', 'Igor', 'Igor', 'Igor', 'Igor', 'Igor', 'Igor', 'Igor', 'Igor', 'Igor', 'Igor', 'Igor', 'Igor', 'Igor', 'Igor', 'Igor', 'Igor', 'Igor', 'Igor', 'Igor', 'Igor', 'Igor', 'Igor', 'Igor', 'Igor', 'Igor', 'Igor', 'Igor', 'Igor', 'Igor', 'Igor', 'Igor', 'Igor', 'Igor', 'Igor', 'Igor', 'Igor', 'Igor', 'Igor', 'Igor', 'Igor', 'Igor', 'Igor', 'Igor', 'Igor', 'Igor', 'Igor', 'Igor', 'Igor', 'Igor', 'Igor', 'Igor', 'Igor', 'Igor', 'Igor', 'Igor', 'Igor', 'Igor', 'Igor', 'Igor', 'Igor', 'Igor', 'Igor', 'Igor', 'Igor', 'Igor', 'Igor', 'Igor', 'Igor', 'Igor', 'Igor', 'Igor', 'Igor', 'Igor', 'Igor', 'Igor', 'Igor', 'Igor', 'Igor', 'Igor', 'Igor', 'Igor', 'Igor', 'Igor', 'Igor', 'Igor', 'Igor', 'Igor', 'Igor', 'Igor', 'Igor', 'Igor', 'Igor', 'Igor', 'Igor', 'Igor', 'Igor', 'Igor', 'Igor', 'Igor', 'Igor', 'Igor', 'Igor', 'Igor', 'Igor', 'Igor', 'Igor', 'Igor', 'Igor', 'Igor', 'Igor', 'Igor', 'Igor', 'Igor', 'Igor', 'Igor', 'Igor', 'Igor', 'Igor', 'Igor', 'Igor', 'Igor', 'Igor', 'Igor', 'Igor', 'Igor', 'Igor', 'Igor', 'Igor', 'Igor', 'Igor', 'Igor', 'Igor', 'Igor', 'Igor', 'Igor', 'Igor', 'Igor', 'Igor', 'Igor', 'Igor', 'Igor', 'Igor', 'Igor', 'Igor', 'Igor', 'Igor', 'Igor', 'Igor', 'Igor', 'Igor', 'Igor', 'Igor', 'Igor', 'Igor', 'Igor', 'Igor', 'Igor', 'Igor', 'Igor', 'Igor', 'Igor', 'Igor', 'Igor', 'Igor', 'Igor', 'Igor', 'Igor', 'Igor', 'Igor', 'Igor', 'Igor', 'Igor', 'Igor', 'Igor', 'Igor', 'Igor', 'Igor', 'Igor', 'Igor', 'Igor', 'Igor', 'Igor', 'Igor', 'Igor', 'Igor', 'Igor', 'Igor', 'Igor', 'Igor', 'Igor', 'Igor', 'Igor', 'Igor', 'Igor', 'Igor', 'Igor', 'Igor', 'Igor', 'Igor', 'Igor', 'Igor', 'Igor', 'Igor', 'Igor', 'Igor', 'Igor', 'Igor', 'Igor', 'Igor', 'Igor', 'Igor', 'Igor', 'Igor', 'Igor', 'Igor', 'Igor', 'Igor', 'Igor', 'Igor', 'Igor', 'Igor', 'Igor', 'Igor', 'Igor', 'Igor', 'Igor', 'Igor', 'Igor', 'Igor', 'Igor', 'Igor', 'Igor', 'Igor', 'Igor', 'Igor', 'Igor', 'Igor', 'Igor', 'Igor', 'Igor', 'Igor', 'Igor', 'Igor', 'Igor', 'Igor', 'Igor', 'Igor', 'Igor', 'Igor', 'Igor', 'Igor', 'Igor', 'Igor', 'Igor', 'Igor', 'Igor', 'Igor', 'Igor', 'Igor', 'Igor', 'Igor', 'Igor', 'Igor', 'Igor', 'Igor', 'Igor', 'Igor', 'Igor', 'Igor', 'Igor', 'Igor', 'Igor', 'Igor', 'Igor', 'Igor', 'Igor', 'Igor', 'Igor', 'Igor', 'Igor', 'Igor', 'Igor', 'Igor', 'Igor', 'Igor', 'Igor', 'Igor', 'Igor', 'Igor', 'Igor', 'Igor', 'Igor', 'Igor', 'Igor', 'Igor', 'Igor', 'Igor', 'Igor', 'Igor', 'Igor', 'Igor', 'Igor', 'Igor', 'Igor', 'Igor', 'Igor', 'Igor', 'Igor', 'Igor', 'Igor', 'Igor', 'Igor', 'Igor', 'Igor', 'Igor', 'Igor', 'Igor', 'Igor', 'Igor', 'Igor', 'Igor', 'Igor', 'Igor', 'Igor', 'Igor', 'Igor', 'Igor', 'Igor', 'Igor', 'Igor', 'Igor', 'Igor', 'Igor', 'Igor', 'Igor', 'Igor', 'Igor', 'Igor', 'Igor', 'Igor', 'Igor', 'Igor', 'Igor', 'Igor', 'Igor', 'Igor', 'Igor', 'Igor', 'Igor', 'Igor', 'Igor', 'Igor', 'Igor', 'Igor', 'Igor', 'Igor', 'Igor', 'Igor', 'Igor', 'Igor', 'Igor', 'Igor', 'Igor', 'Igor', 'Igor', 'Igor', 'Igor', 'Igor', 'Igor', 'Igor', 'Igor', 'Igor', 'Igor', 'Igor', 'Igor', 'Igor', 'Igor', 'Igor', 'Igor', 'Igor', 'Igor', 'Igor', 'Igor', 'Igor', 'Igor', 'Igor', 'Igor', 'Igor', 'Igor', 'Igor', 'Igor', 'Igor', 'Igor', 'Igor', 'Igor', 'Igor', 'Igor', 'Igor', 'Igor', 'Igor', 'Igor', 'Igor', 'Igor', 'Igor', 'Igor', 'Igor', 'Igor', 'Igor', 'Igor', 'Igor', 'Igor', 'Igor', 'Igor', 'Igor', 'Igor', 'Igor', 'Igor', 'Igor', 'Igor', 'Igor', 'Igor', 'Igor', 'Igor', 'Igor', 'Igor', 'Igor', 'Igor', 'Igor', 'Igor', 'Igor', 'Igor', 'Igor', 'Igor', 'Igor', 'Igor', 'Igor', 'Igor', 'Igor', 'Igor', 'Igor', 'Igor', 'Igor', 'Igor', 'Igor', 'Igor', 'Igor', 'Igor', 'Igor', 'Igor', 'Igor', 'Igor', 'Igor', 'Igor', 'Igor', 'Igor', 'Igor', 'Igor', 'Igor', 'Igor', 'Igor', 'Igor', 'Igor', 'Igor', 'Igor', 'Igor', 'Igor', 'Igor', 'Igor', 'Igor', 'Igor', 'Igor', 'Igor', 'Igor', 'Igor', 'Igor', 'Igor', 'Igor', 'Igor', 'Igor', 'Igor', 'Igor', 'Igor', 'Igor', 'Igor', 'Igor', 'Igor', 'Igor', 'Igor', 'Igor', 'Igor', 'Igor', 'Igor', 'Igor', 'Igor', 'Igor', 'Igor', 'Igor', 'Igor', 'Igor', 'Igor', 'Igor', 'Igor', 'Igor', 'Igor', 'Igor', 'Igor', 'Igor', 'Igor', 'Igor', 'Igor', 'Igor', 'Igor', 'Igor', 'Igor', 'Igor', 'Igor', 'Igor', 'Igor', 'Igor', 'Igor', 'Igor', 'Igor', 'Igor', 'Igor', 'Igor', 'Igor', 'Igor', 'Igor', 'Igor', 'Igor', 'Igor', 'Igor', 'Igor', 'Igor', 'Igor', 'Igor', 'Igor', 'Igor', 'Igor', 'Igor', 'Igor', 'Igor', 'Igor', 'Igor', 'Igor', 'Igor', 'Igor', 'Igor', 'Igor', 'Igor', 'Igor', 'Igor', 'Igor', 'Igor', 'Igor', 'Igor', 'Igor', 'Igor', 'Igor', 'Igor', 'Igor', 'Igor', 'Igor', 'Igor', 'Igor', 'Igor', 'Igor', 'Igor', 'Igor', 'Igor', 'Igor', 'Igor', 'Igor', 'Igor', 'Igor', 'Igor', 'Igor', 'Igor', 'Igor', 'Igor', 'Igor', 'Igor', 'Igor', 'Igor', 'Igor', 'Igor', 'Igor', 'Igor', 'Igor', 'Igor', 'Igor', 'Igor', 'Igor']\n",
            "{'Igor'}\n"
          ],
          "name": "stdout"
        }
      ]
    },
    {
      "cell_type": "code",
      "metadata": {
        "id": "_KyqeFOpALZ0"
      },
      "source": [
        "# Dane do testu wydajności\n",
        "listaIgorowX = [\"Igor\" + str(i) for i in range(1000)]\n",
        "zbiorIgorowX = set(listaIgorowX)"
      ],
      "execution_count": 27,
      "outputs": []
    },
    {
      "cell_type": "code",
      "metadata": {
        "id": "LwbApjl4ApMQ",
        "colab": {
          "base_uri": "https://localhost:8080/"
        },
        "outputId": "072c32d1-6ac6-42e7-83fa-39fb83a10821"
      },
      "source": [
        "%%timeit\n",
        "znaleziony = 'Igor586' in listaIgorowX"
      ],
      "execution_count": 28,
      "outputs": [
        {
          "output_type": "stream",
          "text": [
            "100000 loops, best of 3: 9.14 µs per loop\n"
          ],
          "name": "stdout"
        }
      ]
    },
    {
      "cell_type": "code",
      "metadata": {
        "id": "xF8-Z7dcA118",
        "colab": {
          "base_uri": "https://localhost:8080/"
        },
        "outputId": "fbf9d8e3-be22-4d9a-b937-dbc29e2df402"
      },
      "source": [
        "%%timeit\n",
        "znaleziony = 'Igor586' in zbiorIgorowX"
      ],
      "execution_count": 29,
      "outputs": [
        {
          "output_type": "stream",
          "text": [
            "The slowest run took 462.44 times longer than the fastest. This could mean that an intermediate result is being cached.\n",
            "10000000 loops, best of 3: 45 ns per loop\n"
          ],
          "name": "stdout"
        }
      ]
    },
    {
      "cell_type": "code",
      "metadata": {
        "id": "JArwgL-j1K2L"
      },
      "source": [
        "# Zbiory\n",
        "a={1,2,3,\"Franek\"}\n",
        "b={2,3,4,\"Franek\"}"
      ],
      "execution_count": 30,
      "outputs": []
    },
    {
      "cell_type": "code",
      "metadata": {
        "id": "DJo6At2-1K2U",
        "colab": {
          "base_uri": "https://localhost:8080/"
        },
        "outputId": "261f9c75-4108-4fc6-840a-8d17ff6fb153"
      },
      "source": [
        "# Operacje na zbiorach - suma\r\n",
        "a|b"
      ],
      "execution_count": 31,
      "outputs": [
        {
          "output_type": "execute_result",
          "data": {
            "text/plain": [
              "{1, 2, 3, 4, 'Franek'}"
            ]
          },
          "metadata": {
            "tags": []
          },
          "execution_count": 31
        }
      ]
    },
    {
      "cell_type": "code",
      "metadata": {
        "id": "bGCNNPCC1K2e",
        "colab": {
          "base_uri": "https://localhost:8080/"
        },
        "outputId": "384e0bba-e989-416b-ddda-aa8eea6187ec"
      },
      "source": [
        "# Rozszerzanie zbioru\n",
        "a.add(\"Franek\")\n",
        "print(a)"
      ],
      "execution_count": 32,
      "outputs": [
        {
          "output_type": "stream",
          "text": [
            "{1, 2, 3, 'Franek'}\n"
          ],
          "name": "stdout"
        }
      ]
    },
    {
      "cell_type": "code",
      "metadata": {
        "id": "_sKAQ0aM1K2l",
        "colab": {
          "base_uri": "https://localhost:8080/"
        },
        "outputId": "c67c80f1-ab1a-4994-896c-b6f4bc6d3cb6"
      },
      "source": [
        "# Wyszukiwanie elementów w zbiorach\n",
        "1 in a\n",
        "\"Igor\" in studenci_slownik"
      ],
      "execution_count": 33,
      "outputs": [
        {
          "output_type": "execute_result",
          "data": {
            "text/plain": [
              "True"
            ]
          },
          "metadata": {
            "tags": []
          },
          "execution_count": 33
        }
      ]
    },
    {
      "cell_type": "markdown",
      "metadata": {
        "id": "_y4NQ3TQ1K2x"
      },
      "source": [
        "## Typy własne"
      ]
    },
    {
      "cell_type": "code",
      "metadata": {
        "id": "6jp5Vm9n1K2y"
      },
      "source": [
        "zajecia = [[\"wf\"],\n",
        "           [\"informatyka\", \"nauka czytania\"],\n",
        "           [\"relax\", \"jedzenie\"],\n",
        "           [\"mispy\",\"mispy w domu\"],\n",
        "           [\"piateczek\", \"praca domowa z mispow\", \"Ilovemispy\", \"mispy w czasie snu\"]\n",
        "          ]\n",
        "\n",
        "dnityg= [\"Pon\",\"Wto\",\"Sro\",\"Czwar\",\"Pio\"]"
      ],
      "execution_count": 34,
      "outputs": []
    },
    {
      "cell_type": "code",
      "metadata": {
        "id": "Hy_i3a3K1K24"
      },
      "source": [
        "class DzienZajec():\n",
        "    \"\"\"Klasa przechowująca dany dzień zajęć i przypisane mu metody\"\"\"    \n",
        "    def __init__(self, lista_na_dany_dzien, nazwa_dnia): #definicja\n",
        "        self.lista_zajec= lista_na_dany_dzien\n",
        "        self.dzien = nazwa_dnia\n",
        "        \n",
        "    def ile_mispow(self):\n",
        "        ile_m = sum([1 for zajecie in self.lista_zajec if \"misp\" in zajecie.lower()])\n",
        "        return ile_m\n",
        "\n",
        "    # Właściwość\n",
        "    @property \n",
        "    def ile_zajec(self):\n",
        "        return len(self.lista_zajec)\n",
        "    \n",
        "    # Rzutowanie na tekst\n",
        "    def __repr__(self):\n",
        "        zajecia_do_stringa = \", \".join(self.lista_zajec)\n",
        "        return \"W dzien {} mam zajecia: {}\".format(self.dzien, zajecia_do_stringa)\n",
        "    "
      ],
      "execution_count": 35,
      "outputs": []
    },
    {
      "cell_type": "code",
      "metadata": {
        "id": "rH9K8rz51K3P"
      },
      "source": [
        "# Tworzenie obiektu\n",
        "pio_zajecia = DzienZajec([\"piateczek\", \"praca domowa z mispow\", \"Ilovemispy\", \"mispy w czasie snu\"],\n",
        "                        \"piatek\")"
      ],
      "execution_count": 36,
      "outputs": []
    },
    {
      "cell_type": "code",
      "metadata": {
        "id": "5GclVZmm1K3W",
        "colab": {
          "base_uri": "https://localhost:8080/"
        },
        "outputId": "3b450e13-f35d-4089-f41b-78ee15510820"
      },
      "source": [
        "# Dostęp do właściwości\r\n",
        "pio_zajecia.ile_zajec"
      ],
      "execution_count": 37,
      "outputs": [
        {
          "output_type": "execute_result",
          "data": {
            "text/plain": [
              "4"
            ]
          },
          "metadata": {
            "tags": []
          },
          "execution_count": 37
        }
      ]
    },
    {
      "cell_type": "code",
      "metadata": {
        "id": "JYtp3bTw1K3f",
        "colab": {
          "base_uri": "https://localhost:8080/"
        },
        "outputId": "b4182da0-8a77-47e9-cd30-aaee47dc1f6b"
      },
      "source": [
        "# Rzutowanie na tekst\r\n",
        "print(pio_zajecia)"
      ],
      "execution_count": 38,
      "outputs": [
        {
          "output_type": "stream",
          "text": [
            "W dzien piatek mam zajecia: piateczek, praca domowa z mispow, Ilovemispy, mispy w czasie snu\n"
          ],
          "name": "stdout"
        }
      ]
    },
    {
      "cell_type": "code",
      "metadata": {
        "id": "vpZ9qjsX1K3n",
        "colab": {
          "base_uri": "https://localhost:8080/"
        },
        "outputId": "59d19e2e-b166-4e48-a7af-aba1839c2345"
      },
      "source": [
        "# Dostęp do pól klasy\r\n",
        "pio_zajecia.lista_zajec"
      ],
      "execution_count": 39,
      "outputs": [
        {
          "output_type": "execute_result",
          "data": {
            "text/plain": [
              "['piateczek', 'praca domowa z mispow', 'Ilovemispy', 'mispy w czasie snu']"
            ]
          },
          "metadata": {
            "tags": []
          },
          "execution_count": 39
        }
      ]
    },
    {
      "cell_type": "code",
      "metadata": {
        "id": "rIN_1COp1K30",
        "colab": {
          "base_uri": "https://localhost:8080/"
        },
        "outputId": "3cf853ff-7470-4370-8604-814af92bfcb4"
      },
      "source": [
        "# Używanie metod\n",
        "pio_zajecia.lista_zajec.append(\"MISP\")\n",
        "print(pio_zajecia.lista_zajec)"
      ],
      "execution_count": 40,
      "outputs": [
        {
          "output_type": "stream",
          "text": [
            "['piateczek', 'praca domowa z mispow', 'Ilovemispy', 'mispy w czasie snu', 'MISP']\n"
          ],
          "name": "stdout"
        }
      ]
    },
    {
      "cell_type": "code",
      "metadata": {
        "id": "Wu3VJUW91K4Q",
        "colab": {
          "base_uri": "https://localhost:8080/"
        },
        "outputId": "9c97ceb9-4bca-47da-a378-418c3f3b4d4b"
      },
      "source": [
        "# Zaktualizana właściwość\r\n",
        "print(pio_zajecia.ile_zajec)"
      ],
      "execution_count": 41,
      "outputs": [
        {
          "output_type": "stream",
          "text": [
            "5\n"
          ],
          "name": "stdout"
        }
      ]
    },
    {
      "cell_type": "code",
      "metadata": {
        "id": "D35_ZuoC1K4W"
      },
      "source": [
        "# Lista obiektów\n",
        "lista_zajec= [DzienZajec(lista_dzien, dzien) for lista_dzien, dzien in \n",
        "             zip(zajecia,dnityg)]"
      ],
      "execution_count": 42,
      "outputs": []
    },
    {
      "cell_type": "code",
      "metadata": {
        "id": "Cw5xK_R11K4b",
        "colab": {
          "base_uri": "https://localhost:8080/"
        },
        "outputId": "0cd4e21e-35da-4854-81f2-cfadbbc3ca7a"
      },
      "source": [
        "print(lista_zajec)"
      ],
      "execution_count": 43,
      "outputs": [
        {
          "output_type": "stream",
          "text": [
            "[W dzien Pon mam zajecia: wf, W dzien Wto mam zajecia: informatyka, nauka czytania, W dzien Sro mam zajecia: relax, jedzenie, W dzien Czwar mam zajecia: mispy, mispy w domu, W dzien Pio mam zajecia: piateczek, praca domowa z mispow, Ilovemispy, mispy w czasie snu]\n"
          ],
          "name": "stdout"
        }
      ]
    },
    {
      "cell_type": "code",
      "metadata": {
        "id": "szQep5LO1K4k"
      },
      "source": [
        "# Sortowanie z kluczem\n",
        "posortowane_po_zajeciach=sorted(lista_zajec, key= lambda zajecie: zajecie.ile_zajec)\n",
        "posortowane_po_mispach=sorted(lista_zajec, key= lambda zajecie: zajecie.ile_mispow())"
      ],
      "execution_count": 44,
      "outputs": []
    },
    {
      "cell_type": "code",
      "metadata": {
        "id": "9othR12i1K4s",
        "colab": {
          "base_uri": "https://localhost:8080/"
        },
        "outputId": "1ce57905-a589-43d5-cd67-3f45dc1e6156"
      },
      "source": [
        "print(posortowane_po_zajeciach)"
      ],
      "execution_count": 45,
      "outputs": [
        {
          "output_type": "stream",
          "text": [
            "[W dzien Pon mam zajecia: wf, W dzien Wto mam zajecia: informatyka, nauka czytania, W dzien Sro mam zajecia: relax, jedzenie, W dzien Czwar mam zajecia: mispy, mispy w domu, W dzien Pio mam zajecia: piateczek, praca domowa z mispow, Ilovemispy, mispy w czasie snu]\n"
          ],
          "name": "stdout"
        }
      ]
    },
    {
      "cell_type": "code",
      "metadata": {
        "id": "QfNOg9SG1K4y",
        "colab": {
          "base_uri": "https://localhost:8080/"
        },
        "outputId": "9f4c8c2f-cd50-4c5a-bee3-de5bd94243ea"
      },
      "source": [
        "print(posortowane_po_mispach)"
      ],
      "execution_count": 46,
      "outputs": [
        {
          "output_type": "stream",
          "text": [
            "[W dzien Pon mam zajecia: wf, W dzien Wto mam zajecia: informatyka, nauka czytania, W dzien Sro mam zajecia: relax, jedzenie, W dzien Czwar mam zajecia: mispy, mispy w domu, W dzien Pio mam zajecia: piateczek, praca domowa z mispow, Ilovemispy, mispy w czasie snu]\n"
          ],
          "name": "stdout"
        }
      ]
    },
    {
      "cell_type": "markdown",
      "metadata": {
        "id": "uAuGHBO51K5D"
      },
      "source": [
        "#ZADANIE: Challenge 1\n",
        "\n",
        "Stworz typ NumerTelefonu\n",
        " * przy tworzeniu obiektu sprawdza czy właściwy numer (Polski) i jeśli nie, komunikuje błąd\n",
        " \n",
        " * numer jako tekst zapisany jest przy użyciu polskich słów np. \"jeden, pięć, siedem, zero\"\n",
        " \n",
        " * właściwość województwo zwraca odpowiednią nazwę lub \"komórkowy\"\n",
        " \n",
        " "
      ]
    },
    {
      "cell_type": "code",
      "metadata": {
        "id": "A04rcbwACsww"
      },
      "source": [
        "class NumerTelefonu:\n",
        "    # słownik z nazwami cyfr\n",
        "    cyfrySlownie = { \"0\": \"zero\", \"1\": \"jeden\", \"2\": \"dwa\", \"3\": \"trzy\", \"4\": \"cztery\",\n",
        "                     \"5\": \"pięć\", \"6\": \"sześć\", \"7\": \"siedem\", \"8\": \"osiem\", \"9\": \"dziewięć\" }\n",
        "    # zbiór pierwszych cyfr numerów komórkowych\n",
        "    numeryKomorkowe = { \"50\", \"51\", \"53\", \"57\", \"60\", \"66\", \"69\", \"72\", \"73\", \"78\", \"79\", \"88\" }\n",
        "    # słownik lokalnych numerów kierunkowych\n",
        "    numeryKierunkowe = { '76' : 'Dolnośląskie', '74' : 'Dolnośląskie', '75' : 'Dolnośląskie', '71' : 'Dolnośląskie', \n",
        "                         '52' : 'Kujawsko-pomorskie', '56' : 'Kujawsko-pomorskie', '54' : 'Kujawsko-pomorskie', \n",
        "                         '83' : 'Lubelskie', '82' : 'Lubelskie', '81' : 'Lubelskie', '84' : 'Lubelskie', '95' : 'Lubuskie', \n",
        "                         '68' : 'Lubuskie', '44' : 'Łódzkie', '43' : 'Łódzkie', '42' : 'Łódzkie', '46' : 'Łódzkie', \n",
        "                         '12' : 'Małopolskie', '18' : 'Małopolskie', '14' : 'Małopolskie', '23' : 'Mazowieckie', \n",
        "                         '29' : 'Mazowieckie', '24' : 'Mazowieckie', '48' : 'Mazowieckie', '25' : 'Mazowieckie', \n",
        "                         '22' : 'Mazowieckie', '77' : 'Opolskie', '13' : 'Podkarpackie', '16' : 'Podkarpackie', \n",
        "                         '17' : 'Podkarpackie', '15' : 'Podkarpackie', '85' : 'Podlaskie', '86' : 'Podlaskie', \n",
        "                         '87' : 'Podlaskie', '58' : 'Pomorskie', '59' : 'Pomorskie', '33' : 'Śląskie', '34' : 'Śląskie', \n",
        "                         '32' : 'Śląskie', '41' : 'Świętokrzyskie', '55' : 'Warmińsko-mazurskie',\n",
        "                         '89' : 'Warmińsko-mazurskie', '62' : 'Wielkopolskie', '63' : 'Wielkopolskie', \n",
        "                         '65' : 'Wielkopolskie', '67' : 'Wielkopolskie', '61' : 'Wielkopolskie', \n",
        "                         '91' : 'Zachodnio-pomorskie', '94' : 'Zachodnio-pomorskie' }\n",
        "    \n",
        "    # konstruktor\n",
        "    def __init__(self, numer):\n",
        "        if (len(numer) != 9):\n",
        "            print(\"Błędna długość numeru\")\n",
        "            self.numer = \"error\"\n",
        "        elif (not numer.isdigit()):\n",
        "            print(\"Numer zawiera niedozwolone znaki\")\n",
        "            self.numer = \"error\"\n",
        "        else:\n",
        "            print(\"Prawidłowy numer\")\n",
        "            self.numer = numer\n",
        "    # określanie województwa\n",
        "    @property\n",
        "    def wojewodztwo(self):\n",
        "        poczatekNumeru = self.numer[0:2] \n",
        "        if (poczatekNumeru in self.numeryKomorkowe):\n",
        "            return \"Komórkowy\"\n",
        "        elif (poczatekNumeru in self.numeryKierunkowe):\n",
        "            return self.numeryKierunkowe[poczatekNumeru]\n",
        "        else:\n",
        "            return \"Nieznany numer\"\n",
        "    # rzutowanie na string\n",
        "    def __repr__(self):\n",
        "        if (self.numer == \"error\"):\n",
        "            return \"Błędny numer\"\n",
        "        else:\n",
        "            return (\", \".join([self.cyfrySlownie[cyfra] for cyfra in self.numer]))\n"
      ],
      "execution_count": 47,
      "outputs": []
    },
    {
      "cell_type": "code",
      "metadata": {
        "id": "1EuMcKFsHjEK",
        "colab": {
          "base_uri": "https://localhost:8080/"
        },
        "outputId": "b72a0a68-892a-48d8-c01e-7da380e4a6f4"
      },
      "source": [
        "tel = NumerTelefonu(\"129805562\")\n",
        "print(tel)\n",
        "print(\"Województwo: \" + tel.wojewodztwo)"
      ],
      "execution_count": 48,
      "outputs": [
        {
          "output_type": "stream",
          "text": [
            "Prawidłowy numer\n",
            "jeden, dwa, dziewięć, osiem, zero, pięć, pięć, sześć, dwa\n",
            "Województwo: Małopolskie\n"
          ],
          "name": "stdout"
        }
      ]
    },
    {
      "cell_type": "code",
      "metadata": {
        "id": "9c85V7ZnbVQ8",
        "colab": {
          "base_uri": "https://localhost:8080/"
        },
        "outputId": "2a23299a-2ead-4f30-fbee-d1cba917dc3b"
      },
      "source": [
        "tel = NumerTelefonu(\"789805562\")\n",
        "print(tel)\n",
        "print(\"Województwo: \" + tel.wojewodztwo)"
      ],
      "execution_count": 49,
      "outputs": [
        {
          "output_type": "stream",
          "text": [
            "Prawidłowy numer\n",
            "siedem, osiem, dziewięć, osiem, zero, pięć, pięć, sześć, dwa\n",
            "Województwo: Komórkowy\n"
          ],
          "name": "stdout"
        }
      ]
    },
    {
      "cell_type": "code",
      "metadata": {
        "id": "tZm3t2STZsFc",
        "colab": {
          "base_uri": "https://localhost:8080/"
        },
        "outputId": "93fcdd24-faf4-4235-c8f0-d830680d8e1b"
      },
      "source": [
        "tel = NumerTelefonu(\"abc123456\")\n",
        "print(tel)"
      ],
      "execution_count": 50,
      "outputs": [
        {
          "output_type": "stream",
          "text": [
            "Numer zawiera niedozwolone znaki\n",
            "Błędny numer\n"
          ],
          "name": "stdout"
        }
      ]
    },
    {
      "cell_type": "code",
      "metadata": {
        "id": "wGBQ0omxafpO",
        "colab": {
          "base_uri": "https://localhost:8080/"
        },
        "outputId": "8a5ba178-3fe0-4a4b-fa71-ec6f6a8a2d82"
      },
      "source": [
        "tel = NumerTelefonu(\"12\")\n",
        "print(tel.wojewodztwo)"
      ],
      "execution_count": 51,
      "outputs": [
        {
          "output_type": "stream",
          "text": [
            "Błędna długość numeru\n",
            "Nieznany numer\n"
          ],
          "name": "stdout"
        }
      ]
    }
  ]
}