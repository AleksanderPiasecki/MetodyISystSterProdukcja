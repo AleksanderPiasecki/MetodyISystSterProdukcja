{
  "nbformat": 4,
  "nbformat_minor": 0,
  "metadata": {
    "kernelspec": {
      "display_name": "Python 3",
      "language": "python",
      "name": "python3"
    },
    "language_info": {
      "codemirror_mode": {
        "name": "ipython",
        "version": 3
      },
      "file_extension": ".py",
      "mimetype": "text/x-python",
      "name": "python",
      "nbconvert_exporter": "python",
      "pygments_lexer": "ipython3",
      "version": "3.7.3"
    },
    "colab": {
      "name": "PodstawyJezykaPython.ipynb",
      "provenance": [],
      "collapsed_sections": []
    }
  },
  "cells": [
    {
      "cell_type": "markdown",
      "metadata": {
        "id": "4bzhjLysENs2"
      },
      "source": [
        "#Wstęp do języka Python\r\n",
        "W ramach tego ćwiczenia wykonane zostały konstrukcje przedstawiające podstawowe elementy wspomnianego języka programowania."
      ]
    },
    {
      "cell_type": "code",
      "metadata": {
        "id": "E63OF5pm1N-a",
        "colab": {
          "base_uri": "https://localhost:8080/"
        },
        "outputId": "0a7c582d-c231-4523-bf08-8ae44a5d5c71"
      },
      "source": [
        "# Komentarz\n",
        "# Zmienne (bez deklaracji typów)\n",
        "wielkosc = 5\n",
        "wielkosc += 2\n",
        "# Korzystanie z \"konsoli\"\n",
        "print(wielkosc)"
      ],
      "execution_count": 1,
      "outputs": [
        {
          "output_type": "stream",
          "text": [
            "7\n"
          ],
          "name": "stdout"
        }
      ]
    },
    {
      "cell_type": "code",
      "metadata": {
        "id": "_o4nW8LU1N-q",
        "colab": {
          "base_uri": "https://localhost:8080/"
        },
        "outputId": "32892640-7f63-4e30-dbff-34944a6d39f6"
      },
      "source": [
        "# Instrukcje warunkowe\n",
        "if wielkosc > 6:\n",
        "    print(\"ale duże\")\n",
        "elif wielkosc < 3:\n",
        "    print(\"malutkie\")\n",
        "else:\n",
        "    print(\"w sam raz\")"
      ],
      "execution_count": 4,
      "outputs": [
        {
          "output_type": "stream",
          "text": [
            "ale duże\n"
          ],
          "name": "stdout"
        }
      ]
    },
    {
      "cell_type": "code",
      "metadata": {
        "id": "zbNX2Vor1N-3",
        "colab": {
          "base_uri": "https://localhost:8080/"
        },
        "outputId": "95f61d17-8979-42b2-9a92-87a72d1b47a8"
      },
      "source": [
        "# Lista\n",
        "studenci = [\"Ania\", \"Zosia\", \"Kasia\", \"Franek\"]\n",
        "\n",
        "print(studenci)"
      ],
      "execution_count": 5,
      "outputs": [
        {
          "output_type": "stream",
          "text": [
            "['Ania', 'Zosia', 'Kasia', 'Franek']\n"
          ],
          "name": "stdout"
        }
      ]
    },
    {
      "cell_type": "code",
      "metadata": {
        "id": "Wk5yrskB6td7"
      },
      "source": [
        "# Wyliczenie\r\n",
        "listaStudentow = enumerate(studenci)"
      ],
      "execution_count": 20,
      "outputs": []
    },
    {
      "cell_type": "code",
      "metadata": {
        "id": "0-OmDa1V66gw",
        "colab": {
          "base_uri": "https://localhost:8080/"
        },
        "outputId": "3686ef8e-65f1-45d7-ba98-4c5abe2eb2eb"
      },
      "source": [
        "# Przemieszczanie się po typach wyliczeniowych\n",
        "wybranyStudent = next(listaStudentow)\n",
        "print(wybranyStudent[0], wybranyStudent[1])"
      ],
      "execution_count": 23,
      "outputs": [
        {
          "output_type": "stream",
          "text": [
            "2 Kasia\n"
          ],
          "name": "stdout"
        }
      ]
    },
    {
      "cell_type": "code",
      "metadata": {
        "id": "og8e229y1N_G",
        "colab": {
          "base_uri": "https://localhost:8080/"
        },
        "outputId": "a377effc-5739-4de4-aa55-4d23bdc1d6f1"
      },
      "source": [
        "# Zagnieżdżenie listy\r\n",
        "print(studenci[0][1])"
      ],
      "execution_count": 16,
      "outputs": [
        {
          "output_type": "stream",
          "text": [
            "n\n"
          ],
          "name": "stdout"
        }
      ]
    },
    {
      "cell_type": "code",
      "metadata": {
        "scrolled": true,
        "id": "XGyqxtxN1N_P",
        "colab": {
          "base_uri": "https://localhost:8080/"
        },
        "outputId": "8e3fef37-f577-4ec0-badd-920f080a0ddc"
      },
      "source": [
        "# Pętle for - działanie jak foreach\n",
        "for student in studenci:\n",
        "    print(\"Student ma na imię:\", student)\n",
        "\n",
        "for student in studenci:\n",
        "    print(student)\n",
        "    if student[0] == \"A\":\n",
        "        print(\"Student na poczatku alfabetu\")\n",
        "# Generator ciągu liczb\n",
        "for numer in range(1, 7, 2):\n",
        "    print(numer)"
      ],
      "execution_count": 18,
      "outputs": [
        {
          "output_type": "stream",
          "text": [
            "Student ma na imię: Ania\n",
            "Student ma na imię: Zosia\n",
            "Student ma na imię: Kasia\n",
            "Student ma na imię: Franek\n",
            "Ania\n",
            "Student na poczatku alfabetu\n",
            "Zosia\n",
            "Kasia\n",
            "Franek\n",
            "1\n",
            "3\n",
            "5\n"
          ],
          "name": "stdout"
        }
      ]
    },
    {
      "cell_type": "code",
      "metadata": {
        "id": "ftas2-ZH1N_Y",
        "colab": {
          "base_uri": "https://localhost:8080/"
        },
        "outputId": "0e752d02-fce4-42e8-d747-b06ec050c876"
      },
      "source": [
        "# Format w łańcuchach tekstowych, wiele zmiennych iteracyjnych\n",
        "for numer, student in enumerate(studenci):\n",
        "    print(\"Student {} ma numer {}\".format(student, numer))"
      ],
      "execution_count": 26,
      "outputs": [
        {
          "output_type": "stream",
          "text": [
            "Student Ania ma numer 0\n",
            "Student Zosia ma numer 1\n",
            "Student Kasia ma numer 2\n",
            "Student Franek ma numer 3\n"
          ],
          "name": "stdout"
        }
      ]
    },
    {
      "cell_type": "code",
      "metadata": {
        "id": "UNpsI0el1N_g",
        "colab": {
          "base_uri": "https://localhost:8080/"
        },
        "outputId": "69ca424c-8d25-4dbc-c62f-65b25be5e1ee"
      },
      "source": [
        "# Wykorzystanie numerowanych list\n",
        "oceny = [2,2,5,3]\n",
        "for numer, student in enumerate(studenci):\n",
        "    print(\"Student {} ma numer {} i ocenę {}\".format(student, numer, oceny[numer]))\n",
        "# Przeciążenie operatora mnożenia dla list i tekstu\n",
        "print(\"--\" * 20)\n",
        "# Łączenie typów zliaczalnych\n",
        "for number, (student, ocena) in enumerate(zip(studenci, oceny)):\n",
        "    print(\"Student {} ma numer {} i ocenę {}\".format(student, number, ocena))"
      ],
      "execution_count": 27,
      "outputs": [
        {
          "output_type": "stream",
          "text": [
            "Student Ania ma numer 0 i ocenę 2\n",
            "Student Zosia ma numer 1 i ocenę 2\n",
            "Student Kasia ma numer 2 i ocenę 5\n",
            "Student Franek ma numer 3 i ocenę 3\n",
            "----------------------------------------\n",
            "Student Ania ma numer 0 i ocenę 2\n",
            "Student Zosia ma numer 1 i ocenę 2\n",
            "Student Kasia ma numer 2 i ocenę 5\n",
            "Student Franek ma numer 3 i ocenę 3\n"
          ],
          "name": "stdout"
        }
      ]
    },
    {
      "cell_type": "code",
      "metadata": {
        "id": "3ujdx1Ut1OAP",
        "colab": {
          "base_uri": "https://localhost:8080/"
        },
        "outputId": "eff66872-867f-48e0-bcf7-c137f0dcf179"
      },
      "source": [
        "# Rozbijanie listy / przypisanie wieloargumentowe\n",
        "trzy_elementy = [1, 2, 3]\n",
        "pierwszy, drugi, trzeci = trzy_elementy\n",
        "print(pierwszy)\n",
        "print(drugi)\n",
        "print(trzeci)"
      ],
      "execution_count": 28,
      "outputs": [
        {
          "output_type": "stream",
          "text": [
            "1\n",
            "2\n",
            "3\n"
          ],
          "name": "stdout"
        }
      ]
    },
    {
      "cell_type": "code",
      "metadata": {
        "id": "_vVeWbIb1OAb",
        "colab": {
          "base_uri": "https://localhost:8080/"
        },
        "outputId": "6bd82ff1-7d06-40f9-a900-9388b43cf151"
      },
      "source": [
        "# Pętla while\n",
        "n = 1\n",
        "while (n < 10):\n",
        "    print(n)\n",
        "    n += 1"
      ],
      "execution_count": 29,
      "outputs": [
        {
          "output_type": "stream",
          "text": [
            "1\n",
            "2\n",
            "3\n",
            "4\n",
            "5\n",
            "6\n",
            "7\n",
            "8\n",
            "9\n"
          ],
          "name": "stdout"
        }
      ]
    },
    {
      "cell_type": "code",
      "metadata": {
        "id": "gijSZ3bQ1OAj"
      },
      "source": [
        "# Definiowanie funkcji\n",
        "def dodaj_dwa(liczba):\n",
        "    return liczba + 2\n",
        "def dodaj_trzy(liczba):\n",
        "    return liczba + 3\n",
        "def dodaj_dwie_liczby(liczba1, liczba2):\n",
        "    return liczba1 + liczba2\n",
        "# Funkcja anonimowa\n",
        "dodaj_cztery = lambda liczba : liczba + 4"
      ],
      "execution_count": 30,
      "outputs": []
    },
    {
      "cell_type": "code",
      "metadata": {
        "id": "JmObZlBo8l_Q",
        "colab": {
          "base_uri": "https://localhost:8080/"
        },
        "outputId": "4253373b-623c-400c-fcc7-7eb76f09f03f"
      },
      "source": [
        "# Odwołanie do funkcji\n",
        "liczbaTest = 10\n",
        "liczbaTest = dodaj_cztery(liczbaTest)\n",
        "print(liczbaTest)"
      ],
      "execution_count": 31,
      "outputs": [
        {
          "output_type": "stream",
          "text": [
            "14\n"
          ],
          "name": "stdout"
        }
      ]
    },
    {
      "cell_type": "code",
      "metadata": {
        "id": "4gmhjlcn1OAq",
        "colab": {
          "base_uri": "https://localhost:8080/"
        },
        "outputId": "ffa22cfb-c106-454e-d7c2-134aa105b2bf"
      },
      "source": [
        "# Tablica funkcji\n",
        "funkcje = [dodaj_dwa, dodaj_trzy, dodaj_cztery]\n",
        "jakis_nr = 10\n",
        "for funkcja in funkcje:\n",
        "    print(funkcja(jakis_nr))"
      ],
      "execution_count": 32,
      "outputs": [
        {
          "output_type": "stream",
          "text": [
            "12\n",
            "13\n",
            "14\n"
          ],
          "name": "stdout"
        }
      ]
    },
    {
      "cell_type": "code",
      "metadata": {
        "id": "eyj_AcDs1OAy",
        "colab": {
          "base_uri": "https://localhost:8080/"
        },
        "outputId": "86f59d4b-81ed-4155-ada4-2fa49a867947"
      },
      "source": [
        "print(studenci)\n",
        "# Numeracja list (przedziały, indeksy wsteczne)\n",
        "print(studenci[0],\n",
        "      # Pomiń pierwszy\n",
        "      studenci[1:],\n",
        "      # Pomiń ostatni\n",
        "      studenci[:-1],\n",
        "      # Od końca\n",
        "      studenci[-2],\n",
        "      # Co któryś\n",
        "      studenci[::2]\n",
        "      )"
      ],
      "execution_count": 33,
      "outputs": [
        {
          "output_type": "stream",
          "text": [
            "['Ania', 'Zosia', 'Kasia', 'Franek']\n",
            "Ania ['Zosia', 'Kasia', 'Franek'] ['Ania', 'Zosia', 'Kasia'] Kasia ['Ania', 'Kasia']\n"
          ],
          "name": "stdout"
        }
      ]
    },
    {
      "cell_type": "code",
      "metadata": {
        "id": "VMbiOI0A1OBy",
        "colab": {
          "base_uri": "https://localhost:8080/"
        },
        "outputId": "f0013a2f-ef21-435a-926c-b16326e4cb33"
      },
      "source": [
        "# ZADANIE: Challenge 0.1\n",
        "\n",
        "zajecia = [\"wf\",\"informatyka\",\"relax\",\"mispy\",\"piateczek\"]\n",
        "dnityg= [\"Pon\",\"Wto\",\"Sro\",\"Czwar\",\"Pio\"]\n",
        "\n",
        "# --> Pokaż zajęcia od środy do piątku\n",
        "print('Od środy do piątku:')\n",
        "for (dzien, zajecie) in zip(dnityg[2:], zajecia[2:]):\n",
        "    print('> ', dzien, ' - ', zajecie)\n",
        "\n",
        "# --> Pokaż zajęcia oprócz środy\n",
        "print('Od poniedzialku do piatku oprocz srody:')\n",
        "for (dzien, zajecie) in zip(dnityg, zajecia):\n",
        "    # Wyklucz środę\n",
        "    if (dzien != \"Sro\"):\n",
        "        # Wypisz nazwę dnia tygodnia i zajęcie\n",
        "        print('> ', dzien, ' - ', zajecie)"
      ],
      "execution_count": 34,
      "outputs": [
        {
          "output_type": "stream",
          "text": [
            "Od środy do piątku:\n",
            ">  Sro  -  relax\n",
            ">  Czwar  -  mispy\n",
            ">  Pio  -  piateczek\n",
            "Od poniedzialku do piatku oprocz srody:\n",
            ">  Pon  -  wf\n",
            ">  Wto  -  informatyka\n",
            ">  Czwar  -  mispy\n",
            ">  Pio  -  piateczek\n"
          ],
          "name": "stdout"
        }
      ]
    },
    {
      "cell_type": "code",
      "metadata": {
        "id": "QQRReI_s1OB5",
        "colab": {
          "base_uri": "https://localhost:8080/"
        },
        "outputId": "8212b98d-3481-4163-ed64-e5fe94c33198"
      },
      "source": [
        "# ZADANIE: Challenge 0.2\n",
        "# --> Posortuj dni po najbardziej zajętych\n",
        "\n",
        "# Dane\n",
        "zajecia = [[\"wf\"],\n",
        "           [\"informatyka\", \"nauka czytania\"],\n",
        "           [\"relax\", \"jedzenie\"],\n",
        "           [\"mispy\",\"mispy w domu\"],\n",
        "           [\"piateczek\", \"praca domowa z mispow\", \"Ilovemispy\", \"mispy w czasie snu\"]\n",
        "          ]\n",
        "dnityg= [\"Pon\",\"Wto\",\"Sro\",\"Czwar\",\"Pio\"]\n",
        "\n",
        "# Zwraca numer (indeks) dnia tygodnia zapisanego tekstowo\n",
        "def nrDniaTygodnia(dzienTygodnia):\n",
        "    return dnityg.index(dzienTygodnia)\n",
        "# Zwraca liczbę zajęć w wybranym (tekstowo) dniu\n",
        "def ileZajec(dzienTygodnia):\n",
        "    return len(zajecia[nrDniaTygodnia(dzienTygodnia)])\n",
        "\n",
        "# Funkcja sortująca @ileZajec, w dół, czyli z rewersja\n",
        "dniTygPosort = sorted(dnityg, key = ileZajec, reverse = True)\n",
        "# Wypisz posortowane dni\n",
        "print('Dni (od najbardziej zajetych): ', dniTygPosort)\n",
        "\n",
        "# ZADANIE: Challenge 0.3\n",
        "# --> Napisz program, który znajdzie dzień z największą ilością mispów\n",
        "\n",
        "# Sprawdza, czy dane zajecie jest związane z MiSPami\n",
        "def czySaMispy(wybraneZajecie):\n",
        "    return 'misp' in wybraneZajecie\n",
        "# Liczy ile zajęć związanych z MiSPami jest w danym (jako tekst) dniu\n",
        "def ileMispow(dzienTygodnia):\n",
        "    ilMispow = 0\n",
        "    for zajecie in (zajecia[nrDniaTygodnia(dzienTygodnia)]):\n",
        "        if (czySaMispy(zajecie)):\n",
        "            ilMispow += 1\n",
        "    return ilMispow\n",
        "# Znajdź dzień z największą liczbą MiSPów (licząc funkcją @ileMispow)\n",
        "najwiecejMispow = max(dnityg, key = ileMispow)\n",
        "# Wypisz najMiSPowszy dzień\n",
        "print('Najwiecej MiSPow: ', najwiecejMispow)"
      ],
      "execution_count": 35,
      "outputs": [
        {
          "output_type": "stream",
          "text": [
            "Dni (od najbardziej zajetych):  ['Pio', 'Wto', 'Sro', 'Czwar', 'Pon']\n",
            "Najwiecej MiSPow:  Pio\n"
          ],
          "name": "stdout"
        }
      ]
    },
    {
      "cell_type": "code",
      "metadata": {
        "id": "6Z2fpbV-1OCE",
        "colab": {
          "base_uri": "https://localhost:8080/"
        },
        "outputId": "ee119262-b500-4437-9061-fdb12d380026"
      },
      "source": [
        "# Funkcja określająca długość elemntu zliczalnego\n",
        "print(len(zajecia))\n",
        "# Wyszukiwanie ciągów znaków w tekście\n",
        "print(\"Ma\" in \"MojaMaMa\")\n",
        "\n",
        "liczby=[\"22\", \"11\", \"33\", \"100\"]\n",
        "# Krotki\n",
        "liczby_i_nazwy= [(\"22\",  \"dwadziescia dwa\"),\n",
        "                 (\"11\",  \"jedenascie\"),\n",
        "                 (\"33\",  \"trzydziesci trzy\"),\n",
        "                 (\"100\", \"sto\")]\n",
        "# Sortowanie\n",
        "sorted(liczby)\n",
        "# Sortowanie z podaniem metody wartościowania\n",
        "sorted(liczby, key=int)\n",
        "\n",
        "liczby_kolejnosc= enumerate(liczby)\n",
        "# Przeszukiwanie typów zliczalnych\n",
        "def czy_jest_jeden(liczba):\n",
        "    if \"1\" in liczba:\n",
        "        return 1\n",
        "    else:\n",
        "        return 0\n",
        "# Rzutowanie, odczytywanie wartości z krotek\n",
        "def na_liczbe_z_nazwa(krotka):\n",
        "         return int(krotka[0])\n",
        "def na_liczbe_z_indeksem(krotka):\n",
        "         return int(krotka[1])\n",
        "\n",
        "print('Sortowanie \"czy jest 1\": ', sorted(liczby, key=czy_jest_jeden))\n",
        "print('Sortowanie po wartości z nazwami: ', sorted(liczby_i_nazwy, key=na_liczbe_z_nazwa))\n",
        "print('Sortowanie z indeksami po wartości: ', sorted(liczby_kolejnosc, key=na_liczbe_z_indeksem))"
      ],
      "execution_count": 41,
      "outputs": [
        {
          "output_type": "stream",
          "text": [
            "5\n",
            "True\n",
            "Sortowanie \"czy jest 1\":  ['22', '33', '11', '100']\n",
            "Sortowanie po wartości z nazwami:  [('11', 'jedenascie'), ('22', 'dwadziescia dwa'), ('33', 'trzydziesci trzy'), ('100', 'sto')]\n",
            "Sortowanie z indeksami po wartości:  [(1, '11'), (0, '22'), (2, '33'), (3, '100')]\n"
          ],
          "name": "stdout"
        }
      ]
    },
    {
      "cell_type": "code",
      "metadata": {
        "id": "bJSCZOHy1OCq",
        "colab": {
          "base_uri": "https://localhost:8080/",
          "height": 69
        },
        "outputId": "5ba483da-a092-451b-e8a6-251ec5163010"
      },
      "source": [
        "# Komentarz wielolinijkowy\n",
        "\"\"\"\n",
        "terminarz = [\n",
        "             [\"WF\"],\n",
        "             [\"informatyka\", \"Nauka czytania\"],\n",
        "             [\"Relax\", \"Jedzenie\", \"MISPy dla opornych\"],\n",
        "             [\"MISPy\", \"MISPy w domu\"],\n",
        "             [\"Piateczek\", \"Praca domowa z MISPow\", \"ILoveMISPy\", \"MISPy w czasie snu\"]\n",
        "]\n",
        "dniTygodnia = [\"pn\", \"wt\", \"sr\", \"cz\", \"pt\"]\n",
        "\n",
        "def ileMISPow(dzienTygodnia):\n",
        "  return terminarz[dzienTygodnia].count(r\"MISP.*?\")\n",
        "\n",
        "print(ileMISPow(4))\n",
        "\"\"\""
      ],
      "execution_count": 42,
      "outputs": [
        {
          "output_type": "execute_result",
          "data": {
            "application/vnd.google.colaboratory.intrinsic+json": {
              "type": "string"
            },
            "text/plain": [
              "'\\nterminarz = [\\n             [\"WF\"],\\n             [\"informatyka\", \"Nauka czytania\"],\\n             [\"Relax\", \"Jedzenie\", \"MISPy dla opornych\"],\\n             [\"MISPy\", \"MISPy w domu\"],\\n             [\"Piateczek\", \"Praca domowa z MISPow\", \"ILoveMISPy\", \"MISPy w czasie snu\"]\\n]\\ndniTygodnia = [\"pn\", \"wt\", \"sr\", \"cz\", \"pt\"]\\n\\ndef ileMISPow(dzienTygodnia):\\n  return terminarz[dzienTygodnia].count(r\"MISP.*?\")\\n\\nprint(ileMISPow(4))\\n'"
            ]
          },
          "metadata": {
            "tags": []
          },
          "execution_count": 42
        }
      ]
    }
  ]
}