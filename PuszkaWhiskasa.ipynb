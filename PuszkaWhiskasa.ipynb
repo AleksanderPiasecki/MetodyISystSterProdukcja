{
  "nbformat": 4,
  "nbformat_minor": 0,
  "metadata": {
    "colab": {
      "name": "PuszkaWhiskasa.ipynb",
      "provenance": [],
      "collapsed_sections": []
    },
    "kernelspec": {
      "name": "python3",
      "display_name": "Python 3"
    }
  },
  "cells": [
    {
      "cell_type": "markdown",
      "metadata": {
        "id": "ckU05uDeso35"
      },
      "source": [
        "#Problem liniowy\r\n",
        "Instalacja biblioteki"
      ]
    },
    {
      "cell_type": "code",
      "metadata": {
        "id": "BjX-mj9e8D5a"
      },
      "source": [
        "!pip install pulp\n",
        "\n",
        "!sudo apt-get install coinor-cbc glpk-utils coinor-clp\n"
      ],
      "execution_count": null,
      "outputs": []
    },
    {
      "cell_type": "code",
      "metadata": {
        "id": "HMGiufp89W-9",
        "colab": {
          "base_uri": "https://localhost:8080/"
        },
        "outputId": "2a3a551a-95f5-4fcc-a387-6883cdaa13aa"
      },
      "source": [
        "### Kod sprawdza, czy instalacja się udała\n",
        "import pulp\n",
        "print(pulp.__version__)"
      ],
      "execution_count": 2,
      "outputs": [
        {
          "output_type": "stream",
          "text": [
            "2.4\n"
          ],
          "name": "stdout"
        }
      ]
    },
    {
      "cell_type": "code",
      "metadata": {
        "id": "05p9Frax-V2f"
      },
      "source": [
        "pulp.pulpTestAll()"
      ],
      "execution_count": null,
      "outputs": []
    },
    {
      "cell_type": "markdown",
      "metadata": {
        "id": "JHP3Y3Yh-stH"
      },
      "source": [
        "# Zadania:\n",
        "\n",
        "1. Przeczytaj materiały dotyczące pulp ze strony internetowej https://coin-or.github.io/pulp/main/index.html oraz przejdź przez blending problem (przepisz do swojego notebooka)\n",
        "\n",
        "2. W blending problem dodaj zmienną decyzyjną. Stwórz zmienną która pojawi się w końcowym składzie produktu (tj. wartość zmiennej będzie miała niezerową postać)\n",
        "\n",
        "3. Dodaj ograniczenie co do zawartości witaminy B \n",
        "\n",
        "Zawartość:\n",
        "\n",
        "| Nazwa      | zawartość ug/100g |\n",
        "|------------|-------------------|\n",
        "| chicken    | 0.3               |\n",
        "| beef       | 2.6               |\n",
        "| mutton     | 2.6               |\n",
        "| rice       | 0                 |\n",
        "| wheat bran | 0                 |\n",
        "| gel        | 0                 |\n",
        "| sardines   | 8.9               |\n",
        "\n",
        "Kot ma zjeść minimum 0.24 ug na kilogram masy więc około\n",
        "0.8 ug dziennie\n",
        "\n",
        "4. Na końcu ma pojawiać się zdanie podsumowujące wynik, w stylu:\n",
        "Końcowy produkt będzie kosztować {}, będzie miał w składzie {nazwa}: {} %, {nastepna nazwa}: {} %\n",
        "\n"
      ]
    },
    {
      "cell_type": "code",
      "metadata": {
        "id": "IVYbW9PsBTob"
      },
      "source": [
        "# Import z przestrzeni nazw\n",
        "from pulp import *"
      ],
      "execution_count": 4,
      "outputs": []
    },
    {
      "cell_type": "markdown",
      "metadata": {
        "id": "qNJRWALucJ_U"
      },
      "source": [
        "##Wersja nieuporządkowana, uproszczona do 3 składników:"
      ]
    },
    {
      "cell_type": "code",
      "metadata": {
        "id": "Exsu1GyKBamI",
        "colab": {
          "base_uri": "https://localhost:8080/"
        },
        "outputId": "ae4101c1-a583-4796-e9b7-c61510d8c10b"
      },
      "source": [
        "# Deklaracja problemu\n",
        "kosztPuszki = LpProblem(\"Whiskas_Problem\", LpMinimize)\n",
        "# Zmienne z limitem 0-100%\n",
        "zwrtKurcz = LpVariable(\"Chicken_Percent\", 0, 100, LpInteger)\n",
        "zwrtWolow = LpVariable(\"Beef_Percent\", 0, 100, LpInteger)\n",
        "zwrtRyzu  = LpVariable(\"Rice_Percent\", 0, 100, LpInteger)\n",
        "# Dodanie funkcji określającej problem\n",
        "kosztPuszki += 0.013 * zwrtKurcz + 0.008 * zwrtWolow + 0.007 * zwrtRyzu, \"Ingredients_Cost\"\n",
        "# Ograniczenia składu\n",
        "kosztPuszki += zwrtKurcz + zwrtWolow + zwrtRyzu == 100, \"Total_Ingredients_Percent\"\n",
        "kosztPuszki += 0.100 * zwrtKurcz + 0.200 * zwrtWolow + 0.000 * zwrtRyzu >= 8.0, \"Protein_Content\"\n",
        "kosztPuszki += 0.080 * zwrtKurcz + 0.100 * zwrtWolow + 0.010 * zwrtRyzu >= 6.0, \"Fat_Content\"\n",
        "kosztPuszki += 0.001 * zwrtKurcz + 0.005 * zwrtWolow + 0.100 * zwrtRyzu <= 2.0, \"Fiber_Content\"\n",
        "kosztPuszki += 0.002 * zwrtKurcz + 0.005 * zwrtWolow + 0.002 * zwrtRyzu <= 0.4, \"Salt_Content\"\n",
        "# Zawartość witaminy B w ug\n",
        "kosztPuszki += 0.003 * zwrtKurcz + 0.026 * zwrtWolow + 0.000 * zwrtRyzu >= 0.8, \"VitaminB_Content\"\n",
        "\n",
        "# Tworzenie pliku w odpowiednim języku\n",
        "kosztPuszki.writeLP(\"WhiskasModel.lp\")\n",
        "kosztPuszki.solve()\n",
        "\n",
        "# Status rozwiązania\n",
        "print(\"Status:\", LpStatus[kosztPuszki.status])\n",
        "# Wykorzystanie składników\n",
        "for zm in kosztPuszki.variables():\n",
        "    print(zm.name, \"=\", zm.varValue, \"%\")\n",
        "# Podsumowanie\n",
        "print(\"One can (100g) costs: {koszt} $. Ingredients: {sklad}\".format(\n",
        "    koszt = kosztPuszki.objective.value(),\n",
        "    sklad = \", \".join(skl.name[0:skl.name.index('_')] + \" (\" + str(skl.varValue) + \"%)\"\n",
        "    for skl in kosztPuszki.variables()))\n",
        ")\n"
      ],
      "execution_count": 5,
      "outputs": [
        {
          "output_type": "stream",
          "text": [
            "Status: Optimal\n",
            "Beef_Percent = 66.0 %\n",
            "Chicken_Percent = 18.0 %\n",
            "Rice_Percent = 16.0 %\n",
            "One can (100g) costs: 0.874 $. Ingredients: Beef (66.0%), Chicken (18.0%), Rice (16.0%)\n"
          ],
          "name": "stdout"
        }
      ]
    },
    {
      "cell_type": "markdown",
      "metadata": {
        "id": "dyXMz6hgdVQ_"
      },
      "source": [
        "##Wersja z użyciem słowników\r\n",
        "W składzie ma się pojawić dodany produkt (sardynki - bardzo drogie), a więc konieczna jest modyfikacja założeń."
      ]
    },
    {
      "cell_type": "markdown",
      "metadata": {
        "id": "ly0j4Mw6cCj6"
      },
      "source": [
        "###Promocja na sardynki\n",
        "W tym przypadku udało się znaleźć okazyjnie tanie sardynki, które są bardziej wartościowe od wołowiny, a kosztują tyle samo (więcej wartości odżywczych w tej samej cenie). Można więc kupić ich mniej, a resztę wypełnić tanim żelem i zmniejszyć koszt produktu."
      ]
    },
    {
      "cell_type": "code",
      "metadata": {
        "id": "_pCr6NwxdSe2",
        "colab": {
          "base_uri": "https://localhost:8080/"
        },
        "outputId": "eb5ab722-414c-47c3-d144-5ed827f5805f"
      },
      "source": [
        "# Creates a list of the Ingredients\n",
        "Ingredients = ['CHICKEN', 'BEEF', 'MUTTON', 'RICE', 'WHEAT', 'GEL', 'SARDINES']\n",
        "\n",
        "# A dictionary of the costs of each of the Ingredients is created\n",
        "costs = {'CHICKEN': 0.013, \n",
        "         'BEEF': 0.008, \n",
        "         'MUTTON': 0.010, \n",
        "         'RICE': 0.002, \n",
        "         'WHEAT': 0.005, \n",
        "         'GEL': 0.0015,\n",
        "         'SARDINES': 0.008}\n",
        "\n",
        "# A dictionary of the protein percent in each of the Ingredients is created\n",
        "proteinPercent = {'CHICKEN': 0.100, \n",
        "                  'BEEF': 0.200, \n",
        "                  'MUTTON': 0.150, \n",
        "                  'RICE': 0.000, \n",
        "                  'WHEAT': 0.040, \n",
        "                  'GEL': 0.000,\n",
        "                  'SARDINES': 0.250}\n",
        "\n",
        "# A dictionary of the fat percent in each of the Ingredients is created\n",
        "fatPercent = {'CHICKEN': 0.080, \n",
        "              'BEEF': 0.100, \n",
        "              'MUTTON': 0.110, \n",
        "              'RICE': 0.010, \n",
        "              'WHEAT': 0.010, \n",
        "              'GEL': 0.000,\n",
        "              'SARDINES': 0.110}\n",
        "\n",
        "# A dictionary of the fibre percent in each of the Ingredients is created\n",
        "fibrePercent = {'CHICKEN': 0.001, \n",
        "                'BEEF': 0.005, \n",
        "                'MUTTON': 0.003, \n",
        "                'RICE': 0.100, \n",
        "                'WHEAT': 0.150, \n",
        "                'GEL': 0.000,\n",
        "                'SARDINES': 0.000}\n",
        "\n",
        "# A dictionary of the salt percent in each of the Ingredients is created\n",
        "saltPercent = {'CHICKEN': 0.002, \n",
        "               'BEEF': 0.005, \n",
        "               'MUTTON': 0.007, \n",
        "               'RICE': 0.002, \n",
        "               'WHEAT': 0.008, \n",
        "               'GEL': 0.000,\n",
        "               'SARDINES': 0.003}\n",
        "              \n",
        "vitaminBPercent = {'CHICKEN': 0.003, \n",
        "               'BEEF':        0.026, \n",
        "               'MUTTON':      0.026, \n",
        "               'RICE':        0.000, \n",
        "               'WHEAT':       0.000, \n",
        "               'GEL':         0.000,\n",
        "               'SARDINES':    0.089}\n",
        "\n",
        "# Create the 'prob' variable to contain the problem data\n",
        "prob = LpProblem(\"The_Whiskas_Problem\", LpMinimize)\n",
        "\n",
        "# A dictionary called 'ingredient_vars' is created to contain the referenced Variables\n",
        "ingredient_vars = LpVariable.dicts(\"Ingr\", Ingredients, 0, 100)\n",
        "\n",
        "# The objective function is added to 'prob' first\n",
        "prob += lpSum([costs[i]*ingredient_vars[i] for i in Ingredients]), \"Total Cost of Ingredients per can\"\n",
        "\n",
        "# The constraints are added to 'prob'\n",
        "prob += lpSum([ingredient_vars[i] for i in Ingredients]) == 100, \"PercentagesSum\"\n",
        "prob += lpSum([proteinPercent[i] * ingredient_vars[i] for i in Ingredients]) >= 8.0, \"ProteinRequirement\"\n",
        "prob += lpSum([fatPercent[i] * ingredient_vars[i] for i in Ingredients]) >= 6.0, \"FatRequirement\"\n",
        "prob += lpSum([fibrePercent[i] * ingredient_vars[i] for i in Ingredients]) <= 2.0, \"FibreRequirement\"\n",
        "prob += lpSum([saltPercent[i] * ingredient_vars[i] for i in Ingredients]) <= 0.4, \"SaltRequirement\"\n",
        "prob += lpSum([vitaminBPercent[i] * ingredient_vars[i] for i in Ingredients]) >= 0.8, \"VitBRequirement\"\n",
        "\n",
        "prob.writeLP(\"WhiskasModelBis.lp\")\n",
        "prob.solve()\n",
        "print(\"Status: \", LpStatus[prob.status])\n",
        "\n",
        "# Podsumowanie\n",
        "print(\"One can (100g) costs: {cost:.3f}$. Ingredients: {ingrList}\".format(\n",
        "    cost = prob.objective.value(),\n",
        "    ingrList = \", \".join(\n",
        "        \"{} ({:.2f}%)\".format(i.name[i.name.index('_') + 1:].capitalize(), i.varValue)\n",
        "        for i in prob.variables() if i.varValue > 0)\n",
        "))"
      ],
      "execution_count": 6,
      "outputs": [
        {
          "output_type": "stream",
          "text": [
            "Status:  Optimal\n",
            "One can (100g) costs: 0.503$. Ingredients: Gel (27.27%), Rice (20.00%), Sardines (52.73%)\n"
          ],
          "name": "stdout"
        }
      ]
    },
    {
      "cell_type": "markdown",
      "metadata": {
        "id": "Dn2BAq9YcS24"
      },
      "source": [
        "###Terapia witaminowa\n",
        "Załóżmy, że kot senior potrzebuje więcej witaminy B. Nawet mimo, że sardynki są droższe od wołowiny, to zawierają potrzebną witaminę (więcej, więc z punktu widzenia tego mikroelementu taniej). Są więc składnikiem uzupełniającym."
      ]
    },
    {
      "cell_type": "code",
      "metadata": {
        "id": "MDbfQdzscSXb",
        "colab": {
          "base_uri": "https://localhost:8080/"
        },
        "outputId": "dd6fea7a-b69a-4b45-d705-1f0d99f6b5b1"
      },
      "source": [
        "# Creates a list of the Ingredients\n",
        "Ingredients = ['CHICKEN', 'BEEF', 'MUTTON', 'RICE', 'WHEAT', 'GEL', 'SARDINES']\n",
        "\n",
        "# A dictionary of the costs of each of the Ingredients is created\n",
        "costs = {'CHICKEN': 0.013, \n",
        "         'BEEF': 0.008, \n",
        "         'MUTTON': 0.010, \n",
        "         'RICE': 0.002, \n",
        "         'WHEAT': 0.005, \n",
        "         'GEL': 0.0015,\n",
        "         'SARDINES': 0.010}\n",
        "\n",
        "# A dictionary of the protein percent in each of the Ingredients is created\n",
        "proteinPercent = {'CHICKEN': 0.100, \n",
        "                  'BEEF': 0.200, \n",
        "                  'MUTTON': 0.150, \n",
        "                  'RICE': 0.000, \n",
        "                  'WHEAT': 0.040, \n",
        "                  'GEL': 0.000,\n",
        "                  'SARDINES': 0.250}\n",
        "\n",
        "# A dictionary of the fat percent in each of the Ingredients is created\n",
        "fatPercent = {'CHICKEN': 0.080, \n",
        "              'BEEF': 0.100, \n",
        "              'MUTTON': 0.110, \n",
        "              'RICE': 0.010, \n",
        "              'WHEAT': 0.010, \n",
        "              'GEL': 0.000,\n",
        "              'SARDINES': 0.110}\n",
        "\n",
        "# A dictionary of the fibre percent in each of the Ingredients is created\n",
        "fibrePercent = {'CHICKEN': 0.001, \n",
        "                'BEEF': 0.005, \n",
        "                'MUTTON': 0.003, \n",
        "                'RICE': 0.100, \n",
        "                'WHEAT': 0.150, \n",
        "                'GEL': 0.000,\n",
        "                'SARDINES': 0.000}\n",
        "\n",
        "# A dictionary of the salt percent in each of the Ingredients is created\n",
        "saltPercent = {'CHICKEN': 0.002, \n",
        "               'BEEF': 0.005, \n",
        "               'MUTTON': 0.007, \n",
        "               'RICE': 0.002, \n",
        "               'WHEAT': 0.008, \n",
        "               'GEL': 0.000,\n",
        "               'SARDINES': 0.003}\n",
        "              \n",
        "vitaminBPercent = {'CHICKEN': 0.003, \n",
        "               'BEEF':        0.026, \n",
        "               'MUTTON':      0.026, \n",
        "               'RICE':        0.000, \n",
        "               'WHEAT':       0.000, \n",
        "               'GEL':         0.000,\n",
        "               'SARDINES':    0.089}\n",
        "\n",
        "# Create the 'prob' variable to contain the problem data\n",
        "prob = LpProblem(\"The_Whiskas_Problem\", LpMinimize)\n",
        "\n",
        "# A dictionary called 'ingredient_vars' is created to contain the referenced Variables\n",
        "ingredient_vars = LpVariable.dicts(\"Ingr\", Ingredients, 0, 100)\n",
        "\n",
        "# The objective function is added to 'prob' first\n",
        "prob += lpSum([costs[i]*ingredient_vars[i] for i in Ingredients]), \"Total Cost of Ingredients per can\"\n",
        "\n",
        "# The constraints are added to 'prob'\n",
        "prob += lpSum([ingredient_vars[i] for i in Ingredients]) == 100, \"PercentagesSum\"\n",
        "prob += lpSum([proteinPercent[i] * ingredient_vars[i] for i in Ingredients]) >= 8.0, \"ProteinRequirement\"\n",
        "prob += lpSum([fatPercent[i] * ingredient_vars[i] for i in Ingredients]) >= 6.0, \"FatRequirement\"\n",
        "prob += lpSum([fibrePercent[i] * ingredient_vars[i] for i in Ingredients]) <= 2.0, \"FibreRequirement\"\n",
        "prob += lpSum([saltPercent[i] * ingredient_vars[i] for i in Ingredients]) <= 0.4, \"SaltRequirement\"\n",
        "prob += lpSum([vitaminBPercent[i] * ingredient_vars[i] for i in Ingredients]) >= 1.6, \"VitBRequirement\"\n",
        "\n",
        "prob.writeLP(\"WhiskasModelBis.lp\")\n",
        "prob.solve()\n",
        "print(\"Status: \", LpStatus[prob.status])\n",
        "\n",
        "# Podsumowanie\n",
        "print(\"One can (100g) costs: {cost:.3f}$. Ingredients: {ingrList}\".format(\n",
        "    cost = prob.objective.value(),\n",
        "    ingrList = \", \".join(\n",
        "        \"{} ({:.2f}%)\".format(i.name[i.name.index('_') + 1:].capitalize(), i.varValue)\n",
        "        for i in prob.variables() if i.varValue > 0)\n",
        "))"
      ],
      "execution_count": 7,
      "outputs": [
        {
          "output_type": "stream",
          "text": [
            "Status:  Optimal\n",
            "One can (100g) costs: 0.539$. Ingredients: Beef (56.74%), Gel (24.69%), Rice (17.16%), Sardines (1.40%)\n"
          ],
          "name": "stdout"
        }
      ]
    },
    {
      "cell_type": "markdown",
      "metadata": {
        "id": "INv2tTsKbpWr"
      },
      "source": [
        "##Pliki z modelami problemów"
      ]
    },
    {
      "cell_type": "code",
      "metadata": {
        "id": "PC0V5Nv_LB6u"
      },
      "source": [
        "!cat \"WhiskasModel.lp\""
      ],
      "execution_count": null,
      "outputs": []
    },
    {
      "cell_type": "code",
      "metadata": {
        "id": "Br5KbwxQqPAx"
      },
      "source": [
        "!cat \"WhiskasModelBis.lp\""
      ],
      "execution_count": null,
      "outputs": []
    },
    {
      "cell_type": "markdown",
      "metadata": {
        "id": "e6up7Z_FwLIx"
      },
      "source": [
        "#Podsumowanie\r\n",
        "Użycie słowników umożliwia definiowanie bardziej rozbudowanych problemów bez znacznego zwiększania nakładu pracy. Dodatkowo, problem opisany tą metodą jest znacznie bardziej przejrzysty, dzięki czemu można łatwo wprowadzać modyfikacje założeń. Dane do takiego zadania mogłyby być również zdefiniowane w zewnętrznych plikach, gdzie tworzenie oddzielnych zmiennych na każdą wartość byłoby zdecydowanie niewskazane."
      ]
    }
  ]
}