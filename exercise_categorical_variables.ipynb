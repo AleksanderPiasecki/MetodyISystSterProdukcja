{
  "nbformat": 4,
  "nbformat_minor": 0,
  "metadata": {
    "kernelspec": {
      "display_name": "Python 3",
      "language": "python",
      "name": "python3"
    },
    "language_info": {
      "codemirror_mode": {
        "name": "ipython",
        "version": 3
      },
      "file_extension": ".py",
      "mimetype": "text/x-python",
      "name": "python",
      "nbconvert_exporter": "python",
      "pygments_lexer": "ipython3",
      "version": "3.7.6"
    },
    "papermill": {
      "duration": 17.773388,
      "end_time": "2020-12-15T16:33:04.205908",
      "environment_variables": {},
      "exception": null,
      "input_path": "__notebook__.ipynb",
      "output_path": "__notebook__.ipynb",
      "parameters": {},
      "start_time": "2020-12-15T16:32:46.432520",
      "version": "2.1.0"
    },
    "colab": {
      "name": "exercise-categorical-variables.ipynb",
      "provenance": [],
      "include_colab_link": true
    }
  },
  "cells": [
    {
      "cell_type": "markdown",
      "metadata": {
        "id": "view-in-github",
        "colab_type": "text"
      },
      "source": [
        "<a href=\"https://colab.research.google.com/github/AleksanderPiasecki/MetodyISystSterProdukcja/blob/main/exercise_categorical_variables.ipynb\" target=\"_parent\"><img src=\"https://colab.research.google.com/assets/colab-badge.svg\" alt=\"Open In Colab\"/></a>"
      ]
    },
    {
      "cell_type": "markdown",
      "metadata": {
        "papermill": {
          "duration": 0.026786,
          "end_time": "2020-12-15T16:32:51.892190",
          "exception": false,
          "start_time": "2020-12-15T16:32:51.865404",
          "status": "completed"
        },
        "tags": [],
        "id": "HuF4M1FCSsoU"
      },
      "source": [
        "**This notebook is an exercise in the [Intermediate Machine Learning](https://www.kaggle.com/learn/intermediate-machine-learning) course.  You can reference the tutorial at [this link](https://www.kaggle.com/alexisbcook/categorical-variables).**\n",
        "\n",
        "---\n"
      ]
    },
    {
      "cell_type": "markdown",
      "metadata": {
        "papermill": {
          "duration": 0.025341,
          "end_time": "2020-12-15T16:32:51.943018",
          "exception": false,
          "start_time": "2020-12-15T16:32:51.917677",
          "status": "completed"
        },
        "tags": [],
        "id": "QBj_9ZjxSson"
      },
      "source": [
        "By encoding **categorical variables**, you'll obtain your best results thus far!\n",
        "\n",
        "# Setup\n",
        "\n",
        "The questions below will give you feedback on your work. Run the following cell to set up the feedback system."
      ]
    },
    {
      "cell_type": "code",
      "metadata": {
        "execution": {
          "iopub.execute_input": "2020-12-15T16:32:52.003633Z",
          "iopub.status.busy": "2020-12-15T16:32:52.002918Z",
          "iopub.status.idle": "2020-12-15T16:32:52.079414Z",
          "shell.execute_reply": "2020-12-15T16:32:52.078583Z"
        },
        "papermill": {
          "duration": 0.109546,
          "end_time": "2020-12-15T16:32:52.079564",
          "exception": false,
          "start_time": "2020-12-15T16:32:51.970018",
          "status": "completed"
        },
        "tags": [],
        "id": "trPGNU3iSsoo",
        "outputId": "3167dc1d-cf8a-4230-d54c-954800500977"
      },
      "source": [
        "# Set up code checking\n",
        "import os\n",
        "if not os.path.exists(\"../input/train.csv\"):\n",
        "    os.symlink(\"../input/home-data-for-ml-course/train.csv\", \"../input/train.csv\")  \n",
        "    os.symlink(\"../input/home-data-for-ml-course/test.csv\", \"../input/test.csv\") \n",
        "from learntools.core import binder\n",
        "binder.bind(globals())\n",
        "from learntools.ml_intermediate.ex3 import *\n",
        "print(\"Setup Complete\")"
      ],
      "execution_count": null,
      "outputs": [
        {
          "output_type": "stream",
          "text": [
            "Setup Complete\n"
          ],
          "name": "stdout"
        }
      ]
    },
    {
      "cell_type": "markdown",
      "metadata": {
        "papermill": {
          "duration": 0.028048,
          "end_time": "2020-12-15T16:32:52.133689",
          "exception": false,
          "start_time": "2020-12-15T16:32:52.105641",
          "status": "completed"
        },
        "tags": [],
        "id": "tKvAxfBqSsos"
      },
      "source": [
        "In this exercise, you will work with data from the [Housing Prices Competition for Kaggle Learn Users](https://www.kaggle.com/c/home-data-for-ml-course). \n",
        "\n",
        "![Ames Housing dataset image](https://i.imgur.com/lTJVG4e.png)\n",
        "\n",
        "Run the next code cell without changes to load the training and validation sets in `X_train`, `X_valid`, `y_train`, and `y_valid`.  The test set is loaded in `X_test`."
      ]
    },
    {
      "cell_type": "code",
      "metadata": {
        "execution": {
          "iopub.execute_input": "2020-12-15T16:32:52.204339Z",
          "iopub.status.busy": "2020-12-15T16:32:52.203436Z",
          "iopub.status.idle": "2020-12-15T16:32:53.501074Z",
          "shell.execute_reply": "2020-12-15T16:32:53.500504Z"
        },
        "papermill": {
          "duration": 1.337908,
          "end_time": "2020-12-15T16:32:53.501197",
          "exception": false,
          "start_time": "2020-12-15T16:32:52.163289",
          "status": "completed"
        },
        "tags": [],
        "id": "p-W8JPAYSsou"
      },
      "source": [
        "import pandas as pd\n",
        "from sklearn.model_selection import train_test_split\n",
        "\n",
        "# Read the data\n",
        "X = pd.read_csv('../input/train.csv', index_col='Id') \n",
        "\n",
        "# Remove rows with missing target, separate target from predictors\n",
        "X.dropna(axis=0, subset=['SalePrice'], inplace=True)\n",
        "y = X.SalePrice\n",
        "X.drop(['SalePrice'], axis=1, inplace=True)\n",
        "\n",
        "# To keep things simple, we'll drop columns with missing values\n",
        "cols_with_missing = [col for col in X.columns if X[col].isnull().any()] \n",
        "X.drop(cols_with_missing, axis=1, inplace=True)\n",
        "\n",
        "# Break off validation set from training data\n",
        "X_train, X_valid, y_train, y_valid = train_test_split(X, y,\n",
        "                                                      train_size=0.8, test_size=0.2,\n",
        "                                                      random_state=0)"
      ],
      "execution_count": null,
      "outputs": []
    },
    {
      "cell_type": "markdown",
      "metadata": {
        "papermill": {
          "duration": 0.02728,
          "end_time": "2020-12-15T16:32:53.554156",
          "exception": false,
          "start_time": "2020-12-15T16:32:53.526876",
          "status": "completed"
        },
        "tags": [],
        "id": "U9xQX7O5Ssov"
      },
      "source": [
        "Use the next code cell to print the first five rows of the data."
      ]
    },
    {
      "cell_type": "code",
      "metadata": {
        "execution": {
          "iopub.execute_input": "2020-12-15T16:32:53.628385Z",
          "iopub.status.busy": "2020-12-15T16:32:53.627658Z",
          "iopub.status.idle": "2020-12-15T16:32:53.645029Z",
          "shell.execute_reply": "2020-12-15T16:32:53.644253Z"
        },
        "papermill": {
          "duration": 0.064409,
          "end_time": "2020-12-15T16:32:53.645215",
          "exception": false,
          "start_time": "2020-12-15T16:32:53.580806",
          "status": "completed"
        },
        "tags": [],
        "id": "jn9YUCBBSsow",
        "outputId": "94893efa-7d2f-4d29-aafe-bb96d4ea4dad"
      },
      "source": [
        "X_train.head()"
      ],
      "execution_count": null,
      "outputs": [
        {
          "output_type": "execute_result",
          "data": {
            "text/html": [
              "<div>\n",
              "<style scoped>\n",
              "    .dataframe tbody tr th:only-of-type {\n",
              "        vertical-align: middle;\n",
              "    }\n",
              "\n",
              "    .dataframe tbody tr th {\n",
              "        vertical-align: top;\n",
              "    }\n",
              "\n",
              "    .dataframe thead th {\n",
              "        text-align: right;\n",
              "    }\n",
              "</style>\n",
              "<table border=\"1\" class=\"dataframe\">\n",
              "  <thead>\n",
              "    <tr style=\"text-align: right;\">\n",
              "      <th></th>\n",
              "      <th>MSSubClass</th>\n",
              "      <th>MSZoning</th>\n",
              "      <th>LotArea</th>\n",
              "      <th>Street</th>\n",
              "      <th>LotShape</th>\n",
              "      <th>LandContour</th>\n",
              "      <th>Utilities</th>\n",
              "      <th>LotConfig</th>\n",
              "      <th>LandSlope</th>\n",
              "      <th>Neighborhood</th>\n",
              "      <th>...</th>\n",
              "      <th>OpenPorchSF</th>\n",
              "      <th>EnclosedPorch</th>\n",
              "      <th>3SsnPorch</th>\n",
              "      <th>ScreenPorch</th>\n",
              "      <th>PoolArea</th>\n",
              "      <th>MiscVal</th>\n",
              "      <th>MoSold</th>\n",
              "      <th>YrSold</th>\n",
              "      <th>SaleType</th>\n",
              "      <th>SaleCondition</th>\n",
              "    </tr>\n",
              "    <tr>\n",
              "      <th>Id</th>\n",
              "      <th></th>\n",
              "      <th></th>\n",
              "      <th></th>\n",
              "      <th></th>\n",
              "      <th></th>\n",
              "      <th></th>\n",
              "      <th></th>\n",
              "      <th></th>\n",
              "      <th></th>\n",
              "      <th></th>\n",
              "      <th></th>\n",
              "      <th></th>\n",
              "      <th></th>\n",
              "      <th></th>\n",
              "      <th></th>\n",
              "      <th></th>\n",
              "      <th></th>\n",
              "      <th></th>\n",
              "      <th></th>\n",
              "      <th></th>\n",
              "      <th></th>\n",
              "    </tr>\n",
              "  </thead>\n",
              "  <tbody>\n",
              "    <tr>\n",
              "      <th>619</th>\n",
              "      <td>20</td>\n",
              "      <td>RL</td>\n",
              "      <td>11694</td>\n",
              "      <td>Pave</td>\n",
              "      <td>Reg</td>\n",
              "      <td>Lvl</td>\n",
              "      <td>AllPub</td>\n",
              "      <td>Inside</td>\n",
              "      <td>Gtl</td>\n",
              "      <td>NridgHt</td>\n",
              "      <td>...</td>\n",
              "      <td>108</td>\n",
              "      <td>0</td>\n",
              "      <td>0</td>\n",
              "      <td>260</td>\n",
              "      <td>0</td>\n",
              "      <td>0</td>\n",
              "      <td>7</td>\n",
              "      <td>2007</td>\n",
              "      <td>New</td>\n",
              "      <td>Partial</td>\n",
              "    </tr>\n",
              "    <tr>\n",
              "      <th>871</th>\n",
              "      <td>20</td>\n",
              "      <td>RL</td>\n",
              "      <td>6600</td>\n",
              "      <td>Pave</td>\n",
              "      <td>Reg</td>\n",
              "      <td>Lvl</td>\n",
              "      <td>AllPub</td>\n",
              "      <td>Inside</td>\n",
              "      <td>Gtl</td>\n",
              "      <td>NAmes</td>\n",
              "      <td>...</td>\n",
              "      <td>0</td>\n",
              "      <td>0</td>\n",
              "      <td>0</td>\n",
              "      <td>0</td>\n",
              "      <td>0</td>\n",
              "      <td>0</td>\n",
              "      <td>8</td>\n",
              "      <td>2009</td>\n",
              "      <td>WD</td>\n",
              "      <td>Normal</td>\n",
              "    </tr>\n",
              "    <tr>\n",
              "      <th>93</th>\n",
              "      <td>30</td>\n",
              "      <td>RL</td>\n",
              "      <td>13360</td>\n",
              "      <td>Pave</td>\n",
              "      <td>IR1</td>\n",
              "      <td>HLS</td>\n",
              "      <td>AllPub</td>\n",
              "      <td>Inside</td>\n",
              "      <td>Gtl</td>\n",
              "      <td>Crawfor</td>\n",
              "      <td>...</td>\n",
              "      <td>0</td>\n",
              "      <td>44</td>\n",
              "      <td>0</td>\n",
              "      <td>0</td>\n",
              "      <td>0</td>\n",
              "      <td>0</td>\n",
              "      <td>8</td>\n",
              "      <td>2009</td>\n",
              "      <td>WD</td>\n",
              "      <td>Normal</td>\n",
              "    </tr>\n",
              "    <tr>\n",
              "      <th>818</th>\n",
              "      <td>20</td>\n",
              "      <td>RL</td>\n",
              "      <td>13265</td>\n",
              "      <td>Pave</td>\n",
              "      <td>IR1</td>\n",
              "      <td>Lvl</td>\n",
              "      <td>AllPub</td>\n",
              "      <td>CulDSac</td>\n",
              "      <td>Gtl</td>\n",
              "      <td>Mitchel</td>\n",
              "      <td>...</td>\n",
              "      <td>59</td>\n",
              "      <td>0</td>\n",
              "      <td>0</td>\n",
              "      <td>0</td>\n",
              "      <td>0</td>\n",
              "      <td>0</td>\n",
              "      <td>7</td>\n",
              "      <td>2008</td>\n",
              "      <td>WD</td>\n",
              "      <td>Normal</td>\n",
              "    </tr>\n",
              "    <tr>\n",
              "      <th>303</th>\n",
              "      <td>20</td>\n",
              "      <td>RL</td>\n",
              "      <td>13704</td>\n",
              "      <td>Pave</td>\n",
              "      <td>IR1</td>\n",
              "      <td>Lvl</td>\n",
              "      <td>AllPub</td>\n",
              "      <td>Corner</td>\n",
              "      <td>Gtl</td>\n",
              "      <td>CollgCr</td>\n",
              "      <td>...</td>\n",
              "      <td>81</td>\n",
              "      <td>0</td>\n",
              "      <td>0</td>\n",
              "      <td>0</td>\n",
              "      <td>0</td>\n",
              "      <td>0</td>\n",
              "      <td>1</td>\n",
              "      <td>2006</td>\n",
              "      <td>WD</td>\n",
              "      <td>Normal</td>\n",
              "    </tr>\n",
              "  </tbody>\n",
              "</table>\n",
              "<p>5 rows × 60 columns</p>\n",
              "</div>"
            ],
            "text/plain": [
              "     MSSubClass MSZoning  LotArea Street LotShape LandContour Utilities  \\\n",
              "Id                                                                        \n",
              "619          20       RL    11694   Pave      Reg         Lvl    AllPub   \n",
              "871          20       RL     6600   Pave      Reg         Lvl    AllPub   \n",
              "93           30       RL    13360   Pave      IR1         HLS    AllPub   \n",
              "818          20       RL    13265   Pave      IR1         Lvl    AllPub   \n",
              "303          20       RL    13704   Pave      IR1         Lvl    AllPub   \n",
              "\n",
              "    LotConfig LandSlope Neighborhood  ... OpenPorchSF EnclosedPorch 3SsnPorch  \\\n",
              "Id                                    ...                                       \n",
              "619    Inside       Gtl      NridgHt  ...         108             0         0   \n",
              "871    Inside       Gtl        NAmes  ...           0             0         0   \n",
              "93     Inside       Gtl      Crawfor  ...           0            44         0   \n",
              "818   CulDSac       Gtl      Mitchel  ...          59             0         0   \n",
              "303    Corner       Gtl      CollgCr  ...          81             0         0   \n",
              "\n",
              "    ScreenPorch  PoolArea  MiscVal  MoSold  YrSold SaleType SaleCondition  \n",
              "Id                                                                         \n",
              "619         260         0        0       7    2007      New       Partial  \n",
              "871           0         0        0       8    2009       WD        Normal  \n",
              "93            0         0        0       8    2009       WD        Normal  \n",
              "818           0         0        0       7    2008       WD        Normal  \n",
              "303           0         0        0       1    2006       WD        Normal  \n",
              "\n",
              "[5 rows x 60 columns]"
            ]
          },
          "metadata": {
            "tags": []
          },
          "execution_count": 3
        }
      ]
    },
    {
      "cell_type": "markdown",
      "metadata": {
        "papermill": {
          "duration": 0.026549,
          "end_time": "2020-12-15T16:32:53.701699",
          "exception": false,
          "start_time": "2020-12-15T16:32:53.675150",
          "status": "completed"
        },
        "tags": [],
        "id": "bkpvuT6ESsox"
      },
      "source": [
        "Notice that the dataset contains both numerical and categorical variables.  You'll need to encode the categorical data before training a model.\n",
        "\n",
        "To compare different models, you'll use the same `score_dataset()` function from the tutorial.  This function reports the [mean absolute error](https://en.wikipedia.org/wiki/Mean_absolute_error) (MAE) from a random forest model."
      ]
    },
    {
      "cell_type": "code",
      "metadata": {
        "execution": {
          "iopub.execute_input": "2020-12-15T16:32:53.764118Z",
          "iopub.status.busy": "2020-12-15T16:32:53.763427Z",
          "iopub.status.idle": "2020-12-15T16:32:54.015949Z",
          "shell.execute_reply": "2020-12-15T16:32:54.015259Z"
        },
        "papermill": {
          "duration": 0.287083,
          "end_time": "2020-12-15T16:32:54.016072",
          "exception": false,
          "start_time": "2020-12-15T16:32:53.728989",
          "status": "completed"
        },
        "tags": [],
        "id": "_Xe0N_NSSsoy"
      },
      "source": [
        "from sklearn.ensemble import RandomForestRegressor\n",
        "from sklearn.metrics import mean_absolute_error\n",
        "\n",
        "# function for comparing different approaches\n",
        "def score_dataset(X_train, X_valid, y_train, y_valid):\n",
        "    model = RandomForestRegressor(n_estimators=100, random_state=0)\n",
        "    model.fit(X_train, y_train)\n",
        "    preds = model.predict(X_valid)\n",
        "    return mean_absolute_error(y_valid, preds)"
      ],
      "execution_count": null,
      "outputs": []
    },
    {
      "cell_type": "markdown",
      "metadata": {
        "papermill": {
          "duration": 0.027079,
          "end_time": "2020-12-15T16:32:54.071717",
          "exception": false,
          "start_time": "2020-12-15T16:32:54.044638",
          "status": "completed"
        },
        "tags": [],
        "id": "EUnZ9xGeSsoy"
      },
      "source": [
        "# Step 1: Drop columns with categorical data\n",
        "\n",
        "You'll get started with the most straightforward approach.  Use the code cell below to preprocess the data in `X_train` and `X_valid` to remove columns with categorical data.  Set the preprocessed DataFrames to `drop_X_train` and `drop_X_valid`, respectively.  "
      ]
    },
    {
      "cell_type": "code",
      "metadata": {
        "execution": {
          "iopub.execute_input": "2020-12-15T16:32:54.140208Z",
          "iopub.status.busy": "2020-12-15T16:32:54.139192Z",
          "iopub.status.idle": "2020-12-15T16:32:54.145246Z",
          "shell.execute_reply": "2020-12-15T16:32:54.144578Z"
        },
        "papermill": {
          "duration": 0.046021,
          "end_time": "2020-12-15T16:32:54.145363",
          "exception": false,
          "start_time": "2020-12-15T16:32:54.099342",
          "status": "completed"
        },
        "tags": [],
        "id": "6Wnd9XLJSsoz",
        "outputId": "63ca2133-a344-4707-be06-d3488957f02f"
      },
      "source": [
        "# Fill in the lines below: drop columns in training and validation data\n",
        "drop_X_train = X_train.select_dtypes(exclude=['object'])\n",
        "drop_X_valid = X_valid.select_dtypes(exclude=['object'])\n",
        "# Check your answers\n",
        "step_1.check()"
      ],
      "execution_count": null,
      "outputs": [
        {
          "output_type": "display_data",
          "data": {
            "application/javascript": [
              "parent.postMessage({\"jupyterEvent\": \"custom.exercise_interaction\", \"data\": {\"outcomeType\": 1, \"valueTowardsCompletion\": 0.5, \"interactionType\": 1, \"questionType\": 2, \"questionId\": \"1_Drop\", \"learnToolsVersion\": \"0.3.4\", \"failureMessage\": \"\", \"exceptionClass\": \"\", \"trace\": \"\"}}, \"*\")"
            ],
            "text/plain": [
              "<IPython.core.display.Javascript object>"
            ]
          },
          "metadata": {
            "tags": []
          }
        },
        {
          "output_type": "display_data",
          "data": {
            "text/markdown": "<span style=\"color:#33cc33\">Correct</span>",
            "text/plain": [
              "Correct"
            ]
          },
          "metadata": {
            "tags": []
          }
        }
      ]
    },
    {
      "cell_type": "code",
      "metadata": {
        "execution": {
          "iopub.execute_input": "2020-12-15T16:32:54.207663Z",
          "iopub.status.busy": "2020-12-15T16:32:54.206958Z",
          "iopub.status.idle": "2020-12-15T16:32:54.210767Z",
          "shell.execute_reply": "2020-12-15T16:32:54.210166Z"
        },
        "papermill": {
          "duration": 0.037167,
          "end_time": "2020-12-15T16:32:54.210928",
          "exception": false,
          "start_time": "2020-12-15T16:32:54.173761",
          "status": "completed"
        },
        "tags": [],
        "id": "96VQR_i4Sso0"
      },
      "source": [
        "# Lines below will give you a hint or solution code\n",
        "#step_1.hint()\n",
        "#step_1.solution()"
      ],
      "execution_count": null,
      "outputs": []
    },
    {
      "cell_type": "markdown",
      "metadata": {
        "papermill": {
          "duration": 0.0283,
          "end_time": "2020-12-15T16:32:54.268961",
          "exception": false,
          "start_time": "2020-12-15T16:32:54.240661",
          "status": "completed"
        },
        "tags": [],
        "id": "GtUfqV4tSso1"
      },
      "source": [
        "Run the next code cell to get the MAE for this approach."
      ]
    },
    {
      "cell_type": "code",
      "metadata": {
        "execution": {
          "iopub.execute_input": "2020-12-15T16:32:54.351529Z",
          "iopub.status.busy": "2020-12-15T16:32:54.334742Z",
          "iopub.status.idle": "2020-12-15T16:32:55.628285Z",
          "shell.execute_reply": "2020-12-15T16:32:55.627593Z"
        },
        "papermill": {
          "duration": 1.329577,
          "end_time": "2020-12-15T16:32:55.628403",
          "exception": false,
          "start_time": "2020-12-15T16:32:54.298826",
          "status": "completed"
        },
        "tags": [],
        "id": "sz5JIZsaSso1",
        "outputId": "245626fe-64ab-425d-9442-af212b17971e"
      },
      "source": [
        "print(\"MAE from Approach 1 (Drop categorical variables):\")\n",
        "print(score_dataset(drop_X_train, drop_X_valid, y_train, y_valid))"
      ],
      "execution_count": null,
      "outputs": [
        {
          "output_type": "stream",
          "text": [
            "MAE from Approach 1 (Drop categorical variables):\n",
            "17837.82570776256\n"
          ],
          "name": "stdout"
        }
      ]
    },
    {
      "cell_type": "markdown",
      "metadata": {
        "papermill": {
          "duration": 0.028411,
          "end_time": "2020-12-15T16:32:55.685512",
          "exception": false,
          "start_time": "2020-12-15T16:32:55.657101",
          "status": "completed"
        },
        "tags": [],
        "id": "iioxokqtSso2"
      },
      "source": [
        "Before jumping into label encoding, we'll investigate the dataset.  Specifically, we'll look at the `'Condition2'` column.  The code cell below prints the unique entries in both the training and validation sets."
      ]
    },
    {
      "cell_type": "code",
      "metadata": {
        "execution": {
          "iopub.execute_input": "2020-12-15T16:32:55.749760Z",
          "iopub.status.busy": "2020-12-15T16:32:55.748792Z",
          "iopub.status.idle": "2020-12-15T16:32:55.753594Z",
          "shell.execute_reply": "2020-12-15T16:32:55.752587Z"
        },
        "papermill": {
          "duration": 0.039787,
          "end_time": "2020-12-15T16:32:55.753754",
          "exception": false,
          "start_time": "2020-12-15T16:32:55.713967",
          "status": "completed"
        },
        "tags": [],
        "id": "aA8XxX6zSso3",
        "outputId": "0aaa2673-e9a5-4d40-84f0-65c6489342ee"
      },
      "source": [
        "print(\"Unique values in 'Condition2' column in training data:\", X_train['Condition2'].unique())\n",
        "print(\"\\nUnique values in 'Condition2' column in validation data:\", X_valid['Condition2'].unique())"
      ],
      "execution_count": null,
      "outputs": [
        {
          "output_type": "stream",
          "text": [
            "Unique values in 'Condition2' column in training data: ['Norm' 'PosA' 'Feedr' 'PosN' 'Artery' 'RRAe']\n",
            "\n",
            "Unique values in 'Condition2' column in validation data: ['Norm' 'RRAn' 'RRNn' 'Artery' 'Feedr' 'PosN']\n"
          ],
          "name": "stdout"
        }
      ]
    },
    {
      "cell_type": "markdown",
      "metadata": {
        "papermill": {
          "duration": 0.028692,
          "end_time": "2020-12-15T16:32:55.814015",
          "exception": false,
          "start_time": "2020-12-15T16:32:55.785323",
          "status": "completed"
        },
        "tags": [],
        "id": "JNPZ8rpLSso3"
      },
      "source": [
        "# Step 2: Label encoding\n",
        "\n",
        "### Part A\n",
        "\n",
        "If you now write code to: \n",
        "- fit a label encoder to the training data, and then \n",
        "- use it to transform both the training and validation data, \n",
        "\n",
        "you'll get an error.  Can you see why this is the case?  (_You'll need  to use the above output to answer this question._)"
      ]
    },
    {
      "cell_type": "code",
      "metadata": {
        "execution": {
          "iopub.execute_input": "2020-12-15T16:32:55.882688Z",
          "iopub.status.busy": "2020-12-15T16:32:55.881543Z",
          "iopub.status.idle": "2020-12-15T16:32:55.888687Z",
          "shell.execute_reply": "2020-12-15T16:32:55.887931Z"
        },
        "papermill": {
          "duration": 0.045748,
          "end_time": "2020-12-15T16:32:55.888844",
          "exception": false,
          "start_time": "2020-12-15T16:32:55.843096",
          "status": "completed"
        },
        "tags": [],
        "id": "odk27ss_Sso4",
        "outputId": "2892d5e5-8e52-408f-82b6-214680bcedee"
      },
      "source": [
        "# Check your answer (Run this code cell to receive credit!)\n",
        "step_2.a.check()"
      ],
      "execution_count": null,
      "outputs": [
        {
          "output_type": "display_data",
          "data": {
            "application/javascript": [
              "parent.postMessage({\"jupyterEvent\": \"custom.exercise_interaction\", \"data\": {\"outcomeType\": 1, \"valueTowardsCompletion\": 0.5, \"interactionType\": 1, \"questionType\": 4, \"questionId\": \"2.1_LabelA\", \"learnToolsVersion\": \"0.3.4\", \"failureMessage\": \"\", \"exceptionClass\": \"\", \"trace\": \"\"}}, \"*\")"
            ],
            "text/plain": [
              "<IPython.core.display.Javascript object>"
            ]
          },
          "metadata": {
            "tags": []
          }
        },
        {
          "output_type": "display_data",
          "data": {
            "text/markdown": "<span style=\"color:#33cc33\">Correct:</span> \n\nFitting a label encoder to a column in the training data creates a corresponding integer-valued label for each unique value **that appears in the training data**. In the case that the validation data contains values that don't also appear in the training data, the encoder will throw an error, because these values won't have an integer assigned to them.  Notice that the `'Condition2'` column in the validation data contains the values `'RRAn'` and `'RRNn'`, but these don't appear in the training data -- thus, if we try to use a label encoder with scikit-learn, the code will throw an error.",
            "text/plain": [
              "Correct: \n",
              "\n",
              "Fitting a label encoder to a column in the training data creates a corresponding integer-valued label for each unique value **that appears in the training data**. In the case that the validation data contains values that don't also appear in the training data, the encoder will throw an error, because these values won't have an integer assigned to them.  Notice that the `'Condition2'` column in the validation data contains the values `'RRAn'` and `'RRNn'`, but these don't appear in the training data -- thus, if we try to use a label encoder with scikit-learn, the code will throw an error."
            ]
          },
          "metadata": {
            "tags": []
          }
        }
      ]
    },
    {
      "cell_type": "code",
      "metadata": {
        "execution": {
          "iopub.execute_input": "2020-12-15T16:32:55.967262Z",
          "iopub.status.busy": "2020-12-15T16:32:55.966409Z",
          "iopub.status.idle": "2020-12-15T16:32:55.971790Z",
          "shell.execute_reply": "2020-12-15T16:32:55.972600Z"
        },
        "papermill": {
          "duration": 0.04503,
          "end_time": "2020-12-15T16:32:55.972824",
          "exception": false,
          "start_time": "2020-12-15T16:32:55.927794",
          "status": "completed"
        },
        "tags": [],
        "id": "xYgxN_GzSso5"
      },
      "source": [
        "#step_2.a.hint()"
      ],
      "execution_count": null,
      "outputs": []
    },
    {
      "cell_type": "markdown",
      "metadata": {
        "papermill": {
          "duration": 0.040764,
          "end_time": "2020-12-15T16:32:56.050963",
          "exception": false,
          "start_time": "2020-12-15T16:32:56.010199",
          "status": "completed"
        },
        "tags": [],
        "id": "KvGb5N1fSso5"
      },
      "source": [
        "This is a common problem that you'll encounter with real-world data, and there are many approaches to fixing this issue.  For instance, you can write a custom label encoder to deal with new categories.  The simplest approach, however, is to drop the problematic categorical columns.  \n",
        "\n",
        "Run the code cell below to save the problematic columns to a Python list `bad_label_cols`.  Likewise, columns that can be safely label encoded are stored in `good_label_cols`."
      ]
    },
    {
      "cell_type": "code",
      "metadata": {
        "execution": {
          "iopub.execute_input": "2020-12-15T16:32:56.116801Z",
          "iopub.status.busy": "2020-12-15T16:32:56.116140Z",
          "iopub.status.idle": "2020-12-15T16:32:56.132772Z",
          "shell.execute_reply": "2020-12-15T16:32:56.133535Z"
        },
        "papermill": {
          "duration": 0.050878,
          "end_time": "2020-12-15T16:32:56.133866",
          "exception": false,
          "start_time": "2020-12-15T16:32:56.082988",
          "status": "completed"
        },
        "tags": [],
        "id": "1yuzGD9eSso6",
        "outputId": "524d0f2d-3b37-4ac0-d12f-c3e28babfa8f"
      },
      "source": [
        "# All categorical columns\n",
        "object_cols = [col for col in X_train.columns if X_train[col].dtype == \"object\"]\n",
        "\n",
        "# Columns that can be safely label encoded\n",
        "good_label_cols = [col for col in object_cols if \n",
        "                   set(X_train[col]) == set(X_valid[col])]\n",
        "        \n",
        "# Problematic columns that will be dropped from the dataset\n",
        "bad_label_cols = list(set(object_cols)-set(good_label_cols))\n",
        "        \n",
        "print('Categorical columns that will be label encoded:', good_label_cols)\n",
        "print('\\nCategorical columns that will be dropped from the dataset:', bad_label_cols)"
      ],
      "execution_count": null,
      "outputs": [
        {
          "output_type": "stream",
          "text": [
            "Categorical columns that will be label encoded: ['MSZoning', 'Street', 'LotShape', 'LandContour', 'LotConfig', 'BldgType', 'HouseStyle', 'ExterQual', 'CentralAir', 'KitchenQual', 'PavedDrive', 'SaleCondition']\n",
            "\n",
            "Categorical columns that will be dropped from the dataset: ['RoofMatl', 'Functional', 'Foundation', 'SaleType', 'Utilities', 'Condition1', 'ExterCond', 'Condition2', 'HeatingQC', 'LandSlope', 'RoofStyle', 'Heating', 'Neighborhood', 'Exterior2nd', 'Exterior1st']\n"
          ],
          "name": "stdout"
        }
      ]
    },
    {
      "cell_type": "markdown",
      "metadata": {
        "papermill": {
          "duration": 0.031004,
          "end_time": "2020-12-15T16:32:56.200555",
          "exception": false,
          "start_time": "2020-12-15T16:32:56.169551",
          "status": "completed"
        },
        "tags": [],
        "id": "VW9nqj9cSso7"
      },
      "source": [
        "### Part B\n",
        "\n",
        "Use the next code cell to label encode the data in `X_train` and `X_valid`.  Set the preprocessed DataFrames to `label_X_train` and `label_X_valid`, respectively.  \n",
        "- We have provided code below to drop the categorical columns in `bad_label_cols` from the dataset. \n",
        "- You should label encode the categorical columns in `good_label_cols`.  "
      ]
    },
    {
      "cell_type": "code",
      "metadata": {
        "execution": {
          "iopub.execute_input": "2020-12-15T16:32:56.291438Z",
          "iopub.status.busy": "2020-12-15T16:32:56.284704Z",
          "iopub.status.idle": "2020-12-15T16:32:56.298187Z",
          "shell.execute_reply": "2020-12-15T16:32:56.297509Z"
        },
        "papermill": {
          "duration": 0.065783,
          "end_time": "2020-12-15T16:32:56.298305",
          "exception": false,
          "start_time": "2020-12-15T16:32:56.232522",
          "status": "completed"
        },
        "tags": [],
        "id": "dbB43VyzSso8",
        "outputId": "4002c878-1e6c-4c75-8091-e30c88f3e152"
      },
      "source": [
        "from sklearn.preprocessing import LabelEncoder\n",
        "\n",
        "# Drop categorical columns that will not be encoded\n",
        "label_X_train = X_train.drop(bad_label_cols, axis=1)\n",
        "label_X_valid = X_valid.drop(bad_label_cols, axis=1)\n",
        "\n",
        "# Apply label encoder \n",
        "label_encoder = LabelEncoder() # Your code here\n",
        "for col in good_label_cols:\n",
        "    label_X_train[col] = label_encoder.fit_transform(label_X_train[col])\n",
        "    label_X_valid[col] = label_encoder.transform(label_X_valid[col])\n",
        "\n",
        "# Check your answer\n",
        "step_2.b.check()"
      ],
      "execution_count": null,
      "outputs": [
        {
          "output_type": "display_data",
          "data": {
            "application/javascript": [
              "parent.postMessage({\"jupyterEvent\": \"custom.exercise_interaction\", \"data\": {\"outcomeType\": 1, \"valueTowardsCompletion\": 0.5, \"interactionType\": 1, \"questionType\": 2, \"questionId\": \"2.2_LabelB\", \"learnToolsVersion\": \"0.3.4\", \"failureMessage\": \"\", \"exceptionClass\": \"\", \"trace\": \"\"}}, \"*\")"
            ],
            "text/plain": [
              "<IPython.core.display.Javascript object>"
            ]
          },
          "metadata": {
            "tags": []
          }
        },
        {
          "output_type": "display_data",
          "data": {
            "text/markdown": "<span style=\"color:#33cc33\">Correct</span>",
            "text/plain": [
              "Correct"
            ]
          },
          "metadata": {
            "tags": []
          }
        }
      ]
    },
    {
      "cell_type": "code",
      "metadata": {
        "execution": {
          "iopub.execute_input": "2020-12-15T16:32:56.367469Z",
          "iopub.status.busy": "2020-12-15T16:32:56.366785Z",
          "iopub.status.idle": "2020-12-15T16:32:56.370202Z",
          "shell.execute_reply": "2020-12-15T16:32:56.369524Z"
        },
        "papermill": {
          "duration": 0.039743,
          "end_time": "2020-12-15T16:32:56.370323",
          "exception": false,
          "start_time": "2020-12-15T16:32:56.330580",
          "status": "completed"
        },
        "tags": [],
        "id": "SMCT_XEpSso9"
      },
      "source": [
        "# Lines below will give you a hint or solution code\n",
        "#step_2.b.hint()\n",
        "#step_2.b.solution()"
      ],
      "execution_count": null,
      "outputs": []
    },
    {
      "cell_type": "markdown",
      "metadata": {
        "papermill": {
          "duration": 0.032167,
          "end_time": "2020-12-15T16:32:56.434903",
          "exception": false,
          "start_time": "2020-12-15T16:32:56.402736",
          "status": "completed"
        },
        "tags": [],
        "id": "_JSi_yyBSspB"
      },
      "source": [
        "Run the next code cell to get the MAE for this approach."
      ]
    },
    {
      "cell_type": "code",
      "metadata": {
        "execution": {
          "iopub.execute_input": "2020-12-15T16:32:56.507722Z",
          "iopub.status.busy": "2020-12-15T16:32:56.507006Z",
          "iopub.status.idle": "2020-12-15T16:32:57.931183Z",
          "shell.execute_reply": "2020-12-15T16:32:57.931635Z"
        },
        "papermill": {
          "duration": 1.464466,
          "end_time": "2020-12-15T16:32:57.931785",
          "exception": false,
          "start_time": "2020-12-15T16:32:56.467319",
          "status": "completed"
        },
        "tags": [],
        "id": "z2sgPjP7SspC",
        "outputId": "d96e6254-5a66-4396-b2f6-575942d78fc1"
      },
      "source": [
        "print(\"MAE from Approach 2 (Label Encoding):\") \n",
        "print(score_dataset(label_X_train, label_X_valid, y_train, y_valid))"
      ],
      "execution_count": null,
      "outputs": [
        {
          "output_type": "stream",
          "text": [
            "MAE from Approach 2 (Label Encoding):\n",
            "17575.291883561644\n"
          ],
          "name": "stdout"
        }
      ]
    },
    {
      "cell_type": "markdown",
      "metadata": {
        "papermill": {
          "duration": 0.03283,
          "end_time": "2020-12-15T16:32:57.998435",
          "exception": false,
          "start_time": "2020-12-15T16:32:57.965605",
          "status": "completed"
        },
        "tags": [],
        "id": "yYbX1qaCSspD"
      },
      "source": [
        "So far, you've tried two different approaches to dealing with categorical variables.  And, you've seen that encoding categorical data yields better results than removing columns from the dataset.\n",
        "\n",
        "Soon, you'll try one-hot encoding.  Before then, there's one additional topic we need to cover.  Begin by running the next code cell without changes.  "
      ]
    },
    {
      "cell_type": "code",
      "metadata": {
        "execution": {
          "iopub.execute_input": "2020-12-15T16:32:58.074600Z",
          "iopub.status.busy": "2020-12-15T16:32:58.073941Z",
          "iopub.status.idle": "2020-12-15T16:32:58.086314Z",
          "shell.execute_reply": "2020-12-15T16:32:58.085751Z"
        },
        "papermill": {
          "duration": 0.05298,
          "end_time": "2020-12-15T16:32:58.086431",
          "exception": false,
          "start_time": "2020-12-15T16:32:58.033451",
          "status": "completed"
        },
        "tags": [],
        "id": "tEoGihXfSspE",
        "outputId": "1b03c018-85f5-46bd-d27e-b4f90ad4f0ef"
      },
      "source": [
        "# Get number of unique entries in each column with categorical data\n",
        "object_nunique = list(map(lambda col: X_train[col].nunique(), object_cols))\n",
        "d = dict(zip(object_cols, object_nunique))\n",
        "# Print number of unique entries by column, in ascending order\n",
        "sorted(d.items(), key=lambda x: x[1])"
      ],
      "execution_count": null,
      "outputs": [
        {
          "output_type": "execute_result",
          "data": {
            "text/plain": [
              "[('Street', 2),\n",
              " ('Utilities', 2),\n",
              " ('CentralAir', 2),\n",
              " ('LandSlope', 3),\n",
              " ('PavedDrive', 3),\n",
              " ('LotShape', 4),\n",
              " ('LandContour', 4),\n",
              " ('ExterQual', 4),\n",
              " ('KitchenQual', 4),\n",
              " ('MSZoning', 5),\n",
              " ('LotConfig', 5),\n",
              " ('BldgType', 5),\n",
              " ('ExterCond', 5),\n",
              " ('HeatingQC', 5),\n",
              " ('Condition2', 6),\n",
              " ('RoofStyle', 6),\n",
              " ('Foundation', 6),\n",
              " ('Heating', 6),\n",
              " ('Functional', 6),\n",
              " ('SaleCondition', 6),\n",
              " ('RoofMatl', 7),\n",
              " ('HouseStyle', 8),\n",
              " ('Condition1', 9),\n",
              " ('SaleType', 9),\n",
              " ('Exterior1st', 15),\n",
              " ('Exterior2nd', 16),\n",
              " ('Neighborhood', 25)]"
            ]
          },
          "metadata": {
            "tags": []
          },
          "execution_count": 15
        }
      ]
    },
    {
      "cell_type": "markdown",
      "metadata": {
        "papermill": {
          "duration": 0.033772,
          "end_time": "2020-12-15T16:32:58.154078",
          "exception": false,
          "start_time": "2020-12-15T16:32:58.120306",
          "status": "completed"
        },
        "tags": [],
        "id": "xE9waypCSspE"
      },
      "source": [
        "# Step 3: Investigating cardinality\n",
        "\n",
        "### Part A\n",
        "\n",
        "The output above shows, for each column with categorical data, the number of unique values in the column.  For instance, the `'Street'` column in the training data has two unique values: `'Grvl'` and `'Pave'`, corresponding to a gravel road and a paved road, respectively.\n",
        "\n",
        "We refer to the number of unique entries of a categorical variable as the **cardinality** of that categorical variable.  For instance, the `'Street'` variable has cardinality 2.\n",
        "\n",
        "Use the output above to answer the questions below."
      ]
    },
    {
      "cell_type": "code",
      "metadata": {
        "execution": {
          "iopub.execute_input": "2020-12-15T16:32:58.229849Z",
          "iopub.status.busy": "2020-12-15T16:32:58.229174Z",
          "iopub.status.idle": "2020-12-15T16:32:58.236038Z",
          "shell.execute_reply": "2020-12-15T16:32:58.235483Z"
        },
        "papermill": {
          "duration": 0.04725,
          "end_time": "2020-12-15T16:32:58.236150",
          "exception": false,
          "start_time": "2020-12-15T16:32:58.188900",
          "status": "completed"
        },
        "tags": [],
        "id": "PyzeIEeeSspF",
        "outputId": "c5d29393-6235-4062-c679-60df4ed758b4"
      },
      "source": [
        "# Fill in the line below: How many categorical variables in the training data\n",
        "# have cardinality greater than 10?\n",
        "high_cardinality_numcols = len([cat[0] for cat in d.items() if cat[1] > 10])\n",
        "print(high_cardinality_numcols)\n",
        "# Fill in the line below: How many columns are needed to one-hot encode the \n",
        "# 'Neighborhood' variable in the training data?\n",
        "\n",
        "num_cols_neighborhood = 25\n",
        "\n",
        "# Check your answers\n",
        "step_3.a.check()"
      ],
      "execution_count": null,
      "outputs": [
        {
          "output_type": "stream",
          "text": [
            "3\n"
          ],
          "name": "stdout"
        },
        {
          "output_type": "display_data",
          "data": {
            "application/javascript": [
              "parent.postMessage({\"jupyterEvent\": \"custom.exercise_interaction\", \"data\": {\"outcomeType\": 1, \"valueTowardsCompletion\": 0.5, \"interactionType\": 1, \"questionType\": 1, \"questionId\": \"3.1_CardinalityA\", \"learnToolsVersion\": \"0.3.4\", \"failureMessage\": \"\", \"exceptionClass\": \"\", \"trace\": \"\"}}, \"*\")"
            ],
            "text/plain": [
              "<IPython.core.display.Javascript object>"
            ]
          },
          "metadata": {
            "tags": []
          }
        },
        {
          "output_type": "display_data",
          "data": {
            "text/markdown": "<span style=\"color:#33cc33\">Correct</span>",
            "text/plain": [
              "Correct"
            ]
          },
          "metadata": {
            "tags": []
          }
        }
      ]
    },
    {
      "cell_type": "code",
      "metadata": {
        "execution": {
          "iopub.execute_input": "2020-12-15T16:32:58.312942Z",
          "iopub.status.busy": "2020-12-15T16:32:58.312201Z",
          "iopub.status.idle": "2020-12-15T16:32:58.315613Z",
          "shell.execute_reply": "2020-12-15T16:32:58.315077Z"
        },
        "papermill": {
          "duration": 0.043677,
          "end_time": "2020-12-15T16:32:58.315724",
          "exception": false,
          "start_time": "2020-12-15T16:32:58.272047",
          "status": "completed"
        },
        "tags": [],
        "id": "XN__DOVFSspG"
      },
      "source": [
        "# Lines below will give you a hint or solution code\n",
        "#step_3.a.hint()\n",
        "#step_3.a.solution()"
      ],
      "execution_count": null,
      "outputs": []
    },
    {
      "cell_type": "markdown",
      "metadata": {
        "papermill": {
          "duration": 0.034965,
          "end_time": "2020-12-15T16:32:58.386230",
          "exception": false,
          "start_time": "2020-12-15T16:32:58.351265",
          "status": "completed"
        },
        "tags": [],
        "id": "j-yQkPBHSspG"
      },
      "source": [
        "### Part B\n",
        "\n",
        "For large datasets with many rows, one-hot encoding can greatly expand the size of the dataset.  For this reason, we typically will only one-hot encode columns with relatively low cardinality.  Then, high cardinality columns can either be dropped from the dataset, or we can use label encoding.\n",
        "\n",
        "As an example, consider a dataset with 10,000 rows, and containing one categorical column with 100 unique entries.  \n",
        "- If this column is replaced with the corresponding one-hot encoding, how many entries are added to the dataset?  \n",
        "- If we instead replace the column with the label encoding, how many entries are added?  \n",
        "\n",
        "Use your answers to fill in the lines below."
      ]
    },
    {
      "cell_type": "code",
      "metadata": {
        "execution": {
          "iopub.execute_input": "2020-12-15T16:32:58.464729Z",
          "iopub.status.busy": "2020-12-15T16:32:58.463735Z",
          "iopub.status.idle": "2020-12-15T16:32:58.469287Z",
          "shell.execute_reply": "2020-12-15T16:32:58.468556Z"
        },
        "papermill": {
          "duration": 0.047941,
          "end_time": "2020-12-15T16:32:58.469402",
          "exception": false,
          "start_time": "2020-12-15T16:32:58.421461",
          "status": "completed"
        },
        "tags": [],
        "id": "pavwe0eFSspH",
        "outputId": "9427fa25-6065-45d3-b7e8-bacd8b4a3638"
      },
      "source": [
        "# Fill in the line below: How many entries are added to the dataset by \n",
        "# replacing the column with a one-hot encoding?\n",
        "OH_entries_added = 990000\n",
        "\n",
        "# Fill in the line below: How many entries are added to the dataset by\n",
        "# replacing the column with a label encoding?\n",
        "label_entries_added = 0\n",
        "\n",
        "# Check your answers\n",
        "step_3.b.check()"
      ],
      "execution_count": null,
      "outputs": [
        {
          "output_type": "display_data",
          "data": {
            "application/javascript": [
              "parent.postMessage({\"jupyterEvent\": \"custom.exercise_interaction\", \"data\": {\"outcomeType\": 1, \"valueTowardsCompletion\": 0.5, \"interactionType\": 1, \"questionType\": 1, \"questionId\": \"3.2_CardinalityB\", \"learnToolsVersion\": \"0.3.4\", \"failureMessage\": \"\", \"exceptionClass\": \"\", \"trace\": \"\"}}, \"*\")"
            ],
            "text/plain": [
              "<IPython.core.display.Javascript object>"
            ]
          },
          "metadata": {
            "tags": []
          }
        },
        {
          "output_type": "display_data",
          "data": {
            "text/markdown": "<span style=\"color:#33cc33\">Correct</span>",
            "text/plain": [
              "Correct"
            ]
          },
          "metadata": {
            "tags": []
          }
        }
      ]
    },
    {
      "cell_type": "code",
      "metadata": {
        "execution": {
          "iopub.execute_input": "2020-12-15T16:32:58.549625Z",
          "iopub.status.busy": "2020-12-15T16:32:58.548772Z",
          "iopub.status.idle": "2020-12-15T16:32:58.551279Z",
          "shell.execute_reply": "2020-12-15T16:32:58.551729Z"
        },
        "papermill": {
          "duration": 0.045661,
          "end_time": "2020-12-15T16:32:58.551902",
          "exception": false,
          "start_time": "2020-12-15T16:32:58.506241",
          "status": "completed"
        },
        "tags": [],
        "id": "tBDHwW_-SspI"
      },
      "source": [
        "# Lines below will give you a hint or solution code\n",
        "#step_3.b.hint()\n",
        "#step_3.b.solution()"
      ],
      "execution_count": null,
      "outputs": []
    },
    {
      "cell_type": "markdown",
      "metadata": {
        "papermill": {
          "duration": 0.037262,
          "end_time": "2020-12-15T16:32:58.627596",
          "exception": false,
          "start_time": "2020-12-15T16:32:58.590334",
          "status": "completed"
        },
        "tags": [],
        "id": "zMYBGWvySspI"
      },
      "source": [
        "Next, you'll experiment with one-hot encoding.  But, instead of encoding all of the categorical variables in the dataset, you'll only create a one-hot encoding for columns with cardinality less than 10.\n",
        "\n",
        "Run the code cell below without changes to set `low_cardinality_cols` to a Python list containing the columns that will be one-hot encoded.  Likewise, `high_cardinality_cols` contains a list of categorical columns that will be dropped from the dataset."
      ]
    },
    {
      "cell_type": "code",
      "metadata": {
        "execution": {
          "iopub.execute_input": "2020-12-15T16:32:58.709708Z",
          "iopub.status.busy": "2020-12-15T16:32:58.708965Z",
          "iopub.status.idle": "2020-12-15T16:32:58.718034Z",
          "shell.execute_reply": "2020-12-15T16:32:58.717439Z"
        },
        "papermill": {
          "duration": 0.053721,
          "end_time": "2020-12-15T16:32:58.718149",
          "exception": false,
          "start_time": "2020-12-15T16:32:58.664428",
          "status": "completed"
        },
        "tags": [],
        "id": "wCI3MAydSspJ",
        "outputId": "44b282f8-72b1-46f1-f9c6-652bce26d8c6"
      },
      "source": [
        "# Columns that will be one-hot encoded\n",
        "low_cardinality_cols = [col for col in object_cols if X_train[col].nunique() < 10]\n",
        "\n",
        "# Columns that will be dropped from the dataset\n",
        "high_cardinality_cols = list(set(object_cols)-set(low_cardinality_cols))\n",
        "\n",
        "print('Categorical columns that will be one-hot encoded:', low_cardinality_cols)\n",
        "print('\\nCategorical columns that will be dropped from the dataset:', high_cardinality_cols)"
      ],
      "execution_count": null,
      "outputs": [
        {
          "output_type": "stream",
          "text": [
            "Categorical columns that will be one-hot encoded: ['MSZoning', 'Street', 'LotShape', 'LandContour', 'Utilities', 'LotConfig', 'LandSlope', 'Condition1', 'Condition2', 'BldgType', 'HouseStyle', 'RoofStyle', 'RoofMatl', 'ExterQual', 'ExterCond', 'Foundation', 'Heating', 'HeatingQC', 'CentralAir', 'KitchenQual', 'Functional', 'PavedDrive', 'SaleType', 'SaleCondition']\n",
            "\n",
            "Categorical columns that will be dropped from the dataset: ['Neighborhood', 'Exterior2nd', 'Exterior1st']\n"
          ],
          "name": "stdout"
        }
      ]
    },
    {
      "cell_type": "markdown",
      "metadata": {
        "papermill": {
          "duration": 0.038269,
          "end_time": "2020-12-15T16:32:58.796009",
          "exception": false,
          "start_time": "2020-12-15T16:32:58.757740",
          "status": "completed"
        },
        "tags": [],
        "id": "1G5RvF7eSspK"
      },
      "source": [
        "# Step 4: One-hot encoding\n",
        "\n",
        "Use the next code cell to one-hot encode the data in `X_train` and `X_valid`.  Set the preprocessed DataFrames to `OH_X_train` and `OH_X_valid`, respectively.  \n",
        "- The full list of categorical columns in the dataset can be found in the Python list `object_cols`.\n",
        "- You should only one-hot encode the categorical columns in `low_cardinality_cols`.  All other categorical columns should be dropped from the dataset. "
      ]
    },
    {
      "cell_type": "code",
      "metadata": {
        "execution": {
          "iopub.execute_input": "2020-12-15T16:32:58.880519Z",
          "iopub.status.busy": "2020-12-15T16:32:58.879771Z",
          "iopub.status.idle": "2020-12-15T16:32:58.921552Z",
          "shell.execute_reply": "2020-12-15T16:32:58.922174Z"
        },
        "papermill": {
          "duration": 0.088424,
          "end_time": "2020-12-15T16:32:58.922323",
          "exception": false,
          "start_time": "2020-12-15T16:32:58.833899",
          "status": "completed"
        },
        "tags": [],
        "id": "7UjKRrSsSspK",
        "outputId": "452ad913-5317-458f-891a-1cf71515c2e4"
      },
      "source": [
        "from sklearn.preprocessing import OneHotEncoder\n",
        "\n",
        "# Use as many lines of code as you need!\n",
        "oh_encoder = OneHotEncoder(handle_unknown='ignore', sparse=False)\n",
        "OH_cols_train = pd.DataFrame(oh_encoder.fit_transform(X_train[low_cardinality_cols])) # Your code here\n",
        "OH_cols_valid = pd.DataFrame(oh_encoder.transform(X_valid[low_cardinality_cols])) # Your code here\n",
        "\n",
        "# Return lost indexes\n",
        "OH_cols_train.index = X_train.index\n",
        "OH_cols_valid.index = X_valid.index\n",
        "\n",
        "# Object columns are replaced or removed\n",
        "OH_X_train = pd.concat([X_train.drop(columns=object_cols, inplace=False),\n",
        "                       OH_cols_train], axis=1)\n",
        "OH_X_valid = pd.concat([X_valid.drop(columns=object_cols, inplace=False),\n",
        "                       OH_cols_valid], axis=1)\n",
        "\n",
        "# Check your answer\n",
        "step_4.check()"
      ],
      "execution_count": null,
      "outputs": [
        {
          "output_type": "display_data",
          "data": {
            "application/javascript": [
              "parent.postMessage({\"jupyterEvent\": \"custom.exercise_interaction\", \"data\": {\"outcomeType\": 1, \"valueTowardsCompletion\": 0.5, \"interactionType\": 1, \"questionType\": 2, \"questionId\": \"4_OneHot\", \"learnToolsVersion\": \"0.3.4\", \"failureMessage\": \"\", \"exceptionClass\": \"\", \"trace\": \"\"}}, \"*\")"
            ],
            "text/plain": [
              "<IPython.core.display.Javascript object>"
            ]
          },
          "metadata": {
            "tags": []
          }
        },
        {
          "output_type": "display_data",
          "data": {
            "text/markdown": "<span style=\"color:#33cc33\">Correct</span>",
            "text/plain": [
              "Correct"
            ]
          },
          "metadata": {
            "tags": []
          }
        }
      ]
    },
    {
      "cell_type": "code",
      "metadata": {
        "execution": {
          "iopub.execute_input": "2020-12-15T16:32:59.003649Z",
          "iopub.status.busy": "2020-12-15T16:32:59.002990Z",
          "iopub.status.idle": "2020-12-15T16:32:59.006596Z",
          "shell.execute_reply": "2020-12-15T16:32:59.007134Z"
        },
        "papermill": {
          "duration": 0.046555,
          "end_time": "2020-12-15T16:32:59.007287",
          "exception": false,
          "start_time": "2020-12-15T16:32:58.960732",
          "status": "completed"
        },
        "tags": [],
        "id": "TwBubbVKSspL"
      },
      "source": [
        "# Lines below will give you a hint or solution code\n",
        "#step_4.hint()\n",
        "#step_4.solution()"
      ],
      "execution_count": null,
      "outputs": []
    },
    {
      "cell_type": "markdown",
      "metadata": {
        "papermill": {
          "duration": 0.038144,
          "end_time": "2020-12-15T16:32:59.085086",
          "exception": false,
          "start_time": "2020-12-15T16:32:59.046942",
          "status": "completed"
        },
        "tags": [],
        "id": "LEn4wJ2CSspL"
      },
      "source": [
        "Run the next code cell to get the MAE for this approach."
      ]
    },
    {
      "cell_type": "code",
      "metadata": {
        "execution": {
          "iopub.execute_input": "2020-12-15T16:32:59.167161Z",
          "iopub.status.busy": "2020-12-15T16:32:59.166392Z",
          "iopub.status.idle": "2020-12-15T16:33:01.283523Z",
          "shell.execute_reply": "2020-12-15T16:33:01.282947Z"
        },
        "papermill": {
          "duration": 2.159334,
          "end_time": "2020-12-15T16:33:01.283642",
          "exception": false,
          "start_time": "2020-12-15T16:32:59.124308",
          "status": "completed"
        },
        "tags": [],
        "id": "kasFrgw_SspM",
        "outputId": "d582bbec-6f6b-45fd-f7be-6814c7b88574"
      },
      "source": [
        "print(\"MAE from Approach 3 (One-Hot Encoding):\")\n",
        "from sklearn.impute import SimpleImputer\n",
        "imputer = SimpleImputer(strategy='most_frequent')\n",
        "OH_X_train = pd.DataFrame(imputer.fit_transform(OH_X_train))\n",
        "OH_X_valid = pd.DataFrame(imputer.transform(OH_X_valid))\n",
        "#OH_X_train.columns = X_train.columns\n",
        "#OH_X_valid.columns = X_valid.columns\n",
        "print(score_dataset(OH_X_train, OH_X_valid, y_train, y_valid))"
      ],
      "execution_count": null,
      "outputs": [
        {
          "output_type": "stream",
          "text": [
            "MAE from Approach 3 (One-Hot Encoding):\n",
            "17525.345719178084\n"
          ],
          "name": "stdout"
        }
      ]
    },
    {
      "cell_type": "markdown",
      "metadata": {
        "papermill": {
          "duration": 0.039392,
          "end_time": "2020-12-15T16:33:01.363290",
          "exception": false,
          "start_time": "2020-12-15T16:33:01.323898",
          "status": "completed"
        },
        "tags": [],
        "id": "UZqzc2FLSspM"
      },
      "source": [
        "# Generate test predictions and submit your results\n",
        "\n",
        "After you complete Step 4, if you'd like to use what you've learned to submit your results to the leaderboard, you'll need to preprocess the test data before generating predictions.\n",
        "\n",
        "**This step is completely optional, and you do not need to submit results to the leaderboard to successfully complete the exercise.**\n",
        "\n",
        "Check out the previous exercise if you need help with remembering how to [join the competition](https://www.kaggle.com/c/home-data-for-ml-course) or save your results to CSV.  Once you have generated a file with your results, follow the instructions below:\n",
        "1. Begin by clicking on the blue **Save Version** button in the top right corner of the window.  This will generate a pop-up window.  \n",
        "2. Ensure that the **Save and Run All** option is selected, and then click on the blue **Save** button.\n",
        "3. This generates a window in the bottom left corner of the notebook.  After it has finished running, click on the number to the right of the **Save Version** button.  This pulls up a list of versions on the right of the screen.  Click on the ellipsis **(...)** to the right of the most recent version, and select **Open in Viewer**.  This brings you into view mode of the same page. You will need to scroll down to get back to these instructions.\n",
        "4. Click on the **Output** tab on the right of the screen.  Then, click on the file you would like to submit, and click on the blue **Submit** button to submit your results to the leaderboard.\n",
        "\n",
        "You have now successfully submitted to the competition!\n",
        "\n",
        "If you want to keep working to improve your performance, select the blue **Edit** button in the top right of the screen. Then you can change your code and repeat the process. There's a lot of room to improve, and you will climb up the leaderboard as you work.\n"
      ]
    },
    {
      "cell_type": "code",
      "metadata": {
        "execution": {
          "iopub.execute_input": "2020-12-15T16:33:01.465878Z",
          "iopub.status.busy": "2020-12-15T16:33:01.465165Z",
          "iopub.status.idle": "2020-12-15T16:33:03.885346Z",
          "shell.execute_reply": "2020-12-15T16:33:03.886037Z"
        },
        "papermill": {
          "duration": 2.483282,
          "end_time": "2020-12-15T16:33:03.886263",
          "exception": false,
          "start_time": "2020-12-15T16:33:01.402981",
          "status": "completed"
        },
        "tags": [],
        "id": "9POczBouSspM"
      },
      "source": [
        "# (Optional) Your code here\n",
        "from sklearn.impute import SimpleImputer\n",
        "from sklearn.preprocessing import OneHotEncoder\n",
        "\n",
        "# Preparing test & train data\n",
        "X_test = pd.read_csv('../input/test.csv', index_col='Id')\n",
        "# Train data\n",
        "X_train, X_valid, y_train, y_valid = train_test_split(X, y,\n",
        "                                                      train_size=0.8, test_size=0.2,\n",
        "                                                      random_state=0)\n",
        "## Columns with non-numerical values\n",
        "object_type_cols = [col for col in X_train if X_train[col].dtype == 'object']\n",
        "difference_cols = list(set(X_test.columns) - set(X_train.columns))\n",
        "X_test.drop(columns=difference_cols, inplace=True)\n",
        "## Columns with numerical values\n",
        "num_type_cols = list(set(X_test.columns) - set(object_type_cols))\n",
        "## Object-type columns with missing values\n",
        "missing_cols = [col for col in object_type_cols\n",
        "                if X_train[col].isnull().any() or X_test[col].isnull().any()]\n",
        "## Removing unused columns\n",
        "X_train.drop(columns=missing_cols, inplace=True)\n",
        "X_test.drop(columns=missing_cols, inplace=True)\n",
        "## Refreshing object-type columns after removing\n",
        "object_type_cols = list(set(object_type_cols) - set(missing_cols))\n",
        "\n",
        "# One-Hot Encoder\n",
        "oh_encoder = OneHotEncoder(handle_unknown='ignore', sparse=False)\n",
        "## Choosing columns with not many unique object-type values\n",
        "low_cardin_cols = [col for col in object_type_cols if X_test[col].nunique() < 10]\n",
        "## New columns with 0-1 for unique values in low cardinality columns\n",
        "OH_cols_train = pd.DataFrame(oh_encoder.fit_transform(X_train[low_cardin_cols]))\n",
        "OH_cols_test = pd.DataFrame(oh_encoder.transform(X_test[low_cardin_cols]))\n",
        "## Restore indexes\n",
        "OH_cols_train.index = X_train.index\n",
        "OH_cols_test.index = X_test.index\n",
        "X_train_num_type = X_train.drop(object_type_cols, axis=1, inplace=False)\n",
        "X_test_num_type = X_test.drop(object_type_cols, axis=1, inplace=False)\n",
        "## Removing all object-type columns and replacing those with low cardinality\n",
        "OH_X_train = pd.concat([X_train_num_type, OH_cols_train], axis=1)\n",
        "OH_X_test = pd.concat([X_test_num_type, OH_cols_test], axis=1)\n",
        "\n",
        "# Filling missing values\n",
        "imputer_median = SimpleImputer()\n",
        "OH_X_train = pd.DataFrame(imputer_median.fit_transform(OH_X_train))\n",
        "OH_X_test = pd.DataFrame(imputer_median.transform(OH_X_test))\n",
        "\n",
        "# Model\n",
        "model = RandomForestRegressor(n_estimators=100, random_state=0)\n",
        "model.fit(OH_X_train, y_train)\n",
        "\n",
        "# Save test predictions to file\n",
        "predict_price = model.predict(OH_X_test)\n",
        "output = pd.DataFrame({'Id': X_test.index,\n",
        "                       'SalePrice': predict_price})\n",
        "output.to_csv('submission.csv', index=False)"
      ],
      "execution_count": null,
      "outputs": []
    },
    {
      "cell_type": "markdown",
      "metadata": {
        "id": "87yvc6qSTFD7"
      },
      "source": [
        "![Kaggle competition categorical expr.png](data:image/png;base64,iVBORw0KGgoAAAANSUhEUgAABFEAAACnCAYAAADZncOwAAAAAXNSR0IArs4c6QAAAARnQU1BAACxjwv8YQUAAAAJcEhZcwAADsMAAA7DAcdvqGQAAGASSURBVHhe7d0LXJRV3gfwH8hVJBhRRELkEiHiBYk1IVsTuhh28dJV191KK1vN2rS33dXKbXWtTbe21XJLyzK12rysrWgXULPADBExRSMEERFQHBBH7vie88wzMDMM8IB4QX/fjyPPPHPmuV/O+c8557E7J8BKTu4RBAb0Vd8REREREdGVoL6+HrV1dairq0edGJZFAVNxwM7OTnl1sbdHly72cOjSBfZimIjoatJaPIRXRSIiIiKiq4QMijg5OsLVxRndurrC3a0rrunmprzksBwnP5NpGEAhImqKV0YiIiIiIiIiIg0YRCEiIiIiIiIi0qDFPlFkm0kiIiIiIiIioqvBkbyjLfaJYjOIYvd6ojpERERERERERHT1OPd8nDrUFJvzEBERERERERFp0GJNlGNPDVf+EhERERERERFdya595zvlL2uiEBERERERERGdJwZRiIiIiIiIiIg0YBCFiIiIiIiIiEgDBlGIiIiIiIiIiDRgEIWIiIiIiIiISAMGUYiIiIiIrhIOOAdn1MMVdXBDLbqJ14clibjx55fwuyNvY3r++/igJAnfnclEeX2l+i0iIjJhEIWIiIiI6ArWRQ2cyICJC+rgKIblODv1c5ODVYX48WwulpZsw8yCNRh7+B+YX7gORTV6NQURETGIQkRERER0BbLHOSVoImudyMCJST3sUCM+rRKvSnTBnddE4gmvW3D3NRG4wTUA3eydlXSyJsrG0+m4J+cN/K1wHQz1Fcp4IqKrmd05QR1uYPd6ovL32FPDlb9ERERERNR5yKCJrH1iIgMntWrwpEnm34bCmlIsK0nCF6fT1TGAu70L5vqMwfBu/dUxRERXlmvf+U75e+75OOWvLayJQkRERER0BZHBE1MARQZMZI2Ts+iCahlAkb+f1tYA1ZWwqzoLu0pD46uqAqipBurr4OPoiTk+47Ah8Dmlhooka6bMLPhE6TOFiOhqxSAKEREREdEVQgZPTE136mCHs3BQap+grhZ2lWdgd0YPu4pyJYAiAymoqWp8VVcY0xjKYHf2tDKutxpM+W/gcwh17qVMV/aZIvtKISK6GjGIQkRERER0BTAPoMjASYXSfSyMNU6UoEi18pkmStDFYPyeGJY1U5b0mYzrnX2Uj2VfKW+dSFCGiYiuJgyiEBERERF1cjJ4Yh5AkU14UF9vDILIGiftJYMpaq0U2SfK230eawikrNLvxObTacowEdHVgkEUIiIiIqJOTHYVa+oDRTbhaQigVBhrkdhSV1eHqqoqnD17FmfOnIHBYEBFRQVqa2uN/aZYkbVSZDDGFEgxNe1ZVLyFT+0hoqsKgyhERERERJ2YkxpAkaEP+chiSfZtIgMptsgAigyc5Ofn4+jRozh58iSysrKQmZmJEydOoKamxnYgRfajUlutBFL+7jtRGSc7m32zmM16iOjqwSAKEREREVEnJXs9cVDCJzA+fUf8VYIdzdRAkcERGTSxt7dHWFgYBg8ejJ49e8Lb2xu9e/dGTk6OEkxpNpBSKaYtxss+UkxP7dl4ei+KavTKMBHRlY5BFKJLwXa+pvO5UtaDiIiokzIFUOph1/AUnub6QJGBERkkkbVNZBBFNuHZt28f0tPTUVZWpgRNdDqd0qynoKBAqbHSxDkxp2pj853JXrHKX+nT0hR1iIjoytZlrqAON/hLco7yd+av/JW/Ha1s/zfY8PmH2PTlj8gp7YKefn5wd1I/tEGm37bzMOAXhO7NpDtbuBvffvIx/pPwFX7Oq4OzfxB6uqgfkuogkv75Mb764SDsQiLg21Ud3SBXfL4CX+l9EBXiqY5r3ekfV2DF5+mwCxPTvIy3+QVfzrIfsObfnyP5h53Y3fBKx9HqHri2ryec1WQo24LZgwZg1tEoTLj9usbxlxEt2ypr6QgMilsBrzGPIqKnOpKIiIguKlcYAx0ygCL7Q7GrPgvUNwY/ZGBEvqqrq5VASX19fUMTHtkfihwvAyZOTk7w9PREZWWl8pkc7+PjAwcHB3VKZmSgxskZ7l1clRooP1cVoqSuHA/pYtQEF4sBBbsS8f3u0/AI9YWbOtZCXSl+Sf4fNnz0Kb5K/QVnuvSC77XXwFH92ORE6n+xI/UQfjlk+Sqw74O+XpYFkJoTu/H9+g34ZOP/sOfn0+jSsw98PWwVUgw48t1mfPH5GmxJzER+nQv6+PeCS1t+xi7dh2+/2okjNpajgUzz+VoNy0OXvfIcpHz5OTb8ZyO2ieO1ysUPfXp3UxvpdW4Vx8U5lXsc1a69cI1VAahan4uf03dj74EclFTYo5vOEy6XaKX/kZqn/J17U5Dy15aLXBOlBr98/ifM+Hcaug66B3ePjobHLyvwp799jl9sBcwN+Uh5X6R/czUSVqbhRDMdi9dkfY5FT7+HAy6RiBt7J/oadmDp8y9jS3aNmoIUP27AzDl/xCtzpuLNzbnqSHNF+El+nlGkvtemMneLmOYW5J1RR1ymLvhynslBkth+S1dvQWKS8bXmX89i+uh+GDH6Vew2qOmcfeA/+EYM6OtzWQZQJC3byuPaMNzwqzB4e6gjiIiI6KIy1UKRlFoosvmN1WOMZQBF1jjJzc1VAiOyCc/111+P8vJy5TPZhCc6OhrBwcHw8/NTaqI4Ojri2LFjSk0UmcYmdT5TvGLxlu8D+DrwGYvlueBK92Hja0/j1ff+gzUrc1CmjrZUhJR3nsNbicXwveUejBqqQ9bHM/DS2zubpC/L/hAJma03SZLljld/vwQphmvx69H3IMrzED55bibe31WqpjAR8178NF767BAch9yJu28PxNlv38CL8/6LI5qKKAYUfPce/vr4G/j8iw+xt8j2l+Ty/PXxJdjrMhCjxpqWZx42ZrEc1Okc+wb/eO6v+Pa4N6JG34e4IY7Y+/ZTeHV9jji/O7HqUuTuSkDC9t04kLoL+ip1vKriyA4kbNiFE64BCAsPgOvJXfjiix04aio7XYYubhClcDs2fuqGyX/+P9wz/Ab0H3Iz7nnuL5jqtRoffWOs/dIoBxuffQnfdrkXC//2KELUsU3UiAvo3xMQ8uK/8PRvbkVU+DDEPTkHM249gzWfbscJNRlV4vtN76AYoxB7O5C0fhuMMTbqaFGzPsRn/92ivLb9Uok9nz0L72/n4s/L0o0JXCLw5NrtWDk94rINomjhffdSbExaivhr1RFERER0Ucn+UCTZlEcZsuoHRT59RwZPZPMd2e9JSUkJiouLcerUKbi6uiq1TFxcXODv74+goCBl+JprroGHhwe6du2Kn3/+WZmGLXa1xmKd7BtlZLcwZdi0PBdc6U4sfXwJjgx6Ea/OjFdHNnVi63tYenoCXnz59xglyh6Dh9+Hp1/8A/pufRff7DcvlpbixDEg5KYxGHXPvRavX4eY12/JQeJ7q+H2+Ct44cl7ET3kBkTf939Y8OIwpL+XgANmkzy7ay2W7v01nlvwf3ho5DD0H3onHnt5Ae5z/BBrv2v9B8sj65/Gq4mOuPPtBXjYuHltKELKf8TyPPkXPH3fzRgcblyeF57WYa1YniNqKuoMDNi7+W2U3voCnlOOrYGIGvkInpv9O9Ss3oC91jG6TqMEmV8k4BeE4tY7bkSTyut1Bfg55Sh6jrgTv44IxrV+wRgw8k4M73kUuw4WqPXsLj8XuSaKDv0n3Ykw46PlVb3Q019cKCoto+byaff9Z/4LL/xuGHq2sJQ1mbuxse8ExA0yr5TniOvuexXvPDOi6Y66WlXuxHcfF8F75rOY/9AY4KtP8P1h9bNWVOVtwYo/PIQH7h2FB576I9Z82/qFP2/zH/H4vWMw6+OD6hir6dw7FW99cRCn1c+MSpH31VLM/q38XM7rVaxPM79iFCHpT2L8n7aguOSHhmk9/oel2F2iJmlQit1LnxXLYJzXv1NK0UxFplbWr3GeeT9/glfkssn5q59q4X3nVDwSC/yUlK4GrtKxQs5rqRpUUbS27lJlkzQJB5peUTXtr5J0rH9tqjGNzX3RlPU+LRbvH7j3j0hqW8UlIiIi6iDGbmRFOQR2yl9TMx5T8x0ZMJE1S6699lolcCKDJHJct27dlOCIrI0i+0mRf+VLNuWRTXxMwRTZwax8b5NZwMY0f9PyXHi9cOvbS/H0nYHo2myV/yJkfp+GO++yKg/0vBlTV/wLd15vXnbQ40Qm4NujlebsuRlIzhkmCrh+6ggjx0EjEK/7HBmZpiiKAVkZ3wC3RmOwRRujXoi6/U7s/X5fqz/0Og54Aa++/Aiierb8k5vHgN8hboDxcdMmPXsHATk1nbv2wlXHDf0fXok/jgu1bGrm3l0cv/k42WmDKF2gu3Esbh0aDFstzOqK8rEP/REa5K6OkdwRENYfyMjHCfMoSnUpjqbvwDdfJojXDvx0pPSSBVkubhDF5waMuucGq8BGEQp+BgZ7WV+0/HBdP5stGy0UZH8Lj/Bg9KwrxZFd32DLxv/i212ySp8jurpZt3a8elUlb8FbRb3wUOww+MeMQTy2YUWCeSHetqofX8X94WPw7zwf3BA7Cjc4pOPvo4dikllwxJr8zvQH3kRRzJ8w/zf9jCMz3jROpyQAcWI6cQNLsWZCBH6z2LQMldj92r2IHr8AWR7DlDQDDCswfcRgvJLUGP4oO7YN3x9Ygdn3P4lUt2G4IcgFPy17Fvfc/yp+akiWi/VPDMY9z69HlleEmJYnUqfei79/bSPgoGH9jPNcitnxc5Fqu65oK1zhIpu87C9UAxVVOJ0kpllm+mVH27r/tPgOkeZNFPuL7aemefzGe/HvDDWBoGl/5X2C6TcOw/TVhQj5lUgTVKjsixFPbGg2OGRzn57JxfdJuShj57JERESXhCloYXqQsd25xkcayyCJDKQUFRXhyy+/RFpaGrKzs5GRkYHNmzcjLy9P+ezw4cNKZ7PyvWzCI4MqsjmPbMpTW1uL0tLmSm+NARPTXC9aEMUzENe19ktpaQ4O7L0Z1/k74mzhPqRs/i+2bN6BA4UGOLq5oat5McFwCmWlgXCrK8KB7zaL8sRmpOwvQpPwUV0NSkUZQ2weK13R9RrgSPEp9X0NakQWzsOpaanR0Ul8ea8oHLYS4fANCRVTbU0vDL7nXgy2+IEaOJEv8n1DPMEW151Lk+NSOJGZiizPG+DfaWt+e8LHz1UdbqpMXwD09YI4fSx5eMEfBdCbyl41xfjpqwQcqvZG2KAIDAj3RsW+tfj2ULma4OK6yDVRmjrx3Wp8nnMPRkVbRlC1MaC0pBQhbvnY+NJzWJqSD1QUI/XTv2LGS+9hb5PaCVerUnz/xZviOvsohg91Aa4dhbG/EYXyNdvwk5rCtnSseHYujj68Ap+ufRMvPPMsXvjXFvz3X0OQ9NSbSLCxfZVCfOxcYOYWfPzCjQ3NVX76+g3sxrNY+O6reFJM58l5n+Cjz17FOLHblcBCbRkqrx2JFz7ajs/+NVdJ89JHH+KFXkX49xfbLGtJJAHxK9KxeJ5Ynjc24NN/jQJ+fAdJB4wfV327Aq+sKUL8u9ux7X05v1fxXvLf0Wf/NmOCBm1YvyQXxCcdxEbZTGfBKHirozXJ24qE9eLvQ8NsN0vTtO7pSHrzB+CZpcp6G9NswMp5D4tlMWVutKxPKRIWPIL1Yl98lrwB8+eo2/DdMShe8yrWmwVkTJrbp0RERHRpqfVPcM40pPZfYmdnBzdRIPP19UXfvn0xatQo3HPPPejXr5/SP4rsODY/Px8//fQTUlJScPDgQRQWFkKv1yufycCJDMDIJj/yb7PU+Znmb1qey0JpkSiC9ULNT2/gj3/7L34RGarSnAS8//TT+Mdmqz4mzp4VOaQcrPn3m0g8qIeheDc2vvkU/vjaf3HEvCqzfyhGeO5Axs+WnTXUHEzEN3uBAw0BJ0/0DY9EWUqGVZOaIqR+s1H8LUaZRea2A53YgbWrDzetgUOdR+FupWLAJ/+cgddEGeLe2fej/2VXN6AOpw4kYsMHy/HxJwlIO9IYzDh1QLw/anyCV2vqa0QBxdUZTcKNTs5wRQkaHhBWWoD0E/0RMTQU1/b2hY9fKCJj7sR13pemZHJJgyiyI6Sl/yzGrf83Ef3b9bSUGpwVF6DU9z5AwZ0LsOCZRzDqwcfx3N8XYGrvFCxfv7tpBPlqVLINCcsA78fvxE3KdvbE8PhHgIxP8L2NQnODtC1YKj4fO3YUPMtKcVp9eUaOQixWIHWv+V0FKNu/AjMfnosTv/kEi+feYhFRvKbXEPH/GqxZ8QPyyozfC7nzWTxyf4QxnUMv3PSbuZgxNkD5rErOK0+PUhlbK7FqinP3GNxg9uAo//Bh4v8i/HzE2K4k68cPxK1pKh6ON05L4XYjHn78FvWNqi3rJ+Z5k8aHVeV9/Q7+/c83ja85j+CW2EeQ0OshLH7iFtsBCE3r7omeg8WfT1ZgzY+5OK2M7IfYZ6Zi7CC1FpeW9SkSx8LHwIBnH8JNZhW9/B/+BMfKd+LJQeoIVUv7lIiIiC5f8hHGslmOfMmaJc7Ozkqznttvvx333nuv0pmsfPqODJLIgIqsoSIDKnv27FGCK7IZj2wWZPMxx51BTQ2OQJQ1NvfBjL/PwaQH78VDv1+AV/4aD8P77yLR/BkLPYdh8oqVWPbGAjw9ZQLGT5mDBW8uwK2nP7Tst9FxIH79u5uR/vo8rNy6G0dyc7B36wr84+0i+EaraVQ9o+/HeMcPsei1z5GalYMjWTux5R8v4xunm9FfTdPhKg9h45tv4MQdL2C8RVcH1PkYUFMnMus1BpzIL7r8mmad/gV7fxBlinGTMP72YFSkfIFv0rJRmH8AmRml6OLQwU+HEtPriaPIOVyCavWS1KW7L/roLs1TqC5ZEKXm2DdY/vcE9HzmWdwT0v6T3FFut8HiYjfcrCZLl16IviMe+HIfctkYEMVJn2CN+BuSv7WhcL/mh1KEIB1L122D7e7ChDOVSvOOfz/ggzA/s9dNz8rKIDhaYt62ZQNmj5+K9UXiphHQG2Z7Q+H/mzexcnoYvn9+BKL9PHHtdRGYNGcFfjKr7XE6ZSlmPxCBIe4uCJLzubuZ/jYcAFsxtyq1WUlVrfySDzys6jC6uFk1GWvL+jUzT1t+WvMqXlGegvQG1uwpRMjdb+Kz71dgbAtBmNbXPQAPv7EBT4ZuxezYfgjr6YIhN47BKx+nN9bS0bI+hlKlN3r/Xr3lN1rR8j4lIiKiy5uskWL+ko8x7tGjBwYNGoRbbrkFd999NwYMGICKigql6Y6svSJrocgmPbJmigykyPHNuqyqnlgRpRyZFbzzwXtxnVkmrmu/W3Fr9CHs/cU8oyW7AXCDo3n/Km6hGHHnMPzyrWVtkp7D/4C/zh2Gmm/ew0vPv4aNmTrc/coT+LU3EOVjlltyCcU9f34LD197EGv/PhOLln6D0qFzMHPsQPFhEHp6GZN1mMp8fLvsNXzT+w+Yep9VvxrUuShdYEzApOcWYOGLI1D64UvYaNER8uWgK3yGD4S/hxNcu4fipnF3IKAqFz/tPw6nG+7AgN5teD5xYytECxbhW11/3HRrL5zZswGffbQcG/6XiB8PFKCime9eaJcmiHJiB5bPXQ38bgGmmgc/2swTPa8VBeOAXmLIirsoqF/IqnKdRi4SP9mgDH2/Yq5auBevf25AlhhX/PE2pFpU8zDjarzjzFhbiMz8pq9Fd5vvu16IXbAFK+fciN3zHsArm63bzwYon+85UYiU7zdg8dPDUPXJVNxx/5vGJkWHV2Da7aKw7/IIFu0+gszCShzb+yWeiVG+3A6lqLRar0rrPECb1k+7+PeP4Fi5WP7yI9i2aQvee2MqbmppUlrX3X8UXtp0BIfzD+LLtSswdWgl1j81rLFfGS3r4+xiDAbVaqli19o+JSIiokvJ1AOJ+mweMaAtay9rqciaKbLz2NDQUISHhyuBFfmEHvkIZPmo4169eilpWgyiNDTjMTXruYx4+aE/BsLX2zqc4AYPb/OmN83z6OFns4NWj/B78dj8pfjwP0vx4u/vRX/PMziZ64m+vaxKJG5+iP7NHCx4bx3eWjQHDw33g2NJPg5E9+rgpjZFSFn2Ej7Ho3hx+s1sxnMl6TkMvx5Rio2ZGp8IcrFc0wdhId6NzXCcvHBddBxuvSMOvwrxgtYQiptnMHBCjzPq+wan9TiBYHh0U98L3foMxcjxk/HwxAfw64G9UXd4MxJ+OIoWGhxeMBc/iFK+D2vf/ABn730Rk88rgGLke/2t8Ni+G1lWBeYTP+3EgcBQ+HZ0lLezObwNCV8BA+btVAv2ja/Mz6aKa+6rSExuJooS1A8Piz+78wpxjYdn46u2EPuOlMLZwZjMKBrjxt6C2Bc+xOKxRVjx9LNYb/YM5dM//4Dv04pQ5eIJ/0GjMPaZpZj/xxuBH3ci65j4fP9OJGEUZsx7FrHX98I1SlOTXBxNVr7eJn2Cxoj/11itVxF2bzYGkxq0af0uHE3rXluKrB+34adjlXD2CMCA2x/Ck/96E89Ei+XfdVCpgaJpfa7th6hBQMLnVo+4TntTeVLPijT1vaLlfUpERESXlny0sWTK0J+zb8Ovv4IMpnh5eSnNfeRjkOWroKBA6RdFjpN9pJw506R4Y2Q2L9P8TctzWfAMRP8h+5D6k1W15sqDyNgO3BrQ+ISdmowV+N3jn+MX9b3JkZ93i+yQWcDDsBsr738MG+UvkWZqsnbgmyO34jqzluRH/jcTv/vHDqUGcKNSpU+UwUOu78BOXw04sPpNrDHci5lTGEDptORju20cW0C10n1FX5dL02zlQnPt3hvXFvyMo6Y+mVWnjv6MQr/e0Jn6pK2pQNkZY7iki5M7uvftj2G/ikDFwRLLvjMvkosbRJHt9F59GanXT8Okkd6oMRhwtuHVvipKjuFxeHjwt1i6bDN+OVGDGtlubM9qLP33YUSPHYG+ajrkbsZrM17GlmzTfHKQ+Jep+NOHjf2mlO16G7NmvI1UGx2mdlZ5334iCugRGDcyQh3T6JqRY/Ck+Nuk41YTr1F4ZO6N+P4PT2L2x9uQVVSKvIxP8Npv78AD497E95Z3BVUAxs5bgbH4BNMfMT0xpxJZ65/BAyMewJtfiAJ/WSmKxXRWrP4B+NUwhFwrlqVvPwzAFqx5fwvyZF8eRelY//zL+ECZZtt4x/8BMwYV4d9PPIS3vkhHXp6Y1rzf4YNsq23QrvXreJrWvfYQNj87CndMehUJPxfhdFkRfvrPUqxLAW4Y2s/Y0a2m9YnA2FkPwfurqZj+/ArszitC1rcrMHvWH/F9+S2IstlI19Y+JSIiokvNFLToYqoD0qXtQRTZhEfWOJF9p8iOZGXwpL6+XgmkyGY+shmQTV0aa3iY5n9ZBVHQC9H3T4Dh329i7a58nK0R5YTSHHy77A1s9p6AX5s9e9gx7Abcg9UiL7YDR0rlk3VKceS79/DRSieMv3tYY8DDbRCiH9Rh7YrV2HvCoDR7Ksv9Biv/lQDfx+ItOv/sGz0GUSkfYM03OSirFNM0FGHvp29gTYlVNwRNyihtUYNfPp+H13aFYvJjt6JnnXnZSvapoSYr342VM6bi/V2m2jcG7H1/Kmb9bXNDU6Wa7P+ex3LQefMciOg7II6t95CSW2o8XsUxc2D9G/hoz82488ZANeEV5prrMHBwHXYn78axM9Woq6nGmfzd+HFXHQYOug6miijVBan44n/JyD2tHtR1FTiWdxTwc9Xc5UJHuqhBlLLU/2Ltz0DB/+Zj1iOT8JTF679Nor/aiAvklFfwsPtOvPX7BzFlwiTMevsQQp55BZOjG6vU1VTqceL4UZw43Vjhp6a6GOaxG0OJ+LzijOyH6gqRjs3vbQMGPYSbrDoMVbgMQ9wz4u+yDfjOZuDIBQNm/hcb5wXi+7mjcMt1Poi+6RFscHkYixNeRWxztXz8H8KilX/EgB/n4s///AFVYjo3TF+BxdNd8cmECAzx88EQMZ0k3bNYueJZDJDfGTQVi14fgxOLxiBa9uNx3UP4PuYveKk9zXncbsQLaz7Bk6F78NqEYYgOvxdrDM/i5elmPw8o2rl+HU3LurvciCc/WIEnXT/A4zf0RZhfX9zx2BZ4PLNBbFdTcEjb+niPXYrP3n8WLuun4p7wvrhl9FR1X4h91txVqMk+JSIiokutrqEmivp8HFk7pEvbqtLKQIoMnshAioODg9KRrHwv+0+RtVS6dTOrT2/mnNIxobFBj+nRxqbluVw4htyHmX8dhoKPZ+CpCaKc8PhMbKy+Fy/+8T70NW/l4zgQ4/82GyGFq/DS4yLdpMfw0md6/Oqvc6z6bnTEdff9H54LO4yVv58kyh0PYsb8Hej6gGW5Q+F1M6a+fj+w+a+YMUlM85GnsPJYJGZYzdtWGUWzkp3Y/Okh4NhG/EMsj2XZahI2m1qAGM6itKIYx0rMahXVV+OEwaxcdFp8frzIomxEF5MbBj+6AM8NOYON8x8zHq/imHk/0w8Pz52O6Cu2ilEX9IiMw8heJfjxPyux5uOV2PBDCXreGofBvRqDwk59b8So8Dqkr12Bj+UTgT5ajR/PBGPUzaENgZaLye6c7Hbbit3ricrfY08NV/52GnU1OFsJdHUzv9hRx6jEaflUHQdPtblJO9WK6RjEdJzFdGwV2NXPnd08O6Q5jXzSTZWmZe6g9TsfWtfdUIrTtWITeoh06qimtK2P9u1DREREl6NuMPZZUg175YWaKthVWj6CtzW7d+9WgifFxcXKI5Bl4ETWSJGdy0ZGRiqdz1ro4oBzXY3P7HNCvfKSzsie+C9TsgZ8jZMburZWTKgx4Gy1U+vlCaXcUQ1H2SGtOqo5yry7iHlfip/MqVPSfLxeSerrUC0uZ05OLdSoU9LUAXZOcLpA2+bad75T/p57Pk75a8vFbc5zoXWRPWtfTUfaxeRi7F/jfAvbDup0mruJqJ93VH8kMtCgbZk7aP3Oh9Z1dxPLKdOpb23Ttj7atw8RERFdjmrU7LyDqUmPo8ghtKE2imy6I2ueSLJ5SpcuXZRaKbIpj6ylYqtj2XNOpo4KGudrWo7LlQx2aCqQOop0WsoTSrmj9QCKpMybARRqA83H65XEvkvLARRJSXPhAihaXVlBFCIiIiKiq0itWZMeR7VGyDnnrsrf1sgK6ZWVlUrNE19fX3h6eip9o8jHHJ8+fbqhiY8FJxfAwViCkfMzNeUxLQcR0ZWOQRQiIiIiok5K9kNiCmDIZjXKkGxu49J6VVNZC0U+fUf+lcES+TJ1MCsDKzKIImumNHBwbAjQyPmYmvHI+V9u/aEQEV0oDKIQEREREXViSl8oggxjuEB9eoWjs6YaKbI2iqkJjwyiyNookhwn+0eRzXoUMoDi6m4cFuR8TGET0/yJiK4GvOIREREREXVisv5JlZqtl48bdlZriMimN+dcuwF2zWf5ZXMe2ZRHBku6du2q1EDx8fFR/ur1eqWfFON0GgMocvqmxxrL+V5ejzYmIrqwGEQhIiIiIurkZMeups5dZV8lDYEUByecc/Mw9mViRtZAkU/kkc13ZMDEw8MDfn5+SjBFPpWnvLwc/QcNRvivoi1qtMjpmvpeMZ8nEdHVglc9IiIiIqIrgKwVYh5IcTU1ubGzUwIh57p5GgMiXRxRW1eH48ePo3v37kptE9mMp2fPnujV2xfhQ25A9K2jMOLOu+HmYWzeI6cjp2ceQDHVfiEiuprwykdEREREdIUwD6TIJjddUdsQ+FCa9cimOV3d4aDzRp/wCDh090aN6zWodnFHnZsneoeEoW9of/T06W38jiC/L6djasLDAAoRXc149SMiIiIiuoLIAIcpyCFrkMgmOF1R1/j0HpWdnXxnPqaRHCvTy+/J75tSmU+biOhqxCsgEREREdEVRtYWOYsuDY8/tsc5JSjiJsaYAiOyhomDGG96yfemgItMJ9PL70lyOnJ6plouRERXK14FiYiIiIiuQLL+SCW6oMIq+CEDI6aAiXxUsellCqyYAieS/J78vpwOn8JDRMQgChERERHRFU12Lyub4JyBgxIMkYEROa4xVGIk38vx8nOZTqaX31O7pyUiIoFBFCIiIiKiq4RsliMDI7J2iQEOSqDE9JLv5Xj5uakZEBERWWIQhYiIiIiIiIhIAwZRiIiIiIiIiIg0sDsnqMMKu9cT1SEiIiIiIiIioqvPuefj1CFLrIlCRERERERERKQBgyhERERERERERBowiEJEREREREREpAGDKEREREREREREGjCIQkRERERERESkAYMoREREREREREQaMIhCRERERERERKQBgyhERERERERERBowiEJEREREREREpAGDKEREREREREREGjCIQkRERERERESkAYMoREREREREREQaMIhCRERERERERKQBgyhERERERERERBowiEJEREREREREpAGDKEREREREREREGjCIQkRERERERESkAYMoREREREREREQaMIhCRERERERERKQBgyhERERERERERBowiEJEREREREREpAGDKEREREREREREGtidE9Rhhd3rierQ5WPyqCjM7O2A0uN5iNlSoI5tNPOuoZjc0x45hzMxenuZOvYiih6IA/3c1Dcm9TheVILlKdlYrVdHXQKzxwzDRJ36xkppQS5ivixU313ehkRHIiFGB8+yYsxauw9LLuE2JSIiIiIioivbuefj1CFLnaImyvIfylDp6Ybo8ACsClZHmgQPxLQwd4RdU4s9GZcggCJ5uCGsh3h5uiLwGvXV3R2xcnknRmJmM0GM8zFtXAwqnhmJtNvUEc0I9DIuW8Nymb183BzUVFr5YdMTI8V8h2KxOuZikAGUpOE6+Iij1UXnjYXjxT6/ANuUiIiIiIiIqCWdozmPPgtzDlWIpXXFuOEhCFRHAzosu8VbvK9H5sFszLnEtRMyM7fC9Z/qa9EuzMmvBVx1mHZzx5f4XRwd4eJkD5cu6ogWGbDKtFxmr6B1+ernWon5uYiXnK865kIzBVA81fcSAylERERERER0KXSaPlESEg5hXZkoQHv7YlmUcVzg8GBM7C4Gyk5i1pdqBEXng3ljhuL4DFljYiT0U4dibbSX8TOVsRZHDDZFqiMUoUgT6SsmhVq9D8O0+GHQW3ymRTnmZ5WjVAzpXN2No1Tx0QORNnWEsnwV02OQHO+HIepnJhZpnhmBA/eFYIIaNFg8aSTm+RlrkYSFyc/Pt2ZI47rHj4jAgelymmLbTY7AwoaaPzJNMGKd5bAbJpptj4btOTwEiU/IZTZu23kPy+GbsUndXyaTx6i1aO7wUMfYZiuAYsJAChEREREREV1snahj2RKMT9OjFA6IHRqByfDF4kEecEE1ElL2IUFJ44Vl48IwO8QdnrUVyDldgUpXd4wbPggHRjUGUoy1OMTLYu3VGhbiZfG+uw8Whru1o+aFK2YGi+UQQ3pDuXGUED9qGNYO98YQ53pl+XLqnREdHoqkh4MbatgEjhxqTONUY0xTAYQF+mP5PcZaOMfLK3C8ypi2ssK4nseNb9tJXVedD1ZF6aAT0zxeZw/P7l6YeWckZippqsR8qlBaL4frUSqXq9y4EMbt6YzYG/wR69a4UecUVojxTogJ9lfHSD4Y5+sqxlcgbVfzza9aCqCYMJBCREREREREF1MnCqIIqZlYUiBK8W5emD05APFuQGneEUzfZ/w4dlQIJne3R2VBLvq/vRP9P9iJ3itykVJtj7DwYCxuT2HboQrr/pdsbAKz8pA60rbAgGE48Kj6+v0wLPSzR05ONsb/z1RLJhTzZECmQo9ZH+1Qlk8u53yxTp5+vlg80JhsdoA7XFCBdRuTjWne3YX52QZkVtojVnw+f8NOLDlRq6TNyZXruQ/zlXfNccVo03I1vKKwLFz92MSxBgkbtqL38p0IWpyu1PyBqzvilRo7uRj/QT7SauRwBTbJ5dqQK9+oxHYvzkbkG7KpUDJGp4lRW0vEtgc8e/VQAzFCuA8iZR+8xXrMb6b5lZYAigkDKURERERERHSxdK4giii8z0nIx55aILC7K1BbjuVf5SFH/XRCb1k6r0ZSenbDOOizsbZQfMHeHTER6ri2KCvDnMwK9U3LXFzNOm51FpvW3h6BPt6YbGoSM1SHIWJ0Tn4hjvv6YEK4fHngQGE5KuGEsEBjJCCnUlb3cEXszWGYHapDoFzvdTsR+ekhLFdStJU9fGTHt1avQLEJLch1zVaHUYLkMhmocUDvnsYxLatFWnYu9qjvjLKxqVisi7M74tUmPRNC3eEj/u7JO9S4j8yFD0SCRQClHpn7iy3SluYVIslslyiBlLtC1HdEREREREREF0YnC6IIspPZnGplMCc7C7MaajN4wFXpZLUGx/crIxosKlObnSj9ebTRuXrbhX0bLDqWfSMRo3eVo9TVHdNGhis1SKIdjZs7MCQMq+LDG1+RsllSY98p87dkI6GsHp4+vph3TyQOPx8H/RNRWBxhHfXQyoDlrycqj69ufG1HXKr6sUlz62qn/m2N0tTH0vxcGSByQKTSpMcHE32cgOoyJGw1ft6EoRZ6YyUbQQZQMjE6oVZMw1w54lZlWQRSKquVKjJEREREREREF0znC6IICZXGAnNltXl7kDJUnJN/7eUDcSzENvRzcnElbM9DskEM6NwxQfxJqTVGGXIO7cfEhKavySknlM+hz8Pod7ci6NN9mJNWjKST1XDx8MC0kQOxsLM1W0kpRnIV4OnVHZPVpjyVxScxR/24idxMjP6+BDlVtdiTLgMohbYDO2IbyUBKQlktSgvzMfFT86ZFRERERERERB2vUwZRmpNSJmuouCL6ZvOn8Xhhmo+swVGNnKPGMUYOCPRpjEgEjnA3e3RyB9G5o7ej+FtfrzylB8cqUSj+9PZwR8r+Qqw2vezdMNrHBZXVsmqFOybfHIZVt/kjMK8Y8xP3Ie6DHVhSWC8W2RVDGp6W01nkYXWB2C9u7pgwoCt8UI89uS0HPHJ2pSPore2I/LqZAIqJEmzaDt3KQ2rHwkREREREREQXzhUVRFmeehKZsr+U0AE4MCYY0yKDsfbRARjnIWs/FGK62sxnUZ5BaR4SGDoIBx4ciLUPDkNahOxP5fxYdCwrXsd/648hTmLehSVYIhPsO4JNJ+vh4uOH5IfDMS/SB7PjInH41gBMiOyDaUrfIw6Ivt4XEyKCsew+sQ7hPpgm0kzsIXZVbQX2qH2WrFObKAUGRGFtfDAmK++aY6tjWfEaE6B+rtUJ5MiaNXJ6Dw/Eqpt9lbGtWX6oHIVwQqy/K2DQY3mK+gERERERERFRJ3JFBVGUpiBbC5FZ4YCwkAAsjgvAuB4OSnOPyRuzGms1pOzHnOwKVNqLdP7eGOdrj+QUy85L28PF3bLjVh/7WmTm5GH8KlNHt3pM2ZCF1Sfr4eMnAygykKJDYH0FknYdwGjlKUMizbY8JJUBgYFiHeLDsVik8RFpEr7f19AHTM6WPKw+VS/m6YFx4b7iZRxvm+2OZcO82trHSgWm7BLbt1pMz88bEwaKl/pJi/YdQbL6NOPC4uJ2do5LREREREREdGnZnRPUYYXsdPRKEOjvjWh3UWgvKEZSM4/SlU1n4oOBhOxy9f1FpNNhnK8zXCoNWN3c/H28MMHLEZXlZViX18wTgsR0Yp31SJLthC6iQH8dPPP0Vk/jaY4rlk2OweTu1UhI2IHRVh3/ti4AiTOCxXoa3+XsT0NQQrM7lYiIiIiIiOi8nHs+Th2ydMUGUehyoMOEQc7Q9fTDvEgPeOoLEbdsP5LUT9tES9CJiIiIiIiIqAMwiEKXQAjSZvpjiGw0VmvA8o07MUXt04WIiIiIiIjocsUgCl18ptojqG+lWRURERERERHR5YNBFCIiIiIiIiIiDZoLolxZT+chIiIiIiIiIrpAGEQhIiIiIiIiItKAQRQiIiIiIiIiIg0YRCEiIiIiIiIi0oBBFCIiIiIiIiIiDRhEISIiIiIiIiLSgEEUIiIiIiIiIiINGEQhIiIiIiIiItKAQRQiIiIiIiIiIg0YRCEiIiIiIiIi0oBBFCIiIiIiIiIiDezOCeqwwu71RHWIiIiIiIiIqO3+ENUH46/3RqCHqzrm4vHt5qwO0aWSpT+Ljw8U4pXkHHVM53Pu+Th1yBJrohAREREREVGHWTk6HLN+1feSBFDo8hCi64q/3BSEhPsi1DFXDgZRiIiIiIiIqEPIGiix/jr1HV3t7gz0wksxgeq7KwODKERERERERNQhZBMeInO/6e+jDl0ZGEQhIiIiIiKiDsEmPGRNNu25kjCIQkRERERERESkAYMoREREREREREQaMIhCRERERERERKQBgyhEREREREREdMHYqX+vBAyiEBEREREREdEFc079eyVgEIWIiIiIiIguP/o67DtQi9QDdSiptCqG111JxXLqTBhEISIiIiIioougHj//UqcOt6CuDqlbqzF6ax0eP1iP6QfrMDqhBn/7oQ4lBXXY9n0NvsxX0xJdZAyiEBERERER0YV3oh6rMuqw9KeWAinn8HNKHabrgRJ1jMnGY3UYvbMOG8/ZIcqlHiXV6gdEFxGDKERERERERHThnT6HfeLPip/r8Nz2WpTbiqVU1GFLsTrcjNzienxRagcvJ3UEnT8NFYTIyO6coA4r7F5PVIeIiIiI2kGnwzhfZ6C8DOvyKtSRRJc5HrdEHeLYU8PVIRvKarEwsR6fq2+9ugATA7vg7vAucBfDiuJa/PG7emxT39oyY5ADJlzXfH0A327iXG5REVLXJeOo+s62PogZF4Ve6rvOynDoa3y1Hwi74zb0c1NHWjOkYulTf0Hy8JfxzhNRaC6ZJXUbXhOG22/t1+p3OmOc4dzzceqQpU4RRBl3WyTm+dkjOTUVU2To0srMu4Zislc11iWmY05nbRsXHobkoR44fnAnxqeo4zrQhHtisCrUGSm7tiJmuzryPC2cOBIzfaqwbksyxosTk1oSgLWP+gAa9u+QyHAsGewOT30h+m/IVceqdD5YGBeAib6u8LSrx/Hik1i0dT+WFKqfSwEhSBzphd7q20YGrPpgH+ar7wBXTLstDNNCPSDuXag8U4a1e7IwJa1c/dxEazpLLa3HkMgwLBzcA5HXOMClrgLJh/Ix5et85KifG2mfrzKvqB4Y4mqPyopyJKQewsSGdD5Y9nAAYlzUt1ZKC3IR86X5Buwg0QNxoB+strm1ECT/wR/RhmJMfHcfVqtjW6b9WLLUnnldROEDcXiUN3oX5sF1VZY6kjqj2OGRWHWjDj4yb1tWjDhxvCUZPyKNeH+9+Npy3AaGhWBxlBcCa8swb02m1fXUHdPiQzEzyB29u9Sj9HQZVu08hFmZ1kGZtqWb1ssBmU2u++27P8vvTRgZijnye6Kc2WTeap7U0/jOSi2Sd4n8uOm41JIvsRYcisRf69C70tb2M+eFxQ+GILar1TzbIDAsGAsjeiHW2xkukNu5HJv2atlGl0Z78+uzxwzDRNfWtqeY/h1RmONb1Ure5Py1GEQR+2Hftlo8fkp9aybG3Q639LSDb/05rMg9h1R1fFN2eG+cIwaq72xpPYhyGJteXI5k9R0qipBxqAi9Qgehl6s6DjGY/NfRCFLfXSr6Xe9j4RfZiPntfIwOUUfakrUJsz9KRvDds/DYUJ06Unz/2wX47evArA/+hBE91JHWqg9j/d/eQcaQp/Cne4OgrYLPQXx29/NYOXwWPnphBBrnaNuVFETpFM151qWWofQaD0y+MRzx6rgGwQMxLUzcgCpPYXln7lzI1RVhPdwQ5qG+72CF5dUorarCcYM6ogMcN1SJaVYjpwOneeXSsH9lRuTBGCTH+SBapvVquIKrvLBsXBhm9nWGvugk1h2rgKuPDxY/PBQLza9aPdwRKb7f2xTNt8kVMx8cisURIhNTUYaEnDIcdxbnWFwUDtxhPjGt6cy0sh6BQyORFOeLGNcqJGedRLLBETERoUh70B+Bapq2zDf2jmHKvIY4VCApS48cB3dMaGn5Gtijd3exfJ4XqB6oh5i2WP/GdbJFnpO1KDVUQnsYp73XivbM6yKSy1VVq1xX6GLyw6YnRuLwOD/1/fnywcxBoiBaXowpK5MRufEXBlDagffXi03rcSsDGsOQFu+PeB9xHe7pavWDhbx3RWJxuDtcy/RYl1MOvbsXZsZHYa1FaU9bOhmsSXwiSqTzsHHdb8f9WTXzviisivJC75py8b3GeW+KUhM0x9HZeF9ruK1rzJdY8MKqkX6IlevTZPtZipfBI3/1XmqdJdIgftQwHLgrAON8uuD46QrknK5ChbtO2UbHx5nnOS4Gbdfa9ubXA71a355Sb091e6rvL4mCelT52WOqjexXcvk5/O1wPaa3GEDpKEEY/df5mG96PX67Mvb2x83GXQYBFEVlETLSM2CoV983p96gpCuqVN+3hVMQxs59HS9rDqCY8evVagDlStM5+kTRZ2NiRjkqdd6YN9L8KqrDslu8EVhdhiVf5Vn9ik3mkramQvdWMsZ34BVp0YZk6BanYpZVZQlqn8VjwjHTV9xAUvOQZKMcGXtXKCZ7VmH1hu3o/+k+TPx8F3pvLESOvTsmxokvmvRwgicMWLtsJ/p/YP4y+9UhOhzz/B2QcygduuVpGL8xDf3fTsUiUboO6xeM2WoyzenMtLweOiwUGT7PsmKMf3sXRifsQ9wHOzD+UAU8/f0wL0BNpnm+AZgn6yWeKlCnl47ItzOw/JR5ukJMWWO9LXZidF4tPO1rkZadp6S6NPIw/t3t0K3KuggFzYs5r3bIzULM4u0I2nAp98fVyB4uLvbQOXZUdsAJLg5AaVkZlhdWYI94Udvx/nqxaTtup90XgcVhzjieeQirbfyKbrx3iTzX9p3ovTIdE+W9a6W45tY4YVxkaGPBVVO6UGyK90cMyrAoVY9SZZyZdtyfFQHhmBbohNK8LESavifnXeWE+IhwxMo0+zMRY3XP7P/BXpFGbKQqWdtTmZL2fImZ2DtCME5XjcLWggQBYVgY6irStbPX0IERWD5Q5A+K8zFxxY6G9Qh6axfm5NXDJzgYay3KFBeatmvthcivX3bEbtmWUY+l59MhrKsdbB9hHe/oNwsx+8WVSDU7ZvUpS8W42fjsgNlKHN+Ot8S493c1JqwuTsWmdxYoaWf/8318naFXPzFnwOFvP1O+O/vFBVgqm8eYzevwF7Ox8LNMZfir92SaTTisvLMka6vMfu8rZTjzM7nM70NcOizVG3Dwi6VYIOf12lJsslgeWTNHjP/CfOrmyzYbC97ZBJur0OIPt1emzhFEEXK2ZmHVKXsMGSRuGmqoK3B4MCZ2r0fmwWzMMe1QnR8WPzgM+mdGouKZETj+aAQWhplfJJuJBN82VKQfisXq22njYlDxRARmyir50+W0Gj9rQueDhfeZ5jkS+slinsHqZ4JpWtPU90ahSBNp025T3zbwUn7FNy3/gftCMME8tGdazmD568QI4/yeiFTmFyhufmlT1XFTo8SN3my9rdZPkr9wbJpsTG+al0VNn3asV2BEKBJN05xxc9Plb1hvsZ4N07YxbxtaXV7Bev5pYwJaTdPcNl4WFopkZXvGYFOk+pn18TVpIGabbRMjWU02Qj1umm635lSeKMb0NcmI22rrl3gfzPR3RWVBASZmq6Ok7P0Yv2E/Zu5prJY6zd1ZXLVrW6xtMKG3K1zqy7Fuo3mf5+WYtb8MpU7uGK3WwtSazlzL6+GGSoMBKUdOIEEdIyUUVIoMoiN81CqGmuc7vAeGONUieW+m2fRKMGVv88tn5IvFoe7AqWLMbzWjEoDE34/E8ftEjreBD9ZOEft3ykBMUMdIM++7GRW/j7TMvIpzteG4lcdkvJ/ZL0C2r0dajmPlWmF2Dh2fJDLGLf4MYGNerZzjNqnfOT5D/c7UYdg00sdsndp7jltdE8/3Wufjh1WPNrfdW77Gt3iN8A1TlvNAvPXG9semqWJ5Hm7cgK3tx4ZlEOvTcL141Lgf40eYX0PEdcZH/ZJJq9ciDfshMgKHnwlGrLhkePoFK/Nqek8y54XZY4Y27vsnorAqUpxHJsq2t5ye7V9djdvq+IOmqKmJK5b9Tkx7cjjGqWNavV43cy+1vD+Zjn1/pcq7si0mhSqfNKHx+Gn3fULj8dOu+6tp2dW3RrauMbI2hdl+nDoUqyJaK0xq+I6W+6PmPJrtfRUvzlfTuV8xfRgSb7PaLzZ11HErlJdiUcIu9E/Ih60wy8LrPeCiP4n5u8w+1edhyoZ9mLizsZdMbenqsSf7EGLeTcMsGy1P2nN/lmIHeYhtZsBa8x8f5bx/EaU2nQemWZ+WJgNDMd5bFM5+zsEiZYT2fEkDXQgW9hf5gNwj2NRipUNXLBzhg7AaPRYerlHHtc3CSC/4VJdh0cZDWG1R6CvH/E9zkFQlyhRBAerxc77HnTw/onBYvWZXTI9BsrhmDFE/bdO11tZ53Op5Y8b8fiLPU/Nj/XLhYY9brlGH2ylKZyfO7IujTx9/HE3/DBlZpoCJAdnpm5QaH//LaAw46LOS8XW6TG/sGaT60GeYPfkvWF+kQ78hUejXJRsrZz+Dv3xj3gtLEbb/4yk8s2wbqoOiEDWkF/RbFuD3L7+PjNPGFG69xHeDjBf7PsHGNLb6HnHy6IOo4D7KsC6on0jXB90sqpScwY8f/w1vHXRCv3594JS9CUvF8ryfblqvahjEOmU0BC4NSH1HLtteoJ+cbz+45X+K2c8sRaq6bFezThNEEYcmpmwrRo6TuMDfKgsz/lgWKW9CxZj1pXp11PkjcWIopvnaIzOnGOuyyoxVFEcNxrKGG3kzkeAuYryTeKlvXRwd4eKqw7yY7sCJk1iXU9ZMTRe1KmMf0zxPItNRh5l3RTUEe5RpiXladsmgzs8qctf7uv6Y5lGNpCwxrWNV6N3XH8vF9BsyvcpyumLiHb7ofUouVzkq3cT8botB4q+7i5uZcZzeVWyn28MbC3NW64fgMGwa5Y/YLgYkyHnlGKATF4m1E4PVG0Pb10s200gTN5YY0zQLapouv7regaH9MdnTuJ4JxfUIDBTzfri5O7fQ6vLann+g/KXh0TDjLyvNpLG9jd0w8TZfBBrKxLrrsUfe7G0dX7J21D3DzI4vWX10MJbLarIGvUhTjORqcXO9w7vVKpaz/revhTbEOgSKK2bOqVylP5HEScNw4NEobIoTGb3sQqzObsys9BbbF3X18IyLQPKjIt2kSHGuWN5EdWIdbaqqR6XYRz7XGG/OWtOZa3k98jFx1c4mfZDE+7rAE1XIUTNiWuc7wVtmIiuwxzoQklqOnHpxnHlblzyNAsV2i3erRdLeTA21MnKRUiayi97dGwMmAT0xRCeOE507xjcctj6I9RZ3q7Iys3bGjhgtjrews6eUcyj5rMi0hYdgU0NVazENq+uRluNY0gWIa0V3sQ4iTUJhDVx8fLBwjGUaS9bzav0cb0r9TqAzKmTVbXl8VzkjPioMq4abjoV2nuPq9xquicp52N5rnVime2SwQJ6/xUgSt4iwcFHYNmsy1tw1vtVrREEu0s7YIyygr0UADdHeiBWnWeZR40Hc7H6c3HitMS6DB2YN90BpnkhzTBSoeoj9OD4Gywe7IOewOs5TXGfuUn8hljRdizTsh1OnxLLpkSnyS5WlxutVQrPnrtj3kwdhXrAr9AVynuJ4EQWHCXGRSByq7vvCEjHeanr5tn5uzhP7pB4+ft5YqI5RBASJc8gex08UYJ14q+l6bX3cqCzvT+KvGO7dJ1j59T9NbLOEAltFYEHj8dPu+4TG46dd91dlmRq/YyTeW5z3ajMSUQAz7kd5Drtiwm1DsNY64NFAw3daWm/Tad+GPJqtfSWbZqwd7o3AKuN+SSixt9EU1FpHHrfAki/32eizxEQUmsU+lLVZcsLEuf6wvE8PRWJ8MKLLi7H6kF7NR2pNl4WJG/KxRxluqj33ZyleJ8YbKpXj2lzOUdnU01VcI9QRFlyxWAYlqvRYvsX0Re35EiNXzJOBhRo95n3Tco3DwOHhmOZdj6RdmWrApq2CEeMptnFhceOPrBbyEPdWIuyWZ6rb+nyOO6umWUoaiHt9KNbeoxbz23KttT6PNZ03Kjt3zJEdXoj1Vo71ejfLY/2yYY+oYV3w567q23a4vc9FrPoQ2A+3iD/bDqoBk+psZCSIXaPTQb//KIqUkQZk708GIm7BICXDfxib3l6JopGzMH/uVEwaNxaTps/H69ODkfrP9UhWgxCGlE+xcGsvTJr9JmY9OhZjxz2GP701H2OL12P5N8b59Ro6FndFGfOzYbEyje2Obt1Cb8PY2DBl2CfqLpHOuhPZDNQMmYG3n38MYydOxcuv/Qm3ifL1+pQMsfQ26PdiW4IegybOwIyJcr6TMOOFP2PGmGA4VZsCLVevZq7Al6nsfZifXQ3PAD8kPtgXsc4VWLd1f8Mv0JPjxDhXMW5jMmI27sfEhHRjFcU6N0weblaNUiuneiTv2GWsorjxUDMXcm/EdBcXtkzTPPchZku+yPiW4biaoi08q0sx/t1UjE8Q0/p8JyJ/EKW37j6YE60mUMjqm2K5PhdpNqYiJlMc+u6uKN0vhuUyiHFBP5ahUmTwYk2/jFkL8UCYgwGrTPMS35mYLjKL+aafBtq6Xr5YHKU20zBf/h16VHb3xbw4ywu4Z+UpTFyWpqQbvyZVFLrr4eLdA/PUz5todXnV+esLLeefJraD7E9H6YSpLcsoMvK/ZBir2SZkYs5+cXyNFMeXowHLLY4vUcAWN6mJQ9Vcoi4U88LdUCmryX4gv7sfo1fuwHRReLHdQZtGkbKday0qPWX/H77yLeDsjvjIUCSbFcokH5ERgCgcThvkIYr1IlPQQ7b/HYrj9zdmNJecFJkDe3F8WFRlFRmBAfI7YjXceypjtKY7L8FhWCgyuKV5BZivZna0zre3LBjU1No4Jqugr5EFEVutOv2xTGR2tNVCMZpTIM4xN3dMDDe+DxR3pUBxAymsdkVYP3UZw30QKW5WmQXmP8k5oSIvA0FrxDVENl1aloUEgyhA+doO7mg7jo18ak81pBn/aTJm5VTDpYeHZcGsRe24dvk6i/JGORJ27kKQvC7K4/sD4zoN6WtZsbbN57hN7b3WOaG3Ic/iHGzSZExqco3Xco2owPxcUTgwOx6k2QHucKkux6bv5DvjdFxkMzPz6di6notlSNuu7gORZl5eLVx0XZC2dSdGq98bnyXOB50o+Klf0XQtUrW4H3LzMD3hFI6fExn7MyKdSDPHRuftUmBcMCZ3B1J+UPeHPF7ezcBqvQNio0IxWSbaly3GW05v+i6bJRgsOlCGQnt3cY6rI4RYcX4Hiu2botQVbsv1WhuXc2WYtXIn4sQ2G5/YUiFO4/HTrvuEluPHWkdui56I7+WA0vwcdT/KczgHy3PKkKamaKr17yjrLfJkqy3WOw8pda6IGeBtTNOGPFqTfaULwbwwy3vr+DXJzeyXRh193LbMHb3FrtDbeyPtrgDEy/5LHF0RGx6AVRMjMbMhOK01Xcvae3/2dBD/VVU17Xx0v7hvij8uzsa3FqLCMNGiForQhnyJFDg0DNN81cBIS5tXZ/yRtDIvB1PMa+q0iRNkd2fHy9rWPLR9x50LUFaOpH2H1GuBTLMHy4vFOvv4GoPfbbjWWmtT2cZJ3NN3Wx7r68rEsT4oqIUfWC6Rbva46Xp7vOol6/u2UVd7jLxWHb4YnPohapw4Z1Myjc1o8rOxV3Y4O30sgtJTcfCkGKcGVoKigo0BjqxUrBeJbxkehW4GAwzqq1tIFKLwNQ4elkEIPfamfA0MvQVRfjUNaQx1wRgk7o2H92SrAZqOEoOYcLPwiy4Mg2WNtdMG2AyJuHVDL3E9yvj6KyTn61EtH398TT/cNu42DOrR5l5TrjidK4giLF93BEkV4mbj74TC7FyMbyiv6BDfXezQU3rMMi/D6POwPF8cGt665tuHNke2+2z1Ai5uILXiQhkQicWDdMaLWW4Wxn+ehSXtuAfn5P9i0cwh5zv5i48odPmbNyWoQGZa43LlnKxGqVgOfZnZslbKXyKE5vZwhfzcFaMfFJkIf+MNOGnrPozebnpCShvXK8AL4j6DzDyr5d9VgGRR7hnib3mJzCkuMEtXgVknxLI7OSg3fptaW151/nuyG4NqUo5sW/rPnZgoH/bRpmUUGfkU8yqy4vgSF4zK4hOYYnF8ZSPppCiU6DyNBZwIDwyxr0byT5Z99CxPLbV432bKfnTAED97JHydDN27O9F/6VZEfmfMRC8fY9pyrlj9nbh5bkxD0BvbEfSBSPuGbP9bC5+Avlhs6rBua7bSb8iQqKE4cF8YFseFYdOjQ7FQlINL5ZW0Xu25Smu69pK/sNzpq1TZnWdetfgCzjd2lMjUOFeLc1tLLRRVehn21DshLNiYu53WSxxIpYVYVQqE9TJW+44N7gqf+nIkpytvVRXYc8D8OCrAcRn3a+681HIcqyzPIXGMnWlrled2XLsKCjBnQypG7zBeawL9vTEhUhQIRKbcxcXyhtrmc9ym9l7rapGclW1xziXskDVNXDGknzpCsr7Ga7xG5CTqleMhMkwckIoAjPa2V371VGohKdOpx55D5s3MxPfE+bqn2h6Bvc22QpVBZL7VYWFRmTxAanDcbFxStfnxrvFapOqY/SAy8j5iw1SVYe13ZtsLJZgof2128xDHgTpKq32FSFO2qakQoBPzENd2cQ+fI/sBadP1WpvSopMtF94aaDx+2nmfaPX4sdah20KcQ+Ia6tnLF6uGeanNDfIwRRS65psvs4XWvmNcb5w8YdmsQ5+FmLe2ov//ZPOUtuXRmuwr2bGq7Dz8B8t7a0JGubJfwixKko06/LjVINDfXeybdLguFffpd8V9+H+FSi2/eXdZPlJDa7pmXej7cwMdlg3WwdNQgkUNtVAEzfkSyR/LhurgUpDfamBk5q2BiLW7MH0dKs3klCYx6suqyVz7jju92C5piNtSoHwGHy9MEAXV3jIY5eLY2KSnXdp23tg61mfli/dmQfjLhx3cq8/hfXEJbWvXT3+Wj0JWhy8OJwSHjwYOH8TRk0BRVioO3xCFfkPDcJMuGZmHxYU45yC2if11Uz+1G9oKY1By/V8fwkMPmb1kUxgxvui0+I5sPiNrpOxaimfM04jXX2R1zHS9Mo0O1Vz+0xanQXhw7lTEnP4MC576LcaPuRtTZr2F9buLbAddrjJt2ZSXCXHjPiwvEAZsWqdesBTu8HQRF8AzhiYX3dVn29eeUhtR6Pi+BMeddZh2RyQOzzyfNoi1opBgfXM5gcKzIvPSTWQEGtSj4nzPqu37MCe7Cp5+flj2YAzO/UG2Xw7HtIZ7XhvXq4ejuHTU4niT5S+0WWisrG7jCrS2vOr89da1R821aRmtt7Hx+HLxDVAedWX+mu0rvuhgb2yu4ywnIgpA1o/hyxUFVnXwfJTm52N8euPy70kRhTSxnD7ePdVfGcTN/lChWXVgqRzzvyo0ZtpDTBusBFPWZWJRnqwS7otpkb6IcSwXGYECyK6rjpebHnWlNV07KFVUQxBrX44lm9OsCjcXar7+mH29OJeKizFd469ACpFhSSsVmd6esu8PYzXhPWJfLMkXB5ynB+aJzNSEnqIAWCqW0WI96qFvS+5Ay3GsavM51ET7rl2mvjrksX/4wYFYNdIHYTZq1Z7/8kntvdZVicKJOmgiNmqOOM97e5gHpK1ovkZkYW1BvTjvvI2/ZCt981Qj+YD6q6cyHXtER1teK849H4BokR+2XUNKK43XIlXH7Ae1hpuhommNzPJaKB1eNmwbrQqxSGbue3gYf3kP8EO0+LsnN9d47WrT9bqjaT1+2nmfaO34sdah26IQ47/OF/cDN0y4OQJpYtlkHw+W/RpZa+07av6rUi5Mc84zj9bNAS7iOjvufsvteu5+b2UZbNaeEDr+uNXgVDHGb28MruVk7sfyglq4dJf3CjNa0zXrPO6TdvZN97dsoqoOWogKxPju4tw8dAjL1VHmWs+XADPvD0SsWLYlCZbBySaiIjEnwB57MvY30wynbXRdLcPFmfmy6ZZs6lKMpDPiuBHHh811NtF43DX00zVTfDYpAqtGifU1z7a3WxvPm7NVSlNIczknZZ9zzgg0f/JSVbVyjFxqTv0c8GqwHVp7KJS5O/y74J4+duq7i8ctKAwxkAGTwziYnoFB0YPQC0HoNxLYtD8bh3P3Qq+7Df1MJ5az8eB4YO4n+OSTpq8Zw+SNzwlO8nfh6Bl420aaTz4ZA4u4/SXgFDQaf3r3C6z96G28/ucZiOmZgffnPm/Wea4OQY8+hsfUPluuJhc0G3Kh5NiMrotx4p+Lg6P6vlGg/YVdTflLQtA/E5Xq7XPSReHVXrZBjMCmlh5ebpMDeosblaWe8OlqvIB2LJGpWJcM10XJiNuYjSVHZWbWB4vHRRgzdUKb1kvZJfZwbXI3cpUdaHeAVpa32fmbOa9lNB5fsjd7+YzzJq+30oyZtHPyP3vorH8YbC5zolVqhdLEQl9+wvi+QQVyKsSCOTnC2AqyGfqKps1b9IWY9WkydIuM66CTndeJfRzoJDLrjf3faU/XJrJvjWBjtfdNuzDd1i+gGua7qFRk2p1dEGO9vQM8ECjuX8dLLQslDbVQ0g61nJFrogKri8Qx5+mOaVEeCHMyIC1NbPu0cmQ6uSE6yg+RnuKcKSps43StaDmOO1Cbr13yaQdDZX8/JzE/MR2R8thftB2rLrsOxhzR26yphJGb8stg03PITBuuEbJJRqWbO8aJbTWvrztcDOVYZQrMKdOpRdJ247Fr/dJ92rYq5pbExMW/Vq9FHU2uUxeHplXCz+P2mpRRJo45d8REuiJ2kDsC68uRlKgWxtqwLzpeO4+fNuybFo8fax29LbIPIXKxWJ6V6Zi+sxDJlcZ+jVp8UkmL3zGut638V6Pm02jKoyn3VnEdXma2Pc1e/bcoqZqS266Dj9vmleO4OHxtFXj3VIgbcEMNMK3pNGjH/XnP6VpxOLs25PUahBub51h+r7EWyhLTuWmiOV8ShskBDkCNA+LHyH5TjK/R3cRHjuKeKobXqk0clw0U8xJ5fM+AwQ3pDgTIY8wBkRFieIzWWleFyJR9mXX3stj3SbsOKU1pJiYcRk6tOAjEYrb4A5eW404XirVxPmItDVj1vWy2Kz5btBXzCsR2Pm9tPG+6Ojd0yt2gu3xiYw0K1XxWZU0NKk01OC85O/gOdsTieAd81Lf1YMrA7vaYHXUR+0Ix16MfoiKATVs/RfJ3QYgKkc1i1BoqWzfh05QMYORg9DNls3v7QfYdfLDoFNzc3BpfdaeQXXQGjspq6NAnJAhIyUZRF7M0bo6oLjiKU7L5zKVUrcfhjAwcFXk8J10f9Iu+DY89MxWjocemw6bOcXsh6q7RGD3UVi8tV7YLchu5NPKRoq+HSw/rZjuumCl/IZadaCnv1Zod7iLDprw3mtytpZt/C3y8MO3mAOVmlJNXbCxYrCkWN0YnBKrt9daVi5uiKOhFmgfpBjqLU6epwJ4hlr8ODOyO/rIwWNZSxq3thgT7YV60rEosay7kYvrnuxBzSNwg3Vyg3Ms0rJeFtDJkVttjSB+rG5zOH2Ee4namP7+fFFpd3ubmPzAMyY9GYZnMEJ/XMuZDdjTv6dW9ScZjcmQA4k05nnxjx2xDBlju3cBIkalRh9unEHvE4gX6Blm2M9YFI7aHOI3Ly7FEGRGM5GfiUDHRqrcx6+No5FCce/5mq8Ky2pZaNnEwNXTXmq5NvLDs0UGYfI3ImGzZa1nt3UTrfA8Zq9TGRMpjo9HkSE+xvSuw55A6QtHOWiiqpJ/EvETmNH6wGzzLDMbe/kUGNrPMAf0HeyHMXszvp/P86UzLcdxR2nqOS9e6iMy9AWs/2Ic5aSVqh4f+SueClxfZ9Mqy3/7AOHeRya1FTrG4bjSnLdeIlAIkGZwQ03+gcg7m5B1p7GMgTRwr9eK48Lc8LmXfFtMamkO0l8ZrUQdbXSK2m4e7KAypI1ST/cX5YKtzZy1yDyNJNkcIuA7TfFxRWVCMWepH2veFQamNYVlDxBWB8nm17dbO46ct+6al48ea1m1xSjZ3c0bgUONbhc4VOvPsjU6HccOCMVNOqlAUjHfsF4U+45NKAr2b6eOq1e80l//yxbKJw5B8h1xxrXm0Zqj31jCl4w0zAX6YaWqOaMMFOW6blY+kknp49uph1a+JuNbKpmoN66g1XSvaeX9ekm9ApZM74q36UlkYLPvlMSDJ/Hst1kLRmi+pQOZJAzINMqLVshy9SHeqqgMK+HosyTOIZfHG4lFNn+Ein3QlnzRUWFioLmMztBx3wSJ/Z1+L5NRUTNlZrHbYK77T7XyuQSZtPG+c3RBjkf1zxWLZ/LiqEmnqZWKJ/EHy3fSW1/uiOYfqU3VI/rEWfzxyTmnm0pwY7y74x80O4up8qfTCoOGDgO+Skay7CWFqqx2lhopejNsNjA4Pbly+a6Jw12/7IeOdt7D0mwwcFcd20eHtWPnabMyeux4Z6m/jQb9+ECN0m/DW658h+XARDPqjyPhiKZ5/7nm8tbWxNpmuV7BSbvxx+9dIzThquyNYyasXYsSfTJEuOeMw9OfT7uZ0Bj6dLZZ32SYcLJb9tRSJZduEZLEko4OMTwHCyWQsnDIeU/62vYP7b7n8XUFBFGBOhh6FTh6Y9bswTJb3bHHjnzlmCCZ71yMz25RBEYVw2VhUXFgT7wvGtHBROL8vBgv7tPO07NkHc0TmYuGD4qYhj245zxGyc7x6lJYZk+QcPatchMeNj8C8SB9RcInA4ZE627809PDF2jt8lUz2kIGhSB5hfETbuh9ayri1XeSQQMweHoLE4cabQKC/Pxb6iQtytcgkygQa1stSNpYfrYaLX1+kqcsvp7l2vBiuN2BTWrOPfNCk1eU1m/+BeH9lmQP9g5F4sy+i3cX+V5rXnN8yzhKFxkI3Lyx8NFx5rJ+sZjk5LgoL44KxPEYtLO0/gk0n6xEYMgCblGV1RezQgUiUnc0aU7STHnMOlqFS54NVspd2kcGPjwzGpvH+iHaqRdJ+U2cZ2VgrqwP7+ontEIBxIt24YeE4MFIcRxV6LDcdR+klSKl2QvyIKKXH/Vh/b8wW58o8f3tkHjLrOE5jukCRmauYORIHGp460xxx439wACb3EJmyn/Kwyd4DE8J9Gl4NhQytyycKYUtkfy/BIUiWT9wR6ztN7pNgJ5Tm5Rv7VlA1XwtFh4X3a/iFK/eEyATaI6y7EwpPnlAzLnqsPVkNn+5ucDGcxdq2NuxtQstx3EHafI4LZbJZmjimx6iPbvTxxeKJskNJ5dPLSD16B/S3PAcHuYvlP4VFLRaa2nKNKMC64mp4imMz2qkCKRYBtCwsyRHHRWBIw340bqsQLL65P+ZZFHraTtO1SLNqpW8cz549MM/8HLSStOME9tSK+9gocR8zn2egPNcKG4MfbaJ2strdG+M86pWmPI207gtxXorj1dM/UKQLENeRACybFKVcY9qvvcdPW/ZNS8ePNY3bIsugBO9ihw7FsmHimjosDGkPG9M38sacmwIwLy7cmE9Sls8HkbKWjaG5doStf6ch/2Vab3E9mXd/MCb7OqOixLh82vJozdh/CKuK6zFkUBQS48y2wa0hYtuGNPt49wtz3DZv/q6TyHEW6z5+IGaHivt0qDweByjHt/k6ak3Xovben1NysE5vjyERQ7B2mLe4bxq/N83bHjlZOWb98rRQC0WhNV+Si/Ef7ER/q9emM+KjmnIsEcPjU4wp529omq5/rpx3LdLSxfAGeY1wxcJJI3HuD2ZPfrIhaUuW0mdM2MBBOPxwuJL/niDz/GOGIlnNEy1MNO8WwAYtx91J2feFAyJD1UeOq8f1xCY1y7Vda6216bypFef/beqx3pBOlENyj6jHg7Ztd0FV1yN3bw0WJlTjoXU1+PW2Ojx3Ql4RbfN1tMNfIh3wj+Fd4H6JKqGY9AqJghI7GdnP+FdSa6jITlvDgsx/UXJC0P1z8fqjvZDx0Wz8/rcPYcozC7Hd8RbM+ttjiDI94rlHDGb8bRZuqfsKC56Zgod++3vM/s9B9Hv0dcy9t2EuQOhozJoYBf0Xb+EvszeJ/Kg63lqPaDz23G3olrUSC2b/E9vOo9U9eozAjNceQ9jBpXh+suyrZQpmf1GEQU/MxWNDrX49c3G8hAGuS8PunKAOK2T1tMveqGE4JzKhy1/fiSnqKJMh0RHipuCFQFMAuL4WmZnZGJ1g6jBV0Pljk7i5x3uoMSRDGRYVOGBmSOM0Zz44Agt7lWNWq1WjXTEtfrDSe7enKSTVZJ6i4DhO3NiCXY1NOuqrkZJaCs+h4sq2T60OGBUJ/Uh3pO0qRu9IX4SZlr/KgNXf7sVEU3tTW+tu+u7W7YgzZfCsx1l/T+eHVWOCMaGHWaTcYl6tr1fTbeSO2fcNxJxAdT0l6+VHGA48LzKSpvU2aWGfKlpdXsnW/MUN+ut9mN7wSEINy9ja8TVUHF9mV4rSwnxMXHmoscM/saxrx4VgXHd1w4nttif9FFwizfZ3i/yROCMEsYYC5fF75uLjhmJVhHvjPqmtQFLaIcSZtauWv2YtfFBkaMRN1LSOlWV6kQlKs+iYLDBMVkEVhWGZr5RsnSuClnSx8TFIDHdFYdZ+9N5gKtzYWg/j/m+u6VGm2fbRunxyfReLzOc0n8Zjo+k+CUbybwMQXZqPoA+tgyjG5YwpyYXrKlvVYhpNGHczVgXbI6nJuaZDZbZY93WmdReaOY6WTY7DZJFdMG4T47wji7LMmni0dhy38xxqMi8t1y5rVtcyofJkARLsfTGuYZ3au3xW37OVvg3XutXbqxF7sw4+6rpVlpVg3sZ0zFd3UfPXeC3XMVV4BI7Hi8z4qQIENTwq00SdTl8xHbPtuyf9J0QmGs9Xm8tga71tjGv9WqR9PwQOjUDiTcb7Zs6hNARttF2gV87J28Q52RA0q0dOXj6mf5pl1uGprWO6JSFIm+mPIRUlmPJ2utWv3Rr3RXAo0kY3LlflqWIsP9Md0xq2bRuWSePxY3M/qTTdJ6QWjp/23V+t7hH1opCVVYDjAX4W6x4/IlIUunWN+SSb+9GSlu/Yyn/tyTiE8V83NnNsPY/Wwr4ShfXFd4l7m9m1HtUVSEjZg9EtdFZ6YY5b9Vrupm9yDVHOp2iz/d/MdVVrOoV6nzludT63+/5snQ8Wx0pOTjbi1jV2oBo4PAoHoj2QmZYsrlnNb19t+ZKmmtt+TSjnmrPZfVeHVVMiMUFXjXUJOzC+xR8XRH7ovhBM7mt2nxNKTxZizub9WNJwyz6/467JNjDosbrEHROsru+arrXNXe9bKdsY8xaFmHW6OxYGNBxUVse6DssejcDkHrVI2LIDo9tRK1erY0/Jx760oKYeuVn1SD4mXmIzppq1fopyBK4XeeiR19ljYC+zHddGvt0aTvpLrBoGQw0gm+w0XMBtqJRP5gEc3dxaCEhUo7rOCU4aAkryKcROzU+oTaoNBtTAEW5uNiYomx1pDHB1ijiDFdkPki12nTKI0ipXxIZ6wMehBpn7S5p9xr6M0sY665FkVu5pP3fEh4uLtDjEmp+nWC5/ByTlNfdrj4k6LXEyNX3OfgeTvYh7iatVs/PSsl5WxHYd5+sMlwux/K0ur6Bl/ue5jEOCfRDmUo/CAlPVzabkk0ui3dFimvZS5o/Wlt2471BSiIQWjnHjcta1un+1putomuer7FNHlLZ5e5sKm8kic9p8RvGiu5DnkYV2nOPqeVhZXoZ1eZfRNpPMM6DqNkR7lrPDtr+6fWurkGLR4XPH0HIt0mqIvw6lea0vY0fO09gEMQCBxzLR+/NmfovUui98xD29StzTz2eZOur4ETp2O6k0bovW96Upn9SW5dPyHS35L415tOa089y8IPujBcq9y7Wm1fNea7qWtPv+rFzL0b79YEVbvuTSMe7/dh5zUmvHXRuOyxbPz2YDtNrPG+PxcGHyn1q1GkS5CC6fIAqZMIhCRHSlUH7hc0HCf5Ix8byb49Al12wGlC4/rpgQPwSrwoHVl8v5x+OHiC4Z2eR5KBb6VWDRol0d3tzsYmIQhWy5koIo7a8jRUR0BYju4QSXk2VYzgAK0cUzPAoVz8dgVbgzCrPyGcAkoqvesskxWOjvgMK8Vjq8JaJLjjVRiIjoytGB1dPpArpcm4Tx+CGiS+RybxLVFqyJQrawOQ8RERERERGRFQZRyBb71xNhEXjoBNich4iIiIiIiIguus4WQGkJgyhERERERERERBowiEJEREREREREpAGDKEREREREREREGjCIQkRERERERB0ip+wyeuoaXRay9GfVoSsDgyhERERERETUIdb+XKwOERl9fKBQHboyMIhCREREREREHeKN1KNIytOr7+hqtzmnBK8k56jvrgwMohAREREREVGHmbRpPxb+eIRNe65isgnPy98fRvzn6eqYK4fdOUEdVti9nqgOERERERERERFdfc49H6cOWWJNFCIiIiIiIiIiDRhEISIiIiIiIiLSgEEUIiIiIiIiIiINGEQhIiIiIiIiItKAQRQiIiIiIiIiIg0YRCEiIiIiIiIi0oBBFCIiIiIiIiIiDRhEISIiIiIiIiLSgEEUIiIiIiIiIiINGEQhIiIiIiIiItKAQRQiIiIiIiIiIg0YRCEiIiIiIiIi0oBBFCIiIiIiIiIiDRhEISIiIiIiIiLSgEEUIiIiIiIiIiINGEQhIiIiIiIiItKAQRQiIiIiIiIiIg3szgnqcIOc3CMIDOirviMiIiIiIiIiuvK1Fg9hTRQiIiIiIiIiIg0YRCEiIiIiIiIi0oBBFCIiIiIiIiIiDRhEISIiIiIiIiJqFfD/jabx1i4kDUEAAAAASUVORK5CYII=)"
      ]
    },
    {
      "cell_type": "markdown",
      "metadata": {
        "papermill": {
          "duration": 0.044976,
          "end_time": "2020-12-15T16:33:03.974388",
          "exception": false,
          "start_time": "2020-12-15T16:33:03.929412",
          "status": "completed"
        },
        "tags": [],
        "id": "0SpuoQj-SspN"
      },
      "source": [
        "# Keep going\n",
        "\n",
        "With missing value handling and categorical encoding, your modeling process is getting complex. This complexity gets worse when you want to save your model to use in the future. The key to managing this complexity is something called **pipelines**. \n",
        "\n",
        "**[Learn to use pipelines](https://www.kaggle.com/alexisbcook/pipelines)** to preprocess datasets with categorical variables, missing values and any other messiness your data throws at you."
      ]
    },
    {
      "cell_type": "markdown",
      "metadata": {
        "papermill": {
          "duration": 0.040792,
          "end_time": "2020-12-15T16:33:04.057378",
          "exception": false,
          "start_time": "2020-12-15T16:33:04.016586",
          "status": "completed"
        },
        "tags": [],
        "id": "JcgChJIpSspN"
      },
      "source": [
        "---\n",
        "\n",
        "\n",
        "\n",
        "\n",
        "*Have questions or comments? Visit the [Learn Discussion forum](https://www.kaggle.com/learn-forum/161289) to chat with other Learners.*"
      ]
    }
  ]
}