{
  "nbformat": 4,
  "nbformat_minor": 0,
  "metadata": {
    "colab": {
      "name": "DigitRecognizer.ipynb",
      "provenance": [],
      "collapsed_sections": [],
      "mount_file_id": "1t0d8JlXEbN8ftLMohjxAp1Jc8Wb9LSCq",
      "authorship_tag": "ABX9TyN2OoPed46HYqcw/RACInHx"
    },
    "kernelspec": {
      "name": "python3",
      "display_name": "Python 3"
    }
  },
  "cells": [
    {
      "cell_type": "markdown",
      "metadata": {
        "id": "o0FjYSLcDY4m"
      },
      "source": [
        "#Rozpoznawanie pisma odręcznego (cyfr)\r\n",
        "Plik z danymi zawiera zapisaną liczbę (kolumna 'label') oraz wartości pikseli czarno-białego obrazka z odręcznie zapisanymi liczbami. Obrazek ma wymiar 28x28 px. Zbiór danych utworzony ze złączonych ze sobą rzędów pikseli, każdy o wartości z zakresu 0-255, gdzie 255 oznacza czarny."
      ]
    },
    {
      "cell_type": "markdown",
      "metadata": {
        "id": "9ClzyjdstdSa"
      },
      "source": [
        "##Dane początkowe"
      ]
    },
    {
      "cell_type": "code",
      "metadata": {
        "id": "StOaZI7bAiVB"
      },
      "source": [
        "import pandas as pd\r\n",
        "\r\n",
        "xin = pd.read_csv('/content/drive/MyDrive/Colab Notebooks/dataFiles/DigitRecog_train.csv')\r\n",
        "xin.head()\r\n",
        "yout = xin['label']\r\n",
        "xin.drop('label', axis=1, inplace=True)"
      ],
      "execution_count": 6,
      "outputs": []
    },
    {
      "cell_type": "code",
      "metadata": {
        "id": "joKnSvPwCmqz"
      },
      "source": [
        "from sklearn.metrics import mean_absolute_error\r\n",
        "from sklearn.model_selection import train_test_split\r\n",
        "from sklearn.tree import DecisionTreeRegressor\r\n",
        "\r\n",
        "from sklearn.ensemble import RandomForestRegressor\r\n",
        "\r\n",
        "import numpy as np\r\n",
        "import matplotlib.pyplot as plt\r\n",
        "%matplotlib inline\r\n",
        "\r\n",
        "# Split into validation and training data\r\n",
        "xTrain, xValid, yTrain, yValid = train_test_split(xin, yout, random_state=1, train_size=0.8, test_size=0.2)"
      ],
      "execution_count": 7,
      "outputs": []
    },
    {
      "cell_type": "markdown",
      "metadata": {
        "id": "61fKM0u1tVUU"
      },
      "source": [
        "##Funkcje i dane przetworzone"
      ]
    },
    {
      "cell_type": "markdown",
      "metadata": {
        "id": "qhMDGqkgj9XJ"
      },
      "source": [
        "Poniżej znajdują się definicje funkcji określającej część poprawnie odgadniętych cyfr, funkcji binaryzującej oraz przygotowane z ich wykorzystaniem optymalne zbiory danych do uczenia i testowania. Wartość optymalnego progu została określona na podstawie prób przedstawionych w dalszej części projektu."
      ]
    },
    {
      "cell_type": "code",
      "metadata": {
        "id": "tnBWd-eiqVqY"
      },
      "source": [
        "# Threshold for whole data\r\n",
        "def ThresholdPicture(xin, thresholdVal):\r\n",
        "  xout = xin.copy()\r\n",
        "  for key in xout.values:\r\n",
        "    for i in range(len(key)):\r\n",
        "      if key[i] > thresholdVal:\r\n",
        "        key[i] = 1\r\n",
        "      else:\r\n",
        "        key[i] = 0\r\n",
        "  return xout\r\n",
        "\r\n",
        "# Accuracy for predicted values (percentage)\r\n",
        "def GetAccuracy(predicted, validation):\r\n",
        "  correct = [y for n, y in enumerate(validation.values)\r\n",
        "             if predicted[n] == validation.values[n]]\r\n",
        "  accuracy = len(correct) / len(predicted) * 100\r\n",
        "  return accuracy\r\n",
        "\r\n",
        "# Array of double -> Array of int\r\n",
        "def FloatListToIntList(floatList):\r\n",
        "  return [int(round(fl, 0)) for fl in floatList]\r\n",
        "\r\n",
        "# Best result's data\r\n",
        "xTrainThBest = ThresholdPicture(xTrain, 0)\r\n",
        "xValidThBest = ThresholdPicture(xValid, 0)"
      ],
      "execution_count": 8,
      "outputs": []
    },
    {
      "cell_type": "markdown",
      "metadata": {
        "id": "_EFDNjVxsxgY"
      },
      "source": [
        "##Model drzewa\r\n",
        "Podstawowy model do przewidywania na podstawie niezmodyfikowanych danych wejściowych."
      ]
    },
    {
      "cell_type": "code",
      "metadata": {
        "colab": {
          "base_uri": "https://localhost:8080/"
        },
        "id": "N8h5Tre1Tqdt",
        "outputId": "a5f19e83-0a4f-4b02-bc2f-46a3b35d4824"
      },
      "source": [
        "treeModel = DecisionTreeRegressor(random_state=1)\r\n",
        "treeModel.fit(xTrain, yTrain)\r\n",
        "\r\n",
        "yTree = FloatListToIntList(treeModel.predict(xValid))\r\n",
        "\r\n",
        "mae = mean_absolute_error(yTree, yValid)\r\n",
        "accuracyStd = GetAccuracy(yTree, yValid)\r\n",
        "print('DRZEWO, OBRAZ ORYGINALNY')\r\n",
        "print('Błąd: {}'.format(mae))\r\n",
        "print('Trafność: {:.1f}%'.format(accuracyStd))"
      ],
      "execution_count": 9,
      "outputs": [
        {
          "output_type": "stream",
          "text": [
            "DRZEWO, OBRAZ ORYGINALNY\n",
            "Błąd: 0.535\n",
            "Trafność: 83.1%\n"
          ],
          "name": "stdout"
        }
      ]
    },
    {
      "cell_type": "markdown",
      "metadata": {
        "id": "M4oAIHJUjPN1"
      },
      "source": [
        "W tym najprostszym przypadku została osiągnięta skuteczność powyżej 82%, co wydaje się być trudne do osiągnięcia bez wykorzystywania metod uczenia maszynowego."
      ]
    },
    {
      "cell_type": "markdown",
      "metadata": {
        "id": "UxG0tjRwDzj2"
      },
      "source": [
        "##Model drzewa (określone parametry)"
      ]
    },
    {
      "cell_type": "code",
      "metadata": {
        "colab": {
          "base_uri": "https://localhost:8080/",
          "height": 297
        },
        "id": "nxIVa94yD5pa",
        "outputId": "3d720c7b-3c73-420b-b0ed-6dded952775c"
      },
      "source": [
        "accuracyParam = {}\r\n",
        "\r\n",
        "for i in range(2, 3000, 100):\r\n",
        "  paramModel = DecisionTreeRegressor(random_state=1, max_leaf_nodes=i)\r\n",
        "  paramModel.fit(xTrain, yTrain)\r\n",
        "  yParam = FloatListToIntList(paramModel.predict(xValid))\r\n",
        "  accuracyParam[i] = GetAccuracy(yParam, yValid)\r\n",
        "\r\n",
        "# Draw plot\r\n",
        "print(\"DRZEWA\")\r\n",
        "## Plot data\r\n",
        "plotXParam = list(accuracyParam.keys())\r\n",
        "plotYParam = list(accuracyParam.values())\r\n",
        "plotXStd = plotXParam\r\n",
        "plotYStd = [accuracyStd for i in range(len(plotXParam))]\r\n",
        "## Figure\r\n",
        "plt.plot(plotXStd, plotYStd, plotXParam, plotYParam)\r\n",
        "plt.legend([\"Domyślny\", \"Zdefiniowany\"], loc=\"lower right\")\r\n",
        "plt.xlabel(\"Maks. liczba węzłów\")\r\n",
        "plt.ylabel(\"Trafność [%]\")\r\n",
        "plt.grid(True)\r\n",
        "plt.show()"
      ],
      "execution_count": 10,
      "outputs": [
        {
          "output_type": "stream",
          "text": [
            "DRZEWA\n"
          ],
          "name": "stdout"
        },
        {
          "output_type": "display_data",
          "data": {
            "image/png": "[encoded data removed]",
            "text/plain": [
              "<Figure size 432x288 with 1 Axes>"
            ]
          },
          "metadata": {
            "tags": [],
            "needs_background": "light"
          }
        }
      ]
    },
    {
      "cell_type": "code",
      "metadata": {
        "colab": {
          "base_uri": "https://localhost:8080/",
          "height": 297
        },
        "id": "i4u2DqbZQO19",
        "outputId": "421b6f85-9ce7-488f-cae2-bc995cff51da"
      },
      "source": [
        "accuracyParam = {}\r\n",
        "\r\n",
        "for i in range(2000, 3000, 50):\r\n",
        "  paramModel = DecisionTreeRegressor(random_state=1, max_leaf_nodes=i)\r\n",
        "  paramModel.fit(xTrain, yTrain)\r\n",
        "  yParam = FloatListToIntList(paramModel.predict(xValid))\r\n",
        "  accuracyParam[i] = GetAccuracy(yParam, yValid)\r\n",
        "\r\n",
        "# Draw plot\r\n",
        "print(\"DRZEWA\")\r\n",
        "## Plot data\r\n",
        "plotXParam = list(accuracyParam.keys())\r\n",
        "plotYParam = list(accuracyParam.values())\r\n",
        "plotXStd = plotXParam\r\n",
        "plotYStd = [accuracyStd for i in range(len(plotXParam))]\r\n",
        "## Figure\r\n",
        "plt.plot(plotXStd, plotYStd, plotXParam, plotYParam)\r\n",
        "plt.legend([\"Domyślny\", \"Zdefiniowany\"], loc=\"lower right\")\r\n",
        "plt.xlabel(\"Maks. liczba węzłów\")\r\n",
        "plt.ylabel(\"Trafność [%]\")\r\n",
        "plt.grid(True)\r\n",
        "plt.show()"
      ],
      "execution_count": 11,
      "outputs": [
        {
          "output_type": "stream",
          "text": [
            "DRZEWA\n"
          ],
          "name": "stdout"
        },
        {
          "output_type": "display_data",
          "data": {
            "image/png": "[encoded data removed]",
            "text/plain": [
              "<Figure size 432x288 with 1 Axes>"
            ]
          },
          "metadata": {
            "tags": [],
            "needs_background": "light"
          }
        }
      ]
    },
    {
      "cell_type": "markdown",
      "metadata": {
        "id": "WjqBzcKieeZ-"
      },
      "source": [
        "Korzyść ze zdefiniowania maksymalnej liczby węzłów jest na tyle niewielka (0,2%), że wiązałaby się jedynie z ryzykiem dopasowania do jednego konkretnego przypadku."
      ]
    },
    {
      "cell_type": "markdown",
      "metadata": {
        "id": "YWAKp-3NkpCm"
      },
      "source": [
        "##Dylatacja i erozja\r\n",
        "Operacje dylatacji i erozji pozwalają zwężyć lub pogrubić linię, którą rysowana jest cyfra. Operacja pogrubienia (dylatacja) pozwoli na wypełnienie wartością większej ilości pikseli, zmniejszając wielkość tła. Może się w ten sposób zmniejszyć obszar \"neutralny\", w wyniku czego cyfry będą się od siebie znaczniej róznić."
      ]
    },
    {
      "cell_type": "code",
      "metadata": {
        "colab": {
          "base_uri": "https://localhost:8080/"
        },
        "id": "Y9KMlgYGvZhS",
        "outputId": "ffd278b9-3c1b-4e5a-e0b4-3421c622e41e"
      },
      "source": [
        "def GetPictureMin(picture, x, y, width, height):\r\n",
        "  minVal = 255\r\n",
        "  for x in range(max(0, x - 1), min(width, x + 1)):\r\n",
        "    for y in range(max(0, y - 1), min(height, y + 1)):\r\n",
        "      minVal = min(minVal, picture[y * width + x])\r\n",
        "  return minVal\r\n",
        "\r\n",
        "def GetPictureMax(picture, x, y, width, height):\r\n",
        "  maxVal = 0\r\n",
        "  for x in range(max(0, x - 1), min(width, x + 1)):\r\n",
        "    for y in range(max(0, y - 1), min(height, y + 1)):\r\n",
        "      maxVal = max(maxVal, picture[y * width + x])\r\n",
        "  return maxVal\r\n",
        "\r\n",
        "def DilatePictures(pictures, width, height):\r\n",
        "  result = pictures.copy()\r\n",
        "  for (pict, orig) in zip(result.values, pictures.values):\r\n",
        "    for x in range(width):\r\n",
        "      for y in range(height):\r\n",
        "        pict[y * width + x] = GetPictureMax(orig, x, y, width, height)\r\n",
        "  return result\r\n",
        "\r\n",
        "def ErodePictures(pictures, width, height):\r\n",
        "  result = pictures.copy()\r\n",
        "  for (pict, orig) in zip(result.values, pictures.values):\r\n",
        "    for x in range(width):\r\n",
        "      for y in range(height):\r\n",
        "        pict[y * width + x] = GetPictureMin(orig, x, y, width, height)\r\n",
        "  return result\r\n",
        "\r\n",
        "xTrainDil = DilatePictures(xTrain, 28, 28)\r\n",
        "treeModelDil = DecisionTreeRegressor(random_state=1)\r\n",
        "treeModelDil.fit(xTrainDil, yTrain)\r\n",
        "yTreeDil = FloatListToIntList(treeModelDil.predict(xValid))\r\n",
        "mae = mean_absolute_error(yTreeDil, yValid)\r\n",
        "accuracyDil = GetAccuracy(yTreeDil, yValid)\r\n",
        "print('DYLATACJA')\r\n",
        "print('Błąd: {}'.format(mae))\r\n",
        "print('Trafność: {:.1f}%'.format(accuracyDil))\r\n",
        "\r\n",
        "xTrainEro = ErodePictures(xTrain, 28, 28)\r\n",
        "treeModelEro = DecisionTreeRegressor(random_state=1)\r\n",
        "treeModelEro.fit(xTrainEro, yTrain)\r\n",
        "yTreeEro = FloatListToIntList(treeModelEro.predict(xValid))\r\n",
        "mae = mean_absolute_error(yTreeEro, yValid)\r\n",
        "accuracyEro = GetAccuracy(yTreeEro, yValid)\r\n",
        "print('EROZJA')\r\n",
        "print('Błąd: {}'.format(mae))\r\n",
        "print('Trafność: {:.1f}%'.format(accuracyEro))"
      ],
      "execution_count": 12,
      "outputs": [
        {
          "output_type": "stream",
          "text": [
            "DYLATACJA\n",
            "Błąd: 1.1575\n",
            "Trafność: 66.3%\n",
            "EROZJA\n",
            "Błąd: 1.1167857142857143\n",
            "Trafność: 64.8%\n"
          ],
          "name": "stdout"
        }
      ]
    },
    {
      "cell_type": "markdown",
      "metadata": {
        "id": "fi0J3RVBCd-z"
      },
      "source": [
        "Wpływ tych operacji jest jednoznacznie negatywny, zatem nie zostaną one wykorzystane."
      ]
    },
    {
      "cell_type": "markdown",
      "metadata": {
        "id": "E7KeRji6XJ5A"
      },
      "source": [
        "##Progowanie (binaryzacja)\r\n",
        "Sprawdzenie wpływu progu binaryzacji na wyniki przewidywań."
      ]
    },
    {
      "cell_type": "code",
      "metadata": {
        "colab": {
          "base_uri": "https://localhost:8080/",
          "height": 297
        },
        "id": "zNIqx_EyXJWr",
        "outputId": "f4a898f2-6f67-4a20-8a2a-730715bc8703"
      },
      "source": [
        "accuracyTh = {}\r\n",
        "\r\n",
        "for i in range(0, 256, 25):\r\n",
        "  xTrainTh = ThresholdPicture(xTrain, i)\r\n",
        "  xValidTh = ThresholdPicture(xValid, i)\r\n",
        "\r\n",
        "  digitModel = DecisionTreeRegressor(random_state=1)\r\n",
        "  digitModel.fit(xTrainTh, yTrain)\r\n",
        "\r\n",
        "  yTreeTh = FloatListToIntList(digitModel.predict(xValidTh))\r\n",
        "  accuracyTh[i] = GetAccuracy(yTreeTh, yValid)\r\n",
        "\r\n",
        "# Draw plot\r\n",
        "print(\"DRZEWO, BINARYZACJA\")\r\n",
        "## Plot data\r\n",
        "plotXTh = list(accuracyTh.keys())\r\n",
        "plotYTh = list(accuracyTh.values())\r\n",
        "plotXStd = plotXTh\r\n",
        "plotYStd = [accuracyStd for i in range(len(plotXTh))]\r\n",
        "## Figure\r\n",
        "plt.plot(plotXStd, plotYStd, plotXTh, plotYTh)\r\n",
        "plt.legend([\"Oryginalny\", \"Zbinaryzowany\"], loc=\"lower left\")\r\n",
        "plt.xlabel(\"Wartość progu\")\r\n",
        "plt.ylabel(\"Trafność [%]\")\r\n",
        "plt.grid(True)\r\n",
        "plt.show()"
      ],
      "execution_count": 13,
      "outputs": [
        {
          "output_type": "stream",
          "text": [
            "DRZEWO, BINARYZACJA\n"
          ],
          "name": "stdout"
        },
        {
          "output_type": "display_data",
          "data": {
            "image/png": "[encoded data removed]",
            "text/plain": [
              "<Figure size 432x288 with 1 Axes>"
            ]
          },
          "metadata": {
            "tags": [],
            "needs_background": "light"
          }
        }
      ]
    },
    {
      "cell_type": "markdown",
      "metadata": {
        "id": "KzcVZsHJiLgj"
      },
      "source": [
        "Wraz ze zwiększaniem progu binaryzacji występuje wyraźna tandencja spadkowa skuteczności. Oznacza to, że najskuteczniejszy jest podział obrazka na tło (o jednej wartości, <code>0</code>) oraz linię cyfry (niezależnie od intensywności piksela). Pominięcie intensywności może być pomocne np. w przypadku, w którym cyfry pisane byłyby różnymi kolorami pisaków. Niewłaściwa binaryzacja znacznie pogarsza skuteczność metody."
      ]
    },
    {
      "cell_type": "markdown",
      "metadata": {
        "id": "bM1tI0t4sLnx"
      },
      "source": [
        "##Progowanie (binaryzacja) - szczegóły\r\n",
        "Sprawdzone zostały niskie poziomy progowania (o pozytywnym efekcie)."
      ]
    },
    {
      "cell_type": "code",
      "metadata": {
        "colab": {
          "base_uri": "https://localhost:8080/",
          "height": 297
        },
        "id": "ZXmlez9KnXl4",
        "outputId": "e7272faa-bff6-4626-9b82-4cd8f4035f6d"
      },
      "source": [
        "accuracyThZ = {}\r\n",
        "\r\n",
        "for i in range(0, 70, 5):\r\n",
        "  xTrainThZ = ThresholdPicture(xTrain, i)\r\n",
        "  xValidThZ = ThresholdPicture(xValid, i)\r\n",
        "\r\n",
        "  digitModel = DecisionTreeRegressor(random_state=1)\r\n",
        "  digitModel.fit(xTrainThZ, yTrain)\r\n",
        "\r\n",
        "  yTreeThZ = FloatListToIntList(digitModel.predict(xValidThZ))\r\n",
        "  accuracyThZ[i] = GetAccuracy(yTreeThZ, yValid)\r\n",
        "\r\n",
        "# Draw plot\r\n",
        "print(\"DRZEWO, BINARYZACJA\")\r\n",
        "## Plot data\r\n",
        "plotXThZ = list(accuracyThZ.keys())\r\n",
        "plotYThZ = list(accuracyThZ.values())\r\n",
        "plotXStdZ = plotXThZ\r\n",
        "plotYStdZ = [accuracyStd for i in range(len(plotXThZ))]\r\n",
        "## Figure\r\n",
        "plt.plot(plotXStdZ, plotYStdZ, plotXThZ, plotYThZ)\r\n",
        "plt.legend([\"Oryginalny\", \"Zbinaryzowany\"], loc=\"lower left\")\r\n",
        "plt.xlabel(\"Wartość progu\")\r\n",
        "plt.ylabel(\"Trafność [%]\")\r\n",
        "plt.grid(True)\r\n",
        "plt.show()"
      ],
      "execution_count": 14,
      "outputs": [
        {
          "output_type": "stream",
          "text": [
            "DRZEWO, BINARYZACJA\n"
          ],
          "name": "stdout"
        },
        {
          "output_type": "display_data",
          "data": {
            "image/png": "[encoded data removed]",
            "text/plain": [
              "<Figure size 432x288 with 1 Axes>"
            ]
          },
          "metadata": {
            "tags": [],
            "needs_background": "light"
          }
        }
      ]
    },
    {
      "cell_type": "markdown",
      "metadata": {
        "id": "2JYFrWLAcz4o"
      },
      "source": [
        "Skuteczność nie przejawia monotonnej tendencji. Najlepsze osiągi występują bezsprzecznie dla wartości niskiego progu, co wskazuje na jednorodne tło dla zapisanych znaków (o wartości <code>0</code>). Na tej podstawie można się spodziewać, że są to obrazki utworzone elektronicznie lub już poddane wstępnej filtracji."
      ]
    },
    {
      "cell_type": "markdown",
      "metadata": {
        "id": "e5-Fq80Nm0ut"
      },
      "source": [
        "##Losowy las (z binaryzacją)"
      ]
    },
    {
      "cell_type": "code",
      "metadata": {
        "colab": {
          "base_uri": "https://localhost:8080/"
        },
        "id": "UTL0jS27mzl-",
        "outputId": "e2cb9e12-f414-44f6-d0eb-0afa0d48545c"
      },
      "source": [
        "# Model definition\r\n",
        "forestModel = RandomForestRegressor(random_state=1)\r\n",
        "\r\n",
        "# Model fitting\r\n",
        "forestModel.fit(xTrainThBest, yTrain)\r\n",
        "\r\n",
        "# Model prediction\r\n",
        "yForest = FloatListToIntList(forestModel.predict(xValidThBest))\r\n",
        "\r\n",
        "# Mean absolute error and accuracy indicators\r\n",
        "maeForest = mean_absolute_error(yForest, yValid)\r\n",
        "accuracyForest = GetAccuracy(yForest, yValid)\r\n",
        "print('LAS (OBRAZ ZBINARYZOWANY)')\r\n",
        "print('Błąd: {}'.format(maeForest))\r\n",
        "print('Trafność: {:.1f}%'.format(accuracyForest))"
      ],
      "execution_count": 15,
      "outputs": [
        {
          "output_type": "stream",
          "text": [
            "LAS (OBRAZ ZBINARYZOWANY)\n",
            "Błąd: 0.4098809523809524\n",
            "Trafność: 74.4%\n"
          ],
          "name": "stdout"
        }
      ]
    },
    {
      "cell_type": "markdown",
      "metadata": {
        "id": "FKIZ_zHDd-PG"
      },
      "source": [
        "W przypadku zastosowania lasu problemem okazało się, że ze względu na korzystanie z wielu drzew i wyciągnie z nich średniej, wyniki w większym stopniu odbiegały od liczb całkowutych. Po konwersji z zaokrągleniem wprawdzie zmniejszył się błąd, jednak skuteczność rozpoznawania liczb spadła. Oznacza to w tym szczególnym przypadku, że losowy las jest rozwiązaniem gorszym od pojedynczych drzew."
      ]
    },
    {
      "cell_type": "markdown",
      "metadata": {
        "id": "TO4P0GnicWD2"
      },
      "source": [
        "##Losowy las (dane oryginalne)\r\n",
        "Ze względu na niski wynik przy zastosowaniu binaryzacji, wykonany został również test dla obrazków nieprzetworzonych."
      ]
    },
    {
      "cell_type": "code",
      "metadata": {
        "colab": {
          "base_uri": "https://localhost:8080/"
        },
        "id": "mrOUfEitb22J",
        "outputId": "b1895b29-06cf-4dbe-8307-8e59f357c021"
      },
      "source": [
        "from sklearn.ensemble import RandomForestRegressor\r\n",
        "\r\n",
        "# Definition of the model\r\n",
        "forestModel = RandomForestRegressor(random_state=1)\r\n",
        "\r\n",
        "# Model fitting\r\n",
        "forestModel.fit(xTrain, yTrain)\r\n",
        "\r\n",
        "# Model prediction\r\n",
        "yForest = FloatListToIntList(forestModel.predict(xValid))\r\n",
        "\r\n",
        "# Mean absolute error and accuracy indicators\r\n",
        "maeForest = mean_absolute_error(yForest, yValid)\r\n",
        "accuracyForest = GetAccuracy(yForest, yValid)\r\n",
        "print('LAS, OBRAZ ORYGINALNY')\r\n",
        "print('Błąd: {}'.format(maeForest))\r\n",
        "print('Trafność: {:.1f}%'.format(accuracyForest))"
      ],
      "execution_count": 16,
      "outputs": [
        {
          "output_type": "stream",
          "text": [
            "LAS, OBRAZ ORYGINALNY\n",
            "Błąd: 0.46404761904761904\n",
            "Trafność: 70.9%\n"
          ],
          "name": "stdout"
        }
      ]
    },
    {
      "cell_type": "markdown",
      "metadata": {
        "id": "d54pc7_ce2oX"
      },
      "source": [
        "Również tym razem liczby zostały wytypowane z mniejszą skutecznością niż przy użyciu samodzielnego drzewa. Wynik pogorszył się o około 3% w stosunku do prób z binaryzacją, co ponownie dowodzi jej skuteczności."
      ]
    },
    {
      "cell_type": "markdown",
      "metadata": {
        "id": "ZOvbdTPffuw3"
      },
      "source": [
        "##Korekcja wyników\r\n"
      ]
    },
    {
      "cell_type": "markdown",
      "metadata": {
        "id": "yJZPS2_Lodid"
      },
      "source": [
        "W tym podejściu najpierw dokonywane są przewidywania metodą losowego lasu, następnie wynik jest poprawiany na podstawie danych wejściowych i wstępnego wyniku. Idea polegała na tym, żeby wyniki wstępne (zmiennoprzecinkowe) były ponownie interpretowane przez inny estymator, który miałby dokonać wyboru (zaokrąglić w górę lub dół)."
      ]
    },
    {
      "cell_type": "code",
      "metadata": {
        "colab": {
          "base_uri": "https://localhost:8080/"
        },
        "id": "waEAEi4NPGvk",
        "outputId": "d834074a-5708-45c5-a991-857ff9ed676b"
      },
      "source": [
        "def SplitToIsN(digits):\r\n",
        "  isN = {}\r\n",
        "  for i in range(10):\r\n",
        "    isN[i] = [1 if d == i else 0 for d in digits]\r\n",
        "  return pd.DataFrame(isN, index=digits.index)\r\n",
        "\r\n",
        "def TrainDigitModels(x, y):\r\n",
        "  digitModels = {}\r\n",
        "  yNum = SplitToIsN(y)\r\n",
        "  for i in range(10):\r\n",
        "    digitModel = DecisionTreeRegressor(random_state=1)\r\n",
        "    digitModel.fit(x, yNum[i])\r\n",
        "    digitModels[i] = digitModel\r\n",
        "  return digitModels\r\n",
        "\r\n",
        "def TrainChooseModel(isN, y):\r\n",
        "  chooseModel = DecisionTreeRegressor(random_state=1)\r\n",
        "  chooseModel.fit(isN, y)\r\n",
        "  return chooseModel\r\n",
        "\r\n",
        "def PredictIsNTable(x, digitModels):\r\n",
        "  preds = {}\r\n",
        "  for i in range(10):\r\n",
        "    preds[i] = digitModels[i].predict(x)\r\n",
        "  return pd.DataFrame(preds, index=x.index)\r\n",
        "\r\n",
        "def ChooseDigits(isN, chooseModel):\r\n",
        "  choices = chooseModel.predict(isN)\r\n",
        "  digits = [round(ch) for ch in choices]\r\n",
        "  return digits #pd.DataFrame(digits, index=isN.index, columns=None)\r\n",
        "\r\n",
        "def PredictDigits(x, digitModels, chooseModel):\r\n",
        "  return ChooseDigits(PredictIsNTable(x, digitModels), chooseModel)\r\n",
        "\r\n",
        "def TrainModels(x, y):\r\n",
        "  xTrain1, xTrain2, yTrain1, yTrain2 = train_test_split(x, y, random_state=1, train_size=0.5, test_size=0.5)\r\n",
        "  # First part of train data\r\n",
        "  digitModels1 = TrainDigitModels(xTrain1, yTrain1)\r\n",
        "  isN1 = PredictIsNTable(xTrain2, digitModels1)\r\n",
        "  # Second part of train data\r\n",
        "  digitModels2 = TrainDigitModels(xTrain2, yTrain2)\r\n",
        "  isN2 = PredictIsNTable(xTrain1, digitModels1)\r\n",
        "  # Train set for choose model\r\n",
        "  isNFull = pd.concat([isN1, isN2], axis=0)\r\n",
        "  yTrainFull = pd.concat([yTrain1, yTrain2], axis=0)\r\n",
        "  # Final models training\r\n",
        "  chooseModelFin = TrainChooseModel(isNFull, yTrainFull)\r\n",
        "  digitModelsFin = TrainDigitModels(x, y)\r\n",
        "  return digitModelsFin, chooseModelFin\r\n",
        "\r\n",
        "digitModels, chooseModel = TrainModels(xTrain, yTrain)\r\n",
        "yChoose = PredictDigits(xValid, digitModels, chooseModel)\r\n",
        "\r\n",
        "mae = mean_absolute_error(yChoose, yValid)\r\n",
        "accuracyChoose = GetAccuracy(yChoose, yValid)\r\n",
        "print('METODA DWUETAPOWA')\r\n",
        "print('Błąd: {}'.format(mae))\r\n",
        "print('Trafność: {:.1f}%'.format(accuracyChoose))"
      ],
      "execution_count": 17,
      "outputs": [
        {
          "output_type": "stream",
          "text": [
            "METODA DWUETAPOWA\n",
            "Błąd: 2.550952380952381\n",
            "Trafność: 9.8%\n"
          ],
          "name": "stdout"
        }
      ]
    },
    {
      "cell_type": "code",
      "metadata": {
        "colab": {
          "base_uri": "https://localhost:8080/"
        },
        "id": "RG2GvBKaft41",
        "outputId": "231f2d67-8752-4e4c-9cf1-2b61c3f236d6"
      },
      "source": [
        "# Split into validation and training data\r\n",
        "xTrain1, xTrain2, yTrain1, yTrain2 = train_test_split(xTrain, yTrain, random_state=1, train_size=0.80, test_size=0.20)\r\n",
        "\r\n",
        "predictModel = RandomForestRegressor(random_state=1)\r\n",
        "predictModel.fit(xTrain1, yTrain1)\r\n",
        "yTrainPredict = predictModel.predict(xTrain2)\r\n",
        "\r\n",
        "xTrainReview = pd.DataFrame(yTrainPredict, index=xTrain2.index, columns=['PrePredict'])\r\n",
        "#xTrainEx = pd.concat([xTrain2, ], axis=1)\r\n",
        "reviewModel = DecisionTreeRegressor(random_state=1)\r\n",
        "reviewModel.fit(xTrainReview, yTrain2)\r\n",
        "\r\n",
        "yValidPredict = predictModel.predict(xValid)\r\n",
        "xValidReview = pd.DataFrame(yValidPredict, index=xValid.index, columns=['PrePredict'])\r\n",
        "#xValidEx = pd.concat([xValid, pd.Series(yValidPredict, index=xValid.index, name='PrePredict')], axis=1)\r\n",
        "yReview = FloatListToIntList(reviewModel.predict(xValidReview))\r\n",
        "\r\n",
        "mae = mean_absolute_error(yReview, yValid)\r\n",
        "accuracyReview = GetAccuracy(yReview, yValid)\r\n",
        "print('DRZEWO Z KOREKCJĄ')\r\n",
        "print('Błąd: {}'.format(mae))\r\n",
        "print('Trafność: {:.1f}%'.format(accuracyReview))"
      ],
      "execution_count": 18,
      "outputs": [
        {
          "output_type": "stream",
          "text": [
            "DRZEWO Z KOREKCJĄ\n",
            "Błąd: 0.5046428571428572\n",
            "Trafność: 69.4%\n"
          ],
          "name": "stdout"
        }
      ]
    },
    {
      "cell_type": "markdown",
      "metadata": {
        "id": "Ep_IEbqPv6Kj"
      },
      "source": [
        "Rozwiązanie to okazało się zupełnie nieskuteczne. Skuteczniejsze jest pracowanie z jednym estymatorem."
      ]
    },
    {
      "cell_type": "markdown",
      "metadata": {
        "id": "9EPQeU7PC45w"
      },
      "source": [
        "##Model optymalny"
      ]
    },
    {
      "cell_type": "code",
      "metadata": {
        "colab": {
          "base_uri": "https://localhost:8080/"
        },
        "id": "KBhfZU4jDibe",
        "outputId": "06c61333-6699-4143-9cfa-38585ec8aa1a"
      },
      "source": [
        "xTest = pd.read_csv('/content/drive/MyDrive/Colab Notebooks/dataFiles/DigitRecog_test.csv')\r\n",
        "\r\n",
        "xAllBest = ThresholdPicture(xin, 0)\r\n",
        "bestModel = DecisionTreeRegressor(random_state=1, max_leaf_nodes=2250)\r\n",
        "bestModel.fit(xAllBest, yout)\r\n",
        "\r\n",
        "yTestBest = FloatListToIntList(bestModel.predict(xTest))\r\n",
        "\r\n",
        "output = pd.DataFrame({'ImageId': range(1, 28001, 1),\r\n",
        "                       'Label': yTestBest})\r\n",
        "output.to_csv('/content/drive/MyDrive/Colab Notebooks/dataFiles/digit_recog_submit.csv', index=False)\r\n",
        "print('Done.')\r\n"
      ],
      "execution_count": 19,
      "outputs": [
        {
          "output_type": "stream",
          "text": [
            "Done.\n"
          ],
          "name": "stdout"
        }
      ]
    },
    {
      "cell_type": "markdown",
      "metadata": {
        "id": "0XGBgKVocGEu"
      },
      "source": [
        "Zaproponowany model osiągnął następujący rezultat:<br>\r\n",
        "* skuteczność: 85,3%<br>\r\n",
        "\r\n",
        "![image.png](data:image/png;base64,iVBORw0KGgoAAAANSUhEUgAABK8AAACfCAYAAAA/MfpaAAAgAElEQVR4Ae3d/28U973vcf8V4Zer6lCpUm91VN2o6o2uIlURF1XU0pVCoyOBVR25StRwLueQVPQc0obmclrSACFt4pgDqSlJCQ6Eg5NAY74agpNjA3X5YuIYB9y1jbOsib/Gdm0jy3pdfWbmMzM7O2uPv8D6yzOSs+vd2fny/jx21/Pi8/lMkUL/pdraQ79xlwpQASpABagAFaACVIAKUAEqQAWoABWgAlSACty/CiTJoorCm0/ygvDy3KcCVIAKUAEqQAWoABWgAlSAClABKkAFqAAVoAIzrUCSLConvBofHxc/1AADGMAABjCAAQxgAAMYwAAGMIABDGDgfhowgde0w6uiHTXihxpgAAMYwAAGMIABDGAAAxjAAAYwgAEMPCgDU/Xayup59aB2iu3wBsAABjCAAQxgAAMYwAAGMIABDGAAAxgwBqb6Lza8Sg+NiR9qgAEMYAADGMAABjCAAQxgAAMYwAAGMHC/DNjwkvCKII4gEgMYwAAGMIABDGAAAxjAAAYwgAEMzDsDhFegnHco71dSy3r5VwAMYAADGMAABjCAAQxgAAMYwMDCM0B4RXhFeIUBDGAAAxjAAAYwgAEMYAADGMAABuatAcIrcM5bnKThCy8Np81oMwxgAAMYwAAGMIABDGAAAxiYawOEV4RXhFcYwAAGMIABDGAAAxjAAAYwgAEMYGDeGiC8Aue8xTnXSS3rI/3HAAYwgAEMYAADGMAABjCAAQwsPAOEV4RXhFcYwAAGMIABDGAAAxjAQMhA19CouodG1Dv0N/UP/U0DQ8P6amhY/+3yv+m/X31Bq2/8h/7x83167fY5fdzTRu1CtSMUWHihAG1Gmy0EA4RXfNDyZYsBDGAAAxjAAAYwgIElbyDjBVY2qDJhVfTHhFdxP49c/422th/Xlb7Mkq/jQjgJZh8JazCw8AwQXvGHCl+wGMAABjCAAQxgAAMYWLIG7gyNqWdoJCeoMsGV6XVlel+Z501PrF+3H9em1Ht6vHmX/uf1F2ODLPP8518NLNl6EgosvFCANqPNFoIBwiv+UOGLFQMYwAAGMIABDGAAA0vSwJdDI/6QQNvLqm/obzKPm1BrqhO6y31d2puu1/9ueiUryDJDC9/NXJny9VOtn+enbgNqRI0wsDQMEF4l+FLizbA03gy0M+2MAQxgAAMYwAAGlo6BaG8r08PKzHU1UwNm7ivTIys8rND0wprp+njd0rFIW9PWGJjaAOEV4RVfqBjAAAYwgAEMYAADGFhSBkxQZXtamTmu7saFVv2DSnf36otMl9J3Mrpz547uZDK6k+nSnbtf6osve/RF31c5dXs3c1XfvPpLP8QyE7u3MIwwp06crE99sk6NqBEGAgOEV/yhwhcJBjCAAQxgAAMYwAAGloyBcHBlhghmDQ8cHNWdnn43pDJhVZIfE2j19Cs9GPTaMsMJw0MJTYDFSWhwEkotqAUGMDBdA4RX/KHCFykGMIABDGAAAxjAAAaWhIHwUEETYmWdPPV9Nb3QKhpsZTJKh3pimd5W4WGE//fWO9nbwxz1wAAGMJDYAOEVWBJjyfpyp27UDQMYwAAGMIABDGBgARkwk7DboYKmx1X4b9s73b3JellFA6u437t7/XWbACvcA4tJ3OltEnbHfTxgILkBwqsF9IUL7OSwqRW1wgAGMIABDGAAAxiwBszQQDO3lQmvzG14qOCd7p68wVU6ndbt27fV1tam1tZW5yeVSqm9vV1ffPGFzPOxQwu7e/wA6/OvBvw5sMxVCM3vdr+4xSgGMICBZAYIrwiv+PLEAAYwgAEMYAADGMDAojYQHi4Ynpx9sh5XNri6ePGiPvroI126dEm1tbU6ceKETp48qebmZifYyh9gBT2wzCTu9iqEXIEw2YkqJ/TUCQMYCBsgvOIPlUX9h0oYO/f58MMABjCAAQxgAANLz0BmaNQfLpg1z5WZ4ypu2J/3mOlpVVdXp7t376q7u9v5aWpq0l/+8hdduHBBBw4ccJ7v7OzM2wMrPAdWeP6rm1/18zc452EYwAAGpmFgYYZXfb261WV+hhI09pC3bK/aB+b4y7p7Ovsxx9ueRiPzR9oSrv0XF1W+9VUd/mxx1eBC1at64fcXleJ9kOAzcHG1PZ9ntCcGMIABDEzXQHdorquuIe+KgOaqguYqgTHhlRkOePPmTZ07d04tLS3OMmaooOl19ac//ckJrkyAZXpfVVVVyQRa5jVx6zLbsFch/Linze999ev243yHO3/Hzf5crd05L+zVre65fm/Mft+ma5Xl57oNWd9MTd3uHVSb+embPzVcYOFVr2orf6W1q4q10v78+Ffafy3okhtunPZP39dzPw4tu+Yn+vWxVrVnnfA2arddV57b5050ZX+5dLfq4M6f6InQ8k/8bI+OtCQJ0+ZP44drNa373Se1YVmRioqK9PdbL2bXxtb23Bbn+eJ9HfHP2+Vibo9tNut+XOUtC6tW7n4XadO5+7vfV/c97tTW1D/r5+uPaO3Wk7raH2z/1Na/c5f50SHdiKn1tNr9Abw+Udu3H9Ja59j/Ti/UBsc6346F/aFtMIABDGAAA/PDgJ3rKjxJ+52e/pywyQz/MyGUmc/qzJkzTjBVWVnphFZm2OAbb7yh3/72t/rwww/V0NDgDB/cs2eP83xHR0fO+vwwqyfoZWUnbze3S91HsnO1/IbaW87olZ+VBOeFq0r0jzs/VENMiHWt+leh5ULnh6uKtftK7jZuNbybfR65qlTPHb6hWzl/D3foyP/LXp9/nrrqgGpDy9e+mW857/F/P6Pm0PJL3ceDP/5eNRz7rZs1LOa2+Kpfl+uOqaxsl7Yf+0ytUXN9aX10bL+2m+edn33ac7JRzfMgxFpA4dWQ6vf/VCvXbNbuix1ub6rOVh3du0lPrNqsg7ciHzqpM/rlmmKte+2M6jtND6ku1TsYS/TL0+EwqlcNFxt0Ju7n2Ov6x1UlKrsYDqU6dOSlEnc/Pm5Vs0n6U43av71UK9e8pCOpyH5EMSyC31NHnw1Ck2XP6XDMF0Sa8Oq+/UFiw6sVT23TC1u9n03rtOJby5x2eWjtW7pgnbXXaufWV1VxeWFMDJoovBoa0Pl3XtULu2sXRCD34L94F/9nEDWljTGAAQxgIKkB09PKXmHQXG3Qvi7a68oEVyaA+vTTT50eVZlMxvn9j3/8oxNWmV5X9fX1ztxXpleWmcTd9Mwy4ZVZxgReflgV7c1lel95f5sdv9us9zJ/cfbJ7wVm/25bSreJz9XyWG8/75zrrd3+vmpT7miY5k/PaNuGYj3x0vmcEMgJjjbt09GYc76GO9nbaL92QOtWlWjj/gZdc3p1danh7D5tWFOsje9H/2He7QixYe/5mPPJ1qyw61ZLnnPOix9q25PFeuKNhkgni+z9soa4vQ916axTmQlC12zWxp8Xa+UiDa/abn+mDw7u0va33tMfD8SFV92qq96n7QfPqa6j3+l51drRqMMVu1RW3ZIbdD3gz6yFE1511WnbqmJtPBb9wGjV/k3FemL/Df9LIT00pDNvlGjlhndVn1XQIdW+uV4r1+zTmSmTwyGd2V2ilT//UNdC62i/uE9PrFqvsoZwoGXeQB06+POl8KHTpYofuT2jnn7mMRUVLdOG6phghPAq5HFuP2BteJXbw6tF5atN2+Rpk5Dj+fqllyy8mtt6ztdasF+0MwYwgAEMYGD2BsJDBv0rDPYPZgVNJoiyc1n913/9l9OTygRU5rE333xTBw8e1OXLl2UCLRNydXV1qa+vT9evX3d6Z73++uv685//7IRd+QKsdP+g87eh2Qcbppl9W5ptPPtzNbcn1es6HvlHdPdcbVOkY0OXjvx7sVbubUxQ714d/11xzjmgaaeGqk1aueZA9vll+xk9t6pYZQ0zt9petye+M8YC+Nt9cfg1AWSJNpSfUUPXmJygc1GGV7d1qmyf/lh7S61f9avuWG541XbjnMrKjqk2ne35dmudKsr26fjNvyV4D2W/di6NLKDwqlEHK9/V8WgPq6Ex1e4t1spwwt7XoFdWFStnuJ/5ALj1oTasKontHppV2FsfamNOr6sx1e8v0cp/ioZibgO5H6L7srqHZq1zMXwA2SFbq9/S1cY9etQM33rmZO7cQ3nCqxuXDmnTjx7TN8ywQzPMbfNbOtWeDTw2wOiq1QurH9OjP1in8sZg+avVr6p09SP6mtmPrz+i4mfe0vkvgued+ree1ItPPa7vfN0EO3+n76xepxers0PQUy8/pkdXPKu3W7p0bGupHjW9mJZ9Uyue2qNT0fUNjelq9Tat/d439VDRMn3jB8+q/PKA3P3OHTY49TF36O1/Ntt/Vafaa/XCj9zjyQ2n3OPKH16NyfaK+/uXvOGcta/q0RWP6enD4ePt0vl3tnj7X6SHvvWY1m4+lFu3/g4dfnmdir/rDj382ncf19P7ruX2dspaztRjnV6sask14dQtaK+47SZr+1C9FsN7imMo6JfgovuMxhOeMIABDGQZMBO0m7Cofyg46QpfYdCEUSaYMlcUNCGWuYKgmc/KTNb++eef6/z586qoqFBjY6MTXg0PD2toaMj5uXbtmtNLa//+/c4yt27dygrFsoKs7mCaE7MvZp+yJo9fSu02B+dq9QfXa2VkWJ7znZ5yw6TsoYA39Id/KtaTB8OdHSLnC379e1V77F394aPw387esg37tHLVSzraGXrtp+/qyVXr9YdPQ4/560ry2FLpAJGkFoVapkO1F4ORWYs3vOpX8203RE8PxYVXg/rz6dxAy/1buVu1R3ap7JPbWZ+vrTev6INj/6ldZbtU9vZ7qqq/rbZp+Z9emy+c8CpvEWI+jCb9EPG6duZ0+QwXLr7XlWk4t8tpdm8se/LTfMKMpf6VjkTCGPv8Yri1wYk7l1WLdn7fBELr9HY04IkJry7sL/VCplUq3bRNG55a5f6+bI3KQxOK5wQYXbXa9D0zJO4RbToX9PIygdNDRUV66Hul2mCGzz3zuLu+727RKe9fYVK1W/QdE2wt+6ZWP2OG2D2rYifEWqbV+4MvJbvN0qceccIcE/g4AZZ57Xe36VTI34V9a5ztuuHWc3rahE3L1mi10+spO7xKdswdXo+px1Vs1vH1R5zAKd98TrYNYsOt08+5Qzo317ofLDnt0KGKte7wwq99f51Ttw2lbh2LQnVLD13Ui07Nl+nR0uec4YlPr3ZDrO9sCU2U7rfNMn3jH5516rvaG774nc21oQBrQMe2eNsxoeUzz6n0Byb8M/XdomNd7vvPtoM/35m//nDb23pt0bFQuyyG9xfHEP4c5j4eMIABDGBg9gbigqI7d790QiYTXJnAyVw50PS0MmGUmZDdhFFvvfWW0+vKzHH1u9/9TtXV1U7AdfXqVWcSd/O6S5cu6ezZs3rvvfe0detWJwTLCqzCwwfvfumf9MUFakuqrWd9rjYmt4dV7tQx197fHDPKplFlpmNDdYeaPz3vdIjYf6JO9eEQKsHflPWV63M7MTiB1q905FaX6s9+qD9Uvq8jH99Qc8ILhdHravbv8bl+7yze8Cpc67jwKq1TFbtUcTHtf1aFa9v4yS5tP/qZPvfeK62fnlRZ2X4drG/R5ZspXW66qANmeOG5lG4neD+F1530/oIPr9wPqJd0NBwYXTkwSYjkdRt9c5Juo5++64xzzp7rym3sWx+9rpVxc2wNees1vbquhWEspvs2rCpVhVfvC7tXOWHJ2neCtNrBFw1N2j9QqeltFQoqnOU+26NiE2CEJhTPCjC6rmmnE7Y8ok1Zc5Vd1Cazvm9nB0s3qp7Vo6vXqfySCbkGdOrlUj363dKscCxte4+t2OPPDeVus0h/v+lkqGdRMAzPD4rsa7/9nA6HArvUOS8kKwqFV4mP2YYxRTKBz1QTq+cPr0zvr//htEfpYa89ou3w2SGVrn5MK7KCpTGd2uq+7umjXjhYu8UJlrIn5O/S2888puKn3tJ5Lxw89dIjzjDF1ftaQh9yXTq8yazvf+iFOs9/3TY3RIy0vw0CbU+xZG1v60V4lfSDnuUW0+cwx4JnDGAAA9MxYCdr7wkN0bPzXZnwylxF0Pa8MhOxmyDKBFhmKODPfvYzbdiwQb/4xS+cidrN5O1mmU8++cQJrkzoZSZ2/8Mf/uAEXGZerLzhVWjeK7MvpueV2bfpHMuiWXa252rOifGQavdv0hNrNunXh818U+e1f6f7++4rkeldvKF9T6wxk7uXat2mn3oXACvVr08E/5g9aX29UTnZcyePye28UKIn1hRr5Y9/qg0bSt2J4X/82wRzId/QH8wcXcx1Na/eBwstvGprNb2f3tMfj53TR622Z5X5nhhU882UmiNDa13nceGVGVa4SwcbgwtMhN8Tn1+r1vayi2p03n/dqju6S9trs3ti3W5r1PErKbV+dX++pxZ0eHWrwZ1ML/ohkp7VB6IZ55w715XfcH03tHtDsVZu2Kfj7d4HY1+Xju/dpLU/LnXmw5p5t9H708j+vs82AW3coxWRoCkd95jZTiQ0uXF4nROq+OGIvy8DOvxMdu8tP8D4rEXlXnBVejgcjpg6eeFVpNdWsmOt1QZzHEVB+OFuMxS2ePtngyJ71cSr+9c4x7Fid3R/7FxgQXiV/JhtGBPTg82vU2DD7tOGqi7d+ML9uVB3UhVbVrk9mb69Rcfsh1SkHfLV58Lv3SsY2uNMe+GVM/l76OqF2a+/qBe+XaSiUAjoP+8NKbWh1KmXTJgVMxdXd4dOVZ/U4doOp5dWsra39Qraz99uTL14LrBDLagFBjCAAQwsNQNx80tFA6bOzk6ZHxNmmasN/vWvf1VdXZ1effVVrVu3TuvXr9fTTz+tf/mXf1FZWZneffddp3eWmajd9tIyPbTMBO7RdYd/t7UPz8NlH1tSt7M6Vwvew80Xo1cELNbafz+go9ErwHeZYWHndfRiVzAh+kCXjr/xU61c9VPtvhYJu6J/T3Y1Oud/cRPB37rVqDNnz+uMPS80rzWTfzvniwdU3xfsb7SNTaeI2AuPRbfP7w803FpQ4VW6UQfMPFYn61Rzrlq7yvbpwMW0O3TPe+5UW5zBmPDqyxYdniS8am0Mh1f9ulhthhg26vP7FFRF3y/m9wUbXrVfMcFVsda92Rh8CNk39mw+ECfpdeUXMFXnXMkiuAxqsZ7Y/K7qr5n5tBbvsMELr5sJ2ou0evc1PzS58cVFvfgDEwQ9Ln+ol2mHSGhyaos3VO27Zm6n7B93Lqrg9TZIevR77jC1oqc+iO2NZHvtmH0y8zGVbtqjijo3BPHbamhMqZaLqththik+7mzbmW8rNrwK9sG+3gZFNtSxx+H3xLLmhsZk62Ofs8t+bcpjnl4YY/fJHHf056HvPauK0BDMaDs4x9XfpfPVb+nFrc9qrWkLb04rsy57nOkhGxyabbjzhG3YfUinWoJhm+nWQ1pt9mHZN3Pa9FFnPrAiFTnDF81QxRgjodrZeidr++nVy66b27gvLh7DBQYwgAEMLG4DScKrcMBk7psQy8x/ZXplmWGCpreVGTq4adMm/du//Zv+9V//1QmynnvuOf3qV7/Syy+/rNdee02nTp0ivIr5+y7nPTabczVv/c2nX9ITq36qbSdCV/QzHQpMIJX4CvDuhb9W7p7kKn/dbnC1csMB1dp/HE5yjC3va8OqYr1Sly8Yo9dVjoskdX0Ayyyk8MoJlI40+kP52lov6o8Vu7S9zP0pqw6G+WXXOya8GppOz6sx3U5526qo1IHTdaptSuvzScLa7O3P7HtnYYZX9tKqccGVAe2Mo843fM+d88qMec4t4BS9rrLeLENq/tS93GltizcBozPmeU+CKxnOrLFy9/dBrsfrZRMTmNgAJas3UiS8ckOJIq14ysw7FfezR8e8YXh22aJlq7TCmVNrmfxhcFltMKYbjR9o5zNmaKAXdDlzYNk5lMywQa83kglYVps5nl5VefUelTrHEfTccbc5dXhl980GVOE2sb2X7HN22amPeXphjA2v1v7upA6bXkvOT63Ot4aCJVunSDukWz5Q6Xfd0MuEamvNPGC7D+ntrZGeV87ru3Shao+e/tFj3mT35nXL9OgWby6rlrfcIZ/fXuPOORbXrk6POXt8ufUN18/ctzWbvO3t+oL2i66H3x/kZwPbwhsGMIABDMxfA5MNG4yGVtHfbU+strY2ZxL3l156SebnjTfecCZof/HFF/XKK69oy5YtToB1/Pjx/OEVwwaDc68Zn6tZZ96cx5VxE7C7zz0x2RQx9u9kO59x3ivLdejIS+YK9tMMrpz1e+ecJyJTq3jbpteVbcv5d7uQwqv0wKDaeoOLUTjfRb3dajRzUKW6J5k8PS68SqvmwCRzXtXGTObe3aU/X6lzhi3ucUKz/Tp4Kc2cV/4fBTa4eq1O10IfPP7z5jHvChYb4iZln+xqg0l6XfX16lZXfILuTOKX98Nv/r0xs2qWr5b28bpt+nsT+Hx/XUz4tM4dThgePhYJTWyws+H01HVwA4zH9ELtgNKfvaXVZm6rJMMDuzv09kYzB1ORHn29RekvPnBDqu9v0ylvQnD3mGu1aYbhlR8cRef4GrLDH4Nhg8mPeXphjN0HG5JN2o6RdrDD90oj+2/XGfS8ym2nVMsH2uAEX49pp3PFR2/45f95y587LN++HNtkgq/cYZlm+ZQz9NEN3pK1/fTqlW+feDy3jakJNcEABjCAgcVmYLIJ26Nh1WS/m15YR44c0b59+/T+++8782K9+eabzqTuZs6rbdu2OY/nXQcTtgfh1UzP1ex5yZ3z+nW+K8vbeYjD52TO+Vtv7mgde9X68LJ2G0M2uHpdx1P5Pxfau/KdG3qTxMeGV/S6ms+fMwsqvPK95jcaX+u48Opvunxul7a/F/TkCl7rBlvRqw0Gz5vtD6q5wQwtPKba9HT3J9nyC6vnlddt84mXzuQPrpwGHNKZN0q08p/2Rbp3Dql2b8xVIpzXJOt15V7ZYr1yJgJ0QrUSbfsouAxudmMma5D5+pqcCb2z3ih2vqdQOBEJTezcWA89dUhXs17boorNz+qFlz/QBW9uJTfACHrppE4/5wZn4avhffaBXti0Tmt/dzH4IjTr9a6299CWi0rbnkHPnAxd9W5Mdl9y57wKtmnbISfUsXN8fT+Y7N1Z9jOvF1J4wnZv2amPeXphjN2nmYRXNhxywydr0gRv7rBOG15dqDLDLEv1op1w3WszN4Rapk215rUDOrzRvQqkPzG7t1zq3Kt6etM27ax1/7UpVf2cMx/XQ9G28ELRh7yrIyZq+6Hp1cu2Jbe2vbnFAgYwgAEMLB0DcVf2u9Pdm7+HVPgKgaH7Zk4sM4TQ9LQqLy/X3r17tXnzZu3cuVO7du1yhhQeOHAg/3q7g3OEuEBtaZmc7rnaUKTzgNe7Km64X3ejyv6pWFk9r64ciJ+XuLtBr6wp1pMHoz24hlT7ZrLhh7VvmnPOd1WfdX4zJvcqgusVNxcyva7m9+fP0g2vxnT7Zp3Kyg7peGt2b67bn3/sPF7T4bXdQL8uX6lTnf3d+k836o9lu3RqksB3Np91Cye8suONn/ytDta5w/XOXAzfhsY7m+K1n9cv15i5qA7oeEuXbqVu6Oj+zXpiVZ6Ayeu+GneFwewCeyn8ms3a/XGrmru61PCxO1ng1KHa/H6jZh9neF9r3Sv7FT2rw3nGet94p9Tp8eRfnS4aXg2ZK+G5vaK+tnqLyqvMcLdDemG1O9zvO1su+gFTNMAwIYl9rbkaX8p5c1zUC04voEe09uVD7tC5d17VWu8xN0y5phe930t3f+Ats03F33pE3zETjedM2J4gvHJ6WLlBz0PfK9WL75zU2/u2qPjrj2j1WndOsCBUCvZ78mOeXhgzm/DqRtU6N0T6wRZVOMMNP9DOfzbzXrltY8OrtH91QPcYzdDEipdLvSsGhq7w6PeMe8xvh7d3P6tHvd5yFS3WUTCHlq2FWZ+zXNEqryeXHTYYboeghkHbT69e+V3bfeOWGmEAAxjAAAYWq4Hw5Oh37AlW/2D+kCkUWIV7UZkhhKb3lZmw/dChQ3rnnXf0m9/8xulxZYYPmnmwzETu4deE76f73auAmX2Im4drsdY/73ElPlfzgq5VpSprCEa/uHNelWhD+Yc6Y871zDnZxQ/1ys9KYua8Cp2/nb2ha+Flc4YEesHVqp/o1++HzzWD+w13Qp8X3qggc8559NMO3eps1Zlje7RhTZ65mYe84I0rDGZ3QLDvzXlwu5TDq/RQt+qq92l7xTGdutGl1t5ufdpY58yjVXb6VmgYYlo1B3dp+8E6/Tljhi4Oqi2T0qn392n7gYtqHAi9R+awTRdOeOVM7FfsXnp0VdztAdVGCtPeckav/Ny7XKl5zY8365Wz8XNdHd1erJU//3CKHl1eI3S36kj5Jj3h70epNu4+o4Y8wU7eD+3I/s7X5fxeMxsjPZjC+2+H6H3bCzZywitTuy6d2m0DC3feJTPZ9+qttVkTsueGV+a1LSpf7c65tHqfd6W/9lq98A/fdK+w583F9dC31uiF06Gx5Z99oKe/54ZNztxcX39cL9Zd89YVzJkUv80x2aDID3XMMfe3qOKZVfqat82iZY/p6cMturDPnTcqCK+SHvP0whi7T9nb8WyG28Tcz2kHMw/Y48G+mzms/vkDXTi9xQkfw8d54/Q2rf5WqHZFy/SNf9imY+2RbX32gTZ5IaSd/+xr339W5Zcjc3BF62bmJ/tWqXaGlotvh2jbT69e8/V9xX5FHEXt8vu8/aMOu9jFAAYWkoGuoVE/LPpyaMT/bL2TyeQNmsKhU/h+R0eHfv/73zvh1cGDB7V161an15XpjbV9+3blnfMqNN+V2QcbXpl9W0i1nOt9TXauNqT6/e5VAaO9mG41vKtf/qQkdH5Yon/c+q7OdMa8R8352+7NWuufv7nL1oaDKOdvD3euqvCFuTDyzH8AACAASURBVKL3d1/JXn/Ocaz5iX5Z2ahbMX/L3Dr7W61ctVkHb2WvY65ry/pmXt+lHV6ZKZi6VHf2PZV5k75vL9uvA+dacq8q2H1bNcf2+5PDm0nid733sS5mZl77qdwunPAq5s0/1cH5z3fnG4s8y8IOmC6svWq/T8miv/+zOfZ5+lp3nqMuv7fVrI61u8u7+mEkLAkd+5xuz663f8DZbsob7jjVMdyXfbD7Mt1bb99vZM0FFv9+sPt9Y6pw1rbDVOu02/4if3tNVUuej28r6kJdMIABDGAAA7kG7KTtfUPBUJg7Pf0zCq/McMHKykpnwnZzBUIzB9Zbb73l9MA6ffp0/Dp7+v2QyuyDCa/MPtFWXlslOVeb7HzLeX3CczLv/O1WX66TWbeH3Y/p/l3O8rwX5qOBr/7m9Ki6/dUU75U+r+fV/XhPReqyNMKryEHP+oOJ9fEBgwEMYAADGMAABjCAgQVhIDx00O/tNDiq6fS+MsMGzVUHzdBAE16Z4YNm7qu3337buc3b88r0uhp0e1iFe4GZfeKcZIqTYt5fGMEABkIGCK9CxeALhC8QDGAAAxjAAAYwgAEMLC4DmdDQQTOBu9++fV/F95SKmffKTNje2Niouro61dbWOsMH33jjDb366qvOkMHXXntNcT2v0n1f+duzk8ebnldmn/z94HyEWmAAAxiY0gDhFUimRMIX6+L6A472pD0xgAEMYAADGFhqBnpCc03dDQVHSa882N7e7oRT165d00cffeT0vjLDBSsqKvQf//Ef2rNnj86ePZsdhoWuMGi2aee6Mvuy1OrP8fKZgwEMzNYA4RXhFV+eGMAABjCAAQxgAAMYWNQGzFX+7NxX5ta/8uDQmO5092SHTjE9r8yQwRMnTqipqUn19fX6z//8T1VVVcn0vtq1a5fM/FfV1dXBerp7/HpOtu3ZnszxegIBDGBgqRggvOIPFf+Ldamg5zj5gMcABjCAAQxgAANLz0D4Sn/hyduNhal6YH322We6fPmyvvjiCye8OnLkiD7++GMdPnzYufrgL37xCyfMcq5OGOpxZdZtJ2k3Pa/CVzzE4NIzSJvT5hiYuQHCK8IrwisMYAADGMAABjCAAQwsCQPh4YNZ81+Z9jdzYGUyQe8prweWmazdDBc0va/6+vp09epVffLJJ3rvvfecnlfmCoQ7duzQ2XMfOesIn5yG57liuODMT1rDNeU+dcTA0jRAeMUfKkviDxU+4JbmBxztTrtjAAMYwAAGMBA1EA6UTK+o8BBCc2XAOz39fohlgqu//vWvun79urq6utTf3++EW6YH1smTJ53hg6+VlenkR7XqHAgmgzfrDPe4ygnKOAfhHAQDGMDAtAwQXgFmWmCiX/78zh+EGMAABjCAAQxgAAMLzUA4wDJzYIUncfePpX9Q6S979HnrX9X0WbPT66q7u1tfdnerq7tHf+1MqynVkfO3tFmXnV/LDBUkuOL94Zvi3DPn/UJteH8kNUB4xQcIHyAYwAAGMIABDGAAAxhYcgbCQwhtyNQVuhJh0hMqu5x5bTgUM+tkqCAn5tYHt1jAwOwMEF7xh8qS+0OFD43ZfWhQP+qHAQxgAAMYwMBiMWAmUA/3kjKBkxnuZx7PGk6Y55zBLGOWDQ8RNOsw62Rydt4ni+V9wnFgeT4YILzK80U0HxqHfeBDAgMYwAAGMIABDGAAA/fXgAmgor2wTABlfvqH/ub0pjLPd3s/5r7pYWWes8uFb83zSYIv2vX+tiv1pb4YWFwGCK8Ir+h5hQEMYAADGMAABjCAgSVvIDM06gRU0Z5Y4WAq333zGhNumXVwwry4TphpT9oTA/PDAOEVf6jwBYsBDGAAAxjAAAYwgAEMhAyY+atMGGV7WIUDLXPf9sgyy8xmnixOiufHSTHtQDtgYP4bILwKfUkBdv6DpY1oIwxgAAMYwAAGMIABDGAAAxjAwNIyQHhFeMW/smEAAxjAAAYwgAEMYAADGMAABjCAgXlrgPAKnPMWJ0n60krSaW/aGwMYwAAGMIABDGAAAxjAAAbiDEw7vLIv4LZG1IAaYAADGMAABjCAAQxgAAMYwAAGMICBB2dAk/xXZJ+jQR5cg1Brao0BDGAAAxjAAAYwgAEMYAADGMAABgIDNp+KuyW82hEUCjTUAgMYwAAGMIABDGAAAxjAAAYwgAEMPHgDcaGVfYzwivCKYZIYwAAGMIABDGAAAxjAAAYwgAEMYKCgBmxQFXdLeAXOguIkzX7waTY1p+YYwAAGMIABDGAAAxjAAAYwMN8MxIVW9jHCK8IrwisMYAADGMAABjCAAQxgAAMYwAAGMFBQAzaoirslvAJnQXHOt6SX/eFfHzCAAQxgAAMYwAAGMIABDGAAAw/eQFxoZR8jvCK8IrzCAAYwgAEMYAADGMAABjCAAQxgAAMFNWCDqrhbwitwFhQnafaDT7OpOTXHAAYwgAEMYAADGMAABjCAgflmIC60so8RXhFeEV5hAAMYwAAGMIABDGAAAxjAAAYwgIGCGrBBVdwt4RU4C4pzviW97A//+oABDGAAAxjAAAYwgAEMYAADGHjwBuJCK/sY4RXhFeEVBjCAAQxgAAMYwAAGMIABDGAAAxgoqAEbVMXdEl6Bs6A4SbMffJpNzak5BjCAAQxgAAMYwAAGMIABDMw3A3GhlX2M8IrwivAKAxjAAAYwgAEMYAADGMAABjCAAQwU1IANquJuCa/AWVCc8y3pZX/41wcMYAADGMAABjCAAQxgAAMYwMCDNxAXWtnHCK8IrwivMIABDGAAAxjAAAYwgAEMYAADGMBAQQ3YoCrulvAKnAXFSZr94NNsak7NMYABDGAAAxjAAAYwgAEMYGC+GYgLrexjhFeEV4RXGMAABjCAAQxgAAMYwAAGMIABDGCgoAZsUBV3S3gFzoLinG9JL/vDvz5gAAMYwAAGMIABDGAAAxjAAAYevIG40Mo+RnhFeEV4hQEMYAADGMAABjCAAQxgAAMYwAAGCmrABlVxt4RX4CwoTtLsB59mU3NqjgEMYAADGMAABjCAAQxgAAPzzUBcaGUfI7wivCK8wgAGMIABDGAAAxjAAAYwgAEMYAADBTVgg6q4W8IrcBYU53xLetkf/vUBAxjAAAYwgAEMYAADGMAABjDw4A3EhVb2McIrwivCKwxgAAMYwAAGMIABDGAAAxjAAAYwUFADNqiKuyW8KiTO/a2qygzr7OWrBQWyKBPlihaVt9xVec0laltI42wbfxjAAAYwgAEMYAADGMAABjCQwEBcaGUfWyDh1VVVDbi73N9xM77Rz/Wp3ywyMaLKqgffvS0rALL7YqscvR3r08YdNXoydc99ZmJY5QkaMmsbeZe/pOLqJpUcvazleZdx67OxYzy6Z9m/96bjaz3pepNvP9nxzKAtK27q7Ig9lHHVXyIcvG+1ntTCDNqO9c3gPUed8Y0BDGAAAxjAAAYwgAEMLHwD9iw+7naBhFc1KjrRo4xzBPdUfSLaKM2qHnYPL9PaXPiTPxte3bun5u7h3J/OtErMSXpVh6ozw6pvapkyaEr+Rkyr2ZTCC8gme50Nr0YHY/bR7PfN1hnUMvn2J9u3GT+XFVxZ8gRYM64nYdIM3gPRzyd+xx8GMIABDGAAAxjAAAYwgIGpDNgz+LjbhRNe7aiTDVvUm9aK0En1iutecpUgsJmqWHPyvA2vZtRzabagk4dHtp7N12e7zfDrk29/TmodclAUG1xZ9gRYc17vcO25T8iFAQxgAAMYwAAGMIABDGAAA7MwYM/e424XUHhVo6KKDl1xRrpNqL6+zkVR0aZ6Z/Rd6DFTrP0tqszcU78dGTc+ruZUh0oqQkFLTY9S9yY0mumMAOvUFfP4vUFvOF+Lqgfc3/eezqh5ZMKpZd7QJ2l4lbP9KbYTc0ypjuCY1reOaPSeu29mB8390YEerc+DJ3l4FexXeVWHzg6Ma9RsZmJC/b139fx+t6aTbt8/1rTWNw177TKsvTtuqnrQ1Paeqs+F2sbsc0WH6sfMc8PaeyDyXPSYJg2uLH0CLAKsKRxFXfF75LOR+vEewgAGMIABDGAAAxjAAAbujwF75h53u7DCqx018ntZjbjzRtkAZrQ71BurKq1mG1o5Q/dG1G8zneE+bbQBVt6Qyes9JBOumEa5qbNjpnzj6je3EyZQmdCVxjwNlne9keVzlptkO35wJ40Ou8P8Us4+SfbYJw2PYk7Cbe3yhnD+a+x+3VPGdHIbd4/fCbBMWYZ79OSOGk26fXusY+Pu3GRmHeODTn3tfkTnM1t+edA125fJ6mmX80GRKLiy/Amwcurnt3PEJ48T3GAAAxjAAAYwgAEMYAADGMDAAzJgz9rjbhdceFW0I5i8PZXqUco5qhFV+ZO012nnXTep6u9s1cO2yBVNquxzS+DPi2UDlZzhffnCK2m0N5Pde8uuP3xr1zs8oMqmTM7PVjtnl13O374NiWK20+gNjbzbGZofq1lVAxPqH+zTznds8JB82J4NjTLp3H2sbOrUxsN2ncF+ZdW0KqOUU+pxnfV7TeXZvj1WTai5qSl0DKH5zLKGfdap/K7bXqnmy/k/LKYVXNm3AAEWAZa1zS0WMIABDGAAAxjAAAYwgAEMzAcD9ow97nYBhlc1KvKDEPeQ/DDKCZA6dMUJVEZU6YcvHsRPBjRqXjLS5w6ls+vxwyMLNl94dU/V1XaZSW7teuMqLsnv6WSX87dvQ6KY7djwaqTPH6YXjytPeBQO17z7NryK381wIJV/v/b2uq/2j2lHnu3bYx3ucSerz9ofO+F+aDL+ik63HScGVW57ymW9xtQ/fFVBexQTau4YdHt32YcGB3XF66VmHzK96M6e94ae5qx3krZl2fxBIrWhNhjAAAYwgAEMYAADGMAABjAwQwPB+XruvYUZXu2o09a0Nw7Q9NYJhxs2JMnqxWPDiEgoZZf1w6M8y/nDBu0wQrtcnlu73r67Kqluyvkp9uaI8kM4f/s2JIrZTqSH0ejYPTV39qj8/OXsXkz5wqMYPDa8SrXk7mNJ9XWt8Ouaf7+mHV75x5pdu5JWZ+IyZVLe1SIbvCGDWT3Nsl9TVG2vQGlhT6j5+tWccNNM8F9U1ZkTYPW3tfChEuMiPhSN1J7XYQcDGMAABjCAAQxgAAMYwAAG5tCAPbOPu12g4VWNiuwVBqNhiA2O5kN4Fd23aKPaffWXyx8SOYFCRZO23hxQamTCnTDda1Ez51Wxv+48PZ/854MQwoZXQa+p4LnsACP/fs1VeFV0+K47BNSbP2unN2TwSkO+fTKP12ljmxt6yQxHNMGVOU5bVyve1jccYE3Zg22y7fJctg/qQT0wgAEMYAADGMAABjCAAQxgYHYG7Cl83O3iC68qMm4IMjGondHAxvbUscGWDTn6Mtm9l+w6ciZsj+kRFd1GODyxoUncMrHL5Q+Jct8EdVpx/q5S/tUXLZIFGl7tuOzNSWaGDnpDP+8N6Pl8tfMfr1NJfVrlNZeCxNu2qxUfbof9LSpvbNOTtvebvx5bP25zrVETaoIBDGAAAxjAAAYwgAEMYAAD99eAPYWPu1184ZUfgkipFq8njhNQBEMNRztb3aCjps+bGyl7wnfbI0nzKLx6vmVQzYPjqm8Iz9NU509C3+xf+dALr+4NaOsUwYw9zvvS8yq6fRsohYOkyP4t93rTZQZGHKt+O0WWm/IDw27Lip9km1Oua7rbZvkgRKQW1AIDGMAABjCAAQxgAAMYwAAGEhqwp/Bxt4swvKrR8vM2lJpQJtOjyqa7OtvrdFGSxoe1178yoZ0oXNLEuFLdw0qZ3GRs3Au1bE+r6fSICg1bmyo0sSGLv1z+7SxvGHQnmx+/pysp9+qA1Zl73mOD2unPT9Wqem8kXf/AsJrbOrQiDxQbXml8QqP3Yn4ynd6bLP9+5Q4bzLP9nGONSWztJO2O1PCE8THL5jkmJ4yy27Li/fpOcz2TbYPn+ADGAAYwgAEMYAADGMAABjCAAQzMmQF7Ch93uyjDKxNgPPxJj1J2OiR75CODKv9TuOdSTe5E3mNmmYyandfMn/DKzO+0vmlY/d489faQNDKsytPZx7T8fI83nNCEcjHDJ703lx9e+SuL3PFDn+mEVyY8jNm+DZT8dcYFSXUq9+a6kjf31Yx6Rtlt2cOZdJtx+8FjM6o7H9pz9qFN/XkPYgADGMAABjCAAQxgAANLzYA9hY+7XbjhVcIT5Yer3Cvp/fBQdsATRbD80HVNtUz0NYX5vU4rjiY7JnPs/pUNE9ZrLo9pJtt/vtNN5zKtTTMPAvzhoC75GQ8/LEDN5rL+rIsvOwxgAAMYwAAGMIABDGAAAxhYKAbiQiv72KIPrxZKI7GfNVr+p4xSTnY1osrDs/uAsaFlSfVVPUwINfMgkNpROwxgAAMYwAAGMIABDGAAAxh4AAZsUBV3S3j1ABqAYGqKIKrCm2TeE9rfcTP76o+0ER+UGMAABjCAAQxgAAMYwAAGMICBRW0gLrSyjxFegb/w+Gsyqu8eVnP3oM5ebSG4wmThTdIGtAEGMIABDGAAAxjAAAYwgIEHasAGVXG3hFdgfKAY6YU2RS80POIRAxjAAAYwgAEMYAADGMAABpaggbjQyj5GeLUEQRAgESBhAAMYwAAGMIABDGAAAxjAAAYwMJ8M2KAq7pbwivCKRBsDGMAABjCAAQxgAAMYwAAGMIABDBTUQFxoZR8jvAJnQXHOp5SXfeFfHTCAAQxgAAMYwAAGMIABDGAAA4UxYIOquFvCK8IrwisMYAADGMAABjCAAQxgAAMYwAAGMFBQA3GhlX2M8AqcBcVJol2YRJu6U3cMYAADGMAABjCAAQxgAAMYmE8GbFAVd0t4RXhFeIUBDGAAAxjAAAYwgAEMYAADGMAABgpqIC60so8RXoGzoDjnU8rLvvCvDhjAAAYwgAEMYAADGMAABjCAgcIYsEFV3C3hFeEV4RUGMIABDGAAAxjAAAYwgAEMYAADGCiogbjQyj5GeAXOguIk0S5Mok3dqTsGMIABDGAAAxjAAAYwgAEMzCcDNqiKuyW8IrwivMIABjCAAQxgAAMYwAAGMIABDGAAAwU1EBda2ccIr8BZUJzzKeVlX/hXBwxgAAMYwAAGMIABDGAAAxjAQGEM2KAq7pbwivCK8AoDGMAABjCAAQxgAAMYwAAGMIABDBTUQFxoZR8jvAJnQXGSaBcm0abu1B0DGMAABjCAAQxgAAMYwAAG5pMBG1TF3RJeEV4RXmEAAxjAAAYwgAEMYAADGMAABjCAgYIaiAut7GOEV+AsKM75lPKyL/yrAwYwgAEMYAADGMAABjCAAQxgoDAGbFAVd0t4RXhFeIUBDGAAAxjAAAYwgAEMYAADGMAABgpqIC60so8RXoGzoDhJtAuTaFN36o4BDGAAAxjAAAYwgAEMYAAD88mADaribgmvCK8IrzCAAQxgAAMYwAAGMIABDGAAAxjAQEENxIVW9jHCK3AWFOd8SnnZF/7VAQMYwAAGMIABDGAAAxjAAAYwUBgDNqiKu10Y4VVFp65MSOpNa3k0bKpIq9k5snuqrs4t8Na0eeGIqg7nPhcL8lyf+iU1X0+4fHR/5vXvl1Rc3aQfHqqb28Cq4rJ+WN2k4v2Rml0fljSus+cij89pjW7q7JhrI7Y953Rb0ePw7PWm57Ce92Od0f2ey99z93djx/gDaPe5PAbW9eDfO9ScmmMAAxjAAAYwgAEMYAAD2QbiQiv72MIIr3bUaW+vpHsD2hoNIxoG7bGo+Xo0lPGCjeEelURfl+/3RR1euUFDf8fNOQxbalSUr2aEVzOoc24YNL8/0HL3l/Aq+wN4frcf+0r7YAADGMAABjCAAQxgAAPzw4Af7sTcWSDhVY1WtIzE9uZwe1ZNaNR0sLrbkR0WVPcoI2laYU2+ICZf2LWgHie8mtsPpdzgZvbrvx/rvJ8fRLn7S3h1P+vNumf/HqOG1BADGMAABjCAAQxgAAPz0UBMZuU/tGDCqyIviMq0NoUCqiZVm5FpA3dVFdMza7nT82dC9fUW5iWtbxpUZswkXSYLG1cmk9H68HC32PCqTiUNPWoe8V43MaH+3h7t/FO0p1dk/Wa57sj6d7SoemBCo5lOFV/qU8oMeZM0OjKsytN1KqpoUWX3uBvGmdcP9Oj58P6ZsGx/iyoz99RvRmeZ147d05WmFj08SZC2vnVEo/eC/Tf3zT4EYJPsu61jcFuemdCotx8an3C2kWptcddre16db1J55z31e5t3jrXmUmjbZn1Jaxxs2933PMMGE9bo4ZqMrgx69fbaobqhKXd4alWHqnuD5foH+rSzKje4Mfu0/E/Zy5rjja7TqdtAjzZ+0uMbcIeqBusM+zBWm1MdKs5p46TtFlPfwUFVZrWDtZlWydVBz1do2GfCGhBeRY3ye/A5Qy2oBQYwgAEMYAADGMAABjAQb8BNOOL/v3DCqx1BSOHPe3X4rlKSTKDl9szKnvdq511JE4Pa6Zzw18k9qZb6e/tU1ZRRVcewG6iM9GljhVe8mPCq+PqwRk39xoZ1tiWjytSgMs60PsPaW2WLPsn6x8PL2aGM95QZv6crKbM+bz/Gh3Wlb0L9fe7+VXd7qVBfRitsaFFxU2dNJ7SJcTV33FVl012d7XWXMz3M/NrY5b3bFec7Vdk04PREG+3tUWVTRpUXmr0AKem+22MNbp+84O6/qU8mnXHWW37+clZ4lRoY1+jwoKrDNTfzkPm1q5GtsV0uvsbBdoM3e+DCfyxhjVY02nYdUb1ph6YeXRk2CduErjSEgkkTUpkS+zXvUf3AuDQy7syPZuZi87dtl7VtG1pn8/Wr/nLuMNhxJyDqHxhQdWpAVZ+Y4/PCq7Fx9U9MKJMxbRW08WhvOhRgJW+3jW2ukdFhz3CLDU7vqfqEratXS7vt7j5Vd/Rpr5lLzh5XghoQXtl6cuu/LyKfRzyODQxgAAMYwAAGMIABDGAgaiA+tnIfXUDhVY2cIYJ+GFUjt2eV1zPE65mVavGCk2jY9cmAE0BFA57l590J2jMpL8iJhleHM05Alh0amJN5NzjzhyrmW/9pd+ji6N0OL1jyAgKFQ4MaLb806AZkA3ezwomdGROmDGuvd/L3fKf5fVxnz4fClR02xMheZxSCDUZyhlEm3vc8b65ozeyJqtPzSlJfJnRMNVpe77aF34sub40zSpnDvduZN5QrCrWzPd5kNWrQxuZBZQZCwaXZ74oOXbknqTsIpPKtzx2yGp4s/rIq+0zzhMNKU7Or7uMTgyr3QlInvNKEwoGWu/9eeCXTYzCujSd05ZLXDonbrUk724aV6Q4HX65hZ1htm9dTztYyx1eNktegxguJQz22rAdu/fDSWuU2z2cKVrCCAQxgAAMYwAAGMICBJWdg0YRXflh13j3hccIDfxL3oAeO0/soEmZlLxs+YbqsqgGTD3mTukeCmHxzbZlhbiuONqmkyh3+5gYZw9pre3CF3mjZPcC8/Ry4G/SmMst6280JluzQO+eKfW2qvyeNpttyEYd6oeU/IXaDkeg2ku97uG6h+5Ga+dv3wqsrDaFlnbpk74db4/grQjr7Fgos/XX79Q3a3X1utjW6qipzDYCxPm10tuGuL/ZKl54xv+eV1wZBgBo6bi+ws7XIewEC2/PKevSP0wRrbt1s+8+63WxQ5/ccy2NzxzRqsIPwKtdoyEG4Pbmf+zlGTagJBjCAAQxgAAMYwAAGlqyBRRNeFWUFNN6JdmiSdudk3guzosMI3Z4ucuZkcuZ7MnM+2R/Tu8eGFZEgxh0CFfR8yndi6qzfriPyZlve5E02X2NOYqNhi3dimyi88nrlTIT23R6DN59VNJjK3t/s0Mg+l3zf85yER2pm11uUFbyFX+sdhxea2OGcfnuEjsmZiD/U88xft1/jaD2nV6OHT7Rpb2pAzd0j6jfbNRbMf35bxtfM3Y8g1HF+9+pg5/7KOh5vBKg7r1WNe/VMfxsxtQm5Do45+1in1251MkNHqzoG1dx7L/tYo+GV/7vdr2nUgPBqyX7RBE6tG26pCQYwgAEMYAADGMAABjCQ3IB3Nh57s6CGDRbtCCZoX+H1emm+Hhpa1WC6zLjDlZzeTqFwwDnRnxhXqntYzXE/nWmVmEAkEsTMRXiVHeJkBxA+5OmEVyMj8cfQPaz6xvCE9lEk8SHEZCFI9r5H1+f9HqmZf0zTCq8mlIlrF+exu3reD6ui+xCtpxdeTVmjOm1sM+MD3bmsMr3Dau7sUeXlm+4QP99OfM3cY4xs26vD6GAeY93D3rxWU4dXtneVX0vn+L3t9WX0v3ZMto4aZbfbVe3t9lK5cfc9cKXjrvZe6FS9uWCAH1ZFjsev+TRqYCast2Gt01sw2l78nt2m1IN6YAADGMAABjCAAQxgAAMYMAYm+2+BhVfekCQzd5BzghwZauYNq8q0pnOG1zlhlj/EcBIYkSCmpNUEHNkTwce9sbKHBmav3w3ARlTpDCnMExAkCq86dGUiz7BBP2jI3nb2vsaHEMn3Pc+6IzXzt5kwvHJrHGnLRMdj9idaz6Q18kKuyHxcZjioM29VJLzy5zYL75fXE9APfyJDVf06hF/j3c8fGHr7FR1W6rzOPTY7H1fidqtx53UzvfKyJ/SP1i76u21vb5/ieoNFa2D280SbKps6tfGwfT23k1ngOXxgAAMYwAAGMIABDGAAAxhYZOFVkTN30IT6TY+RnHmBvPmrzPAvSXZ+IYNg+WXTKytyFTknEGjW3vSAqu2V96JBzAl3wvWcE/+KNp0dntBoutMZJuSuX0o1BVeUc/BVeEPL/CsG5gkIEoVXdSo3V1AcH9TO6NxaJ9Kq7+zRVv/KcXFvfjeEiPbqSb7vcesMeqvlzPWUMLwq8mqcabVXP7TbqdPW1kGdvX4ze34wLwBy39zReiatkVuLnGGWh9NqDg8j3eFNwj4xosrQ1RHNtp90gs1wIoayhgAAB11JREFUz6VmVQ+7Lp/M2scaLb/QoysdaT/QmTK8ikzob7ZX7AS2UqrZvShB4naLmrb75j3uh285QaBth+nUwMzNdVk/PHo5EpTZdXHruqUO1AEDGMAABjCAAQxgAAMYwEDYwKLqeVW0w+t9IikneNhRI7cXjznk6OTpXrCgcTXfbNP66iaV1LSpqtudjMgPnXJO9Ou0865JMyaU6Uzreed1nTo76D4WXBEutP6mVpWY5T5O64oJM7Ku3hYNWzysicIr06vFDdM0NqyqCy3OdtZfuKtmE+bFBCxhCP6wy/F7qm/JaO8nNmhLuu/53lhem4wNq7opo52nvaGcScOrHTE1rm7V3s57sVeIzD6mmHomqpF3zOMjqvbqWPJxRs1jExo1JPyeV0E4Z2pe+XGTSqpbtPXmsPrHx9VvOub5w+5qtLzBvWrk6OCA9jrLNun5xgFl7DrDVxsMb8MGSt6E7aMj4xoNtfHzTcPqN5RG7ETypi0StltFp9NjTyOD/j6tv9ynzLg3x5e//zG1tPtlg64pa+AFXQpCtuz2ymeIx6kTBjCAAQxgAAMYwAAGMICBpWxgkYVXde5k15pQfX0MbHuSHTfsqqJFlV5Y5RdlYlzNTS1BL5Gc8Mr0JGlSuZM++K+SJsZ15WpT8Dpzkh+3/nsjqv7EvSKhizBPQJA0vDK9yE6bkCW0L+auCRVsaGQDh5jb5ed7lPImD1e4Ron2Pabe3jaKLw+q35tWye/ZlTi8Muu9qp0dI05YFRzZhFIdHSqOOY7gDR1fzyQ1yl1mQqnWm6rsjYRXptfTpb6gbmYHx++p+nz8tnOWlTQ60KedoZ5bU/W8MsHsxtbsekTX4dQgYbvl7JPxe7lDZxPNeeW2e846Ymtw2Ztfa0LNjW4PsaCt8vthGWqDAQxgAAMYwAAGMIABDGBgaRsIsoDcewtuzqs5wWyGNZmeUdVX9fCkwUgEjn3dVEOi9l91e15VhUOryLqms908yy4/dH3G23m46rpWRIcemu3Mat/rtOLoNGuac2yXVOy0TZ79y1l+8rpOXSOzz8ZCk4r3T74uMx+Wu2yyY3y4yl3vDw+FLiowzf237THlOhK121zUNkkN6vTw/lkc83RrxPJc4RADGMAABjCAAQxgAAMYwMCCN5AbWQWPLM3wCtQLHvWchJg4wAEGMIABDGAAAxjAAAYwgAEMYGBeGAiiqtx7hFcgnRdICaOm6vXF8xjBAAYwgAEMYAADGMAABjCAgcVrIDeyCh4hvCK8IrzCAAYwgAEMYAADGMAABjCAAQxgAAMFNRBEVbn3CK/AWVCcpOaLNzWnbWlbDGAAAxjAAAYwgAEMYAADGEhqIDeyCh4hvCK8IrzCAAYwgAEMYAADGMAABjCAAQxgAAMFNRBEVbn3CK/AWVCcSRNYliOtxwAGMIABDGAAAxjAAAYwgAEMLF4DuZFV8AjhFeEV4RUGMIABDGAAAxjAAAYwgAEMYAADGCiogSCqyr1HeAXOguIkNV+8qTltS9tiAAMYwAAGMIABDGAAAxjAQFIDuZFV8AjhFeEV4RUGMIABDGAAAxjAAAYwgAEMYAADGCiogSCqyr1HeAXOguJMmsCyHGk9BjCAAQxgAAMYwAAGMIABDGBg8RrIjayCRwivCK8IrzCAAQxgAAMYwAAGMIABDGAAAxjAQEENBFFV7j3CK3AWFCep+eJNzWlb2hYDGMAABjCAAQxgAAMYwAAGkhrIjayCRwivCK8IrzCAAQxgAAMYwAAGMIABDGAAAxjAQEENBFFV7j3CK3AWFGfSBJblSOsxgAEMYAADGMAABjCAAQxgAAOL10BuZBU8QnhFeEV4hQEMYAADGMAABjCAAQxgAAMYwAAGCmogiKpy7xFegbOgOEnNF29qTtvSthjAAAYwgAEMYAADGMAABjCQ1EBuZBU8QnhFeEV4hQEMYAADGMAABjCAAQxgAAMYwAAGCmogiKpy7xFegbOgOJMmsCxHWo8BDGAAAxjAAAYwgAEMYAADGFi8BnIjq+ARwivCK8IrDGAAAxjAAAYwgAEMYAADGMAABjBQUANBVJV7j/AKnAXFSWq+eFNz2pa2xQAGMIABDGAAAxjAAAYwgIGkBnIjq+ARwivCK8IrDGAAAxjAAAYwgAEMYAADGMAABjBQUANBVJV7j/AKnAXFmTSBZTnSegxgAAMYwAAGMIABDGAAAxjAwOI1kBtZBY8QXhFeEV5hAAMYwAAGMIABDGAAAxjAAAYwgIGCGgiiqtx7hFfgLChOUvPFm5rTtrQtBjCAAQxgAAMYwAAGMIABDCQ1kBtZBY8QXhFeEV5hAAMYwAAGMIABDGAAAxjAAAYwgIGCGgiiqtx7fnhlnkq1tecuwSNUgApQASpABagAFaACVIAKUAEqQAWoABWgAlTgPlQgSRZFeHUfCs8qqQAVoAJUgApQASpABagAFaACVIAKUAEqQAWmrgDh1dQ1YgkqQAWoABWgAlSAClABKkAFqAAVoAJUgApQgQJVIEl49f8BLhitj7WaEMcAAAAASUVORK5CYII=)<br>\r\n",
        "Zgodnie z rozważaniami określenie max_leaf_nodes pogorszyło wynik zbioru konkursowego o 1,5% (83,9%). Ze względu na niewielkie możliwości modyfikacji podejścia, zrealizowany został również inny projekt konkursowy, wymagający bardziej zaawansowanej interpretacji danych."
      ]
    }
  ]
}